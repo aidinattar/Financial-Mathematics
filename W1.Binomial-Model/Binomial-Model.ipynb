{
 "cells": [
  {
   "cell_type": "markdown",
   "id": "70b2392a-e1f1-4d5a-b51f-7fe9ae53f21f",
   "metadata": {},
   "source": [
    "# Pricing a Call Option with the Binomial Model"
   ]
  },
  {
   "cell_type": "code",
   "execution_count": 30,
   "id": "5b28e01b",
   "metadata": {},
   "outputs": [],
   "source": [
    "using CSV\n",
    "using DelimitedFiles, DataFrames\n",
    "using Statistics\n",
    "import PyPlot as plt\n",
    "using Plots\n",
    "using GLM\n",
    "using ShiftedArrays\n",
    "using PyCall\n",
    "using PlotlyJS"
   ]
  },
  {
   "cell_type": "code",
   "execution_count": 31,
   "id": "bd657952",
   "metadata": {},
   "outputs": [
    {
     "data": {
      "text/html": [
       "<div class=\"data-frame\"><p>127 rows × 7 columns</p><table class=\"data-frame\"><thead><tr><th></th><th>Date</th><th>Open</th><th>High</th><th>Low</th><th>Close</th><th>Adj Close</th><th>Volume</th></tr><tr><th></th><th title=\"Dates.Date\">Date</th><th title=\"Float64\">Float64</th><th title=\"Float64\">Float64</th><th title=\"Float64\">Float64</th><th title=\"Float64\">Float64</th><th title=\"Float64\">Float64</th><th title=\"Int64\">Int64</th></tr></thead><tbody><tr><th>1</th><td>2021-09-13</td><td>348.191</td><td>351.91</td><td>322.47</td><td>327.14</td><td>327.14</td><td>3963800</td></tr><tr><th>2</th><td>2021-09-14</td><td>326.17</td><td>345.92</td><td>326.03</td><td>334.88</td><td>334.88</td><td>2850000</td></tr><tr><th>3</th><td>2021-09-15</td><td>338.11</td><td>357.76</td><td>337.5</td><td>355.25</td><td>355.25</td><td>4545800</td></tr><tr><th>4</th><td>2021-09-16</td><td>350.39</td><td>374.85</td><td>345.0</td><td>372.65</td><td>372.65</td><td>4606800</td></tr><tr><th>5</th><td>2021-09-17</td><td>370.74</td><td>370.8</td><td>344.81</td><td>359.18</td><td>359.18</td><td>5646200</td></tr><tr><th>6</th><td>2021-09-20</td><td>341.205</td><td>353.64</td><td>333.36</td><td>339.01</td><td>339.01</td><td>3322100</td></tr><tr><th>7</th><td>2021-09-21</td><td>344.77</td><td>349.93</td><td>337.04</td><td>341.35</td><td>341.35</td><td>2455400</td></tr><tr><th>8</th><td>2021-09-22</td><td>342.803</td><td>344.57</td><td>336.69</td><td>339.26</td><td>339.26</td><td>1480000</td></tr><tr><th>9</th><td>2021-09-23</td><td>343.0</td><td>360.0</td><td>341.44</td><td>352.99</td><td>352.99</td><td>2824400</td></tr><tr><th>10</th><td>2021-09-24</td><td>350.0</td><td>350.92</td><td>332.4</td><td>333.48</td><td>333.48</td><td>2603100</td></tr><tr><th>11</th><td>2021-09-27</td><td>335.361</td><td>338.5</td><td>305.51</td><td>307.09</td><td>307.09</td><td>4089300</td></tr><tr><th>12</th><td>2021-09-28</td><td>293.7</td><td>296.9</td><td>275.0</td><td>276.52</td><td>276.52</td><td>5854400</td></tr><tr><th>13</th><td>2021-09-29</td><td>287.0</td><td>292.81</td><td>275.58</td><td>277.44</td><td>277.44</td><td>2776300</td></tr><tr><th>14</th><td>2021-09-30</td><td>278.14</td><td>282.5</td><td>268.83</td><td>272.99</td><td>272.99</td><td>2632600</td></tr><tr><th>15</th><td>2021-10-01</td><td>251.0</td><td>259.24</td><td>230.03</td><td>254.79</td><td>254.79</td><td>6885400</td></tr><tr><th>16</th><td>2021-10-04</td><td>234.93</td><td>252.37</td><td>233.5</td><td>248.9</td><td>248.9</td><td>3719000</td></tr><tr><th>17</th><td>2021-10-05</td><td>253.952</td><td>258.0</td><td>248.92</td><td>250.12</td><td>250.12</td><td>2038500</td></tr><tr><th>18</th><td>2021-10-06</td><td>246.96</td><td>248.54</td><td>233.75</td><td>236.14</td><td>236.14</td><td>2434200</td></tr><tr><th>19</th><td>2021-10-07</td><td>235.8</td><td>252.59</td><td>232.06</td><td>246.57</td><td>246.57</td><td>2585500</td></tr><tr><th>20</th><td>2021-10-08</td><td>252.03</td><td>257.9</td><td>243.2</td><td>245.95</td><td>245.95</td><td>1913300</td></tr><tr><th>21</th><td>2021-10-11</td><td>244.0</td><td>251.05</td><td>240.97</td><td>243.02</td><td>243.02</td><td>1244400</td></tr><tr><th>22</th><td>2021-10-12</td><td>247.73</td><td>248.42</td><td>240.13</td><td>243.77</td><td>243.77</td><td>1292000</td></tr><tr><th>23</th><td>2021-10-13</td><td>247.07</td><td>250.98</td><td>244.5</td><td>249.4</td><td>249.4</td><td>1437700</td></tr><tr><th>24</th><td>2021-10-14</td><td>253.13</td><td>257.34</td><td>249.0</td><td>250.33</td><td>250.33</td><td>1708700</td></tr><tr><th>25</th><td>2021-10-15</td><td>252.8</td><td>252.8</td><td>245.28</td><td>247.68</td><td>247.68</td><td>1653000</td></tr><tr><th>26</th><td>2021-10-18</td><td>245.34</td><td>261.13</td><td>245.03</td><td>261.09</td><td>261.09</td><td>2011900</td></tr><tr><th>27</th><td>2021-10-19</td><td>273.0</td><td>282.0</td><td>262.0</td><td>262.85</td><td>262.85</td><td>3854500</td></tr><tr><th>28</th><td>2021-10-20</td><td>268.73</td><td>273.97</td><td>265.0</td><td>269.42</td><td>269.42</td><td>2029200</td></tr><tr><th>29</th><td>2021-10-21</td><td>276.6</td><td>286.799</td><td>275.03</td><td>286.36</td><td>286.36</td><td>2558800</td></tr><tr><th>30</th><td>2021-10-22</td><td>294.78</td><td>295.815</td><td>268.05</td><td>278.34</td><td>278.34</td><td>3558900</td></tr><tr><th>&vellip;</th><td>&vellip;</td><td>&vellip;</td><td>&vellip;</td><td>&vellip;</td><td>&vellip;</td><td>&vellip;</td><td>&vellip;</td></tr></tbody></table></div>"
      ],
      "text/latex": [
       "\\begin{tabular}{r|ccccccc}\n",
       "\t& Date & Open & High & Low & Close & Adj Close & Volume\\\\\n",
       "\t\\hline\n",
       "\t& Date & Float64 & Float64 & Float64 & Float64 & Float64 & Int64\\\\\n",
       "\t\\hline\n",
       "\t1 & 2021-09-13 & 348.191 & 351.91 & 322.47 & 327.14 & 327.14 & 3963800 \\\\\n",
       "\t2 & 2021-09-14 & 326.17 & 345.92 & 326.03 & 334.88 & 334.88 & 2850000 \\\\\n",
       "\t3 & 2021-09-15 & 338.11 & 357.76 & 337.5 & 355.25 & 355.25 & 4545800 \\\\\n",
       "\t4 & 2021-09-16 & 350.39 & 374.85 & 345.0 & 372.65 & 372.65 & 4606800 \\\\\n",
       "\t5 & 2021-09-17 & 370.74 & 370.8 & 344.81 & 359.18 & 359.18 & 5646200 \\\\\n",
       "\t6 & 2021-09-20 & 341.205 & 353.64 & 333.36 & 339.01 & 339.01 & 3322100 \\\\\n",
       "\t7 & 2021-09-21 & 344.77 & 349.93 & 337.04 & 341.35 & 341.35 & 2455400 \\\\\n",
       "\t8 & 2021-09-22 & 342.803 & 344.57 & 336.69 & 339.26 & 339.26 & 1480000 \\\\\n",
       "\t9 & 2021-09-23 & 343.0 & 360.0 & 341.44 & 352.99 & 352.99 & 2824400 \\\\\n",
       "\t10 & 2021-09-24 & 350.0 & 350.92 & 332.4 & 333.48 & 333.48 & 2603100 \\\\\n",
       "\t11 & 2021-09-27 & 335.361 & 338.5 & 305.51 & 307.09 & 307.09 & 4089300 \\\\\n",
       "\t12 & 2021-09-28 & 293.7 & 296.9 & 275.0 & 276.52 & 276.52 & 5854400 \\\\\n",
       "\t13 & 2021-09-29 & 287.0 & 292.81 & 275.58 & 277.44 & 277.44 & 2776300 \\\\\n",
       "\t14 & 2021-09-30 & 278.14 & 282.5 & 268.83 & 272.99 & 272.99 & 2632600 \\\\\n",
       "\t15 & 2021-10-01 & 251.0 & 259.24 & 230.03 & 254.79 & 254.79 & 6885400 \\\\\n",
       "\t16 & 2021-10-04 & 234.93 & 252.37 & 233.5 & 248.9 & 248.9 & 3719000 \\\\\n",
       "\t17 & 2021-10-05 & 253.952 & 258.0 & 248.92 & 250.12 & 250.12 & 2038500 \\\\\n",
       "\t18 & 2021-10-06 & 246.96 & 248.54 & 233.75 & 236.14 & 236.14 & 2434200 \\\\\n",
       "\t19 & 2021-10-07 & 235.8 & 252.59 & 232.06 & 246.57 & 246.57 & 2585500 \\\\\n",
       "\t20 & 2021-10-08 & 252.03 & 257.9 & 243.2 & 245.95 & 245.95 & 1913300 \\\\\n",
       "\t21 & 2021-10-11 & 244.0 & 251.05 & 240.97 & 243.02 & 243.02 & 1244400 \\\\\n",
       "\t22 & 2021-10-12 & 247.73 & 248.42 & 240.13 & 243.77 & 243.77 & 1292000 \\\\\n",
       "\t23 & 2021-10-13 & 247.07 & 250.98 & 244.5 & 249.4 & 249.4 & 1437700 \\\\\n",
       "\t24 & 2021-10-14 & 253.13 & 257.34 & 249.0 & 250.33 & 250.33 & 1708700 \\\\\n",
       "\t25 & 2021-10-15 & 252.8 & 252.8 & 245.28 & 247.68 & 247.68 & 1653000 \\\\\n",
       "\t26 & 2021-10-18 & 245.34 & 261.13 & 245.03 & 261.09 & 261.09 & 2011900 \\\\\n",
       "\t27 & 2021-10-19 & 273.0 & 282.0 & 262.0 & 262.85 & 262.85 & 3854500 \\\\\n",
       "\t28 & 2021-10-20 & 268.73 & 273.97 & 265.0 & 269.42 & 269.42 & 2029200 \\\\\n",
       "\t29 & 2021-10-21 & 276.6 & 286.799 & 275.03 & 286.36 & 286.36 & 2558800 \\\\\n",
       "\t30 & 2021-10-22 & 294.78 & 295.815 & 268.05 & 278.34 & 278.34 & 3558900 \\\\\n",
       "\t$\\dots$ & $\\dots$ & $\\dots$ & $\\dots$ & $\\dots$ & $\\dots$ & $\\dots$ & $\\dots$ \\\\\n",
       "\\end{tabular}\n"
      ],
      "text/plain": [
       "\u001b[1m127×7 DataFrame\u001b[0m\n",
       "\u001b[1m Row \u001b[0m│\u001b[1m Date       \u001b[0m\u001b[1m Open    \u001b[0m\u001b[1m High    \u001b[0m\u001b[1m Low     \u001b[0m\u001b[1m Close   \u001b[0m\u001b[1m Adj Close \u001b[0m\u001b[1m Volume  \u001b[0m\n",
       "\u001b[1m     \u001b[0m│\u001b[90m Date       \u001b[0m\u001b[90m Float64 \u001b[0m\u001b[90m Float64 \u001b[0m\u001b[90m Float64 \u001b[0m\u001b[90m Float64 \u001b[0m\u001b[90m Float64   \u001b[0m\u001b[90m Int64   \u001b[0m\n",
       "─────┼────────────────────────────────────────────────────────────────────\n",
       "   1 │ 2021-09-13  348.191  351.91   322.47    327.14     327.14  3963800\n",
       "   2 │ 2021-09-14  326.17   345.92   326.03    334.88     334.88  2850000\n",
       "   3 │ 2021-09-15  338.11   357.76   337.5     355.25     355.25  4545800\n",
       "   4 │ 2021-09-16  350.39   374.85   345.0     372.65     372.65  4606800\n",
       "   5 │ 2021-09-17  370.74   370.8    344.81    359.18     359.18  5646200\n",
       "   6 │ 2021-09-20  341.205  353.64   333.36    339.01     339.01  3322100\n",
       "   7 │ 2021-09-21  344.77   349.93   337.04    341.35     341.35  2455400\n",
       "   8 │ 2021-09-22  342.803  344.57   336.69    339.26     339.26  1480000\n",
       "   9 │ 2021-09-23  343.0    360.0    341.44    352.99     352.99  2824400\n",
       "  10 │ 2021-09-24  350.0    350.92   332.4     333.48     333.48  2603100\n",
       "  11 │ 2021-09-27  335.361  338.5    305.51    307.09     307.09  4089300\n",
       "  ⋮  │     ⋮          ⋮        ⋮        ⋮        ⋮         ⋮         ⋮\n",
       " 118 │ 2022-03-01  150.27   153.96   146.13    146.73     146.73   969000\n",
       " 119 │ 2022-03-02  145.0    148.03   140.48    146.95     146.95  1034300\n",
       " 120 │ 2022-03-03  147.56   147.66   139.8     142.26     142.26   960200\n",
       " 121 │ 2022-03-04  137.09   139.525  134.52    136.26     136.26  1653800\n",
       " 122 │ 2022-03-07  133.18   136.61   124.47    126.25     126.25  1674900\n",
       " 123 │ 2022-03-08  123.9    133.67   121.32    128.16     128.16  1617100\n",
       " 124 │ 2022-03-09  135.32   144.128  134.1     140.21     140.21  1519600\n",
       " 125 │ 2022-03-10  139.42   139.68   134.55    137.27     137.27   799500\n",
       " 126 │ 2022-03-11  143.25   145.25   135.61    135.64     135.64  1074200\n",
       " 127 │ 2022-03-11  143.25   145.25   135.61    135.64     135.64  1072600\n",
       "\u001b[36m                                                          106 rows omitted\u001b[0m"
      ]
     },
     "execution_count": 31,
     "metadata": {},
     "output_type": "execute_result"
    }
   ],
   "source": [
    "GOOG         = DataFrame(CSV.File(\"GOOG.csv\"))\n",
    "BNTX         = DataFrame(CSV.File(\"BNTX.csv\"))\n",
    "BNTX_6MONTHS = DataFrame(CSV.File(\"BNTX_6MONTHS.csv\"))"
   ]
  },
  {
   "cell_type": "code",
   "execution_count": 32,
   "id": "7695a6b2",
   "metadata": {},
   "outputs": [
    {
     "data": {
      "application/vnd.plotly.v1+json": {
       "config": {
        "editable": false,
        "responsive": true,
        "scrollZoom": true,
        "showLink": false,
        "staticPlot": false
       },
       "data": [
        {
         "close": [
          2934.090088,
          2899.409912,
          2947.370117,
          2896.77002,
          2856.060059,
          2848.030029,
          2884.409912,
          2938.97998,
          2942.850098,
          2961.280029,
          2928.959961,
          2930.090088,
          2920.050049,
          2893.590088,
          2901.48999,
          2888.330078,
          2753.070068,
          2751.02002,
          2740.090088,
          2771.47998,
          2800.350098,
          2832.959961,
          2782.620117,
          2795.72998,
          2725.810059,
          2713.040039,
          2670.129883,
          2601.840088,
          2607.439941,
          2534.709961,
          2584.800049,
          2582.419922,
          2665.790039,
          2713.969971,
          2757.570068,
          2960.72998,
          2853.01001,
          2860.320068,
          2778.76001,
          2784.26001,
          2829.060059,
          2772.050049,
          2682.600098,
          2706,
          2728.51001,
          2749.75,
          2646.169922,
          2609.350098,
          2588.050049,
          2551.699951,
          2653.469971,
          2690.389893,
          2697.820068,
          2683.360107,
          2695.030029,
          2686.159912,
          2642.439941,
          2529.290039,
          2545.570068,
          2677.320068,
          2653.639893
         ],
         "high": [
          2971.25,
          2908.840088,
          2950.344971,
          2971.030029,
          2889.201904,
          2852.209961,
          2893.841064,
          2946.060059,
          2971.451904,
          2968.530029,
          2967.48999,
          2943.675049,
          2941.25,
          2927.300049,
          2911,
          2932.199951,
          2885.959961,
          2793.719971,
          2765.094971,
          2772.800049,
          2806.590088,
          2856.284912,
          2863.709961,
          2824.01001,
          2747.830078,
          2767.98999,
          2758.23999,
          2695.209961,
          2615.570068,
          2586.77002,
          2656.149902,
          2652.198975,
          2667.409912,
          2716.870117,
          2764,
          3042,
          2982.354004,
          2890.705078,
          2876.929932,
          2796.741943,
          2843.51001,
          2828.620117,
          2785.665039,
          2723.330078,
          2758,
          2758.919922,
          2736.790039,
          2676.47998,
          2638.014893,
          2634.97998,
          2660.73999,
          2707.780029,
          2712.810059,
          2722.219971,
          2712.310059,
          2734.275879,
          2683.97998,
          2638.080078,
          2624.929932,
          2683.969971,
          2670.77002
         ],
         "low": [
          2927.199951,
          2844.850098,
          2854.110107,
          2881.850098,
          2835.76001,
          2805,
          2834.699951,
          2879.26001,
          2939.01709,
          2945,
          2918.709961,
          2910.090088,
          2915.169922,
          2893.550049,
          2870.050049,
          2876.322998,
          2750.469971,
          2735.27002,
          2715.780029,
          2662.810059,
          2736.27002,
          2822.23999,
          2778.280029,
          2750,
          2712.340088,
          2710,
          2662.889893,
          2600.02002,
          2492.839111,
          2527.560059,
          2543.070068,
          2578.899902,
          2573.889893,
          2645.47998,
          2691.36499,
          2911.149902,
          2844.100098,
          2796.350098,
          2773.97998,
          2737.459961,
          2807.540039,
          2761,
          2665.77002,
          2666.040039,
          2710.790039,
          2696.4729,
          2644.040039,
          2606.141113,
          2554.820068,
          2550.070068,
          2495.290039,
          2635.300049,
          2656.504883,
          2667.570068,
          2668.649902,
          2668.620117,
          2608.169922,
          2528.199951,
          2517.215088,
          2601.76001,
          2628.02002
         ],
         "open": [
          2968.879883,
          2895.399902,
          2887.320068,
          2961.540039,
          2854.290039,
          2813.592041,
          2863,
          2882,
          2941.790039,
          2949.27002,
          2967.48999,
          2928.590088,
          2929,
          2910.879883,
          2889.51001,
          2911.01001,
          2883.620117,
          2749.949951,
          2758.100098,
          2701.97998,
          2763.610107,
          2831.090088,
          2836.810059,
          2750,
          2732,
          2738.77002,
          2730.280029,
          2660.23999,
          2520.550049,
          2568.709961,
          2611.850098,
          2627.219971,
          2600,
          2683.959961,
          2756.699951,
          3037.27002,
          2905.899902,
          2860.340088,
          2874.179932,
          2779.824951,
          2816.995117,
          2790,
          2775,
          2667.310059,
          2749.429932,
          2728.610107,
          2723,
          2660.75,
          2599.699951,
          2621.570068,
          2500,
          2670.51001,
          2665.689941,
          2689.600098,
          2692.165039,
          2719.570068,
          2667.649902,
          2638.080078,
          2525.01001,
          2628,
          2629.25
         ],
         "type": "candlestick",
         "x": [
          "2021-12-13",
          "2021-12-14",
          "2021-12-15",
          "2021-12-16",
          "2021-12-17",
          "2021-12-20",
          "2021-12-21",
          "2021-12-22",
          "2021-12-23",
          "2021-12-27",
          "2021-12-28",
          "2021-12-29",
          "2021-12-30",
          "2021-12-31",
          "2022-01-03",
          "2022-01-04",
          "2022-01-05",
          "2022-01-06",
          "2022-01-07",
          "2022-01-10",
          "2022-01-11",
          "2022-01-12",
          "2022-01-13",
          "2022-01-14",
          "2022-01-18",
          "2022-01-19",
          "2022-01-20",
          "2022-01-21",
          "2022-01-24",
          "2022-01-25",
          "2022-01-26",
          "2022-01-27",
          "2022-01-28",
          "2022-01-31",
          "2022-02-01",
          "2022-02-02",
          "2022-02-03",
          "2022-02-04",
          "2022-02-07",
          "2022-02-08",
          "2022-02-09",
          "2022-02-10",
          "2022-02-11",
          "2022-02-14",
          "2022-02-15",
          "2022-02-16",
          "2022-02-17",
          "2022-02-18",
          "2022-02-22",
          "2022-02-23",
          "2022-02-24",
          "2022-02-25",
          "2022-02-28",
          "2022-03-01",
          "2022-03-02",
          "2022-03-03",
          "2022-03-04",
          "2022-03-07",
          "2022-03-08",
          "2022-03-09",
          "2022-03-10"
         ]
        }
       ],
       "frames": [],
       "layout": {
        "margin": {
         "b": 50,
         "l": 50,
         "r": 50,
         "t": 60
        },
        "template": {
         "data": {
          "bar": [
           {
            "error_x": {
             "color": "#2a3f5f"
            },
            "error_y": {
             "color": "#2a3f5f"
            },
            "marker": {
             "line": {
              "color": "#E5ECF6",
              "width": 0.5
             }
            },
            "type": "bar"
           }
          ],
          "barpolar": [
           {
            "marker": {
             "line": {
              "color": "#E5ECF6",
              "width": 0.5
             }
            },
            "type": "barpolar"
           }
          ],
          "carpet": [
           {
            "aaxis": {
             "endlinecolor": "#2a3f5f",
             "gridcolor": "white",
             "linecolor": "white",
             "minorgridcolor": "white",
             "startlinecolor": "#2a3f5f"
            },
            "baxis": {
             "endlinecolor": "#2a3f5f",
             "gridcolor": "white",
             "linecolor": "white",
             "minorgridcolor": "white",
             "startlinecolor": "#2a3f5f"
            },
            "type": "carpet"
           }
          ],
          "choropleth": [
           {
            "colorbar": {
             "outlinewidth": 0,
             "ticks": ""
            },
            "type": "choropleth"
           }
          ],
          "contour": [
           {
            "colorbar": {
             "outlinewidth": 0,
             "ticks": ""
            },
            "colorscale": [
             [
              0,
              "#0d0887"
             ],
             [
              0.1111111111111111,
              "#46039f"
             ],
             [
              0.2222222222222222,
              "#7201a8"
             ],
             [
              0.3333333333333333,
              "#9c179e"
             ],
             [
              0.4444444444444444,
              "#bd3786"
             ],
             [
              0.5555555555555556,
              "#d8576b"
             ],
             [
              0.6666666666666666,
              "#ed7953"
             ],
             [
              0.7777777777777778,
              "#fb9f3a"
             ],
             [
              0.8888888888888888,
              "#fdca26"
             ],
             [
              1,
              "#f0f921"
             ]
            ],
            "type": "contour"
           }
          ],
          "contourcarpet": [
           {
            "colorbar": {
             "outlinewidth": 0,
             "ticks": ""
            },
            "type": "contourcarpet"
           }
          ],
          "heatmap": [
           {
            "colorbar": {
             "outlinewidth": 0,
             "ticks": ""
            },
            "colorscale": [
             [
              0,
              "#0d0887"
             ],
             [
              0.1111111111111111,
              "#46039f"
             ],
             [
              0.2222222222222222,
              "#7201a8"
             ],
             [
              0.3333333333333333,
              "#9c179e"
             ],
             [
              0.4444444444444444,
              "#bd3786"
             ],
             [
              0.5555555555555556,
              "#d8576b"
             ],
             [
              0.6666666666666666,
              "#ed7953"
             ],
             [
              0.7777777777777778,
              "#fb9f3a"
             ],
             [
              0.8888888888888888,
              "#fdca26"
             ],
             [
              1,
              "#f0f921"
             ]
            ],
            "type": "heatmap"
           }
          ],
          "heatmapgl": [
           {
            "colorbar": {
             "outlinewidth": 0,
             "ticks": ""
            },
            "colorscale": [
             [
              0,
              "#0d0887"
             ],
             [
              0.1111111111111111,
              "#46039f"
             ],
             [
              0.2222222222222222,
              "#7201a8"
             ],
             [
              0.3333333333333333,
              "#9c179e"
             ],
             [
              0.4444444444444444,
              "#bd3786"
             ],
             [
              0.5555555555555556,
              "#d8576b"
             ],
             [
              0.6666666666666666,
              "#ed7953"
             ],
             [
              0.7777777777777778,
              "#fb9f3a"
             ],
             [
              0.8888888888888888,
              "#fdca26"
             ],
             [
              1,
              "#f0f921"
             ]
            ],
            "type": "heatmapgl"
           }
          ],
          "histogram": [
           {
            "marker": {
             "colorbar": {
              "outlinewidth": 0,
              "ticks": ""
             }
            },
            "type": "histogram"
           }
          ],
          "histogram2d": [
           {
            "colorbar": {
             "outlinewidth": 0,
             "ticks": ""
            },
            "colorscale": [
             [
              0,
              "#0d0887"
             ],
             [
              0.1111111111111111,
              "#46039f"
             ],
             [
              0.2222222222222222,
              "#7201a8"
             ],
             [
              0.3333333333333333,
              "#9c179e"
             ],
             [
              0.4444444444444444,
              "#bd3786"
             ],
             [
              0.5555555555555556,
              "#d8576b"
             ],
             [
              0.6666666666666666,
              "#ed7953"
             ],
             [
              0.7777777777777778,
              "#fb9f3a"
             ],
             [
              0.8888888888888888,
              "#fdca26"
             ],
             [
              1,
              "#f0f921"
             ]
            ],
            "type": "histogram2d"
           }
          ],
          "histogram2dcontour": [
           {
            "colorbar": {
             "outlinewidth": 0,
             "ticks": ""
            },
            "colorscale": [
             [
              0,
              "#0d0887"
             ],
             [
              0.1111111111111111,
              "#46039f"
             ],
             [
              0.2222222222222222,
              "#7201a8"
             ],
             [
              0.3333333333333333,
              "#9c179e"
             ],
             [
              0.4444444444444444,
              "#bd3786"
             ],
             [
              0.5555555555555556,
              "#d8576b"
             ],
             [
              0.6666666666666666,
              "#ed7953"
             ],
             [
              0.7777777777777778,
              "#fb9f3a"
             ],
             [
              0.8888888888888888,
              "#fdca26"
             ],
             [
              1,
              "#f0f921"
             ]
            ],
            "type": "histogram2dcontour"
           }
          ],
          "mesh3d": [
           {
            "colorbar": {
             "outlinewidth": 0,
             "ticks": ""
            },
            "type": "mesh3d"
           }
          ],
          "parcoords": [
           {
            "line": {
             "colorbar": {
              "outlinewidth": 0,
              "ticks": ""
             }
            },
            "type": "parcoords"
           }
          ],
          "pie": [
           {
            "automargin": true,
            "type": "pie"
           }
          ],
          "scatter": [
           {
            "marker": {
             "colorbar": {
              "outlinewidth": 0,
              "ticks": ""
             }
            },
            "type": "scatter"
           }
          ],
          "scatter3d": [
           {
            "line": {
             "colorbar": {
              "outlinewidth": 0,
              "ticks": ""
             }
            },
            "marker": {
             "colorbar": {
              "outlinewidth": 0,
              "ticks": ""
             }
            },
            "type": "scatter3d"
           }
          ],
          "scattercarpet": [
           {
            "marker": {
             "colorbar": {
              "outlinewidth": 0,
              "ticks": ""
             }
            },
            "type": "scattercarpet"
           }
          ],
          "scattergeo": [
           {
            "marker": {
             "colorbar": {
              "outlinewidth": 0,
              "ticks": ""
             }
            },
            "type": "scattergeo"
           }
          ],
          "scattergl": [
           {
            "marker": {
             "colorbar": {
              "outlinewidth": 0,
              "ticks": ""
             }
            },
            "type": "scattergl"
           }
          ],
          "scattermapbox": [
           {
            "marker": {
             "colorbar": {
              "outlinewidth": 0,
              "ticks": ""
             }
            },
            "type": "scattermapbox"
           }
          ],
          "scatterpolar": [
           {
            "marker": {
             "colorbar": {
              "outlinewidth": 0,
              "ticks": ""
             }
            },
            "type": "scatterpolar"
           }
          ],
          "scatterpolargl": [
           {
            "marker": {
             "colorbar": {
              "outlinewidth": 0,
              "ticks": ""
             }
            },
            "type": "scatterpolargl"
           }
          ],
          "scatterternary": [
           {
            "marker": {
             "colorbar": {
              "outlinewidth": 0,
              "ticks": ""
             }
            },
            "type": "scatterternary"
           }
          ],
          "surface": [
           {
            "colorbar": {
             "outlinewidth": 0,
             "ticks": ""
            },
            "colorscale": [
             [
              0,
              "#0d0887"
             ],
             [
              0.1111111111111111,
              "#46039f"
             ],
             [
              0.2222222222222222,
              "#7201a8"
             ],
             [
              0.3333333333333333,
              "#9c179e"
             ],
             [
              0.4444444444444444,
              "#bd3786"
             ],
             [
              0.5555555555555556,
              "#d8576b"
             ],
             [
              0.6666666666666666,
              "#ed7953"
             ],
             [
              0.7777777777777778,
              "#fb9f3a"
             ],
             [
              0.8888888888888888,
              "#fdca26"
             ],
             [
              1,
              "#f0f921"
             ]
            ],
            "type": "surface"
           }
          ],
          "table": [
           {
            "cells": {
             "fill": {
              "color": "#EBF0F8"
             },
             "line": {
              "color": "white"
             }
            },
            "header": {
             "fill": {
              "color": "#C8D4E3"
             },
             "line": {
              "color": "white"
             }
            },
            "type": "table"
           }
          ]
         },
         "layout": {
          "annotationdefaults": {
           "arrowcolor": "#2a3f5f",
           "arrowhead": 0,
           "arrowwidth": 1
          },
          "autotypenumbers": "strict",
          "coloraxis": {
           "colorbar": {
            "outlinewidth": 0,
            "ticks": ""
           }
          },
          "colorscale": {
           "diverging": [
            [
             0,
             "#8e0152"
            ],
            [
             0.1,
             "#c51b7d"
            ],
            [
             0.2,
             "#de77ae"
            ],
            [
             0.3,
             "#f1b6da"
            ],
            [
             0.4,
             "#fde0ef"
            ],
            [
             0.5,
             "#f7f7f7"
            ],
            [
             0.6,
             "#e6f5d0"
            ],
            [
             0.7,
             "#b8e186"
            ],
            [
             0.8,
             "#7fbc41"
            ],
            [
             0.9,
             "#4d9221"
            ],
            [
             1,
             "#276419"
            ]
           ],
           "sequential": [
            [
             0,
             "#0d0887"
            ],
            [
             0.1111111111111111,
             "#46039f"
            ],
            [
             0.2222222222222222,
             "#7201a8"
            ],
            [
             0.3333333333333333,
             "#9c179e"
            ],
            [
             0.4444444444444444,
             "#bd3786"
            ],
            [
             0.5555555555555556,
             "#d8576b"
            ],
            [
             0.6666666666666666,
             "#ed7953"
            ],
            [
             0.7777777777777778,
             "#fb9f3a"
            ],
            [
             0.8888888888888888,
             "#fdca26"
            ],
            [
             1,
             "#f0f921"
            ]
           ],
           "sequentialminus": [
            [
             0,
             "#0d0887"
            ],
            [
             0.1111111111111111,
             "#46039f"
            ],
            [
             0.2222222222222222,
             "#7201a8"
            ],
            [
             0.3333333333333333,
             "#9c179e"
            ],
            [
             0.4444444444444444,
             "#bd3786"
            ],
            [
             0.5555555555555556,
             "#d8576b"
            ],
            [
             0.6666666666666666,
             "#ed7953"
            ],
            [
             0.7777777777777778,
             "#fb9f3a"
            ],
            [
             0.8888888888888888,
             "#fdca26"
            ],
            [
             1,
             "#f0f921"
            ]
           ]
          },
          "colorway": [
           "#636efa",
           "#EF553B",
           "#00cc96",
           "#ab63fa",
           "#FFA15A",
           "#19d3f3",
           "#FF6692",
           "#B6E880",
           "#FF97FF",
           "#FECB52"
          ],
          "font": {
           "color": "#2a3f5f"
          },
          "geo": {
           "bgcolor": "white",
           "lakecolor": "white",
           "landcolor": "#E5ECF6",
           "showlakes": true,
           "showland": true,
           "subunitcolor": "white"
          },
          "hoverlabel": {
           "align": "left"
          },
          "hovermode": "closest",
          "mapbox": {
           "style": "light"
          },
          "paper_bgcolor": "white",
          "plot_bgcolor": "#E5ECF6",
          "polar": {
           "angularaxis": {
            "gridcolor": "white",
            "linecolor": "white",
            "ticks": ""
           },
           "bgcolor": "#E5ECF6",
           "radialaxis": {
            "gridcolor": "white",
            "linecolor": "white",
            "ticks": ""
           }
          },
          "scene": {
           "xaxis": {
            "backgroundcolor": "#E5ECF6",
            "gridcolor": "white",
            "gridwidth": 2,
            "linecolor": "white",
            "showbackground": true,
            "ticks": "",
            "zerolinecolor": "white"
           },
           "yaxis": {
            "backgroundcolor": "#E5ECF6",
            "gridcolor": "white",
            "gridwidth": 2,
            "linecolor": "white",
            "showbackground": true,
            "ticks": "",
            "zerolinecolor": "white"
           },
           "zaxis": {
            "backgroundcolor": "#E5ECF6",
            "gridcolor": "white",
            "gridwidth": 2,
            "linecolor": "white",
            "showbackground": true,
            "ticks": "",
            "zerolinecolor": "white"
           }
          },
          "shapedefaults": {
           "line": {
            "color": "#2a3f5f"
           }
          },
          "ternary": {
           "aaxis": {
            "gridcolor": "white",
            "linecolor": "white",
            "ticks": ""
           },
           "baxis": {
            "gridcolor": "white",
            "linecolor": "white",
            "ticks": ""
           },
           "bgcolor": "#E5ECF6",
           "caxis": {
            "gridcolor": "white",
            "linecolor": "white",
            "ticks": ""
           }
          },
          "title": {
           "x": 0.05
          },
          "xaxis": {
           "automargin": true,
           "gridcolor": "white",
           "linecolor": "white",
           "ticks": "",
           "title": {
            "standoff": 15
           },
           "zerolinecolor": "white",
           "zerolinewidth": 2
          },
          "yaxis": {
           "automargin": true,
           "gridcolor": "white",
           "linecolor": "white",
           "ticks": "",
           "title": {
            "standoff": 15
           },
           "zerolinecolor": "white",
           "zerolinewidth": 2
          }
         }
        },
        "title": "GOOG Prices",
        "yaxis": {
         "title": {
          "text": "GOOG Stock"
         }
        }
       }
      },
      "text/html": [
       "<div\n",
       "    class=\"webio-mountpoint\"\n",
       "    data-webio-mountpoint=\"11103323399498750026\"\n",
       ">\n",
       "    <script>\n",
       "    (function(){\n",
       "    // Some integrations (namely, IJulia/Jupyter) use an alternate render pathway than\n",
       "    // just putting the html on the page. If WebIO isn't defined, then it's pretty likely\n",
       "    // that we're in one of those situations and the integration just isn't installed\n",
       "    // correctly.\n",
       "    if (typeof window.WebIO === \"undefined\") {\n",
       "        document\n",
       "            .querySelector('[data-webio-mountpoint=\"11103323399498750026\"]')\n",
       "            .innerHTML = (\n",
       "                '<div style=\"padding: 1em; background-color: #f8d6da; border: 1px solid #f5c6cb; font-weight: bold;\">' +\n",
       "                '<p><strong>WebIO not detected.</strong></p>' +\n",
       "                '<p>Please read ' +\n",
       "                '<a href=\"https://juliagizmos.github.io/WebIO.jl/latest/troubleshooting/not-detected/\" target=\"_blank\">the troubleshooting guide</a> ' +\n",
       "                'for more information on how to resolve this issue.</p>' +\n",
       "                '<p><a href=\"https://juliagizmos.github.io/WebIO.jl/latest/troubleshooting/not-detected/\" target=\"_blank\">https://juliagizmos.github.io/WebIO.jl/latest/troubleshooting/not-detected/</a></p>' +\n",
       "                '</div>'\n",
       "            );\n",
       "        return;\n",
       "    }\n",
       "    WebIO.mount(\n",
       "        document.querySelector('[data-webio-mountpoint=\"11103323399498750026\"]'),\n",
       "        {\"props\":{},\"nodeType\":\"Scope\",\"type\":\"node\",\"instanceArgs\":{\"imports\":{\"data\":[{\"name\":\"Plotly\",\"type\":\"js\",\"url\":\"\\/assetserver\\/c44b2cd04b3a3572f00c5d295ffe9c45b94a9a49-plotly.min.js\"},{\"name\":null,\"type\":\"js\",\"url\":\"\\/assetserver\\/5d2f409fc13299e6b724930d0745c21ad970d6a4-plotly_webio.bundle.js\"}],\"type\":\"async_block\"},\"id\":\"15885333293737836785\",\"handlers\":{\"_toImage\":[\"(function (options){return this.Plotly.toImage(this.plotElem,options).then((function (data){return WebIO.setval({\\\"name\\\":\\\"image\\\",\\\"scope\\\":\\\"15885333293737836785\\\",\\\"id\\\":\\\"14130384663344887643\\\",\\\"type\\\":\\\"observable\\\"},data)}))})\"],\"__get_gd_contents\":[\"(function (prop){prop==\\\"data\\\" ? (WebIO.setval({\\\"name\\\":\\\"__gd_contents\\\",\\\"scope\\\":\\\"15885333293737836785\\\",\\\"id\\\":\\\"16876095392247326815\\\",\\\"type\\\":\\\"observable\\\"},this.plotElem.data)) : undefined; return prop==\\\"layout\\\" ? (WebIO.setval({\\\"name\\\":\\\"__gd_contents\\\",\\\"scope\\\":\\\"15885333293737836785\\\",\\\"id\\\":\\\"16876095392247326815\\\",\\\"type\\\":\\\"observable\\\"},this.plotElem.layout)) : undefined})\"],\"_downloadImage\":[\"(function (options){return this.Plotly.downloadImage(this.plotElem,options)})\"],\"_commands\":[\"(function (args){var fn=args.shift(); var elem=this.plotElem; var Plotly=this.Plotly; args.unshift(elem); return Plotly[fn].apply(this,args)})\"]},\"systemjs_options\":null,\"mount_callbacks\":[\"function () {\\n    var handler = ((function (Plotly,PlotlyWebIO){PlotlyWebIO.init(WebIO); var gd=this.dom.querySelector(\\\"#plot-c767ec99-62af-451a-8b99-4b248af16181\\\"); this.plotElem=gd; this.Plotly=Plotly; (window.Blink!==undefined) ? (gd.style.width=\\\"100%\\\", gd.style.height=\\\"100vh\\\", gd.style.marginLeft=\\\"0%\\\", gd.style.marginTop=\\\"0vh\\\") : undefined; window.onresize=(function (){return Plotly.Plots.resize(gd)}); Plotly.newPlot(gd,[{\\\"x\\\":[\\\"2021-12-13\\\",\\\"2021-12-14\\\",\\\"2021-12-15\\\",\\\"2021-12-16\\\",\\\"2021-12-17\\\",\\\"2021-12-20\\\",\\\"2021-12-21\\\",\\\"2021-12-22\\\",\\\"2021-12-23\\\",\\\"2021-12-27\\\",\\\"2021-12-28\\\",\\\"2021-12-29\\\",\\\"2021-12-30\\\",\\\"2021-12-31\\\",\\\"2022-01-03\\\",\\\"2022-01-04\\\",\\\"2022-01-05\\\",\\\"2022-01-06\\\",\\\"2022-01-07\\\",\\\"2022-01-10\\\",\\\"2022-01-11\\\",\\\"2022-01-12\\\",\\\"2022-01-13\\\",\\\"2022-01-14\\\",\\\"2022-01-18\\\",\\\"2022-01-19\\\",\\\"2022-01-20\\\",\\\"2022-01-21\\\",\\\"2022-01-24\\\",\\\"2022-01-25\\\",\\\"2022-01-26\\\",\\\"2022-01-27\\\",\\\"2022-01-28\\\",\\\"2022-01-31\\\",\\\"2022-02-01\\\",\\\"2022-02-02\\\",\\\"2022-02-03\\\",\\\"2022-02-04\\\",\\\"2022-02-07\\\",\\\"2022-02-08\\\",\\\"2022-02-09\\\",\\\"2022-02-10\\\",\\\"2022-02-11\\\",\\\"2022-02-14\\\",\\\"2022-02-15\\\",\\\"2022-02-16\\\",\\\"2022-02-17\\\",\\\"2022-02-18\\\",\\\"2022-02-22\\\",\\\"2022-02-23\\\",\\\"2022-02-24\\\",\\\"2022-02-25\\\",\\\"2022-02-28\\\",\\\"2022-03-01\\\",\\\"2022-03-02\\\",\\\"2022-03-03\\\",\\\"2022-03-04\\\",\\\"2022-03-07\\\",\\\"2022-03-08\\\",\\\"2022-03-09\\\",\\\"2022-03-10\\\"],\\\"high\\\":[2971.25,2908.840088,2950.344971,2971.030029,2889.201904,2852.209961,2893.841064,2946.060059,2971.451904,2968.530029,2967.48999,2943.675049,2941.25,2927.300049,2911.0,2932.199951,2885.959961,2793.719971,2765.094971,2772.800049,2806.590088,2856.284912,2863.709961,2824.01001,2747.830078,2767.98999,2758.23999,2695.209961,2615.570068,2586.77002,2656.149902,2652.198975,2667.409912,2716.870117,2764.0,3042.0,2982.354004,2890.705078,2876.929932,2796.741943,2843.51001,2828.620117,2785.665039,2723.330078,2758.0,2758.919922,2736.790039,2676.47998,2638.014893,2634.97998,2660.73999,2707.780029,2712.810059,2722.219971,2712.310059,2734.275879,2683.97998,2638.080078,2624.929932,2683.969971,2670.77002],\\\"type\\\":\\\"candlestick\\\",\\\"open\\\":[2968.879883,2895.399902,2887.320068,2961.540039,2854.290039,2813.592041,2863.0,2882.0,2941.790039,2949.27002,2967.48999,2928.590088,2929.0,2910.879883,2889.51001,2911.01001,2883.620117,2749.949951,2758.100098,2701.97998,2763.610107,2831.090088,2836.810059,2750.0,2732.0,2738.77002,2730.280029,2660.23999,2520.550049,2568.709961,2611.850098,2627.219971,2600.0,2683.959961,2756.699951,3037.27002,2905.899902,2860.340088,2874.179932,2779.824951,2816.995117,2790.0,2775.0,2667.310059,2749.429932,2728.610107,2723.0,2660.75,2599.699951,2621.570068,2500.0,2670.51001,2665.689941,2689.600098,2692.165039,2719.570068,2667.649902,2638.080078,2525.01001,2628.0,2629.25],\\\"low\\\":[2927.199951,2844.850098,2854.110107,2881.850098,2835.76001,2805.0,2834.699951,2879.26001,2939.01709,2945.0,2918.709961,2910.090088,2915.169922,2893.550049,2870.050049,2876.322998,2750.469971,2735.27002,2715.780029,2662.810059,2736.27002,2822.23999,2778.280029,2750.0,2712.340088,2710.0,2662.889893,2600.02002,2492.839111,2527.560059,2543.070068,2578.899902,2573.889893,2645.47998,2691.36499,2911.149902,2844.100098,2796.350098,2773.97998,2737.459961,2807.540039,2761.0,2665.77002,2666.040039,2710.790039,2696.4729,2644.040039,2606.141113,2554.820068,2550.070068,2495.290039,2635.300049,2656.504883,2667.570068,2668.649902,2668.620117,2608.169922,2528.199951,2517.215088,2601.76001,2628.02002],\\\"close\\\":[2934.090088,2899.409912,2947.370117,2896.77002,2856.060059,2848.030029,2884.409912,2938.97998,2942.850098,2961.280029,2928.959961,2930.090088,2920.050049,2893.590088,2901.48999,2888.330078,2753.070068,2751.02002,2740.090088,2771.47998,2800.350098,2832.959961,2782.620117,2795.72998,2725.810059,2713.040039,2670.129883,2601.840088,2607.439941,2534.709961,2584.800049,2582.419922,2665.790039,2713.969971,2757.570068,2960.72998,2853.01001,2860.320068,2778.76001,2784.26001,2829.060059,2772.050049,2682.600098,2706.0,2728.51001,2749.75,2646.169922,2609.350098,2588.050049,2551.699951,2653.469971,2690.389893,2697.820068,2683.360107,2695.030029,2686.159912,2642.439941,2529.290039,2545.570068,2677.320068,2653.639893]}],{\\\"template\\\":{\\\"layout\\\":{\\\"coloraxis\\\":{\\\"colorbar\\\":{\\\"ticks\\\":\\\"\\\",\\\"outlinewidth\\\":0}},\\\"xaxis\\\":{\\\"gridcolor\\\":\\\"white\\\",\\\"zerolinewidth\\\":2,\\\"title\\\":{\\\"standoff\\\":15},\\\"ticks\\\":\\\"\\\",\\\"zerolinecolor\\\":\\\"white\\\",\\\"automargin\\\":true,\\\"linecolor\\\":\\\"white\\\"},\\\"hovermode\\\":\\\"closest\\\",\\\"paper_bgcolor\\\":\\\"white\\\",\\\"geo\\\":{\\\"showlakes\\\":true,\\\"showland\\\":true,\\\"landcolor\\\":\\\"#E5ECF6\\\",\\\"bgcolor\\\":\\\"white\\\",\\\"subunitcolor\\\":\\\"white\\\",\\\"lakecolor\\\":\\\"white\\\"},\\\"colorscale\\\":{\\\"sequential\\\":[[0.0,\\\"#0d0887\\\"],[0.1111111111111111,\\\"#46039f\\\"],[0.2222222222222222,\\\"#7201a8\\\"],[0.3333333333333333,\\\"#9c179e\\\"],[0.4444444444444444,\\\"#bd3786\\\"],[0.5555555555555556,\\\"#d8576b\\\"],[0.6666666666666666,\\\"#ed7953\\\"],[0.7777777777777778,\\\"#fb9f3a\\\"],[0.8888888888888888,\\\"#fdca26\\\"],[1.0,\\\"#f0f921\\\"]],\\\"diverging\\\":[[0,\\\"#8e0152\\\"],[0.1,\\\"#c51b7d\\\"],[0.2,\\\"#de77ae\\\"],[0.3,\\\"#f1b6da\\\"],[0.4,\\\"#fde0ef\\\"],[0.5,\\\"#f7f7f7\\\"],[0.6,\\\"#e6f5d0\\\"],[0.7,\\\"#b8e186\\\"],[0.8,\\\"#7fbc41\\\"],[0.9,\\\"#4d9221\\\"],[1,\\\"#276419\\\"]],\\\"sequentialminus\\\":[[0.0,\\\"#0d0887\\\"],[0.1111111111111111,\\\"#46039f\\\"],[0.2222222222222222,\\\"#7201a8\\\"],[0.3333333333333333,\\\"#9c179e\\\"],[0.4444444444444444,\\\"#bd3786\\\"],[0.5555555555555556,\\\"#d8576b\\\"],[0.6666666666666666,\\\"#ed7953\\\"],[0.7777777777777778,\\\"#fb9f3a\\\"],[0.8888888888888888,\\\"#fdca26\\\"],[1.0,\\\"#f0f921\\\"]]},\\\"yaxis\\\":{\\\"gridcolor\\\":\\\"white\\\",\\\"zerolinewidth\\\":2,\\\"title\\\":{\\\"standoff\\\":15},\\\"ticks\\\":\\\"\\\",\\\"zerolinecolor\\\":\\\"white\\\",\\\"automargin\\\":true,\\\"linecolor\\\":\\\"white\\\"},\\\"shapedefaults\\\":{\\\"line\\\":{\\\"color\\\":\\\"#2a3f5f\\\"}},\\\"hoverlabel\\\":{\\\"align\\\":\\\"left\\\"},\\\"mapbox\\\":{\\\"style\\\":\\\"light\\\"},\\\"polar\\\":{\\\"angularaxis\\\":{\\\"gridcolor\\\":\\\"white\\\",\\\"ticks\\\":\\\"\\\",\\\"linecolor\\\":\\\"white\\\"},\\\"bgcolor\\\":\\\"#E5ECF6\\\",\\\"radialaxis\\\":{\\\"gridcolor\\\":\\\"white\\\",\\\"ticks\\\":\\\"\\\",\\\"linecolor\\\":\\\"white\\\"}},\\\"autotypenumbers\\\":\\\"strict\\\",\\\"font\\\":{\\\"color\\\":\\\"#2a3f5f\\\"},\\\"ternary\\\":{\\\"baxis\\\":{\\\"gridcolor\\\":\\\"white\\\",\\\"ticks\\\":\\\"\\\",\\\"linecolor\\\":\\\"white\\\"},\\\"bgcolor\\\":\\\"#E5ECF6\\\",\\\"caxis\\\":{\\\"gridcolor\\\":\\\"white\\\",\\\"ticks\\\":\\\"\\\",\\\"linecolor\\\":\\\"white\\\"},\\\"aaxis\\\":{\\\"gridcolor\\\":\\\"white\\\",\\\"ticks\\\":\\\"\\\",\\\"linecolor\\\":\\\"white\\\"}},\\\"annotationdefaults\\\":{\\\"arrowhead\\\":0,\\\"arrowwidth\\\":1,\\\"arrowcolor\\\":\\\"#2a3f5f\\\"},\\\"plot_bgcolor\\\":\\\"#E5ECF6\\\",\\\"title\\\":{\\\"x\\\":0.05},\\\"scene\\\":{\\\"xaxis\\\":{\\\"gridcolor\\\":\\\"white\\\",\\\"gridwidth\\\":2,\\\"backgroundcolor\\\":\\\"#E5ECF6\\\",\\\"ticks\\\":\\\"\\\",\\\"showbackground\\\":true,\\\"zerolinecolor\\\":\\\"white\\\",\\\"linecolor\\\":\\\"white\\\"},\\\"zaxis\\\":{\\\"gridcolor\\\":\\\"white\\\",\\\"gridwidth\\\":2,\\\"backgroundcolor\\\":\\\"#E5ECF6\\\",\\\"ticks\\\":\\\"\\\",\\\"showbackground\\\":true,\\\"zerolinecolor\\\":\\\"white\\\",\\\"linecolor\\\":\\\"white\\\"},\\\"yaxis\\\":{\\\"gridcolor\\\":\\\"white\\\",\\\"gridwidth\\\":2,\\\"backgroundcolor\\\":\\\"#E5ECF6\\\",\\\"ticks\\\":\\\"\\\",\\\"showbackground\\\":true,\\\"zerolinecolor\\\":\\\"white\\\",\\\"linecolor\\\":\\\"white\\\"}},\\\"colorway\\\":[\\\"#636efa\\\",\\\"#EF553B\\\",\\\"#00cc96\\\",\\\"#ab63fa\\\",\\\"#FFA15A\\\",\\\"#19d3f3\\\",\\\"#FF6692\\\",\\\"#B6E880\\\",\\\"#FF97FF\\\",\\\"#FECB52\\\"]},\\\"data\\\":{\\\"barpolar\\\":[{\\\"type\\\":\\\"barpolar\\\",\\\"marker\\\":{\\\"line\\\":{\\\"color\\\":\\\"#E5ECF6\\\",\\\"width\\\":0.5}}}],\\\"carpet\\\":[{\\\"aaxis\\\":{\\\"gridcolor\\\":\\\"white\\\",\\\"endlinecolor\\\":\\\"#2a3f5f\\\",\\\"minorgridcolor\\\":\\\"white\\\",\\\"startlinecolor\\\":\\\"#2a3f5f\\\",\\\"linecolor\\\":\\\"white\\\"},\\\"type\\\":\\\"carpet\\\",\\\"baxis\\\":{\\\"gridcolor\\\":\\\"white\\\",\\\"endlinecolor\\\":\\\"#2a3f5f\\\",\\\"minorgridcolor\\\":\\\"white\\\",\\\"startlinecolor\\\":\\\"#2a3f5f\\\",\\\"linecolor\\\":\\\"white\\\"}}],\\\"scatterpolar\\\":[{\\\"type\\\":\\\"scatterpolar\\\",\\\"marker\\\":{\\\"colorbar\\\":{\\\"ticks\\\":\\\"\\\",\\\"outlinewidth\\\":0}}}],\\\"parcoords\\\":[{\\\"line\\\":{\\\"colorbar\\\":{\\\"ticks\\\":\\\"\\\",\\\"outlinewidth\\\":0}},\\\"type\\\":\\\"parcoords\\\"}],\\\"scatter\\\":[{\\\"type\\\":\\\"scatter\\\",\\\"marker\\\":{\\\"colorbar\\\":{\\\"ticks\\\":\\\"\\\",\\\"outlinewidth\\\":0}}}],\\\"histogram2dcontour\\\":[{\\\"colorbar\\\":{\\\"ticks\\\":\\\"\\\",\\\"outlinewidth\\\":0},\\\"type\\\":\\\"histogram2dcontour\\\",\\\"colorscale\\\":[[0.0,\\\"#0d0887\\\"],[0.1111111111111111,\\\"#46039f\\\"],[0.2222222222222222,\\\"#7201a8\\\"],[0.3333333333333333,\\\"#9c179e\\\"],[0.4444444444444444,\\\"#bd3786\\\"],[0.5555555555555556,\\\"#d8576b\\\"],[0.6666666666666666,\\\"#ed7953\\\"],[0.7777777777777778,\\\"#fb9f3a\\\"],[0.8888888888888888,\\\"#fdca26\\\"],[1.0,\\\"#f0f921\\\"]]}],\\\"contour\\\":[{\\\"colorbar\\\":{\\\"ticks\\\":\\\"\\\",\\\"outlinewidth\\\":0},\\\"type\\\":\\\"contour\\\",\\\"colorscale\\\":[[0.0,\\\"#0d0887\\\"],[0.1111111111111111,\\\"#46039f\\\"],[0.2222222222222222,\\\"#7201a8\\\"],[0.3333333333333333,\\\"#9c179e\\\"],[0.4444444444444444,\\\"#bd3786\\\"],[0.5555555555555556,\\\"#d8576b\\\"],[0.6666666666666666,\\\"#ed7953\\\"],[0.7777777777777778,\\\"#fb9f3a\\\"],[0.8888888888888888,\\\"#fdca26\\\"],[1.0,\\\"#f0f921\\\"]]}],\\\"scattercarpet\\\":[{\\\"type\\\":\\\"scattercarpet\\\",\\\"marker\\\":{\\\"colorbar\\\":{\\\"ticks\\\":\\\"\\\",\\\"outlinewidth\\\":0}}}],\\\"mesh3d\\\":[{\\\"colorbar\\\":{\\\"ticks\\\":\\\"\\\",\\\"outlinewidth\\\":0},\\\"type\\\":\\\"mesh3d\\\"}],\\\"surface\\\":[{\\\"colorbar\\\":{\\\"ticks\\\":\\\"\\\",\\\"outlinewidth\\\":0},\\\"type\\\":\\\"surface\\\",\\\"colorscale\\\":[[0.0,\\\"#0d0887\\\"],[0.1111111111111111,\\\"#46039f\\\"],[0.2222222222222222,\\\"#7201a8\\\"],[0.3333333333333333,\\\"#9c179e\\\"],[0.4444444444444444,\\\"#bd3786\\\"],[0.5555555555555556,\\\"#d8576b\\\"],[0.6666666666666666,\\\"#ed7953\\\"],[0.7777777777777778,\\\"#fb9f3a\\\"],[0.8888888888888888,\\\"#fdca26\\\"],[1.0,\\\"#f0f921\\\"]]}],\\\"scattermapbox\\\":[{\\\"type\\\":\\\"scattermapbox\\\",\\\"marker\\\":{\\\"colorbar\\\":{\\\"ticks\\\":\\\"\\\",\\\"outlinewidth\\\":0}}}],\\\"scattergeo\\\":[{\\\"type\\\":\\\"scattergeo\\\",\\\"marker\\\":{\\\"colorbar\\\":{\\\"ticks\\\":\\\"\\\",\\\"outlinewidth\\\":0}}}],\\\"histogram\\\":[{\\\"type\\\":\\\"histogram\\\",\\\"marker\\\":{\\\"colorbar\\\":{\\\"ticks\\\":\\\"\\\",\\\"outlinewidth\\\":0}}}],\\\"pie\\\":[{\\\"type\\\":\\\"pie\\\",\\\"automargin\\\":true}],\\\"choropleth\\\":[{\\\"colorbar\\\":{\\\"ticks\\\":\\\"\\\",\\\"outlinewidth\\\":0},\\\"type\\\":\\\"choropleth\\\"}],\\\"heatmapgl\\\":[{\\\"colorbar\\\":{\\\"ticks\\\":\\\"\\\",\\\"outlinewidth\\\":0},\\\"type\\\":\\\"heatmapgl\\\",\\\"colorscale\\\":[[0.0,\\\"#0d0887\\\"],[0.1111111111111111,\\\"#46039f\\\"],[0.2222222222222222,\\\"#7201a8\\\"],[0.3333333333333333,\\\"#9c179e\\\"],[0.4444444444444444,\\\"#bd3786\\\"],[0.5555555555555556,\\\"#d8576b\\\"],[0.6666666666666666,\\\"#ed7953\\\"],[0.7777777777777778,\\\"#fb9f3a\\\"],[0.8888888888888888,\\\"#fdca26\\\"],[1.0,\\\"#f0f921\\\"]]}],\\\"bar\\\":[{\\\"type\\\":\\\"bar\\\",\\\"error_y\\\":{\\\"color\\\":\\\"#2a3f5f\\\"},\\\"error_x\\\":{\\\"color\\\":\\\"#2a3f5f\\\"},\\\"marker\\\":{\\\"line\\\":{\\\"color\\\":\\\"#E5ECF6\\\",\\\"width\\\":0.5}}}],\\\"heatmap\\\":[{\\\"colorbar\\\":{\\\"ticks\\\":\\\"\\\",\\\"outlinewidth\\\":0},\\\"type\\\":\\\"heatmap\\\",\\\"colorscale\\\":[[0.0,\\\"#0d0887\\\"],[0.1111111111111111,\\\"#46039f\\\"],[0.2222222222222222,\\\"#7201a8\\\"],[0.3333333333333333,\\\"#9c179e\\\"],[0.4444444444444444,\\\"#bd3786\\\"],[0.5555555555555556,\\\"#d8576b\\\"],[0.6666666666666666,\\\"#ed7953\\\"],[0.7777777777777778,\\\"#fb9f3a\\\"],[0.8888888888888888,\\\"#fdca26\\\"],[1.0,\\\"#f0f921\\\"]]}],\\\"contourcarpet\\\":[{\\\"colorbar\\\":{\\\"ticks\\\":\\\"\\\",\\\"outlinewidth\\\":0},\\\"type\\\":\\\"contourcarpet\\\"}],\\\"table\\\":[{\\\"type\\\":\\\"table\\\",\\\"header\\\":{\\\"line\\\":{\\\"color\\\":\\\"white\\\"},\\\"fill\\\":{\\\"color\\\":\\\"#C8D4E3\\\"}},\\\"cells\\\":{\\\"line\\\":{\\\"color\\\":\\\"white\\\"},\\\"fill\\\":{\\\"color\\\":\\\"#EBF0F8\\\"}}}],\\\"scatter3d\\\":[{\\\"line\\\":{\\\"colorbar\\\":{\\\"ticks\\\":\\\"\\\",\\\"outlinewidth\\\":0}},\\\"type\\\":\\\"scatter3d\\\",\\\"marker\\\":{\\\"colorbar\\\":{\\\"ticks\\\":\\\"\\\",\\\"outlinewidth\\\":0}}}],\\\"scattergl\\\":[{\\\"type\\\":\\\"scattergl\\\",\\\"marker\\\":{\\\"colorbar\\\":{\\\"ticks\\\":\\\"\\\",\\\"outlinewidth\\\":0}}}],\\\"histogram2d\\\":[{\\\"colorbar\\\":{\\\"ticks\\\":\\\"\\\",\\\"outlinewidth\\\":0},\\\"type\\\":\\\"histogram2d\\\",\\\"colorscale\\\":[[0.0,\\\"#0d0887\\\"],[0.1111111111111111,\\\"#46039f\\\"],[0.2222222222222222,\\\"#7201a8\\\"],[0.3333333333333333,\\\"#9c179e\\\"],[0.4444444444444444,\\\"#bd3786\\\"],[0.5555555555555556,\\\"#d8576b\\\"],[0.6666666666666666,\\\"#ed7953\\\"],[0.7777777777777778,\\\"#fb9f3a\\\"],[0.8888888888888888,\\\"#fdca26\\\"],[1.0,\\\"#f0f921\\\"]]}],\\\"scatterternary\\\":[{\\\"type\\\":\\\"scatterternary\\\",\\\"marker\\\":{\\\"colorbar\\\":{\\\"ticks\\\":\\\"\\\",\\\"outlinewidth\\\":0}}}],\\\"scatterpolargl\\\":[{\\\"type\\\":\\\"scatterpolargl\\\",\\\"marker\\\":{\\\"colorbar\\\":{\\\"ticks\\\":\\\"\\\",\\\"outlinewidth\\\":0}}}]}},\\\"margin\\\":{\\\"l\\\":50,\\\"b\\\":50,\\\"r\\\":50,\\\"t\\\":60},\\\"title\\\":\\\"GOOG Prices\\\",\\\"yaxis\\\":{\\\"title\\\":{\\\"text\\\":\\\"GOOG Stock\\\"}}},{\\\"showLink\\\":false,\\\"editable\\\":false,\\\"responsive\\\":true,\\\"staticPlot\\\":false,\\\"scrollZoom\\\":true}); gd.on(\\\"plotly_hover\\\",(function (data){var filtered_data=WebIO.PlotlyCommands.filterEventData(gd,data,\\\"hover\\\"); return !(filtered_data.isnil) ? (WebIO.setval({\\\"name\\\":\\\"hover\\\",\\\"scope\\\":\\\"15885333293737836785\\\",\\\"id\\\":\\\"7660508125354098467\\\",\\\"type\\\":\\\"observable\\\"},filtered_data.out)) : undefined})); gd.on(\\\"plotly_unhover\\\",(function (){return WebIO.setval({\\\"name\\\":\\\"hover\\\",\\\"scope\\\":\\\"15885333293737836785\\\",\\\"id\\\":\\\"7660508125354098467\\\",\\\"type\\\":\\\"observable\\\"},{})})); gd.on(\\\"plotly_selected\\\",(function (data){var filtered_data=WebIO.PlotlyCommands.filterEventData(gd,data,\\\"selected\\\"); return !(filtered_data.isnil) ? (WebIO.setval({\\\"name\\\":\\\"selected\\\",\\\"scope\\\":\\\"15885333293737836785\\\",\\\"id\\\":\\\"10368236401150987985\\\",\\\"type\\\":\\\"observable\\\"},filtered_data.out)) : undefined})); gd.on(\\\"plotly_deselect\\\",(function (){return WebIO.setval({\\\"name\\\":\\\"selected\\\",\\\"scope\\\":\\\"15885333293737836785\\\",\\\"id\\\":\\\"10368236401150987985\\\",\\\"type\\\":\\\"observable\\\"},{})})); gd.on(\\\"plotly_relayout\\\",(function (data){var filtered_data=WebIO.PlotlyCommands.filterEventData(gd,data,\\\"relayout\\\"); return !(filtered_data.isnil) ? (WebIO.setval({\\\"name\\\":\\\"relayout\\\",\\\"scope\\\":\\\"15885333293737836785\\\",\\\"id\\\":\\\"4753573253321766681\\\",\\\"type\\\":\\\"observable\\\"},filtered_data.out)) : undefined})); return gd.on(\\\"plotly_click\\\",(function (data){var filtered_data=WebIO.PlotlyCommands.filterEventData(gd,data,\\\"click\\\"); return !(filtered_data.isnil) ? (WebIO.setval({\\\"name\\\":\\\"click\\\",\\\"scope\\\":\\\"15885333293737836785\\\",\\\"id\\\":\\\"10757089518255097068\\\",\\\"type\\\":\\\"observable\\\"},filtered_data.out)) : undefined}))}));\\n    (WebIO.importBlock({\\\"data\\\":[{\\\"name\\\":\\\"Plotly\\\",\\\"type\\\":\\\"js\\\",\\\"url\\\":\\\"\\/assetserver\\/c44b2cd04b3a3572f00c5d295ffe9c45b94a9a49-plotly.min.js\\\"},{\\\"name\\\":null,\\\"type\\\":\\\"js\\\",\\\"url\\\":\\\"\\/assetserver\\/5d2f409fc13299e6b724930d0745c21ad970d6a4-plotly_webio.bundle.js\\\"}],\\\"type\\\":\\\"async_block\\\"})).then((imports) => handler.apply(this, imports));\\n}\\n\"],\"observables\":{\"_toImage\":{\"sync\":false,\"id\":\"14571464331537072665\",\"value\":{}},\"hover\":{\"sync\":false,\"id\":\"7660508125354098467\",\"value\":{}},\"selected\":{\"sync\":false,\"id\":\"10368236401150987985\",\"value\":{}},\"__gd_contents\":{\"sync\":false,\"id\":\"16876095392247326815\",\"value\":{}},\"click\":{\"sync\":false,\"id\":\"10757089518255097068\",\"value\":{}},\"image\":{\"sync\":true,\"id\":\"14130384663344887643\",\"value\":\"\"},\"__get_gd_contents\":{\"sync\":false,\"id\":\"16122588962301175253\",\"value\":\"\"},\"_downloadImage\":{\"sync\":false,\"id\":\"4473787837158158820\",\"value\":{}},\"relayout\":{\"sync\":false,\"id\":\"4753573253321766681\",\"value\":{}},\"_commands\":{\"sync\":false,\"id\":\"17225959399663080943\",\"value\":[]}}},\"children\":[{\"props\":{\"id\":\"plot-c767ec99-62af-451a-8b99-4b248af16181\"},\"nodeType\":\"DOM\",\"type\":\"node\",\"instanceArgs\":{\"namespace\":\"html\",\"tag\":\"div\"},\"children\":[]}]},\n",
       "        window,\n",
       "    );\n",
       "    })()\n",
       "    </script>\n",
       "</div>\n"
      ],
      "text/plain": [
       "data: [\n",
       "  \"candlestick with fields close, high, low, open, type, and x\"\n",
       "]\n",
       "\n",
       "layout: \"layout with fields margin, template, title, and yaxis\"\n",
       "\n"
      ]
     },
     "execution_count": 32,
     "metadata": {},
     "output_type": "execute_result"
    }
   ],
   "source": [
    "p = PlotlyJS.plot(candlestick(x    =GOOG[!, \"Date\" ],\n",
    "                 open =GOOG[!, \"Open\" ],\n",
    "                 high =GOOG[!, \"High\" ],\n",
    "                 low  =GOOG[!, \"Low\"  ],\n",
    "                 close=GOOG[!, \"Close\"] ),\n",
    "    Layout(title=\"GOOG Prices\",\n",
    "           yaxis_title=\"GOOG Stock\")\n",
    "    )"
   ]
  },
  {
   "cell_type": "code",
   "execution_count": 33,
   "id": "bc30e0c7",
   "metadata": {},
   "outputs": [
    {
     "data": {
      "text/plain": [
       "\"figures/GOOG.html\""
      ]
     },
     "execution_count": 33,
     "metadata": {},
     "output_type": "execute_result"
    }
   ],
   "source": [
    "PlotlyJS.savefig(p, \"figures/GOOG.html\")"
   ]
  },
  {
   "cell_type": "code",
   "execution_count": 34,
   "id": "7e87e403-af11-4a7c-b976-f4068c78de4a",
   "metadata": {},
   "outputs": [
    {
     "data": {
      "application/vnd.plotly.v1+json": {
       "config": {
        "editable": false,
        "responsive": true,
        "scrollZoom": true,
        "showLink": false,
        "staticPlot": false
       },
       "data": [
        {
         "close": [
          278.220001,
          276.769989,
          287.049988,
          283.679993,
          287.279999,
          275.230011,
          271.459991,
          259.700012,
          255.289993,
          254.839996,
          241.399994,
          240.610001,
          256.809998,
          257.799988,
          231.850006,
          224.089996,
          211.429993,
          214.740005,
          211.839996,
          230,
          215.800003,
          220.869995,
          202.990005,
          196,
          169.229996,
          161.660004,
          156.529999,
          147.5,
          150.979996,
          156.490005,
          160.699997,
          154.539993,
          162.220001,
          172.080002,
          179.600006,
          180.149994,
          175.020004,
          176.570007,
          172.809998,
          159.600006,
          173.330002,
          167.539993,
          170.949997,
          154.529999,
          163.440002,
          165.490005,
          157.360001,
          156.940002,
          149.889999,
          141.160004,
          154.059998,
          150.619995,
          150.809998,
          146.729996,
          146.949997,
          142.259995,
          136.259995,
          126.25,
          128.160004,
          140.210007,
          137.270004
         ],
         "high": [
          287,
          277.899994,
          289.700012,
          289.320007,
          287.933014,
          302.339996,
          281.980011,
          274.549011,
          259.519989,
          259.899994,
          256.484985,
          244.300003,
          258.820007,
          263.950012,
          256.140015,
          233.520004,
          230.589996,
          217.496994,
          217.729996,
          230.350006,
          224.229996,
          221.574997,
          220.199997,
          206.240005,
          183.270004,
          175.720001,
          166.789993,
          154.869995,
          151.990005,
          166.5,
          167.679993,
          164.470001,
          162.229996,
          172.690002,
          183.610001,
          184.130005,
          179.126999,
          177.360001,
          176.875,
          165.809006,
          173.869995,
          175.869995,
          174.199997,
          165.820007,
          164.770004,
          168.279999,
          167,
          159.339996,
          153.970001,
          152.440002,
          154.429993,
          158.690002,
          152.449997,
          153.960007,
          148.029999,
          147.660004,
          139.524994,
          136.610001,
          133.669998,
          144.128006,
          139.679993
         ],
         "low": [
          264.200012,
          261.01001,
          271.51001,
          277,
          271.679993,
          275,
          266.600006,
          255.509995,
          250.050003,
          250.229996,
          238.270004,
          231.729996,
          238,
          251.369995,
          231.5,
          220,
          211.029999,
          198,
          209.270004,
          201.550003,
          213.020004,
          213.740005,
          202.860001,
          194.610001,
          168.070007,
          160.600006,
          155.729996,
          145.809998,
          135.130005,
          152.557999,
          159.100006,
          152.779999,
          150.589996,
          162.509995,
          174.160004,
          175.220001,
          171.257004,
          172.291,
          171.100006,
          156.240005,
          160.910004,
          163.880005,
          167.779999,
          153.759995,
          155.699997,
          158.100006,
          157.089996,
          151.600006,
          146.850006,
          140.970001,
          138.565994,
          149.630005,
          146.580002,
          146.130005,
          140.479996,
          139.800003,
          134.520004,
          124.470001,
          121.32,
          134.100006,
          134.550003
         ],
         "open": [
          267.141998,
          272,
          271.779999,
          288.27301,
          279.600006,
          299.410004,
          275.399994,
          273.450012,
          258.329987,
          253.240005,
          250.350006,
          235.119995,
          239.020004,
          253.559998,
          253.869995,
          231.809998,
          230.470001,
          214.479996,
          213.699997,
          204.449997,
          222.929993,
          216.779999,
          217.089996,
          195.559998,
          183.270004,
          171.639999,
          166.410004,
          153.850006,
          141.990005,
          157.485001,
          163.529999,
          161.929993,
          154,
          166,
          182.179993,
          181,
          172.348999,
          175.770004,
          175.589996,
          162.350006,
          162.899994,
          165.039993,
          167.929993,
          163.669998,
          155.850006,
          161.929993,
          163.425995,
          156.949997,
          149.490005,
          152.330002,
          140.149994,
          157.110001,
          147.050003,
          150.270004,
          145,
          147.559998,
          137.089996,
          133.179993,
          123.900002,
          135.320007,
          139.419998
         ],
         "type": "candlestick",
         "x": [
          "13/12/2021",
          "14/12/2021",
          "15/12/2021",
          "16/12/2021",
          "17/12/2021",
          "20/12/2021",
          "21/12/2021",
          "22/12/2021",
          "23/12/2021",
          "27/12/2021",
          "28/12/2021",
          "29/12/2021",
          "30/12/2021",
          "31/12/2021",
          "03/01/2022",
          "04/01/2022",
          "05/01/2022",
          "06/01/2022",
          "07/01/2022",
          "10/01/2022",
          "11/01/2022",
          "12/01/2022",
          "13/01/2022",
          "14/01/2022",
          "18/01/2022",
          "19/01/2022",
          "20/01/2022",
          "21/01/2022",
          "24/01/2022",
          "25/01/2022",
          "26/01/2022",
          "27/01/2022",
          "28/01/2022",
          "31/01/2022",
          "01/02/2022",
          "02/02/2022",
          "03/02/2022",
          "04/02/2022",
          "07/02/2022",
          "08/02/2022",
          "09/02/2022",
          "10/02/2022",
          "11/02/2022",
          "14/02/2022",
          "15/02/2022",
          "16/02/2022",
          "17/02/2022",
          "18/02/2022",
          "22/02/2022",
          "23/02/2022",
          "24/02/2022",
          "25/02/2022",
          "28/02/2022",
          "01/03/2022",
          "02/03/2022",
          "03/03/2022",
          "04/03/2022",
          "07/03/2022",
          "08/03/2022",
          "09/03/2022",
          "10/03/2022"
         ]
        }
       ],
       "frames": [],
       "layout": {
        "margin": {
         "b": 50,
         "l": 50,
         "r": 50,
         "t": 60
        },
        "template": {
         "data": {
          "bar": [
           {
            "error_x": {
             "color": "#2a3f5f"
            },
            "error_y": {
             "color": "#2a3f5f"
            },
            "marker": {
             "line": {
              "color": "#E5ECF6",
              "width": 0.5
             }
            },
            "type": "bar"
           }
          ],
          "barpolar": [
           {
            "marker": {
             "line": {
              "color": "#E5ECF6",
              "width": 0.5
             }
            },
            "type": "barpolar"
           }
          ],
          "carpet": [
           {
            "aaxis": {
             "endlinecolor": "#2a3f5f",
             "gridcolor": "white",
             "linecolor": "white",
             "minorgridcolor": "white",
             "startlinecolor": "#2a3f5f"
            },
            "baxis": {
             "endlinecolor": "#2a3f5f",
             "gridcolor": "white",
             "linecolor": "white",
             "minorgridcolor": "white",
             "startlinecolor": "#2a3f5f"
            },
            "type": "carpet"
           }
          ],
          "choropleth": [
           {
            "colorbar": {
             "outlinewidth": 0,
             "ticks": ""
            },
            "type": "choropleth"
           }
          ],
          "contour": [
           {
            "colorbar": {
             "outlinewidth": 0,
             "ticks": ""
            },
            "colorscale": [
             [
              0,
              "#0d0887"
             ],
             [
              0.1111111111111111,
              "#46039f"
             ],
             [
              0.2222222222222222,
              "#7201a8"
             ],
             [
              0.3333333333333333,
              "#9c179e"
             ],
             [
              0.4444444444444444,
              "#bd3786"
             ],
             [
              0.5555555555555556,
              "#d8576b"
             ],
             [
              0.6666666666666666,
              "#ed7953"
             ],
             [
              0.7777777777777778,
              "#fb9f3a"
             ],
             [
              0.8888888888888888,
              "#fdca26"
             ],
             [
              1,
              "#f0f921"
             ]
            ],
            "type": "contour"
           }
          ],
          "contourcarpet": [
           {
            "colorbar": {
             "outlinewidth": 0,
             "ticks": ""
            },
            "type": "contourcarpet"
           }
          ],
          "heatmap": [
           {
            "colorbar": {
             "outlinewidth": 0,
             "ticks": ""
            },
            "colorscale": [
             [
              0,
              "#0d0887"
             ],
             [
              0.1111111111111111,
              "#46039f"
             ],
             [
              0.2222222222222222,
              "#7201a8"
             ],
             [
              0.3333333333333333,
              "#9c179e"
             ],
             [
              0.4444444444444444,
              "#bd3786"
             ],
             [
              0.5555555555555556,
              "#d8576b"
             ],
             [
              0.6666666666666666,
              "#ed7953"
             ],
             [
              0.7777777777777778,
              "#fb9f3a"
             ],
             [
              0.8888888888888888,
              "#fdca26"
             ],
             [
              1,
              "#f0f921"
             ]
            ],
            "type": "heatmap"
           }
          ],
          "heatmapgl": [
           {
            "colorbar": {
             "outlinewidth": 0,
             "ticks": ""
            },
            "colorscale": [
             [
              0,
              "#0d0887"
             ],
             [
              0.1111111111111111,
              "#46039f"
             ],
             [
              0.2222222222222222,
              "#7201a8"
             ],
             [
              0.3333333333333333,
              "#9c179e"
             ],
             [
              0.4444444444444444,
              "#bd3786"
             ],
             [
              0.5555555555555556,
              "#d8576b"
             ],
             [
              0.6666666666666666,
              "#ed7953"
             ],
             [
              0.7777777777777778,
              "#fb9f3a"
             ],
             [
              0.8888888888888888,
              "#fdca26"
             ],
             [
              1,
              "#f0f921"
             ]
            ],
            "type": "heatmapgl"
           }
          ],
          "histogram": [
           {
            "marker": {
             "colorbar": {
              "outlinewidth": 0,
              "ticks": ""
             }
            },
            "type": "histogram"
           }
          ],
          "histogram2d": [
           {
            "colorbar": {
             "outlinewidth": 0,
             "ticks": ""
            },
            "colorscale": [
             [
              0,
              "#0d0887"
             ],
             [
              0.1111111111111111,
              "#46039f"
             ],
             [
              0.2222222222222222,
              "#7201a8"
             ],
             [
              0.3333333333333333,
              "#9c179e"
             ],
             [
              0.4444444444444444,
              "#bd3786"
             ],
             [
              0.5555555555555556,
              "#d8576b"
             ],
             [
              0.6666666666666666,
              "#ed7953"
             ],
             [
              0.7777777777777778,
              "#fb9f3a"
             ],
             [
              0.8888888888888888,
              "#fdca26"
             ],
             [
              1,
              "#f0f921"
             ]
            ],
            "type": "histogram2d"
           }
          ],
          "histogram2dcontour": [
           {
            "colorbar": {
             "outlinewidth": 0,
             "ticks": ""
            },
            "colorscale": [
             [
              0,
              "#0d0887"
             ],
             [
              0.1111111111111111,
              "#46039f"
             ],
             [
              0.2222222222222222,
              "#7201a8"
             ],
             [
              0.3333333333333333,
              "#9c179e"
             ],
             [
              0.4444444444444444,
              "#bd3786"
             ],
             [
              0.5555555555555556,
              "#d8576b"
             ],
             [
              0.6666666666666666,
              "#ed7953"
             ],
             [
              0.7777777777777778,
              "#fb9f3a"
             ],
             [
              0.8888888888888888,
              "#fdca26"
             ],
             [
              1,
              "#f0f921"
             ]
            ],
            "type": "histogram2dcontour"
           }
          ],
          "mesh3d": [
           {
            "colorbar": {
             "outlinewidth": 0,
             "ticks": ""
            },
            "type": "mesh3d"
           }
          ],
          "parcoords": [
           {
            "line": {
             "colorbar": {
              "outlinewidth": 0,
              "ticks": ""
             }
            },
            "type": "parcoords"
           }
          ],
          "pie": [
           {
            "automargin": true,
            "type": "pie"
           }
          ],
          "scatter": [
           {
            "marker": {
             "colorbar": {
              "outlinewidth": 0,
              "ticks": ""
             }
            },
            "type": "scatter"
           }
          ],
          "scatter3d": [
           {
            "line": {
             "colorbar": {
              "outlinewidth": 0,
              "ticks": ""
             }
            },
            "marker": {
             "colorbar": {
              "outlinewidth": 0,
              "ticks": ""
             }
            },
            "type": "scatter3d"
           }
          ],
          "scattercarpet": [
           {
            "marker": {
             "colorbar": {
              "outlinewidth": 0,
              "ticks": ""
             }
            },
            "type": "scattercarpet"
           }
          ],
          "scattergeo": [
           {
            "marker": {
             "colorbar": {
              "outlinewidth": 0,
              "ticks": ""
             }
            },
            "type": "scattergeo"
           }
          ],
          "scattergl": [
           {
            "marker": {
             "colorbar": {
              "outlinewidth": 0,
              "ticks": ""
             }
            },
            "type": "scattergl"
           }
          ],
          "scattermapbox": [
           {
            "marker": {
             "colorbar": {
              "outlinewidth": 0,
              "ticks": ""
             }
            },
            "type": "scattermapbox"
           }
          ],
          "scatterpolar": [
           {
            "marker": {
             "colorbar": {
              "outlinewidth": 0,
              "ticks": ""
             }
            },
            "type": "scatterpolar"
           }
          ],
          "scatterpolargl": [
           {
            "marker": {
             "colorbar": {
              "outlinewidth": 0,
              "ticks": ""
             }
            },
            "type": "scatterpolargl"
           }
          ],
          "scatterternary": [
           {
            "marker": {
             "colorbar": {
              "outlinewidth": 0,
              "ticks": ""
             }
            },
            "type": "scatterternary"
           }
          ],
          "surface": [
           {
            "colorbar": {
             "outlinewidth": 0,
             "ticks": ""
            },
            "colorscale": [
             [
              0,
              "#0d0887"
             ],
             [
              0.1111111111111111,
              "#46039f"
             ],
             [
              0.2222222222222222,
              "#7201a8"
             ],
             [
              0.3333333333333333,
              "#9c179e"
             ],
             [
              0.4444444444444444,
              "#bd3786"
             ],
             [
              0.5555555555555556,
              "#d8576b"
             ],
             [
              0.6666666666666666,
              "#ed7953"
             ],
             [
              0.7777777777777778,
              "#fb9f3a"
             ],
             [
              0.8888888888888888,
              "#fdca26"
             ],
             [
              1,
              "#f0f921"
             ]
            ],
            "type": "surface"
           }
          ],
          "table": [
           {
            "cells": {
             "fill": {
              "color": "#EBF0F8"
             },
             "line": {
              "color": "white"
             }
            },
            "header": {
             "fill": {
              "color": "#C8D4E3"
             },
             "line": {
              "color": "white"
             }
            },
            "type": "table"
           }
          ]
         },
         "layout": {
          "annotationdefaults": {
           "arrowcolor": "#2a3f5f",
           "arrowhead": 0,
           "arrowwidth": 1
          },
          "autotypenumbers": "strict",
          "coloraxis": {
           "colorbar": {
            "outlinewidth": 0,
            "ticks": ""
           }
          },
          "colorscale": {
           "diverging": [
            [
             0,
             "#8e0152"
            ],
            [
             0.1,
             "#c51b7d"
            ],
            [
             0.2,
             "#de77ae"
            ],
            [
             0.3,
             "#f1b6da"
            ],
            [
             0.4,
             "#fde0ef"
            ],
            [
             0.5,
             "#f7f7f7"
            ],
            [
             0.6,
             "#e6f5d0"
            ],
            [
             0.7,
             "#b8e186"
            ],
            [
             0.8,
             "#7fbc41"
            ],
            [
             0.9,
             "#4d9221"
            ],
            [
             1,
             "#276419"
            ]
           ],
           "sequential": [
            [
             0,
             "#0d0887"
            ],
            [
             0.1111111111111111,
             "#46039f"
            ],
            [
             0.2222222222222222,
             "#7201a8"
            ],
            [
             0.3333333333333333,
             "#9c179e"
            ],
            [
             0.4444444444444444,
             "#bd3786"
            ],
            [
             0.5555555555555556,
             "#d8576b"
            ],
            [
             0.6666666666666666,
             "#ed7953"
            ],
            [
             0.7777777777777778,
             "#fb9f3a"
            ],
            [
             0.8888888888888888,
             "#fdca26"
            ],
            [
             1,
             "#f0f921"
            ]
           ],
           "sequentialminus": [
            [
             0,
             "#0d0887"
            ],
            [
             0.1111111111111111,
             "#46039f"
            ],
            [
             0.2222222222222222,
             "#7201a8"
            ],
            [
             0.3333333333333333,
             "#9c179e"
            ],
            [
             0.4444444444444444,
             "#bd3786"
            ],
            [
             0.5555555555555556,
             "#d8576b"
            ],
            [
             0.6666666666666666,
             "#ed7953"
            ],
            [
             0.7777777777777778,
             "#fb9f3a"
            ],
            [
             0.8888888888888888,
             "#fdca26"
            ],
            [
             1,
             "#f0f921"
            ]
           ]
          },
          "colorway": [
           "#636efa",
           "#EF553B",
           "#00cc96",
           "#ab63fa",
           "#FFA15A",
           "#19d3f3",
           "#FF6692",
           "#B6E880",
           "#FF97FF",
           "#FECB52"
          ],
          "font": {
           "color": "#2a3f5f"
          },
          "geo": {
           "bgcolor": "white",
           "lakecolor": "white",
           "landcolor": "#E5ECF6",
           "showlakes": true,
           "showland": true,
           "subunitcolor": "white"
          },
          "hoverlabel": {
           "align": "left"
          },
          "hovermode": "closest",
          "mapbox": {
           "style": "light"
          },
          "paper_bgcolor": "white",
          "plot_bgcolor": "#E5ECF6",
          "polar": {
           "angularaxis": {
            "gridcolor": "white",
            "linecolor": "white",
            "ticks": ""
           },
           "bgcolor": "#E5ECF6",
           "radialaxis": {
            "gridcolor": "white",
            "linecolor": "white",
            "ticks": ""
           }
          },
          "scene": {
           "xaxis": {
            "backgroundcolor": "#E5ECF6",
            "gridcolor": "white",
            "gridwidth": 2,
            "linecolor": "white",
            "showbackground": true,
            "ticks": "",
            "zerolinecolor": "white"
           },
           "yaxis": {
            "backgroundcolor": "#E5ECF6",
            "gridcolor": "white",
            "gridwidth": 2,
            "linecolor": "white",
            "showbackground": true,
            "ticks": "",
            "zerolinecolor": "white"
           },
           "zaxis": {
            "backgroundcolor": "#E5ECF6",
            "gridcolor": "white",
            "gridwidth": 2,
            "linecolor": "white",
            "showbackground": true,
            "ticks": "",
            "zerolinecolor": "white"
           }
          },
          "shapedefaults": {
           "line": {
            "color": "#2a3f5f"
           }
          },
          "ternary": {
           "aaxis": {
            "gridcolor": "white",
            "linecolor": "white",
            "ticks": ""
           },
           "baxis": {
            "gridcolor": "white",
            "linecolor": "white",
            "ticks": ""
           },
           "bgcolor": "#E5ECF6",
           "caxis": {
            "gridcolor": "white",
            "linecolor": "white",
            "ticks": ""
           }
          },
          "title": {
           "x": 0.05
          },
          "xaxis": {
           "automargin": true,
           "gridcolor": "white",
           "linecolor": "white",
           "ticks": "",
           "title": {
            "standoff": 15
           },
           "zerolinecolor": "white",
           "zerolinewidth": 2
          },
          "yaxis": {
           "automargin": true,
           "gridcolor": "white",
           "linecolor": "white",
           "ticks": "",
           "title": {
            "standoff": 15
           },
           "zerolinecolor": "white",
           "zerolinewidth": 2
          }
         }
        },
        "title": "BioNTech Prices",
        "yaxis": {
         "title": {
          "text": "BNTX Stock"
         }
        }
       }
      },
      "text/html": [
       "<div\n",
       "    class=\"webio-mountpoint\"\n",
       "    data-webio-mountpoint=\"12891611861651743253\"\n",
       ">\n",
       "    <script>\n",
       "    (function(){\n",
       "    // Some integrations (namely, IJulia/Jupyter) use an alternate render pathway than\n",
       "    // just putting the html on the page. If WebIO isn't defined, then it's pretty likely\n",
       "    // that we're in one of those situations and the integration just isn't installed\n",
       "    // correctly.\n",
       "    if (typeof window.WebIO === \"undefined\") {\n",
       "        document\n",
       "            .querySelector('[data-webio-mountpoint=\"12891611861651743253\"]')\n",
       "            .innerHTML = (\n",
       "                '<div style=\"padding: 1em; background-color: #f8d6da; border: 1px solid #f5c6cb; font-weight: bold;\">' +\n",
       "                '<p><strong>WebIO not detected.</strong></p>' +\n",
       "                '<p>Please read ' +\n",
       "                '<a href=\"https://juliagizmos.github.io/WebIO.jl/latest/troubleshooting/not-detected/\" target=\"_blank\">the troubleshooting guide</a> ' +\n",
       "                'for more information on how to resolve this issue.</p>' +\n",
       "                '<p><a href=\"https://juliagizmos.github.io/WebIO.jl/latest/troubleshooting/not-detected/\" target=\"_blank\">https://juliagizmos.github.io/WebIO.jl/latest/troubleshooting/not-detected/</a></p>' +\n",
       "                '</div>'\n",
       "            );\n",
       "        return;\n",
       "    }\n",
       "    WebIO.mount(\n",
       "        document.querySelector('[data-webio-mountpoint=\"12891611861651743253\"]'),\n",
       "        {\"props\":{},\"nodeType\":\"Scope\",\"type\":\"node\",\"instanceArgs\":{\"imports\":{\"data\":[{\"name\":\"Plotly\",\"type\":\"js\",\"url\":\"\\/assetserver\\/c44b2cd04b3a3572f00c5d295ffe9c45b94a9a49-plotly.min.js\"},{\"name\":null,\"type\":\"js\",\"url\":\"\\/assetserver\\/5d2f409fc13299e6b724930d0745c21ad970d6a4-plotly_webio.bundle.js\"}],\"type\":\"async_block\"},\"id\":\"15539930211150397753\",\"handlers\":{\"_toImage\":[\"(function (options){return this.Plotly.toImage(this.plotElem,options).then((function (data){return WebIO.setval({\\\"name\\\":\\\"image\\\",\\\"scope\\\":\\\"15539930211150397753\\\",\\\"id\\\":\\\"3668484301311796259\\\",\\\"type\\\":\\\"observable\\\"},data)}))})\"],\"__get_gd_contents\":[\"(function (prop){prop==\\\"data\\\" ? (WebIO.setval({\\\"name\\\":\\\"__gd_contents\\\",\\\"scope\\\":\\\"15539930211150397753\\\",\\\"id\\\":\\\"5192015549597661697\\\",\\\"type\\\":\\\"observable\\\"},this.plotElem.data)) : undefined; return prop==\\\"layout\\\" ? (WebIO.setval({\\\"name\\\":\\\"__gd_contents\\\",\\\"scope\\\":\\\"15539930211150397753\\\",\\\"id\\\":\\\"5192015549597661697\\\",\\\"type\\\":\\\"observable\\\"},this.plotElem.layout)) : undefined})\"],\"_downloadImage\":[\"(function (options){return this.Plotly.downloadImage(this.plotElem,options)})\"],\"_commands\":[\"(function (args){var fn=args.shift(); var elem=this.plotElem; var Plotly=this.Plotly; args.unshift(elem); return Plotly[fn].apply(this,args)})\"]},\"systemjs_options\":null,\"mount_callbacks\":[\"function () {\\n    var handler = ((function (Plotly,PlotlyWebIO){PlotlyWebIO.init(WebIO); var gd=this.dom.querySelector(\\\"#plot-a5eef0fc-78e7-4c6f-9946-5944f4b72c73\\\"); this.plotElem=gd; this.Plotly=Plotly; (window.Blink!==undefined) ? (gd.style.width=\\\"100%\\\", gd.style.height=\\\"100vh\\\", gd.style.marginLeft=\\\"0%\\\", gd.style.marginTop=\\\"0vh\\\") : undefined; window.onresize=(function (){return Plotly.Plots.resize(gd)}); Plotly.newPlot(gd,[{\\\"x\\\":[\\\"13\\/12\\/2021\\\",\\\"14\\/12\\/2021\\\",\\\"15\\/12\\/2021\\\",\\\"16\\/12\\/2021\\\",\\\"17\\/12\\/2021\\\",\\\"20\\/12\\/2021\\\",\\\"21\\/12\\/2021\\\",\\\"22\\/12\\/2021\\\",\\\"23\\/12\\/2021\\\",\\\"27\\/12\\/2021\\\",\\\"28\\/12\\/2021\\\",\\\"29\\/12\\/2021\\\",\\\"30\\/12\\/2021\\\",\\\"31\\/12\\/2021\\\",\\\"03\\/01\\/2022\\\",\\\"04\\/01\\/2022\\\",\\\"05\\/01\\/2022\\\",\\\"06\\/01\\/2022\\\",\\\"07\\/01\\/2022\\\",\\\"10\\/01\\/2022\\\",\\\"11\\/01\\/2022\\\",\\\"12\\/01\\/2022\\\",\\\"13\\/01\\/2022\\\",\\\"14\\/01\\/2022\\\",\\\"18\\/01\\/2022\\\",\\\"19\\/01\\/2022\\\",\\\"20\\/01\\/2022\\\",\\\"21\\/01\\/2022\\\",\\\"24\\/01\\/2022\\\",\\\"25\\/01\\/2022\\\",\\\"26\\/01\\/2022\\\",\\\"27\\/01\\/2022\\\",\\\"28\\/01\\/2022\\\",\\\"31\\/01\\/2022\\\",\\\"01\\/02\\/2022\\\",\\\"02\\/02\\/2022\\\",\\\"03\\/02\\/2022\\\",\\\"04\\/02\\/2022\\\",\\\"07\\/02\\/2022\\\",\\\"08\\/02\\/2022\\\",\\\"09\\/02\\/2022\\\",\\\"10\\/02\\/2022\\\",\\\"11\\/02\\/2022\\\",\\\"14\\/02\\/2022\\\",\\\"15\\/02\\/2022\\\",\\\"16\\/02\\/2022\\\",\\\"17\\/02\\/2022\\\",\\\"18\\/02\\/2022\\\",\\\"22\\/02\\/2022\\\",\\\"23\\/02\\/2022\\\",\\\"24\\/02\\/2022\\\",\\\"25\\/02\\/2022\\\",\\\"28\\/02\\/2022\\\",\\\"01\\/03\\/2022\\\",\\\"02\\/03\\/2022\\\",\\\"03\\/03\\/2022\\\",\\\"04\\/03\\/2022\\\",\\\"07\\/03\\/2022\\\",\\\"08\\/03\\/2022\\\",\\\"09\\/03\\/2022\\\",\\\"10\\/03\\/2022\\\"],\\\"high\\\":[287.0,277.899994,289.700012,289.320007,287.933014,302.339996,281.980011,274.549011,259.519989,259.899994,256.484985,244.300003,258.820007,263.950012,256.140015,233.520004,230.589996,217.496994,217.729996,230.350006,224.229996,221.574997,220.199997,206.240005,183.270004,175.720001,166.789993,154.869995,151.990005,166.5,167.679993,164.470001,162.229996,172.690002,183.610001,184.130005,179.126999,177.360001,176.875,165.809006,173.869995,175.869995,174.199997,165.820007,164.770004,168.279999,167.0,159.339996,153.970001,152.440002,154.429993,158.690002,152.449997,153.960007,148.029999,147.660004,139.524994,136.610001,133.669998,144.128006,139.679993],\\\"type\\\":\\\"candlestick\\\",\\\"open\\\":[267.141998,272.0,271.779999,288.27301,279.600006,299.410004,275.399994,273.450012,258.329987,253.240005,250.350006,235.119995,239.020004,253.559998,253.869995,231.809998,230.470001,214.479996,213.699997,204.449997,222.929993,216.779999,217.089996,195.559998,183.270004,171.639999,166.410004,153.850006,141.990005,157.485001,163.529999,161.929993,154.0,166.0,182.179993,181.0,172.348999,175.770004,175.589996,162.350006,162.899994,165.039993,167.929993,163.669998,155.850006,161.929993,163.425995,156.949997,149.490005,152.330002,140.149994,157.110001,147.050003,150.270004,145.0,147.559998,137.089996,133.179993,123.900002,135.320007,139.419998],\\\"low\\\":[264.200012,261.01001,271.51001,277.0,271.679993,275.0,266.600006,255.509995,250.050003,250.229996,238.270004,231.729996,238.0,251.369995,231.5,220.0,211.029999,198.0,209.270004,201.550003,213.020004,213.740005,202.860001,194.610001,168.070007,160.600006,155.729996,145.809998,135.130005,152.557999,159.100006,152.779999,150.589996,162.509995,174.160004,175.220001,171.257004,172.291,171.100006,156.240005,160.910004,163.880005,167.779999,153.759995,155.699997,158.100006,157.089996,151.600006,146.850006,140.970001,138.565994,149.630005,146.580002,146.130005,140.479996,139.800003,134.520004,124.470001,121.32,134.100006,134.550003],\\\"close\\\":[278.220001,276.769989,287.049988,283.679993,287.279999,275.230011,271.459991,259.700012,255.289993,254.839996,241.399994,240.610001,256.809998,257.799988,231.850006,224.089996,211.429993,214.740005,211.839996,230.0,215.800003,220.869995,202.990005,196.0,169.229996,161.660004,156.529999,147.5,150.979996,156.490005,160.699997,154.539993,162.220001,172.080002,179.600006,180.149994,175.020004,176.570007,172.809998,159.600006,173.330002,167.539993,170.949997,154.529999,163.440002,165.490005,157.360001,156.940002,149.889999,141.160004,154.059998,150.619995,150.809998,146.729996,146.949997,142.259995,136.259995,126.25,128.160004,140.210007,137.270004]}],{\\\"template\\\":{\\\"layout\\\":{\\\"coloraxis\\\":{\\\"colorbar\\\":{\\\"ticks\\\":\\\"\\\",\\\"outlinewidth\\\":0}},\\\"xaxis\\\":{\\\"gridcolor\\\":\\\"white\\\",\\\"zerolinewidth\\\":2,\\\"title\\\":{\\\"standoff\\\":15},\\\"ticks\\\":\\\"\\\",\\\"zerolinecolor\\\":\\\"white\\\",\\\"automargin\\\":true,\\\"linecolor\\\":\\\"white\\\"},\\\"hovermode\\\":\\\"closest\\\",\\\"paper_bgcolor\\\":\\\"white\\\",\\\"geo\\\":{\\\"showlakes\\\":true,\\\"showland\\\":true,\\\"landcolor\\\":\\\"#E5ECF6\\\",\\\"bgcolor\\\":\\\"white\\\",\\\"subunitcolor\\\":\\\"white\\\",\\\"lakecolor\\\":\\\"white\\\"},\\\"colorscale\\\":{\\\"sequential\\\":[[0.0,\\\"#0d0887\\\"],[0.1111111111111111,\\\"#46039f\\\"],[0.2222222222222222,\\\"#7201a8\\\"],[0.3333333333333333,\\\"#9c179e\\\"],[0.4444444444444444,\\\"#bd3786\\\"],[0.5555555555555556,\\\"#d8576b\\\"],[0.6666666666666666,\\\"#ed7953\\\"],[0.7777777777777778,\\\"#fb9f3a\\\"],[0.8888888888888888,\\\"#fdca26\\\"],[1.0,\\\"#f0f921\\\"]],\\\"diverging\\\":[[0,\\\"#8e0152\\\"],[0.1,\\\"#c51b7d\\\"],[0.2,\\\"#de77ae\\\"],[0.3,\\\"#f1b6da\\\"],[0.4,\\\"#fde0ef\\\"],[0.5,\\\"#f7f7f7\\\"],[0.6,\\\"#e6f5d0\\\"],[0.7,\\\"#b8e186\\\"],[0.8,\\\"#7fbc41\\\"],[0.9,\\\"#4d9221\\\"],[1,\\\"#276419\\\"]],\\\"sequentialminus\\\":[[0.0,\\\"#0d0887\\\"],[0.1111111111111111,\\\"#46039f\\\"],[0.2222222222222222,\\\"#7201a8\\\"],[0.3333333333333333,\\\"#9c179e\\\"],[0.4444444444444444,\\\"#bd3786\\\"],[0.5555555555555556,\\\"#d8576b\\\"],[0.6666666666666666,\\\"#ed7953\\\"],[0.7777777777777778,\\\"#fb9f3a\\\"],[0.8888888888888888,\\\"#fdca26\\\"],[1.0,\\\"#f0f921\\\"]]},\\\"yaxis\\\":{\\\"gridcolor\\\":\\\"white\\\",\\\"zerolinewidth\\\":2,\\\"title\\\":{\\\"standoff\\\":15},\\\"ticks\\\":\\\"\\\",\\\"zerolinecolor\\\":\\\"white\\\",\\\"automargin\\\":true,\\\"linecolor\\\":\\\"white\\\"},\\\"shapedefaults\\\":{\\\"line\\\":{\\\"color\\\":\\\"#2a3f5f\\\"}},\\\"hoverlabel\\\":{\\\"align\\\":\\\"left\\\"},\\\"mapbox\\\":{\\\"style\\\":\\\"light\\\"},\\\"polar\\\":{\\\"angularaxis\\\":{\\\"gridcolor\\\":\\\"white\\\",\\\"ticks\\\":\\\"\\\",\\\"linecolor\\\":\\\"white\\\"},\\\"bgcolor\\\":\\\"#E5ECF6\\\",\\\"radialaxis\\\":{\\\"gridcolor\\\":\\\"white\\\",\\\"ticks\\\":\\\"\\\",\\\"linecolor\\\":\\\"white\\\"}},\\\"autotypenumbers\\\":\\\"strict\\\",\\\"font\\\":{\\\"color\\\":\\\"#2a3f5f\\\"},\\\"ternary\\\":{\\\"baxis\\\":{\\\"gridcolor\\\":\\\"white\\\",\\\"ticks\\\":\\\"\\\",\\\"linecolor\\\":\\\"white\\\"},\\\"bgcolor\\\":\\\"#E5ECF6\\\",\\\"caxis\\\":{\\\"gridcolor\\\":\\\"white\\\",\\\"ticks\\\":\\\"\\\",\\\"linecolor\\\":\\\"white\\\"},\\\"aaxis\\\":{\\\"gridcolor\\\":\\\"white\\\",\\\"ticks\\\":\\\"\\\",\\\"linecolor\\\":\\\"white\\\"}},\\\"annotationdefaults\\\":{\\\"arrowhead\\\":0,\\\"arrowwidth\\\":1,\\\"arrowcolor\\\":\\\"#2a3f5f\\\"},\\\"plot_bgcolor\\\":\\\"#E5ECF6\\\",\\\"title\\\":{\\\"x\\\":0.05},\\\"scene\\\":{\\\"xaxis\\\":{\\\"gridcolor\\\":\\\"white\\\",\\\"gridwidth\\\":2,\\\"backgroundcolor\\\":\\\"#E5ECF6\\\",\\\"ticks\\\":\\\"\\\",\\\"showbackground\\\":true,\\\"zerolinecolor\\\":\\\"white\\\",\\\"linecolor\\\":\\\"white\\\"},\\\"zaxis\\\":{\\\"gridcolor\\\":\\\"white\\\",\\\"gridwidth\\\":2,\\\"backgroundcolor\\\":\\\"#E5ECF6\\\",\\\"ticks\\\":\\\"\\\",\\\"showbackground\\\":true,\\\"zerolinecolor\\\":\\\"white\\\",\\\"linecolor\\\":\\\"white\\\"},\\\"yaxis\\\":{\\\"gridcolor\\\":\\\"white\\\",\\\"gridwidth\\\":2,\\\"backgroundcolor\\\":\\\"#E5ECF6\\\",\\\"ticks\\\":\\\"\\\",\\\"showbackground\\\":true,\\\"zerolinecolor\\\":\\\"white\\\",\\\"linecolor\\\":\\\"white\\\"}},\\\"colorway\\\":[\\\"#636efa\\\",\\\"#EF553B\\\",\\\"#00cc96\\\",\\\"#ab63fa\\\",\\\"#FFA15A\\\",\\\"#19d3f3\\\",\\\"#FF6692\\\",\\\"#B6E880\\\",\\\"#FF97FF\\\",\\\"#FECB52\\\"]},\\\"data\\\":{\\\"barpolar\\\":[{\\\"type\\\":\\\"barpolar\\\",\\\"marker\\\":{\\\"line\\\":{\\\"color\\\":\\\"#E5ECF6\\\",\\\"width\\\":0.5}}}],\\\"carpet\\\":[{\\\"aaxis\\\":{\\\"gridcolor\\\":\\\"white\\\",\\\"endlinecolor\\\":\\\"#2a3f5f\\\",\\\"minorgridcolor\\\":\\\"white\\\",\\\"startlinecolor\\\":\\\"#2a3f5f\\\",\\\"linecolor\\\":\\\"white\\\"},\\\"type\\\":\\\"carpet\\\",\\\"baxis\\\":{\\\"gridcolor\\\":\\\"white\\\",\\\"endlinecolor\\\":\\\"#2a3f5f\\\",\\\"minorgridcolor\\\":\\\"white\\\",\\\"startlinecolor\\\":\\\"#2a3f5f\\\",\\\"linecolor\\\":\\\"white\\\"}}],\\\"scatterpolar\\\":[{\\\"type\\\":\\\"scatterpolar\\\",\\\"marker\\\":{\\\"colorbar\\\":{\\\"ticks\\\":\\\"\\\",\\\"outlinewidth\\\":0}}}],\\\"parcoords\\\":[{\\\"line\\\":{\\\"colorbar\\\":{\\\"ticks\\\":\\\"\\\",\\\"outlinewidth\\\":0}},\\\"type\\\":\\\"parcoords\\\"}],\\\"scatter\\\":[{\\\"type\\\":\\\"scatter\\\",\\\"marker\\\":{\\\"colorbar\\\":{\\\"ticks\\\":\\\"\\\",\\\"outlinewidth\\\":0}}}],\\\"histogram2dcontour\\\":[{\\\"colorbar\\\":{\\\"ticks\\\":\\\"\\\",\\\"outlinewidth\\\":0},\\\"type\\\":\\\"histogram2dcontour\\\",\\\"colorscale\\\":[[0.0,\\\"#0d0887\\\"],[0.1111111111111111,\\\"#46039f\\\"],[0.2222222222222222,\\\"#7201a8\\\"],[0.3333333333333333,\\\"#9c179e\\\"],[0.4444444444444444,\\\"#bd3786\\\"],[0.5555555555555556,\\\"#d8576b\\\"],[0.6666666666666666,\\\"#ed7953\\\"],[0.7777777777777778,\\\"#fb9f3a\\\"],[0.8888888888888888,\\\"#fdca26\\\"],[1.0,\\\"#f0f921\\\"]]}],\\\"contour\\\":[{\\\"colorbar\\\":{\\\"ticks\\\":\\\"\\\",\\\"outlinewidth\\\":0},\\\"type\\\":\\\"contour\\\",\\\"colorscale\\\":[[0.0,\\\"#0d0887\\\"],[0.1111111111111111,\\\"#46039f\\\"],[0.2222222222222222,\\\"#7201a8\\\"],[0.3333333333333333,\\\"#9c179e\\\"],[0.4444444444444444,\\\"#bd3786\\\"],[0.5555555555555556,\\\"#d8576b\\\"],[0.6666666666666666,\\\"#ed7953\\\"],[0.7777777777777778,\\\"#fb9f3a\\\"],[0.8888888888888888,\\\"#fdca26\\\"],[1.0,\\\"#f0f921\\\"]]}],\\\"scattercarpet\\\":[{\\\"type\\\":\\\"scattercarpet\\\",\\\"marker\\\":{\\\"colorbar\\\":{\\\"ticks\\\":\\\"\\\",\\\"outlinewidth\\\":0}}}],\\\"mesh3d\\\":[{\\\"colorbar\\\":{\\\"ticks\\\":\\\"\\\",\\\"outlinewidth\\\":0},\\\"type\\\":\\\"mesh3d\\\"}],\\\"surface\\\":[{\\\"colorbar\\\":{\\\"ticks\\\":\\\"\\\",\\\"outlinewidth\\\":0},\\\"type\\\":\\\"surface\\\",\\\"colorscale\\\":[[0.0,\\\"#0d0887\\\"],[0.1111111111111111,\\\"#46039f\\\"],[0.2222222222222222,\\\"#7201a8\\\"],[0.3333333333333333,\\\"#9c179e\\\"],[0.4444444444444444,\\\"#bd3786\\\"],[0.5555555555555556,\\\"#d8576b\\\"],[0.6666666666666666,\\\"#ed7953\\\"],[0.7777777777777778,\\\"#fb9f3a\\\"],[0.8888888888888888,\\\"#fdca26\\\"],[1.0,\\\"#f0f921\\\"]]}],\\\"scattermapbox\\\":[{\\\"type\\\":\\\"scattermapbox\\\",\\\"marker\\\":{\\\"colorbar\\\":{\\\"ticks\\\":\\\"\\\",\\\"outlinewidth\\\":0}}}],\\\"scattergeo\\\":[{\\\"type\\\":\\\"scattergeo\\\",\\\"marker\\\":{\\\"colorbar\\\":{\\\"ticks\\\":\\\"\\\",\\\"outlinewidth\\\":0}}}],\\\"histogram\\\":[{\\\"type\\\":\\\"histogram\\\",\\\"marker\\\":{\\\"colorbar\\\":{\\\"ticks\\\":\\\"\\\",\\\"outlinewidth\\\":0}}}],\\\"pie\\\":[{\\\"type\\\":\\\"pie\\\",\\\"automargin\\\":true}],\\\"choropleth\\\":[{\\\"colorbar\\\":{\\\"ticks\\\":\\\"\\\",\\\"outlinewidth\\\":0},\\\"type\\\":\\\"choropleth\\\"}],\\\"heatmapgl\\\":[{\\\"colorbar\\\":{\\\"ticks\\\":\\\"\\\",\\\"outlinewidth\\\":0},\\\"type\\\":\\\"heatmapgl\\\",\\\"colorscale\\\":[[0.0,\\\"#0d0887\\\"],[0.1111111111111111,\\\"#46039f\\\"],[0.2222222222222222,\\\"#7201a8\\\"],[0.3333333333333333,\\\"#9c179e\\\"],[0.4444444444444444,\\\"#bd3786\\\"],[0.5555555555555556,\\\"#d8576b\\\"],[0.6666666666666666,\\\"#ed7953\\\"],[0.7777777777777778,\\\"#fb9f3a\\\"],[0.8888888888888888,\\\"#fdca26\\\"],[1.0,\\\"#f0f921\\\"]]}],\\\"bar\\\":[{\\\"type\\\":\\\"bar\\\",\\\"error_y\\\":{\\\"color\\\":\\\"#2a3f5f\\\"},\\\"error_x\\\":{\\\"color\\\":\\\"#2a3f5f\\\"},\\\"marker\\\":{\\\"line\\\":{\\\"color\\\":\\\"#E5ECF6\\\",\\\"width\\\":0.5}}}],\\\"heatmap\\\":[{\\\"colorbar\\\":{\\\"ticks\\\":\\\"\\\",\\\"outlinewidth\\\":0},\\\"type\\\":\\\"heatmap\\\",\\\"colorscale\\\":[[0.0,\\\"#0d0887\\\"],[0.1111111111111111,\\\"#46039f\\\"],[0.2222222222222222,\\\"#7201a8\\\"],[0.3333333333333333,\\\"#9c179e\\\"],[0.4444444444444444,\\\"#bd3786\\\"],[0.5555555555555556,\\\"#d8576b\\\"],[0.6666666666666666,\\\"#ed7953\\\"],[0.7777777777777778,\\\"#fb9f3a\\\"],[0.8888888888888888,\\\"#fdca26\\\"],[1.0,\\\"#f0f921\\\"]]}],\\\"contourcarpet\\\":[{\\\"colorbar\\\":{\\\"ticks\\\":\\\"\\\",\\\"outlinewidth\\\":0},\\\"type\\\":\\\"contourcarpet\\\"}],\\\"table\\\":[{\\\"type\\\":\\\"table\\\",\\\"header\\\":{\\\"line\\\":{\\\"color\\\":\\\"white\\\"},\\\"fill\\\":{\\\"color\\\":\\\"#C8D4E3\\\"}},\\\"cells\\\":{\\\"line\\\":{\\\"color\\\":\\\"white\\\"},\\\"fill\\\":{\\\"color\\\":\\\"#EBF0F8\\\"}}}],\\\"scatter3d\\\":[{\\\"line\\\":{\\\"colorbar\\\":{\\\"ticks\\\":\\\"\\\",\\\"outlinewidth\\\":0}},\\\"type\\\":\\\"scatter3d\\\",\\\"marker\\\":{\\\"colorbar\\\":{\\\"ticks\\\":\\\"\\\",\\\"outlinewidth\\\":0}}}],\\\"scattergl\\\":[{\\\"type\\\":\\\"scattergl\\\",\\\"marker\\\":{\\\"colorbar\\\":{\\\"ticks\\\":\\\"\\\",\\\"outlinewidth\\\":0}}}],\\\"histogram2d\\\":[{\\\"colorbar\\\":{\\\"ticks\\\":\\\"\\\",\\\"outlinewidth\\\":0},\\\"type\\\":\\\"histogram2d\\\",\\\"colorscale\\\":[[0.0,\\\"#0d0887\\\"],[0.1111111111111111,\\\"#46039f\\\"],[0.2222222222222222,\\\"#7201a8\\\"],[0.3333333333333333,\\\"#9c179e\\\"],[0.4444444444444444,\\\"#bd3786\\\"],[0.5555555555555556,\\\"#d8576b\\\"],[0.6666666666666666,\\\"#ed7953\\\"],[0.7777777777777778,\\\"#fb9f3a\\\"],[0.8888888888888888,\\\"#fdca26\\\"],[1.0,\\\"#f0f921\\\"]]}],\\\"scatterternary\\\":[{\\\"type\\\":\\\"scatterternary\\\",\\\"marker\\\":{\\\"colorbar\\\":{\\\"ticks\\\":\\\"\\\",\\\"outlinewidth\\\":0}}}],\\\"scatterpolargl\\\":[{\\\"type\\\":\\\"scatterpolargl\\\",\\\"marker\\\":{\\\"colorbar\\\":{\\\"ticks\\\":\\\"\\\",\\\"outlinewidth\\\":0}}}]}},\\\"margin\\\":{\\\"l\\\":50,\\\"b\\\":50,\\\"r\\\":50,\\\"t\\\":60},\\\"title\\\":\\\"BioNTech Prices\\\",\\\"yaxis\\\":{\\\"title\\\":{\\\"text\\\":\\\"BNTX Stock\\\"}}},{\\\"showLink\\\":false,\\\"editable\\\":false,\\\"responsive\\\":true,\\\"staticPlot\\\":false,\\\"scrollZoom\\\":true}); gd.on(\\\"plotly_hover\\\",(function (data){var filtered_data=WebIO.PlotlyCommands.filterEventData(gd,data,\\\"hover\\\"); return !(filtered_data.isnil) ? (WebIO.setval({\\\"name\\\":\\\"hover\\\",\\\"scope\\\":\\\"15539930211150397753\\\",\\\"id\\\":\\\"8661252438694357884\\\",\\\"type\\\":\\\"observable\\\"},filtered_data.out)) : undefined})); gd.on(\\\"plotly_unhover\\\",(function (){return WebIO.setval({\\\"name\\\":\\\"hover\\\",\\\"scope\\\":\\\"15539930211150397753\\\",\\\"id\\\":\\\"8661252438694357884\\\",\\\"type\\\":\\\"observable\\\"},{})})); gd.on(\\\"plotly_selected\\\",(function (data){var filtered_data=WebIO.PlotlyCommands.filterEventData(gd,data,\\\"selected\\\"); return !(filtered_data.isnil) ? (WebIO.setval({\\\"name\\\":\\\"selected\\\",\\\"scope\\\":\\\"15539930211150397753\\\",\\\"id\\\":\\\"18270323566238087301\\\",\\\"type\\\":\\\"observable\\\"},filtered_data.out)) : undefined})); gd.on(\\\"plotly_deselect\\\",(function (){return WebIO.setval({\\\"name\\\":\\\"selected\\\",\\\"scope\\\":\\\"15539930211150397753\\\",\\\"id\\\":\\\"18270323566238087301\\\",\\\"type\\\":\\\"observable\\\"},{})})); gd.on(\\\"plotly_relayout\\\",(function (data){var filtered_data=WebIO.PlotlyCommands.filterEventData(gd,data,\\\"relayout\\\"); return !(filtered_data.isnil) ? (WebIO.setval({\\\"name\\\":\\\"relayout\\\",\\\"scope\\\":\\\"15539930211150397753\\\",\\\"id\\\":\\\"12909223004076297205\\\",\\\"type\\\":\\\"observable\\\"},filtered_data.out)) : undefined})); return gd.on(\\\"plotly_click\\\",(function (data){var filtered_data=WebIO.PlotlyCommands.filterEventData(gd,data,\\\"click\\\"); return !(filtered_data.isnil) ? (WebIO.setval({\\\"name\\\":\\\"click\\\",\\\"scope\\\":\\\"15539930211150397753\\\",\\\"id\\\":\\\"13661311450569029187\\\",\\\"type\\\":\\\"observable\\\"},filtered_data.out)) : undefined}))}));\\n    (WebIO.importBlock({\\\"data\\\":[{\\\"name\\\":\\\"Plotly\\\",\\\"type\\\":\\\"js\\\",\\\"url\\\":\\\"\\/assetserver\\/c44b2cd04b3a3572f00c5d295ffe9c45b94a9a49-plotly.min.js\\\"},{\\\"name\\\":null,\\\"type\\\":\\\"js\\\",\\\"url\\\":\\\"\\/assetserver\\/5d2f409fc13299e6b724930d0745c21ad970d6a4-plotly_webio.bundle.js\\\"}],\\\"type\\\":\\\"async_block\\\"})).then((imports) => handler.apply(this, imports));\\n}\\n\"],\"observables\":{\"_toImage\":{\"sync\":false,\"id\":\"7599964462432930963\",\"value\":{}},\"hover\":{\"sync\":false,\"id\":\"8661252438694357884\",\"value\":{}},\"selected\":{\"sync\":false,\"id\":\"18270323566238087301\",\"value\":{}},\"__gd_contents\":{\"sync\":false,\"id\":\"5192015549597661697\",\"value\":{}},\"click\":{\"sync\":false,\"id\":\"13661311450569029187\",\"value\":{}},\"image\":{\"sync\":true,\"id\":\"3668484301311796259\",\"value\":\"\"},\"__get_gd_contents\":{\"sync\":false,\"id\":\"6363503378031878107\",\"value\":\"\"},\"_downloadImage\":{\"sync\":false,\"id\":\"4763774182904291187\",\"value\":{}},\"relayout\":{\"sync\":false,\"id\":\"12909223004076297205\",\"value\":{}},\"_commands\":{\"sync\":false,\"id\":\"5598428608287372713\",\"value\":[]}}},\"children\":[{\"props\":{\"id\":\"plot-a5eef0fc-78e7-4c6f-9946-5944f4b72c73\"},\"nodeType\":\"DOM\",\"type\":\"node\",\"instanceArgs\":{\"namespace\":\"html\",\"tag\":\"div\"},\"children\":[]}]},\n",
       "        window,\n",
       "    );\n",
       "    })()\n",
       "    </script>\n",
       "</div>\n"
      ],
      "text/plain": [
       "data: [\n",
       "  \"candlestick with fields close, high, low, open, type, and x\"\n",
       "]\n",
       "\n",
       "layout: \"layout with fields margin, template, title, and yaxis\"\n",
       "\n"
      ]
     },
     "execution_count": 34,
     "metadata": {},
     "output_type": "execute_result"
    }
   ],
   "source": [
    "p = PlotlyJS.plot(candlestick(\n",
    "        x    =BNTX[!, \"Date\" ],\n",
    "        open =BNTX[!, \"Open\" ],\n",
    "        high =BNTX[!, \"High\" ],\n",
    "        low  =BNTX[!, \"Low\"  ],\n",
    "        close=BNTX[!, \"Close\"] ),\n",
    "    Layout(title=\"BioNTech Prices\",\n",
    "           yaxis_title=\"BNTX Stock\")\n",
    "    )"
   ]
  },
  {
   "cell_type": "code",
   "execution_count": 35,
   "id": "88eda63b",
   "metadata": {},
   "outputs": [
    {
     "data": {
      "text/plain": [
       "\"figures/BNTX.html\""
      ]
     },
     "execution_count": 35,
     "metadata": {},
     "output_type": "execute_result"
    }
   ],
   "source": [
    "PlotlyJS.savefig(p, \"figures/BNTX.html\")"
   ]
  },
  {
   "cell_type": "code",
   "execution_count": 36,
   "id": "f029e2e4",
   "metadata": {
    "scrolled": false
   },
   "outputs": [
    {
     "data": {
      "application/vnd.plotly.v1+json": {
       "config": {
        "editable": false,
        "responsive": true,
        "scrollZoom": true,
        "showLink": false,
        "staticPlot": false
       },
       "data": [
        {
         "close": [
          327.140015,
          334.880005,
          355.25,
          372.649994,
          359.179993,
          339.01001,
          341.350006,
          339.26001,
          352.98999,
          333.480011,
          307.089996,
          276.519989,
          277.440002,
          272.98999,
          254.789993,
          248.899994,
          250.119995,
          236.139999,
          246.570007,
          245.949997,
          243.020004,
          243.770004,
          249.399994,
          250.330002,
          247.679993,
          261.089996,
          262.850006,
          269.420013,
          286.359985,
          278.339996,
          294.920013,
          292.390015,
          278.769989,
          283.980011,
          278.730011,
          274.320007,
          289.480011,
          295.410004,
          273.940002,
          216.639999,
          242.600006,
          226.369995,
          235.399994,
          235.889999,
          238.139999,
          250.479996,
          258.049988,
          272,
          274.059998,
          289.75,
          321.709991,
          308.839996,
          304.76001,
          348,
          362.519989,
          351.73999,
          334.480011,
          333.48999,
          344.059998,
          279.829987,
          302.690002,
          291.940002,
          284.209991,
          257.679993,
          278.220001,
          276.769989,
          287.049988,
          283.679993,
          287.279999,
          275.230011,
          271.459991,
          259.700012,
          255.289993,
          254.839996,
          241.399994,
          240.610001,
          256.809998,
          257.799988,
          231.850006,
          224.089996,
          211.429993,
          214.740005,
          211.839996,
          230,
          215.800003,
          220.869995,
          202.990005,
          196,
          169.229996,
          161.660004,
          156.529999,
          147.5,
          150.979996,
          156.490005,
          160.699997,
          154.539993,
          162.220001,
          172.080002,
          179.600006,
          180.149994,
          175.020004,
          176.570007,
          172.809998,
          159.600006,
          173.330002,
          167.539993,
          170.949997,
          154.529999,
          163.440002,
          165.490005,
          157.360001,
          156.940002,
          149.889999,
          141.160004,
          154.059998,
          150.619995,
          150.809998,
          146.729996,
          146.949997,
          142.259995,
          136.259995,
          126.25,
          128.160004,
          140.210007,
          137.270004,
          135.639999,
          135.639999
         ],
         "high": [
          351.910004,
          345.920013,
          357.76001,
          374.850006,
          370.799988,
          353.640015,
          349.929993,
          344.570007,
          360,
          350.920013,
          338.5,
          296.899994,
          292.809998,
          282.5,
          259.23999,
          252.369995,
          258,
          248.539993,
          252.589996,
          257.899994,
          251.050003,
          248.419998,
          250.979996,
          257.339996,
          252.800003,
          261.130005,
          282,
          273.970001,
          286.799011,
          295.815002,
          295.51001,
          304.350006,
          297.950012,
          288.709991,
          284.850006,
          282.899994,
          290.790009,
          296.950012,
          286,
          246,
          243.080002,
          253,
          244.740005,
          239.789993,
          238.330002,
          250.880005,
          262.380005,
          272.148987,
          281.049988,
          290.01001,
          322.200012,
          311.609985,
          306.820007,
          372.48999,
          374.579987,
          359.269989,
          346.799988,
          335,
          346.190002,
          321.859985,
          302.690002,
          312.959991,
          299,
          271.559998,
          287,
          277.899994,
          289.700012,
          289.320007,
          287.933014,
          302.339996,
          281.980011,
          274.549011,
          259.519989,
          259.899994,
          256.484985,
          244.300003,
          258.820007,
          263.950012,
          256.140015,
          233.520004,
          230.589996,
          217.496994,
          217.729996,
          230.350006,
          224.229996,
          221.574997,
          220.199997,
          206.240005,
          183.270004,
          175.720001,
          166.789993,
          154.869995,
          151.990005,
          166.5,
          167.679993,
          164.470001,
          162.229996,
          172.690002,
          183.610001,
          184.130005,
          179.126999,
          177.360001,
          176.875,
          165.809006,
          173.869995,
          175.869995,
          174.199997,
          165.820007,
          164.770004,
          168.279999,
          167,
          159.339996,
          153.970001,
          152.440002,
          154.429993,
          158.690002,
          152.449997,
          153.960007,
          148.029999,
          147.660004,
          139.524994,
          136.610001,
          133.669998,
          144.128006,
          139.679993,
          145.25,
          145.25
         ],
         "low": [
          322.470001,
          326.029999,
          337.5,
          345,
          344.809998,
          333.359985,
          337.040009,
          336.690002,
          341.440002,
          332.399994,
          305.51001,
          275,
          275.579987,
          268.829987,
          230.029999,
          233.5,
          248.919998,
          233.75,
          232.059998,
          243.199997,
          240.970001,
          240.130005,
          244.5,
          249,
          245.279999,
          245.029999,
          262,
          265,
          275.029999,
          268.049988,
          278.677002,
          290.630005,
          277.839996,
          277.100006,
          273,
          269.234985,
          276.369995,
          282.779999,
          263.630005,
          207.509995,
          228.619995,
          223.570007,
          229.649994,
          228.473999,
          231.729996,
          239.470001,
          244.059998,
          259.600006,
          265.559998,
          275.181,
          292.450012,
          291.589996,
          291.850006,
          335.035004,
          346.910004,
          327.130005,
          330.660004,
          307.059998,
          328.019989,
          276.450012,
          284.540009,
          287.230011,
          283.339996,
          252.889999,
          264.200012,
          261.01001,
          271.51001,
          277,
          271.679993,
          275,
          266.600006,
          255.509995,
          250.050003,
          250.229996,
          238.270004,
          231.729996,
          238,
          251.369995,
          231.5,
          220,
          211.029999,
          198,
          209.270004,
          201.550003,
          213.020004,
          213.740005,
          202.860001,
          194.610001,
          168.070007,
          160.600006,
          155.729996,
          145.809998,
          135.130005,
          152.557999,
          159.100006,
          152.779999,
          150.589996,
          162.509995,
          174.160004,
          175.220001,
          171.257004,
          172.291,
          171.100006,
          156.240005,
          160.910004,
          163.880005,
          167.779999,
          153.759995,
          155.699997,
          158.100006,
          157.089996,
          151.600006,
          146.850006,
          140.970001,
          138.565994,
          149.630005,
          146.580002,
          146.130005,
          140.479996,
          139.800003,
          134.520004,
          124.470001,
          121.32,
          134.100006,
          134.550003,
          135.610001,
          135.610001
         ],
         "open": [
          348.19101,
          326.170013,
          338.109985,
          350.390015,
          370.73999,
          341.204987,
          344.769989,
          342.803009,
          343,
          350,
          335.360992,
          293.700012,
          287,
          278.140015,
          251,
          234.929993,
          253.951996,
          246.960007,
          235.800003,
          252.029999,
          244,
          247.729996,
          247.070007,
          253.130005,
          252.800003,
          245.339996,
          273,
          268.730011,
          276.600006,
          294.779999,
          278.677002,
          295.51001,
          294.540009,
          282.5,
          283.75,
          282,
          282.079987,
          293.529999,
          283.779999,
          240.470001,
          232.179993,
          251.660004,
          233.160004,
          237.440002,
          233.5,
          241.720001,
          247.039993,
          263.640015,
          277.276001,
          277.679993,
          298,
          308.200012,
          295,
          337.429993,
          369.5,
          335.596985,
          335.649994,
          311,
          338,
          317.570007,
          287.720001,
          308.649994,
          298.059998,
          268.720001,
          267.141998,
          272,
          271.779999,
          288.27301,
          279.600006,
          299.410004,
          275.399994,
          273.450012,
          258.329987,
          253.240005,
          250.350006,
          235.119995,
          239.020004,
          253.559998,
          253.869995,
          231.809998,
          230.470001,
          214.479996,
          213.699997,
          204.449997,
          222.929993,
          216.779999,
          217.089996,
          195.559998,
          183.270004,
          171.639999,
          166.410004,
          153.850006,
          141.990005,
          157.485001,
          163.529999,
          161.929993,
          154,
          166,
          182.179993,
          181,
          172.348999,
          175.770004,
          175.589996,
          162.350006,
          162.899994,
          165.039993,
          167.929993,
          163.669998,
          155.850006,
          161.929993,
          163.425995,
          156.949997,
          149.490005,
          152.330002,
          140.149994,
          157.110001,
          147.050003,
          150.270004,
          145,
          147.559998,
          137.089996,
          133.179993,
          123.900002,
          135.320007,
          139.419998,
          143.25,
          143.25
         ],
         "type": "candlestick",
         "x": [
          "2021-09-13",
          "2021-09-14",
          "2021-09-15",
          "2021-09-16",
          "2021-09-17",
          "2021-09-20",
          "2021-09-21",
          "2021-09-22",
          "2021-09-23",
          "2021-09-24",
          "2021-09-27",
          "2021-09-28",
          "2021-09-29",
          "2021-09-30",
          "2021-10-01",
          "2021-10-04",
          "2021-10-05",
          "2021-10-06",
          "2021-10-07",
          "2021-10-08",
          "2021-10-11",
          "2021-10-12",
          "2021-10-13",
          "2021-10-14",
          "2021-10-15",
          "2021-10-18",
          "2021-10-19",
          "2021-10-20",
          "2021-10-21",
          "2021-10-22",
          "2021-10-25",
          "2021-10-26",
          "2021-10-27",
          "2021-10-28",
          "2021-10-29",
          "2021-11-01",
          "2021-11-02",
          "2021-11-03",
          "2021-11-04",
          "2021-11-05",
          "2021-11-08",
          "2021-11-09",
          "2021-11-10",
          "2021-11-11",
          "2021-11-12",
          "2021-11-15",
          "2021-11-16",
          "2021-11-17",
          "2021-11-18",
          "2021-11-19",
          "2021-11-22",
          "2021-11-23",
          "2021-11-24",
          "2021-11-26",
          "2021-11-29",
          "2021-11-30",
          "2021-12-01",
          "2021-12-02",
          "2021-12-03",
          "2021-12-06",
          "2021-12-07",
          "2021-12-08",
          "2021-12-09",
          "2021-12-10",
          "2021-12-13",
          "2021-12-14",
          "2021-12-15",
          "2021-12-16",
          "2021-12-17",
          "2021-12-20",
          "2021-12-21",
          "2021-12-22",
          "2021-12-23",
          "2021-12-27",
          "2021-12-28",
          "2021-12-29",
          "2021-12-30",
          "2021-12-31",
          "2022-01-03",
          "2022-01-04",
          "2022-01-05",
          "2022-01-06",
          "2022-01-07",
          "2022-01-10",
          "2022-01-11",
          "2022-01-12",
          "2022-01-13",
          "2022-01-14",
          "2022-01-18",
          "2022-01-19",
          "2022-01-20",
          "2022-01-21",
          "2022-01-24",
          "2022-01-25",
          "2022-01-26",
          "2022-01-27",
          "2022-01-28",
          "2022-01-31",
          "2022-02-01",
          "2022-02-02",
          "2022-02-03",
          "2022-02-04",
          "2022-02-07",
          "2022-02-08",
          "2022-02-09",
          "2022-02-10",
          "2022-02-11",
          "2022-02-14",
          "2022-02-15",
          "2022-02-16",
          "2022-02-17",
          "2022-02-18",
          "2022-02-22",
          "2022-02-23",
          "2022-02-24",
          "2022-02-25",
          "2022-02-28",
          "2022-03-01",
          "2022-03-02",
          "2022-03-03",
          "2022-03-04",
          "2022-03-07",
          "2022-03-08",
          "2022-03-09",
          "2022-03-10",
          "2022-03-11",
          "2022-03-11"
         ]
        }
       ],
       "frames": [],
       "layout": {
        "margin": {
         "b": 50,
         "l": 50,
         "r": 50,
         "t": 60
        },
        "template": {
         "data": {
          "bar": [
           {
            "error_x": {
             "color": "#2a3f5f"
            },
            "error_y": {
             "color": "#2a3f5f"
            },
            "marker": {
             "line": {
              "color": "#E5ECF6",
              "width": 0.5
             }
            },
            "type": "bar"
           }
          ],
          "barpolar": [
           {
            "marker": {
             "line": {
              "color": "#E5ECF6",
              "width": 0.5
             }
            },
            "type": "barpolar"
           }
          ],
          "carpet": [
           {
            "aaxis": {
             "endlinecolor": "#2a3f5f",
             "gridcolor": "white",
             "linecolor": "white",
             "minorgridcolor": "white",
             "startlinecolor": "#2a3f5f"
            },
            "baxis": {
             "endlinecolor": "#2a3f5f",
             "gridcolor": "white",
             "linecolor": "white",
             "minorgridcolor": "white",
             "startlinecolor": "#2a3f5f"
            },
            "type": "carpet"
           }
          ],
          "choropleth": [
           {
            "colorbar": {
             "outlinewidth": 0,
             "ticks": ""
            },
            "type": "choropleth"
           }
          ],
          "contour": [
           {
            "colorbar": {
             "outlinewidth": 0,
             "ticks": ""
            },
            "colorscale": [
             [
              0,
              "#0d0887"
             ],
             [
              0.1111111111111111,
              "#46039f"
             ],
             [
              0.2222222222222222,
              "#7201a8"
             ],
             [
              0.3333333333333333,
              "#9c179e"
             ],
             [
              0.4444444444444444,
              "#bd3786"
             ],
             [
              0.5555555555555556,
              "#d8576b"
             ],
             [
              0.6666666666666666,
              "#ed7953"
             ],
             [
              0.7777777777777778,
              "#fb9f3a"
             ],
             [
              0.8888888888888888,
              "#fdca26"
             ],
             [
              1,
              "#f0f921"
             ]
            ],
            "type": "contour"
           }
          ],
          "contourcarpet": [
           {
            "colorbar": {
             "outlinewidth": 0,
             "ticks": ""
            },
            "type": "contourcarpet"
           }
          ],
          "heatmap": [
           {
            "colorbar": {
             "outlinewidth": 0,
             "ticks": ""
            },
            "colorscale": [
             [
              0,
              "#0d0887"
             ],
             [
              0.1111111111111111,
              "#46039f"
             ],
             [
              0.2222222222222222,
              "#7201a8"
             ],
             [
              0.3333333333333333,
              "#9c179e"
             ],
             [
              0.4444444444444444,
              "#bd3786"
             ],
             [
              0.5555555555555556,
              "#d8576b"
             ],
             [
              0.6666666666666666,
              "#ed7953"
             ],
             [
              0.7777777777777778,
              "#fb9f3a"
             ],
             [
              0.8888888888888888,
              "#fdca26"
             ],
             [
              1,
              "#f0f921"
             ]
            ],
            "type": "heatmap"
           }
          ],
          "heatmapgl": [
           {
            "colorbar": {
             "outlinewidth": 0,
             "ticks": ""
            },
            "colorscale": [
             [
              0,
              "#0d0887"
             ],
             [
              0.1111111111111111,
              "#46039f"
             ],
             [
              0.2222222222222222,
              "#7201a8"
             ],
             [
              0.3333333333333333,
              "#9c179e"
             ],
             [
              0.4444444444444444,
              "#bd3786"
             ],
             [
              0.5555555555555556,
              "#d8576b"
             ],
             [
              0.6666666666666666,
              "#ed7953"
             ],
             [
              0.7777777777777778,
              "#fb9f3a"
             ],
             [
              0.8888888888888888,
              "#fdca26"
             ],
             [
              1,
              "#f0f921"
             ]
            ],
            "type": "heatmapgl"
           }
          ],
          "histogram": [
           {
            "marker": {
             "colorbar": {
              "outlinewidth": 0,
              "ticks": ""
             }
            },
            "type": "histogram"
           }
          ],
          "histogram2d": [
           {
            "colorbar": {
             "outlinewidth": 0,
             "ticks": ""
            },
            "colorscale": [
             [
              0,
              "#0d0887"
             ],
             [
              0.1111111111111111,
              "#46039f"
             ],
             [
              0.2222222222222222,
              "#7201a8"
             ],
             [
              0.3333333333333333,
              "#9c179e"
             ],
             [
              0.4444444444444444,
              "#bd3786"
             ],
             [
              0.5555555555555556,
              "#d8576b"
             ],
             [
              0.6666666666666666,
              "#ed7953"
             ],
             [
              0.7777777777777778,
              "#fb9f3a"
             ],
             [
              0.8888888888888888,
              "#fdca26"
             ],
             [
              1,
              "#f0f921"
             ]
            ],
            "type": "histogram2d"
           }
          ],
          "histogram2dcontour": [
           {
            "colorbar": {
             "outlinewidth": 0,
             "ticks": ""
            },
            "colorscale": [
             [
              0,
              "#0d0887"
             ],
             [
              0.1111111111111111,
              "#46039f"
             ],
             [
              0.2222222222222222,
              "#7201a8"
             ],
             [
              0.3333333333333333,
              "#9c179e"
             ],
             [
              0.4444444444444444,
              "#bd3786"
             ],
             [
              0.5555555555555556,
              "#d8576b"
             ],
             [
              0.6666666666666666,
              "#ed7953"
             ],
             [
              0.7777777777777778,
              "#fb9f3a"
             ],
             [
              0.8888888888888888,
              "#fdca26"
             ],
             [
              1,
              "#f0f921"
             ]
            ],
            "type": "histogram2dcontour"
           }
          ],
          "mesh3d": [
           {
            "colorbar": {
             "outlinewidth": 0,
             "ticks": ""
            },
            "type": "mesh3d"
           }
          ],
          "parcoords": [
           {
            "line": {
             "colorbar": {
              "outlinewidth": 0,
              "ticks": ""
             }
            },
            "type": "parcoords"
           }
          ],
          "pie": [
           {
            "automargin": true,
            "type": "pie"
           }
          ],
          "scatter": [
           {
            "marker": {
             "colorbar": {
              "outlinewidth": 0,
              "ticks": ""
             }
            },
            "type": "scatter"
           }
          ],
          "scatter3d": [
           {
            "line": {
             "colorbar": {
              "outlinewidth": 0,
              "ticks": ""
             }
            },
            "marker": {
             "colorbar": {
              "outlinewidth": 0,
              "ticks": ""
             }
            },
            "type": "scatter3d"
           }
          ],
          "scattercarpet": [
           {
            "marker": {
             "colorbar": {
              "outlinewidth": 0,
              "ticks": ""
             }
            },
            "type": "scattercarpet"
           }
          ],
          "scattergeo": [
           {
            "marker": {
             "colorbar": {
              "outlinewidth": 0,
              "ticks": ""
             }
            },
            "type": "scattergeo"
           }
          ],
          "scattergl": [
           {
            "marker": {
             "colorbar": {
              "outlinewidth": 0,
              "ticks": ""
             }
            },
            "type": "scattergl"
           }
          ],
          "scattermapbox": [
           {
            "marker": {
             "colorbar": {
              "outlinewidth": 0,
              "ticks": ""
             }
            },
            "type": "scattermapbox"
           }
          ],
          "scatterpolar": [
           {
            "marker": {
             "colorbar": {
              "outlinewidth": 0,
              "ticks": ""
             }
            },
            "type": "scatterpolar"
           }
          ],
          "scatterpolargl": [
           {
            "marker": {
             "colorbar": {
              "outlinewidth": 0,
              "ticks": ""
             }
            },
            "type": "scatterpolargl"
           }
          ],
          "scatterternary": [
           {
            "marker": {
             "colorbar": {
              "outlinewidth": 0,
              "ticks": ""
             }
            },
            "type": "scatterternary"
           }
          ],
          "surface": [
           {
            "colorbar": {
             "outlinewidth": 0,
             "ticks": ""
            },
            "colorscale": [
             [
              0,
              "#0d0887"
             ],
             [
              0.1111111111111111,
              "#46039f"
             ],
             [
              0.2222222222222222,
              "#7201a8"
             ],
             [
              0.3333333333333333,
              "#9c179e"
             ],
             [
              0.4444444444444444,
              "#bd3786"
             ],
             [
              0.5555555555555556,
              "#d8576b"
             ],
             [
              0.6666666666666666,
              "#ed7953"
             ],
             [
              0.7777777777777778,
              "#fb9f3a"
             ],
             [
              0.8888888888888888,
              "#fdca26"
             ],
             [
              1,
              "#f0f921"
             ]
            ],
            "type": "surface"
           }
          ],
          "table": [
           {
            "cells": {
             "fill": {
              "color": "#EBF0F8"
             },
             "line": {
              "color": "white"
             }
            },
            "header": {
             "fill": {
              "color": "#C8D4E3"
             },
             "line": {
              "color": "white"
             }
            },
            "type": "table"
           }
          ]
         },
         "layout": {
          "annotationdefaults": {
           "arrowcolor": "#2a3f5f",
           "arrowhead": 0,
           "arrowwidth": 1
          },
          "autotypenumbers": "strict",
          "coloraxis": {
           "colorbar": {
            "outlinewidth": 0,
            "ticks": ""
           }
          },
          "colorscale": {
           "diverging": [
            [
             0,
             "#8e0152"
            ],
            [
             0.1,
             "#c51b7d"
            ],
            [
             0.2,
             "#de77ae"
            ],
            [
             0.3,
             "#f1b6da"
            ],
            [
             0.4,
             "#fde0ef"
            ],
            [
             0.5,
             "#f7f7f7"
            ],
            [
             0.6,
             "#e6f5d0"
            ],
            [
             0.7,
             "#b8e186"
            ],
            [
             0.8,
             "#7fbc41"
            ],
            [
             0.9,
             "#4d9221"
            ],
            [
             1,
             "#276419"
            ]
           ],
           "sequential": [
            [
             0,
             "#0d0887"
            ],
            [
             0.1111111111111111,
             "#46039f"
            ],
            [
             0.2222222222222222,
             "#7201a8"
            ],
            [
             0.3333333333333333,
             "#9c179e"
            ],
            [
             0.4444444444444444,
             "#bd3786"
            ],
            [
             0.5555555555555556,
             "#d8576b"
            ],
            [
             0.6666666666666666,
             "#ed7953"
            ],
            [
             0.7777777777777778,
             "#fb9f3a"
            ],
            [
             0.8888888888888888,
             "#fdca26"
            ],
            [
             1,
             "#f0f921"
            ]
           ],
           "sequentialminus": [
            [
             0,
             "#0d0887"
            ],
            [
             0.1111111111111111,
             "#46039f"
            ],
            [
             0.2222222222222222,
             "#7201a8"
            ],
            [
             0.3333333333333333,
             "#9c179e"
            ],
            [
             0.4444444444444444,
             "#bd3786"
            ],
            [
             0.5555555555555556,
             "#d8576b"
            ],
            [
             0.6666666666666666,
             "#ed7953"
            ],
            [
             0.7777777777777778,
             "#fb9f3a"
            ],
            [
             0.8888888888888888,
             "#fdca26"
            ],
            [
             1,
             "#f0f921"
            ]
           ]
          },
          "colorway": [
           "#636efa",
           "#EF553B",
           "#00cc96",
           "#ab63fa",
           "#FFA15A",
           "#19d3f3",
           "#FF6692",
           "#B6E880",
           "#FF97FF",
           "#FECB52"
          ],
          "font": {
           "color": "#2a3f5f"
          },
          "geo": {
           "bgcolor": "white",
           "lakecolor": "white",
           "landcolor": "#E5ECF6",
           "showlakes": true,
           "showland": true,
           "subunitcolor": "white"
          },
          "hoverlabel": {
           "align": "left"
          },
          "hovermode": "closest",
          "mapbox": {
           "style": "light"
          },
          "paper_bgcolor": "white",
          "plot_bgcolor": "#E5ECF6",
          "polar": {
           "angularaxis": {
            "gridcolor": "white",
            "linecolor": "white",
            "ticks": ""
           },
           "bgcolor": "#E5ECF6",
           "radialaxis": {
            "gridcolor": "white",
            "linecolor": "white",
            "ticks": ""
           }
          },
          "scene": {
           "xaxis": {
            "backgroundcolor": "#E5ECF6",
            "gridcolor": "white",
            "gridwidth": 2,
            "linecolor": "white",
            "showbackground": true,
            "ticks": "",
            "zerolinecolor": "white"
           },
           "yaxis": {
            "backgroundcolor": "#E5ECF6",
            "gridcolor": "white",
            "gridwidth": 2,
            "linecolor": "white",
            "showbackground": true,
            "ticks": "",
            "zerolinecolor": "white"
           },
           "zaxis": {
            "backgroundcolor": "#E5ECF6",
            "gridcolor": "white",
            "gridwidth": 2,
            "linecolor": "white",
            "showbackground": true,
            "ticks": "",
            "zerolinecolor": "white"
           }
          },
          "shapedefaults": {
           "line": {
            "color": "#2a3f5f"
           }
          },
          "ternary": {
           "aaxis": {
            "gridcolor": "white",
            "linecolor": "white",
            "ticks": ""
           },
           "baxis": {
            "gridcolor": "white",
            "linecolor": "white",
            "ticks": ""
           },
           "bgcolor": "#E5ECF6",
           "caxis": {
            "gridcolor": "white",
            "linecolor": "white",
            "ticks": ""
           }
          },
          "title": {
           "x": 0.05
          },
          "xaxis": {
           "automargin": true,
           "gridcolor": "white",
           "linecolor": "white",
           "ticks": "",
           "title": {
            "standoff": 15
           },
           "zerolinecolor": "white",
           "zerolinewidth": 2
          },
          "yaxis": {
           "automargin": true,
           "gridcolor": "white",
           "linecolor": "white",
           "ticks": "",
           "title": {
            "standoff": 15
           },
           "zerolinecolor": "white",
           "zerolinewidth": 2
          }
         }
        },
        "title": "BioNTech Prices",
        "yaxis": {
         "title": {
          "text": "BNTX Stock"
         }
        }
       }
      },
      "text/html": [
       "<div\n",
       "    class=\"webio-mountpoint\"\n",
       "    data-webio-mountpoint=\"13230554480609553262\"\n",
       ">\n",
       "    <script>\n",
       "    (function(){\n",
       "    // Some integrations (namely, IJulia/Jupyter) use an alternate render pathway than\n",
       "    // just putting the html on the page. If WebIO isn't defined, then it's pretty likely\n",
       "    // that we're in one of those situations and the integration just isn't installed\n",
       "    // correctly.\n",
       "    if (typeof window.WebIO === \"undefined\") {\n",
       "        document\n",
       "            .querySelector('[data-webio-mountpoint=\"13230554480609553262\"]')\n",
       "            .innerHTML = (\n",
       "                '<div style=\"padding: 1em; background-color: #f8d6da; border: 1px solid #f5c6cb; font-weight: bold;\">' +\n",
       "                '<p><strong>WebIO not detected.</strong></p>' +\n",
       "                '<p>Please read ' +\n",
       "                '<a href=\"https://juliagizmos.github.io/WebIO.jl/latest/troubleshooting/not-detected/\" target=\"_blank\">the troubleshooting guide</a> ' +\n",
       "                'for more information on how to resolve this issue.</p>' +\n",
       "                '<p><a href=\"https://juliagizmos.github.io/WebIO.jl/latest/troubleshooting/not-detected/\" target=\"_blank\">https://juliagizmos.github.io/WebIO.jl/latest/troubleshooting/not-detected/</a></p>' +\n",
       "                '</div>'\n",
       "            );\n",
       "        return;\n",
       "    }\n",
       "    WebIO.mount(\n",
       "        document.querySelector('[data-webio-mountpoint=\"13230554480609553262\"]'),\n",
       "        {\"props\":{},\"nodeType\":\"Scope\",\"type\":\"node\",\"instanceArgs\":{\"imports\":{\"data\":[{\"name\":\"Plotly\",\"type\":\"js\",\"url\":\"\\/assetserver\\/c44b2cd04b3a3572f00c5d295ffe9c45b94a9a49-plotly.min.js\"},{\"name\":null,\"type\":\"js\",\"url\":\"\\/assetserver\\/5d2f409fc13299e6b724930d0745c21ad970d6a4-plotly_webio.bundle.js\"}],\"type\":\"async_block\"},\"id\":\"6588388129890348474\",\"handlers\":{\"_toImage\":[\"(function (options){return this.Plotly.toImage(this.plotElem,options).then((function (data){return WebIO.setval({\\\"name\\\":\\\"image\\\",\\\"scope\\\":\\\"6588388129890348474\\\",\\\"id\\\":\\\"12884104001628208382\\\",\\\"type\\\":\\\"observable\\\"},data)}))})\"],\"__get_gd_contents\":[\"(function (prop){prop==\\\"data\\\" ? (WebIO.setval({\\\"name\\\":\\\"__gd_contents\\\",\\\"scope\\\":\\\"6588388129890348474\\\",\\\"id\\\":\\\"1691545550913347580\\\",\\\"type\\\":\\\"observable\\\"},this.plotElem.data)) : undefined; return prop==\\\"layout\\\" ? (WebIO.setval({\\\"name\\\":\\\"__gd_contents\\\",\\\"scope\\\":\\\"6588388129890348474\\\",\\\"id\\\":\\\"1691545550913347580\\\",\\\"type\\\":\\\"observable\\\"},this.plotElem.layout)) : undefined})\"],\"_downloadImage\":[\"(function (options){return this.Plotly.downloadImage(this.plotElem,options)})\"],\"_commands\":[\"(function (args){var fn=args.shift(); var elem=this.plotElem; var Plotly=this.Plotly; args.unshift(elem); return Plotly[fn].apply(this,args)})\"]},\"systemjs_options\":null,\"mount_callbacks\":[\"function () {\\n    var handler = ((function (Plotly,PlotlyWebIO){PlotlyWebIO.init(WebIO); var gd=this.dom.querySelector(\\\"#plot-6a19bafe-35dd-41a1-adfe-72cbd50ee133\\\"); this.plotElem=gd; this.Plotly=Plotly; (window.Blink!==undefined) ? (gd.style.width=\\\"100%\\\", gd.style.height=\\\"100vh\\\", gd.style.marginLeft=\\\"0%\\\", gd.style.marginTop=\\\"0vh\\\") : undefined; window.onresize=(function (){return Plotly.Plots.resize(gd)}); Plotly.newPlot(gd,[{\\\"x\\\":[\\\"2021-09-13\\\",\\\"2021-09-14\\\",\\\"2021-09-15\\\",\\\"2021-09-16\\\",\\\"2021-09-17\\\",\\\"2021-09-20\\\",\\\"2021-09-21\\\",\\\"2021-09-22\\\",\\\"2021-09-23\\\",\\\"2021-09-24\\\",\\\"2021-09-27\\\",\\\"2021-09-28\\\",\\\"2021-09-29\\\",\\\"2021-09-30\\\",\\\"2021-10-01\\\",\\\"2021-10-04\\\",\\\"2021-10-05\\\",\\\"2021-10-06\\\",\\\"2021-10-07\\\",\\\"2021-10-08\\\",\\\"2021-10-11\\\",\\\"2021-10-12\\\",\\\"2021-10-13\\\",\\\"2021-10-14\\\",\\\"2021-10-15\\\",\\\"2021-10-18\\\",\\\"2021-10-19\\\",\\\"2021-10-20\\\",\\\"2021-10-21\\\",\\\"2021-10-22\\\",\\\"2021-10-25\\\",\\\"2021-10-26\\\",\\\"2021-10-27\\\",\\\"2021-10-28\\\",\\\"2021-10-29\\\",\\\"2021-11-01\\\",\\\"2021-11-02\\\",\\\"2021-11-03\\\",\\\"2021-11-04\\\",\\\"2021-11-05\\\",\\\"2021-11-08\\\",\\\"2021-11-09\\\",\\\"2021-11-10\\\",\\\"2021-11-11\\\",\\\"2021-11-12\\\",\\\"2021-11-15\\\",\\\"2021-11-16\\\",\\\"2021-11-17\\\",\\\"2021-11-18\\\",\\\"2021-11-19\\\",\\\"2021-11-22\\\",\\\"2021-11-23\\\",\\\"2021-11-24\\\",\\\"2021-11-26\\\",\\\"2021-11-29\\\",\\\"2021-11-30\\\",\\\"2021-12-01\\\",\\\"2021-12-02\\\",\\\"2021-12-03\\\",\\\"2021-12-06\\\",\\\"2021-12-07\\\",\\\"2021-12-08\\\",\\\"2021-12-09\\\",\\\"2021-12-10\\\",\\\"2021-12-13\\\",\\\"2021-12-14\\\",\\\"2021-12-15\\\",\\\"2021-12-16\\\",\\\"2021-12-17\\\",\\\"2021-12-20\\\",\\\"2021-12-21\\\",\\\"2021-12-22\\\",\\\"2021-12-23\\\",\\\"2021-12-27\\\",\\\"2021-12-28\\\",\\\"2021-12-29\\\",\\\"2021-12-30\\\",\\\"2021-12-31\\\",\\\"2022-01-03\\\",\\\"2022-01-04\\\",\\\"2022-01-05\\\",\\\"2022-01-06\\\",\\\"2022-01-07\\\",\\\"2022-01-10\\\",\\\"2022-01-11\\\",\\\"2022-01-12\\\",\\\"2022-01-13\\\",\\\"2022-01-14\\\",\\\"2022-01-18\\\",\\\"2022-01-19\\\",\\\"2022-01-20\\\",\\\"2022-01-21\\\",\\\"2022-01-24\\\",\\\"2022-01-25\\\",\\\"2022-01-26\\\",\\\"2022-01-27\\\",\\\"2022-01-28\\\",\\\"2022-01-31\\\",\\\"2022-02-01\\\",\\\"2022-02-02\\\",\\\"2022-02-03\\\",\\\"2022-02-04\\\",\\\"2022-02-07\\\",\\\"2022-02-08\\\",\\\"2022-02-09\\\",\\\"2022-02-10\\\",\\\"2022-02-11\\\",\\\"2022-02-14\\\",\\\"2022-02-15\\\",\\\"2022-02-16\\\",\\\"2022-02-17\\\",\\\"2022-02-18\\\",\\\"2022-02-22\\\",\\\"2022-02-23\\\",\\\"2022-02-24\\\",\\\"2022-02-25\\\",\\\"2022-02-28\\\",\\\"2022-03-01\\\",\\\"2022-03-02\\\",\\\"2022-03-03\\\",\\\"2022-03-04\\\",\\\"2022-03-07\\\",\\\"2022-03-08\\\",\\\"2022-03-09\\\",\\\"2022-03-10\\\",\\\"2022-03-11\\\",\\\"2022-03-11\\\"],\\\"high\\\":[351.910004,345.920013,357.76001,374.850006,370.799988,353.640015,349.929993,344.570007,360.0,350.920013,338.5,296.899994,292.809998,282.5,259.23999,252.369995,258.0,248.539993,252.589996,257.899994,251.050003,248.419998,250.979996,257.339996,252.800003,261.130005,282.0,273.970001,286.799011,295.815002,295.51001,304.350006,297.950012,288.709991,284.850006,282.899994,290.790009,296.950012,286.0,246.0,243.080002,253.0,244.740005,239.789993,238.330002,250.880005,262.380005,272.148987,281.049988,290.01001,322.200012,311.609985,306.820007,372.48999,374.579987,359.269989,346.799988,335.0,346.190002,321.859985,302.690002,312.959991,299.0,271.559998,287.0,277.899994,289.700012,289.320007,287.933014,302.339996,281.980011,274.549011,259.519989,259.899994,256.484985,244.300003,258.820007,263.950012,256.140015,233.520004,230.589996,217.496994,217.729996,230.350006,224.229996,221.574997,220.199997,206.240005,183.270004,175.720001,166.789993,154.869995,151.990005,166.5,167.679993,164.470001,162.229996,172.690002,183.610001,184.130005,179.126999,177.360001,176.875,165.809006,173.869995,175.869995,174.199997,165.820007,164.770004,168.279999,167.0,159.339996,153.970001,152.440002,154.429993,158.690002,152.449997,153.960007,148.029999,147.660004,139.524994,136.610001,133.669998,144.128006,139.679993,145.25,145.25],\\\"type\\\":\\\"candlestick\\\",\\\"open\\\":[348.19101,326.170013,338.109985,350.390015,370.73999,341.204987,344.769989,342.803009,343.0,350.0,335.360992,293.700012,287.0,278.140015,251.0,234.929993,253.951996,246.960007,235.800003,252.029999,244.0,247.729996,247.070007,253.130005,252.800003,245.339996,273.0,268.730011,276.600006,294.779999,278.677002,295.51001,294.540009,282.5,283.75,282.0,282.079987,293.529999,283.779999,240.470001,232.179993,251.660004,233.160004,237.440002,233.5,241.720001,247.039993,263.640015,277.276001,277.679993,298.0,308.200012,295.0,337.429993,369.5,335.596985,335.649994,311.0,338.0,317.570007,287.720001,308.649994,298.059998,268.720001,267.141998,272.0,271.779999,288.27301,279.600006,299.410004,275.399994,273.450012,258.329987,253.240005,250.350006,235.119995,239.020004,253.559998,253.869995,231.809998,230.470001,214.479996,213.699997,204.449997,222.929993,216.779999,217.089996,195.559998,183.270004,171.639999,166.410004,153.850006,141.990005,157.485001,163.529999,161.929993,154.0,166.0,182.179993,181.0,172.348999,175.770004,175.589996,162.350006,162.899994,165.039993,167.929993,163.669998,155.850006,161.929993,163.425995,156.949997,149.490005,152.330002,140.149994,157.110001,147.050003,150.270004,145.0,147.559998,137.089996,133.179993,123.900002,135.320007,139.419998,143.25,143.25],\\\"low\\\":[322.470001,326.029999,337.5,345.0,344.809998,333.359985,337.040009,336.690002,341.440002,332.399994,305.51001,275.0,275.579987,268.829987,230.029999,233.5,248.919998,233.75,232.059998,243.199997,240.970001,240.130005,244.5,249.0,245.279999,245.029999,262.0,265.0,275.029999,268.049988,278.677002,290.630005,277.839996,277.100006,273.0,269.234985,276.369995,282.779999,263.630005,207.509995,228.619995,223.570007,229.649994,228.473999,231.729996,239.470001,244.059998,259.600006,265.559998,275.181,292.450012,291.589996,291.850006,335.035004,346.910004,327.130005,330.660004,307.059998,328.019989,276.450012,284.540009,287.230011,283.339996,252.889999,264.200012,261.01001,271.51001,277.0,271.679993,275.0,266.600006,255.509995,250.050003,250.229996,238.270004,231.729996,238.0,251.369995,231.5,220.0,211.029999,198.0,209.270004,201.550003,213.020004,213.740005,202.860001,194.610001,168.070007,160.600006,155.729996,145.809998,135.130005,152.557999,159.100006,152.779999,150.589996,162.509995,174.160004,175.220001,171.257004,172.291,171.100006,156.240005,160.910004,163.880005,167.779999,153.759995,155.699997,158.100006,157.089996,151.600006,146.850006,140.970001,138.565994,149.630005,146.580002,146.130005,140.479996,139.800003,134.520004,124.470001,121.32,134.100006,134.550003,135.610001,135.610001],\\\"close\\\":[327.140015,334.880005,355.25,372.649994,359.179993,339.01001,341.350006,339.26001,352.98999,333.480011,307.089996,276.519989,277.440002,272.98999,254.789993,248.899994,250.119995,236.139999,246.570007,245.949997,243.020004,243.770004,249.399994,250.330002,247.679993,261.089996,262.850006,269.420013,286.359985,278.339996,294.920013,292.390015,278.769989,283.980011,278.730011,274.320007,289.480011,295.410004,273.940002,216.639999,242.600006,226.369995,235.399994,235.889999,238.139999,250.479996,258.049988,272.0,274.059998,289.75,321.709991,308.839996,304.76001,348.0,362.519989,351.73999,334.480011,333.48999,344.059998,279.829987,302.690002,291.940002,284.209991,257.679993,278.220001,276.769989,287.049988,283.679993,287.279999,275.230011,271.459991,259.700012,255.289993,254.839996,241.399994,240.610001,256.809998,257.799988,231.850006,224.089996,211.429993,214.740005,211.839996,230.0,215.800003,220.869995,202.990005,196.0,169.229996,161.660004,156.529999,147.5,150.979996,156.490005,160.699997,154.539993,162.220001,172.080002,179.600006,180.149994,175.020004,176.570007,172.809998,159.600006,173.330002,167.539993,170.949997,154.529999,163.440002,165.490005,157.360001,156.940002,149.889999,141.160004,154.059998,150.619995,150.809998,146.729996,146.949997,142.259995,136.259995,126.25,128.160004,140.210007,137.270004,135.639999,135.639999]}],{\\\"template\\\":{\\\"layout\\\":{\\\"coloraxis\\\":{\\\"colorbar\\\":{\\\"ticks\\\":\\\"\\\",\\\"outlinewidth\\\":0}},\\\"xaxis\\\":{\\\"gridcolor\\\":\\\"white\\\",\\\"zerolinewidth\\\":2,\\\"title\\\":{\\\"standoff\\\":15},\\\"ticks\\\":\\\"\\\",\\\"zerolinecolor\\\":\\\"white\\\",\\\"automargin\\\":true,\\\"linecolor\\\":\\\"white\\\"},\\\"hovermode\\\":\\\"closest\\\",\\\"paper_bgcolor\\\":\\\"white\\\",\\\"geo\\\":{\\\"showlakes\\\":true,\\\"showland\\\":true,\\\"landcolor\\\":\\\"#E5ECF6\\\",\\\"bgcolor\\\":\\\"white\\\",\\\"subunitcolor\\\":\\\"white\\\",\\\"lakecolor\\\":\\\"white\\\"},\\\"colorscale\\\":{\\\"sequential\\\":[[0.0,\\\"#0d0887\\\"],[0.1111111111111111,\\\"#46039f\\\"],[0.2222222222222222,\\\"#7201a8\\\"],[0.3333333333333333,\\\"#9c179e\\\"],[0.4444444444444444,\\\"#bd3786\\\"],[0.5555555555555556,\\\"#d8576b\\\"],[0.6666666666666666,\\\"#ed7953\\\"],[0.7777777777777778,\\\"#fb9f3a\\\"],[0.8888888888888888,\\\"#fdca26\\\"],[1.0,\\\"#f0f921\\\"]],\\\"diverging\\\":[[0,\\\"#8e0152\\\"],[0.1,\\\"#c51b7d\\\"],[0.2,\\\"#de77ae\\\"],[0.3,\\\"#f1b6da\\\"],[0.4,\\\"#fde0ef\\\"],[0.5,\\\"#f7f7f7\\\"],[0.6,\\\"#e6f5d0\\\"],[0.7,\\\"#b8e186\\\"],[0.8,\\\"#7fbc41\\\"],[0.9,\\\"#4d9221\\\"],[1,\\\"#276419\\\"]],\\\"sequentialminus\\\":[[0.0,\\\"#0d0887\\\"],[0.1111111111111111,\\\"#46039f\\\"],[0.2222222222222222,\\\"#7201a8\\\"],[0.3333333333333333,\\\"#9c179e\\\"],[0.4444444444444444,\\\"#bd3786\\\"],[0.5555555555555556,\\\"#d8576b\\\"],[0.6666666666666666,\\\"#ed7953\\\"],[0.7777777777777778,\\\"#fb9f3a\\\"],[0.8888888888888888,\\\"#fdca26\\\"],[1.0,\\\"#f0f921\\\"]]},\\\"yaxis\\\":{\\\"gridcolor\\\":\\\"white\\\",\\\"zerolinewidth\\\":2,\\\"title\\\":{\\\"standoff\\\":15},\\\"ticks\\\":\\\"\\\",\\\"zerolinecolor\\\":\\\"white\\\",\\\"automargin\\\":true,\\\"linecolor\\\":\\\"white\\\"},\\\"shapedefaults\\\":{\\\"line\\\":{\\\"color\\\":\\\"#2a3f5f\\\"}},\\\"hoverlabel\\\":{\\\"align\\\":\\\"left\\\"},\\\"mapbox\\\":{\\\"style\\\":\\\"light\\\"},\\\"polar\\\":{\\\"angularaxis\\\":{\\\"gridcolor\\\":\\\"white\\\",\\\"ticks\\\":\\\"\\\",\\\"linecolor\\\":\\\"white\\\"},\\\"bgcolor\\\":\\\"#E5ECF6\\\",\\\"radialaxis\\\":{\\\"gridcolor\\\":\\\"white\\\",\\\"ticks\\\":\\\"\\\",\\\"linecolor\\\":\\\"white\\\"}},\\\"autotypenumbers\\\":\\\"strict\\\",\\\"font\\\":{\\\"color\\\":\\\"#2a3f5f\\\"},\\\"ternary\\\":{\\\"baxis\\\":{\\\"gridcolor\\\":\\\"white\\\",\\\"ticks\\\":\\\"\\\",\\\"linecolor\\\":\\\"white\\\"},\\\"bgcolor\\\":\\\"#E5ECF6\\\",\\\"caxis\\\":{\\\"gridcolor\\\":\\\"white\\\",\\\"ticks\\\":\\\"\\\",\\\"linecolor\\\":\\\"white\\\"},\\\"aaxis\\\":{\\\"gridcolor\\\":\\\"white\\\",\\\"ticks\\\":\\\"\\\",\\\"linecolor\\\":\\\"white\\\"}},\\\"annotationdefaults\\\":{\\\"arrowhead\\\":0,\\\"arrowwidth\\\":1,\\\"arrowcolor\\\":\\\"#2a3f5f\\\"},\\\"plot_bgcolor\\\":\\\"#E5ECF6\\\",\\\"title\\\":{\\\"x\\\":0.05},\\\"scene\\\":{\\\"xaxis\\\":{\\\"gridcolor\\\":\\\"white\\\",\\\"gridwidth\\\":2,\\\"backgroundcolor\\\":\\\"#E5ECF6\\\",\\\"ticks\\\":\\\"\\\",\\\"showbackground\\\":true,\\\"zerolinecolor\\\":\\\"white\\\",\\\"linecolor\\\":\\\"white\\\"},\\\"zaxis\\\":{\\\"gridcolor\\\":\\\"white\\\",\\\"gridwidth\\\":2,\\\"backgroundcolor\\\":\\\"#E5ECF6\\\",\\\"ticks\\\":\\\"\\\",\\\"showbackground\\\":true,\\\"zerolinecolor\\\":\\\"white\\\",\\\"linecolor\\\":\\\"white\\\"},\\\"yaxis\\\":{\\\"gridcolor\\\":\\\"white\\\",\\\"gridwidth\\\":2,\\\"backgroundcolor\\\":\\\"#E5ECF6\\\",\\\"ticks\\\":\\\"\\\",\\\"showbackground\\\":true,\\\"zerolinecolor\\\":\\\"white\\\",\\\"linecolor\\\":\\\"white\\\"}},\\\"colorway\\\":[\\\"#636efa\\\",\\\"#EF553B\\\",\\\"#00cc96\\\",\\\"#ab63fa\\\",\\\"#FFA15A\\\",\\\"#19d3f3\\\",\\\"#FF6692\\\",\\\"#B6E880\\\",\\\"#FF97FF\\\",\\\"#FECB52\\\"]},\\\"data\\\":{\\\"barpolar\\\":[{\\\"type\\\":\\\"barpolar\\\",\\\"marker\\\":{\\\"line\\\":{\\\"color\\\":\\\"#E5ECF6\\\",\\\"width\\\":0.5}}}],\\\"carpet\\\":[{\\\"aaxis\\\":{\\\"gridcolor\\\":\\\"white\\\",\\\"endlinecolor\\\":\\\"#2a3f5f\\\",\\\"minorgridcolor\\\":\\\"white\\\",\\\"startlinecolor\\\":\\\"#2a3f5f\\\",\\\"linecolor\\\":\\\"white\\\"},\\\"type\\\":\\\"carpet\\\",\\\"baxis\\\":{\\\"gridcolor\\\":\\\"white\\\",\\\"endlinecolor\\\":\\\"#2a3f5f\\\",\\\"minorgridcolor\\\":\\\"white\\\",\\\"startlinecolor\\\":\\\"#2a3f5f\\\",\\\"linecolor\\\":\\\"white\\\"}}],\\\"scatterpolar\\\":[{\\\"type\\\":\\\"scatterpolar\\\",\\\"marker\\\":{\\\"colorbar\\\":{\\\"ticks\\\":\\\"\\\",\\\"outlinewidth\\\":0}}}],\\\"parcoords\\\":[{\\\"line\\\":{\\\"colorbar\\\":{\\\"ticks\\\":\\\"\\\",\\\"outlinewidth\\\":0}},\\\"type\\\":\\\"parcoords\\\"}],\\\"scatter\\\":[{\\\"type\\\":\\\"scatter\\\",\\\"marker\\\":{\\\"colorbar\\\":{\\\"ticks\\\":\\\"\\\",\\\"outlinewidth\\\":0}}}],\\\"histogram2dcontour\\\":[{\\\"colorbar\\\":{\\\"ticks\\\":\\\"\\\",\\\"outlinewidth\\\":0},\\\"type\\\":\\\"histogram2dcontour\\\",\\\"colorscale\\\":[[0.0,\\\"#0d0887\\\"],[0.1111111111111111,\\\"#46039f\\\"],[0.2222222222222222,\\\"#7201a8\\\"],[0.3333333333333333,\\\"#9c179e\\\"],[0.4444444444444444,\\\"#bd3786\\\"],[0.5555555555555556,\\\"#d8576b\\\"],[0.6666666666666666,\\\"#ed7953\\\"],[0.7777777777777778,\\\"#fb9f3a\\\"],[0.8888888888888888,\\\"#fdca26\\\"],[1.0,\\\"#f0f921\\\"]]}],\\\"contour\\\":[{\\\"colorbar\\\":{\\\"ticks\\\":\\\"\\\",\\\"outlinewidth\\\":0},\\\"type\\\":\\\"contour\\\",\\\"colorscale\\\":[[0.0,\\\"#0d0887\\\"],[0.1111111111111111,\\\"#46039f\\\"],[0.2222222222222222,\\\"#7201a8\\\"],[0.3333333333333333,\\\"#9c179e\\\"],[0.4444444444444444,\\\"#bd3786\\\"],[0.5555555555555556,\\\"#d8576b\\\"],[0.6666666666666666,\\\"#ed7953\\\"],[0.7777777777777778,\\\"#fb9f3a\\\"],[0.8888888888888888,\\\"#fdca26\\\"],[1.0,\\\"#f0f921\\\"]]}],\\\"scattercarpet\\\":[{\\\"type\\\":\\\"scattercarpet\\\",\\\"marker\\\":{\\\"colorbar\\\":{\\\"ticks\\\":\\\"\\\",\\\"outlinewidth\\\":0}}}],\\\"mesh3d\\\":[{\\\"colorbar\\\":{\\\"ticks\\\":\\\"\\\",\\\"outlinewidth\\\":0},\\\"type\\\":\\\"mesh3d\\\"}],\\\"surface\\\":[{\\\"colorbar\\\":{\\\"ticks\\\":\\\"\\\",\\\"outlinewidth\\\":0},\\\"type\\\":\\\"surface\\\",\\\"colorscale\\\":[[0.0,\\\"#0d0887\\\"],[0.1111111111111111,\\\"#46039f\\\"],[0.2222222222222222,\\\"#7201a8\\\"],[0.3333333333333333,\\\"#9c179e\\\"],[0.4444444444444444,\\\"#bd3786\\\"],[0.5555555555555556,\\\"#d8576b\\\"],[0.6666666666666666,\\\"#ed7953\\\"],[0.7777777777777778,\\\"#fb9f3a\\\"],[0.8888888888888888,\\\"#fdca26\\\"],[1.0,\\\"#f0f921\\\"]]}],\\\"scattermapbox\\\":[{\\\"type\\\":\\\"scattermapbox\\\",\\\"marker\\\":{\\\"colorbar\\\":{\\\"ticks\\\":\\\"\\\",\\\"outlinewidth\\\":0}}}],\\\"scattergeo\\\":[{\\\"type\\\":\\\"scattergeo\\\",\\\"marker\\\":{\\\"colorbar\\\":{\\\"ticks\\\":\\\"\\\",\\\"outlinewidth\\\":0}}}],\\\"histogram\\\":[{\\\"type\\\":\\\"histogram\\\",\\\"marker\\\":{\\\"colorbar\\\":{\\\"ticks\\\":\\\"\\\",\\\"outlinewidth\\\":0}}}],\\\"pie\\\":[{\\\"type\\\":\\\"pie\\\",\\\"automargin\\\":true}],\\\"choropleth\\\":[{\\\"colorbar\\\":{\\\"ticks\\\":\\\"\\\",\\\"outlinewidth\\\":0},\\\"type\\\":\\\"choropleth\\\"}],\\\"heatmapgl\\\":[{\\\"colorbar\\\":{\\\"ticks\\\":\\\"\\\",\\\"outlinewidth\\\":0},\\\"type\\\":\\\"heatmapgl\\\",\\\"colorscale\\\":[[0.0,\\\"#0d0887\\\"],[0.1111111111111111,\\\"#46039f\\\"],[0.2222222222222222,\\\"#7201a8\\\"],[0.3333333333333333,\\\"#9c179e\\\"],[0.4444444444444444,\\\"#bd3786\\\"],[0.5555555555555556,\\\"#d8576b\\\"],[0.6666666666666666,\\\"#ed7953\\\"],[0.7777777777777778,\\\"#fb9f3a\\\"],[0.8888888888888888,\\\"#fdca26\\\"],[1.0,\\\"#f0f921\\\"]]}],\\\"bar\\\":[{\\\"type\\\":\\\"bar\\\",\\\"error_y\\\":{\\\"color\\\":\\\"#2a3f5f\\\"},\\\"error_x\\\":{\\\"color\\\":\\\"#2a3f5f\\\"},\\\"marker\\\":{\\\"line\\\":{\\\"color\\\":\\\"#E5ECF6\\\",\\\"width\\\":0.5}}}],\\\"heatmap\\\":[{\\\"colorbar\\\":{\\\"ticks\\\":\\\"\\\",\\\"outlinewidth\\\":0},\\\"type\\\":\\\"heatmap\\\",\\\"colorscale\\\":[[0.0,\\\"#0d0887\\\"],[0.1111111111111111,\\\"#46039f\\\"],[0.2222222222222222,\\\"#7201a8\\\"],[0.3333333333333333,\\\"#9c179e\\\"],[0.4444444444444444,\\\"#bd3786\\\"],[0.5555555555555556,\\\"#d8576b\\\"],[0.6666666666666666,\\\"#ed7953\\\"],[0.7777777777777778,\\\"#fb9f3a\\\"],[0.8888888888888888,\\\"#fdca26\\\"],[1.0,\\\"#f0f921\\\"]]}],\\\"contourcarpet\\\":[{\\\"colorbar\\\":{\\\"ticks\\\":\\\"\\\",\\\"outlinewidth\\\":0},\\\"type\\\":\\\"contourcarpet\\\"}],\\\"table\\\":[{\\\"type\\\":\\\"table\\\",\\\"header\\\":{\\\"line\\\":{\\\"color\\\":\\\"white\\\"},\\\"fill\\\":{\\\"color\\\":\\\"#C8D4E3\\\"}},\\\"cells\\\":{\\\"line\\\":{\\\"color\\\":\\\"white\\\"},\\\"fill\\\":{\\\"color\\\":\\\"#EBF0F8\\\"}}}],\\\"scatter3d\\\":[{\\\"line\\\":{\\\"colorbar\\\":{\\\"ticks\\\":\\\"\\\",\\\"outlinewidth\\\":0}},\\\"type\\\":\\\"scatter3d\\\",\\\"marker\\\":{\\\"colorbar\\\":{\\\"ticks\\\":\\\"\\\",\\\"outlinewidth\\\":0}}}],\\\"scattergl\\\":[{\\\"type\\\":\\\"scattergl\\\",\\\"marker\\\":{\\\"colorbar\\\":{\\\"ticks\\\":\\\"\\\",\\\"outlinewidth\\\":0}}}],\\\"histogram2d\\\":[{\\\"colorbar\\\":{\\\"ticks\\\":\\\"\\\",\\\"outlinewidth\\\":0},\\\"type\\\":\\\"histogram2d\\\",\\\"colorscale\\\":[[0.0,\\\"#0d0887\\\"],[0.1111111111111111,\\\"#46039f\\\"],[0.2222222222222222,\\\"#7201a8\\\"],[0.3333333333333333,\\\"#9c179e\\\"],[0.4444444444444444,\\\"#bd3786\\\"],[0.5555555555555556,\\\"#d8576b\\\"],[0.6666666666666666,\\\"#ed7953\\\"],[0.7777777777777778,\\\"#fb9f3a\\\"],[0.8888888888888888,\\\"#fdca26\\\"],[1.0,\\\"#f0f921\\\"]]}],\\\"scatterternary\\\":[{\\\"type\\\":\\\"scatterternary\\\",\\\"marker\\\":{\\\"colorbar\\\":{\\\"ticks\\\":\\\"\\\",\\\"outlinewidth\\\":0}}}],\\\"scatterpolargl\\\":[{\\\"type\\\":\\\"scatterpolargl\\\",\\\"marker\\\":{\\\"colorbar\\\":{\\\"ticks\\\":\\\"\\\",\\\"outlinewidth\\\":0}}}]}},\\\"margin\\\":{\\\"l\\\":50,\\\"b\\\":50,\\\"r\\\":50,\\\"t\\\":60},\\\"title\\\":\\\"BioNTech Prices\\\",\\\"yaxis\\\":{\\\"title\\\":{\\\"text\\\":\\\"BNTX Stock\\\"}}},{\\\"showLink\\\":false,\\\"editable\\\":false,\\\"responsive\\\":true,\\\"staticPlot\\\":false,\\\"scrollZoom\\\":true}); gd.on(\\\"plotly_hover\\\",(function (data){var filtered_data=WebIO.PlotlyCommands.filterEventData(gd,data,\\\"hover\\\"); return !(filtered_data.isnil) ? (WebIO.setval({\\\"name\\\":\\\"hover\\\",\\\"scope\\\":\\\"6588388129890348474\\\",\\\"id\\\":\\\"10786671380373304044\\\",\\\"type\\\":\\\"observable\\\"},filtered_data.out)) : undefined})); gd.on(\\\"plotly_unhover\\\",(function (){return WebIO.setval({\\\"name\\\":\\\"hover\\\",\\\"scope\\\":\\\"6588388129890348474\\\",\\\"id\\\":\\\"10786671380373304044\\\",\\\"type\\\":\\\"observable\\\"},{})})); gd.on(\\\"plotly_selected\\\",(function (data){var filtered_data=WebIO.PlotlyCommands.filterEventData(gd,data,\\\"selected\\\"); return !(filtered_data.isnil) ? (WebIO.setval({\\\"name\\\":\\\"selected\\\",\\\"scope\\\":\\\"6588388129890348474\\\",\\\"id\\\":\\\"11013428521083152910\\\",\\\"type\\\":\\\"observable\\\"},filtered_data.out)) : undefined})); gd.on(\\\"plotly_deselect\\\",(function (){return WebIO.setval({\\\"name\\\":\\\"selected\\\",\\\"scope\\\":\\\"6588388129890348474\\\",\\\"id\\\":\\\"11013428521083152910\\\",\\\"type\\\":\\\"observable\\\"},{})})); gd.on(\\\"plotly_relayout\\\",(function (data){var filtered_data=WebIO.PlotlyCommands.filterEventData(gd,data,\\\"relayout\\\"); return !(filtered_data.isnil) ? (WebIO.setval({\\\"name\\\":\\\"relayout\\\",\\\"scope\\\":\\\"6588388129890348474\\\",\\\"id\\\":\\\"8929801024235636932\\\",\\\"type\\\":\\\"observable\\\"},filtered_data.out)) : undefined})); return gd.on(\\\"plotly_click\\\",(function (data){var filtered_data=WebIO.PlotlyCommands.filterEventData(gd,data,\\\"click\\\"); return !(filtered_data.isnil) ? (WebIO.setval({\\\"name\\\":\\\"click\\\",\\\"scope\\\":\\\"6588388129890348474\\\",\\\"id\\\":\\\"5477012762526122674\\\",\\\"type\\\":\\\"observable\\\"},filtered_data.out)) : undefined}))}));\\n    (WebIO.importBlock({\\\"data\\\":[{\\\"name\\\":\\\"Plotly\\\",\\\"type\\\":\\\"js\\\",\\\"url\\\":\\\"\\/assetserver\\/c44b2cd04b3a3572f00c5d295ffe9c45b94a9a49-plotly.min.js\\\"},{\\\"name\\\":null,\\\"type\\\":\\\"js\\\",\\\"url\\\":\\\"\\/assetserver\\/5d2f409fc13299e6b724930d0745c21ad970d6a4-plotly_webio.bundle.js\\\"}],\\\"type\\\":\\\"async_block\\\"})).then((imports) => handler.apply(this, imports));\\n}\\n\"],\"observables\":{\"_toImage\":{\"sync\":false,\"id\":\"8212866552217064963\",\"value\":{}},\"hover\":{\"sync\":false,\"id\":\"10786671380373304044\",\"value\":{}},\"selected\":{\"sync\":false,\"id\":\"11013428521083152910\",\"value\":{}},\"__gd_contents\":{\"sync\":false,\"id\":\"1691545550913347580\",\"value\":{}},\"click\":{\"sync\":false,\"id\":\"5477012762526122674\",\"value\":{}},\"image\":{\"sync\":true,\"id\":\"12884104001628208382\",\"value\":\"\"},\"__get_gd_contents\":{\"sync\":false,\"id\":\"11757329967484420483\",\"value\":\"\"},\"_downloadImage\":{\"sync\":false,\"id\":\"11349570861748548969\",\"value\":{}},\"relayout\":{\"sync\":false,\"id\":\"8929801024235636932\",\"value\":{}},\"_commands\":{\"sync\":false,\"id\":\"17800253856604508967\",\"value\":[]}}},\"children\":[{\"props\":{\"id\":\"plot-6a19bafe-35dd-41a1-adfe-72cbd50ee133\"},\"nodeType\":\"DOM\",\"type\":\"node\",\"instanceArgs\":{\"namespace\":\"html\",\"tag\":\"div\"},\"children\":[]}]},\n",
       "        window,\n",
       "    );\n",
       "    })()\n",
       "    </script>\n",
       "</div>\n"
      ],
      "text/plain": [
       "data: [\n",
       "  \"candlestick with fields close, high, low, open, type, and x\"\n",
       "]\n",
       "\n",
       "layout: \"layout with fields margin, template, title, and yaxis\"\n",
       "\n"
      ]
     },
     "execution_count": 36,
     "metadata": {},
     "output_type": "execute_result"
    }
   ],
   "source": [
    "p = PlotlyJS.plot(candlestick(\n",
    "        x    =BNTX_6MONTHS[!, \"Date\" ],\n",
    "        open =BNTX_6MONTHS[!, \"Open\" ],\n",
    "        high =BNTX_6MONTHS[!, \"High\" ],\n",
    "        low  =BNTX_6MONTHS[!, \"Low\"  ],\n",
    "        close=BNTX_6MONTHS[!, \"Close\"] ),\n",
    "    Layout(title=\"BioNTech Prices\",\n",
    "           yaxis_title=\"BNTX Stock\")\n",
    "    )"
   ]
  },
  {
   "cell_type": "code",
   "execution_count": 37,
   "id": "70d30d28",
   "metadata": {},
   "outputs": [
    {
     "data": {
      "text/plain": [
       "\"figures/BNTX_6MONTHS.html\""
      ]
     },
     "execution_count": 37,
     "metadata": {},
     "output_type": "execute_result"
    }
   ],
   "source": [
    "PlotlyJS.savefig(p, \"figures/BNTX_6MONTHS.html\")"
   ]
  },
  {
   "cell_type": "code",
   "execution_count": 38,
   "id": "7ce83397",
   "metadata": {
    "scrolled": true
   },
   "outputs": [
    {
     "data": {
      "text/html": [
       "<div class=\"data-frame\"><p>61 rows × 9 columns (omitted printing of 1 columns)</p><table class=\"data-frame\"><thead><tr><th></th><th>Date</th><th>Open</th><th>High</th><th>Low</th><th>Close</th><th>Adj Close</th><th>Volume</th><th>Return</th></tr><tr><th></th><th title=\"Dates.Date\">Date</th><th title=\"Float64\">Float64</th><th title=\"Float64\">Float64</th><th title=\"Float64\">Float64</th><th title=\"Float64\">Float64</th><th title=\"Float64\">Float64</th><th title=\"Int64\">Int64</th><th title=\"Union{Missing, Float64}\">Float64?</th></tr></thead><tbody><tr><th>1</th><td>2021-12-13</td><td>2968.88</td><td>2971.25</td><td>2927.2</td><td>2934.09</td><td>2934.09</td><td>1205200</td><td><em>missing</em></td></tr><tr><th>2</th><td>2021-12-14</td><td>2895.4</td><td>2908.84</td><td>2844.85</td><td>2899.41</td><td>2899.41</td><td>1238900</td><td>-0.0118197</td></tr><tr><th>3</th><td>2021-12-15</td><td>2887.32</td><td>2950.34</td><td>2854.11</td><td>2947.37</td><td>2947.37</td><td>1364000</td><td>0.0165414</td></tr><tr><th>4</th><td>2021-12-16</td><td>2961.54</td><td>2971.03</td><td>2881.85</td><td>2896.77</td><td>2896.77</td><td>1370000</td><td>-0.0171679</td></tr><tr><th>5</th><td>2021-12-17</td><td>2854.29</td><td>2889.2</td><td>2835.76</td><td>2856.06</td><td>2856.06</td><td>2162800</td><td>-0.0140536</td></tr><tr><th>6</th><td>2021-12-20</td><td>2813.59</td><td>2852.21</td><td>2805.0</td><td>2848.03</td><td>2848.03</td><td>1013200</td><td>-0.00281158</td></tr><tr><th>7</th><td>2021-12-21</td><td>2863.0</td><td>2893.84</td><td>2834.7</td><td>2884.41</td><td>2884.41</td><td>977400</td><td>0.0127737</td></tr><tr><th>8</th><td>2021-12-22</td><td>2882.0</td><td>2946.06</td><td>2879.26</td><td>2938.98</td><td>2938.98</td><td>921900</td><td>0.018919</td></tr><tr><th>9</th><td>2021-12-23</td><td>2941.79</td><td>2971.45</td><td>2939.02</td><td>2942.85</td><td>2942.85</td><td>690900</td><td>0.00131682</td></tr><tr><th>10</th><td>2021-12-27</td><td>2949.27</td><td>2968.53</td><td>2945.0</td><td>2961.28</td><td>2961.28</td><td>662800</td><td>0.00626261</td></tr><tr><th>11</th><td>2021-12-28</td><td>2967.49</td><td>2967.49</td><td>2918.71</td><td>2928.96</td><td>2928.96</td><td>931200</td><td>-0.0109142</td></tr><tr><th>12</th><td>2021-12-29</td><td>2928.59</td><td>2943.68</td><td>2910.09</td><td>2930.09</td><td>2930.09</td><td>851100</td><td>0.000385846</td></tr><tr><th>13</th><td>2021-12-30</td><td>2929.0</td><td>2941.25</td><td>2915.17</td><td>2920.05</td><td>2920.05</td><td>648900</td><td>-0.00342653</td></tr><tr><th>14</th><td>2021-12-31</td><td>2910.88</td><td>2927.3</td><td>2893.55</td><td>2893.59</td><td>2893.59</td><td>864900</td><td>-0.00906148</td></tr><tr><th>15</th><td>2022-01-03</td><td>2889.51</td><td>2911.0</td><td>2870.05</td><td>2901.49</td><td>2901.49</td><td>1260700</td><td>0.00273014</td></tr><tr><th>16</th><td>2022-01-04</td><td>2911.01</td><td>2932.2</td><td>2876.32</td><td>2888.33</td><td>2888.33</td><td>1146400</td><td>-0.00453557</td></tr><tr><th>17</th><td>2022-01-05</td><td>2883.62</td><td>2885.96</td><td>2750.47</td><td>2753.07</td><td>2753.07</td><td>2482100</td><td>-0.0468298</td></tr><tr><th>18</th><td>2022-01-06</td><td>2749.95</td><td>2793.72</td><td>2735.27</td><td>2751.02</td><td>2751.02</td><td>1452500</td><td>-0.000744641</td></tr><tr><th>19</th><td>2022-01-07</td><td>2758.1</td><td>2765.09</td><td>2715.78</td><td>2740.09</td><td>2740.09</td><td>970100</td><td>-0.00397305</td></tr><tr><th>20</th><td>2022-01-10</td><td>2701.98</td><td>2772.8</td><td>2662.81</td><td>2771.48</td><td>2771.48</td><td>1704800</td><td>0.0114558</td></tr><tr><th>21</th><td>2022-01-11</td><td>2763.61</td><td>2806.59</td><td>2736.27</td><td>2800.35</td><td>2800.35</td><td>1175100</td><td>0.0104169</td></tr><tr><th>22</th><td>2022-01-12</td><td>2831.09</td><td>2856.28</td><td>2822.24</td><td>2832.96</td><td>2832.96</td><td>1182100</td><td>0.0116449</td></tr><tr><th>23</th><td>2022-01-13</td><td>2836.81</td><td>2863.71</td><td>2778.28</td><td>2782.62</td><td>2782.62</td><td>1328300</td><td>-0.0177693</td></tr><tr><th>24</th><td>2022-01-14</td><td>2750.0</td><td>2824.01</td><td>2750.0</td><td>2795.73</td><td>2795.73</td><td>1190700</td><td>0.00471134</td></tr><tr><th>25</th><td>2022-01-18</td><td>2732.0</td><td>2747.83</td><td>2712.34</td><td>2725.81</td><td>2725.81</td><td>1369100</td><td>-0.0250095</td></tr><tr><th>26</th><td>2022-01-19</td><td>2738.77</td><td>2767.99</td><td>2710.0</td><td>2713.04</td><td>2713.04</td><td>1039800</td><td>-0.00468485</td></tr><tr><th>27</th><td>2022-01-20</td><td>2730.28</td><td>2758.24</td><td>2662.89</td><td>2670.13</td><td>2670.13</td><td>1096500</td><td>-0.0158163</td></tr><tr><th>28</th><td>2022-01-21</td><td>2660.24</td><td>2695.21</td><td>2600.02</td><td>2601.84</td><td>2601.84</td><td>2096000</td><td>-0.0255755</td></tr><tr><th>29</th><td>2022-01-24</td><td>2520.55</td><td>2615.57</td><td>2492.84</td><td>2607.44</td><td>2607.44</td><td>2757400</td><td>0.00215227</td></tr><tr><th>30</th><td>2022-01-25</td><td>2568.71</td><td>2586.77</td><td>2527.56</td><td>2534.71</td><td>2534.71</td><td>1800400</td><td>-0.0278933</td></tr><tr><th>&vellip;</th><td>&vellip;</td><td>&vellip;</td><td>&vellip;</td><td>&vellip;</td><td>&vellip;</td><td>&vellip;</td><td>&vellip;</td><td>&vellip;</td></tr></tbody></table></div>"
      ],
      "text/latex": [
       "\\begin{tabular}{r|ccccccccc}\n",
       "\t& Date & Open & High & Low & Close & Adj Close & Volume & Return & \\\\\n",
       "\t\\hline\n",
       "\t& Date & Float64 & Float64 & Float64 & Float64 & Float64 & Int64 & Float64? & \\\\\n",
       "\t\\hline\n",
       "\t1 & 2021-12-13 & 2968.88 & 2971.25 & 2927.2 & 2934.09 & 2934.09 & 1205200 & \\emph{missing} & $\\dots$ \\\\\n",
       "\t2 & 2021-12-14 & 2895.4 & 2908.84 & 2844.85 & 2899.41 & 2899.41 & 1238900 & -0.0118197 & $\\dots$ \\\\\n",
       "\t3 & 2021-12-15 & 2887.32 & 2950.34 & 2854.11 & 2947.37 & 2947.37 & 1364000 & 0.0165414 & $\\dots$ \\\\\n",
       "\t4 & 2021-12-16 & 2961.54 & 2971.03 & 2881.85 & 2896.77 & 2896.77 & 1370000 & -0.0171679 & $\\dots$ \\\\\n",
       "\t5 & 2021-12-17 & 2854.29 & 2889.2 & 2835.76 & 2856.06 & 2856.06 & 2162800 & -0.0140536 & $\\dots$ \\\\\n",
       "\t6 & 2021-12-20 & 2813.59 & 2852.21 & 2805.0 & 2848.03 & 2848.03 & 1013200 & -0.00281158 & $\\dots$ \\\\\n",
       "\t7 & 2021-12-21 & 2863.0 & 2893.84 & 2834.7 & 2884.41 & 2884.41 & 977400 & 0.0127737 & $\\dots$ \\\\\n",
       "\t8 & 2021-12-22 & 2882.0 & 2946.06 & 2879.26 & 2938.98 & 2938.98 & 921900 & 0.018919 & $\\dots$ \\\\\n",
       "\t9 & 2021-12-23 & 2941.79 & 2971.45 & 2939.02 & 2942.85 & 2942.85 & 690900 & 0.00131682 & $\\dots$ \\\\\n",
       "\t10 & 2021-12-27 & 2949.27 & 2968.53 & 2945.0 & 2961.28 & 2961.28 & 662800 & 0.00626261 & $\\dots$ \\\\\n",
       "\t11 & 2021-12-28 & 2967.49 & 2967.49 & 2918.71 & 2928.96 & 2928.96 & 931200 & -0.0109142 & $\\dots$ \\\\\n",
       "\t12 & 2021-12-29 & 2928.59 & 2943.68 & 2910.09 & 2930.09 & 2930.09 & 851100 & 0.000385846 & $\\dots$ \\\\\n",
       "\t13 & 2021-12-30 & 2929.0 & 2941.25 & 2915.17 & 2920.05 & 2920.05 & 648900 & -0.00342653 & $\\dots$ \\\\\n",
       "\t14 & 2021-12-31 & 2910.88 & 2927.3 & 2893.55 & 2893.59 & 2893.59 & 864900 & -0.00906148 & $\\dots$ \\\\\n",
       "\t15 & 2022-01-03 & 2889.51 & 2911.0 & 2870.05 & 2901.49 & 2901.49 & 1260700 & 0.00273014 & $\\dots$ \\\\\n",
       "\t16 & 2022-01-04 & 2911.01 & 2932.2 & 2876.32 & 2888.33 & 2888.33 & 1146400 & -0.00453557 & $\\dots$ \\\\\n",
       "\t17 & 2022-01-05 & 2883.62 & 2885.96 & 2750.47 & 2753.07 & 2753.07 & 2482100 & -0.0468298 & $\\dots$ \\\\\n",
       "\t18 & 2022-01-06 & 2749.95 & 2793.72 & 2735.27 & 2751.02 & 2751.02 & 1452500 & -0.000744641 & $\\dots$ \\\\\n",
       "\t19 & 2022-01-07 & 2758.1 & 2765.09 & 2715.78 & 2740.09 & 2740.09 & 970100 & -0.00397305 & $\\dots$ \\\\\n",
       "\t20 & 2022-01-10 & 2701.98 & 2772.8 & 2662.81 & 2771.48 & 2771.48 & 1704800 & 0.0114558 & $\\dots$ \\\\\n",
       "\t21 & 2022-01-11 & 2763.61 & 2806.59 & 2736.27 & 2800.35 & 2800.35 & 1175100 & 0.0104169 & $\\dots$ \\\\\n",
       "\t22 & 2022-01-12 & 2831.09 & 2856.28 & 2822.24 & 2832.96 & 2832.96 & 1182100 & 0.0116449 & $\\dots$ \\\\\n",
       "\t23 & 2022-01-13 & 2836.81 & 2863.71 & 2778.28 & 2782.62 & 2782.62 & 1328300 & -0.0177693 & $\\dots$ \\\\\n",
       "\t24 & 2022-01-14 & 2750.0 & 2824.01 & 2750.0 & 2795.73 & 2795.73 & 1190700 & 0.00471134 & $\\dots$ \\\\\n",
       "\t25 & 2022-01-18 & 2732.0 & 2747.83 & 2712.34 & 2725.81 & 2725.81 & 1369100 & -0.0250095 & $\\dots$ \\\\\n",
       "\t26 & 2022-01-19 & 2738.77 & 2767.99 & 2710.0 & 2713.04 & 2713.04 & 1039800 & -0.00468485 & $\\dots$ \\\\\n",
       "\t27 & 2022-01-20 & 2730.28 & 2758.24 & 2662.89 & 2670.13 & 2670.13 & 1096500 & -0.0158163 & $\\dots$ \\\\\n",
       "\t28 & 2022-01-21 & 2660.24 & 2695.21 & 2600.02 & 2601.84 & 2601.84 & 2096000 & -0.0255755 & $\\dots$ \\\\\n",
       "\t29 & 2022-01-24 & 2520.55 & 2615.57 & 2492.84 & 2607.44 & 2607.44 & 2757400 & 0.00215227 & $\\dots$ \\\\\n",
       "\t30 & 2022-01-25 & 2568.71 & 2586.77 & 2527.56 & 2534.71 & 2534.71 & 1800400 & -0.0278933 & $\\dots$ \\\\\n",
       "\t$\\dots$ & $\\dots$ & $\\dots$ & $\\dots$ & $\\dots$ & $\\dots$ & $\\dots$ & $\\dots$ & $\\dots$ &  \\\\\n",
       "\\end{tabular}\n"
      ],
      "text/plain": [
       "\u001b[1m61×9 DataFrame\u001b[0m\n",
       "\u001b[1m Row \u001b[0m│\u001b[1m Date       \u001b[0m\u001b[1m Open    \u001b[0m\u001b[1m High    \u001b[0m\u001b[1m Low     \u001b[0m\u001b[1m Close   \u001b[0m\u001b[1m Adj Close \u001b[0m\u001b[1m Volume  \u001b[0m\u001b[1m Ret\u001b[0m ⋯\n",
       "\u001b[1m     \u001b[0m│\u001b[90m Date       \u001b[0m\u001b[90m Float64 \u001b[0m\u001b[90m Float64 \u001b[0m\u001b[90m Float64 \u001b[0m\u001b[90m Float64 \u001b[0m\u001b[90m Float64   \u001b[0m\u001b[90m Int64   \u001b[0m\u001b[90m Flo\u001b[0m ⋯\n",
       "─────┼──────────────────────────────────────────────────────────────────────────\n",
       "   1 │ 2021-12-13  2968.88  2971.25  2927.2   2934.09    2934.09  1205200 \u001b[90m mis\u001b[0m ⋯\n",
       "   2 │ 2021-12-14  2895.4   2908.84  2844.85  2899.41    2899.41  1238900\n",
       "   3 │ 2021-12-15  2887.32  2950.34  2854.11  2947.37    2947.37  1364000\n",
       "   4 │ 2021-12-16  2961.54  2971.03  2881.85  2896.77    2896.77  1370000\n",
       "   5 │ 2021-12-17  2854.29  2889.2   2835.76  2856.06    2856.06  2162800      ⋯\n",
       "   6 │ 2021-12-20  2813.59  2852.21  2805.0   2848.03    2848.03  1013200\n",
       "   7 │ 2021-12-21  2863.0   2893.84  2834.7   2884.41    2884.41   977400\n",
       "   8 │ 2021-12-22  2882.0   2946.06  2879.26  2938.98    2938.98   921900\n",
       "   9 │ 2021-12-23  2941.79  2971.45  2939.02  2942.85    2942.85   690900      ⋯\n",
       "  10 │ 2021-12-27  2949.27  2968.53  2945.0   2961.28    2961.28   662800\n",
       "  11 │ 2021-12-28  2967.49  2967.49  2918.71  2928.96    2928.96   931200\n",
       "  ⋮  │     ⋮          ⋮        ⋮        ⋮        ⋮         ⋮         ⋮         ⋱\n",
       "  52 │ 2022-02-25  2670.51  2707.78  2635.3   2690.39    2690.39  1311800\n",
       "  53 │ 2022-02-28  2665.69  2712.81  2656.5   2697.82    2697.82  1483800      ⋯\n",
       "  54 │ 2022-03-01  2689.6   2722.22  2667.57  2683.36    2683.36  1232000\n",
       "  55 │ 2022-03-02  2692.17  2712.31  2668.65  2695.03    2695.03  1198300\n",
       "  56 │ 2022-03-03  2719.57  2734.28  2668.62  2686.16    2686.16   989000\n",
       "  57 │ 2022-03-04  2667.65  2683.98  2608.17  2642.44    2642.44  1222300      ⋯\n",
       "  58 │ 2022-03-07  2638.08  2638.08  2528.2   2529.29    2529.29  1958900\n",
       "  59 │ 2022-03-08  2525.01  2624.93  2517.22  2545.57    2545.57  1762500\n",
       "  60 │ 2022-03-09  2628.0   2683.97  2601.76  2677.32    2677.32  1612900\n",
       "  61 │ 2022-03-10  2629.25  2670.77  2628.02  2653.64    2653.64  1212200      ⋯\n",
       "\u001b[36m                                                   2 columns and 40 rows omitted\u001b[0m"
      ]
     },
     "execution_count": 38,
     "metadata": {},
     "output_type": "execute_result"
    }
   ],
   "source": [
    "function Return( df )\n",
    "    df[!,:Return    ] =     ( df.Close - lag(df.Close, 1) ) ./ lag(df.Close, 1)\n",
    "    df[!,:Return_LOG] = log.( df.Close                      ./ lag(df.Close, 1) )\n",
    "end\n",
    "\n",
    "Return( GOOG         )\n",
    "Return( BNTX         )\n",
    "Return( BNTX_6MONTHS )\n",
    "GOOG"
   ]
  },
  {
   "cell_type": "code",
   "execution_count": 39,
   "id": "4a80aa2a",
   "metadata": {},
   "outputs": [
    {
     "data": {
      "application/vnd.plotly.v1+json": {
       "config": {
        "editable": false,
        "responsive": true,
        "scrollZoom": true,
        "showLink": false,
        "staticPlot": false
       },
       "data": [
        {
         "mode": "markers+lines",
         "type": "scatter",
         "x": [
          "2021-12-13",
          "2021-12-14",
          "2021-12-15",
          "2021-12-16",
          "2021-12-17",
          "2021-12-20",
          "2021-12-21",
          "2021-12-22",
          "2021-12-23",
          "2021-12-27",
          "2021-12-28",
          "2021-12-29",
          "2021-12-30",
          "2021-12-31",
          "2022-01-03",
          "2022-01-04",
          "2022-01-05",
          "2022-01-06",
          "2022-01-07",
          "2022-01-10",
          "2022-01-11",
          "2022-01-12",
          "2022-01-13",
          "2022-01-14",
          "2022-01-18",
          "2022-01-19",
          "2022-01-20",
          "2022-01-21",
          "2022-01-24",
          "2022-01-25",
          "2022-01-26",
          "2022-01-27",
          "2022-01-28",
          "2022-01-31",
          "2022-02-01",
          "2022-02-02",
          "2022-02-03",
          "2022-02-04",
          "2022-02-07",
          "2022-02-08",
          "2022-02-09",
          "2022-02-10",
          "2022-02-11",
          "2022-02-14",
          "2022-02-15",
          "2022-02-16",
          "2022-02-17",
          "2022-02-18",
          "2022-02-22",
          "2022-02-23",
          "2022-02-24",
          "2022-02-25",
          "2022-02-28",
          "2022-03-01",
          "2022-03-02",
          "2022-03-03",
          "2022-03-04",
          "2022-03-07",
          "2022-03-08",
          "2022-03-09",
          "2022-03-10"
         ],
         "y": [
          null,
          -0.011819737963001445,
          0.016541367538788997,
          -0.017167880174989235,
          -0.01405357025891894,
          -0.002811576029256007,
          0.012773700638533564,
          0.018918971181236182,
          0.0013168235327686104,
          0.00626261290458707,
          -0.01091422212134197,
          0.0003858458343739381,
          -0.0034265291163293335,
          -0.009061475165147083,
          0.0027301386028248348,
          -0.004535570360523655,
          -0.04682983119909191,
          -0.0007446406917966102,
          -0.003973047059105011,
          0.011455788310563075,
          0.01041685965922071,
          0.011644923619832385,
          -0.01776934538186369,
          0.004711337677718705,
          -0.02500954008441121,
          -0.004684853208255011,
          -0.01581626344733791,
          -0.025575458120888774,
          0.0021522664001632397,
          -0.027893252249601888,
          0.019761664557564708,
          -0.0009208166801608963,
          0.03228371818609287,
          0.018073415871143934,
          0.016065062423640208,
          0.07367352668842504,
          -0.03638290919052338,
          0.0025622265517393074,
          -0.028514311706741496,
          0.001979300112354791,
          0.016090468863933418,
          -0.020151572893843596,
          -0.032268519477946865,
          0.008722843936912476,
          0.008318555062823342,
          0.007784464752614206,
          -0.037668907355214096,
          -0.013914383839784326,
          -0.00816297093146906,
          -0.014045361299734235,
          0.039883223715279185,
          0.01391382695244379,
          0.0027617465480866505,
          -0.005359868573710981,
          0.004348995861404167,
          -0.003291286889033746,
          -0.016276012014283976,
          -0.04282023604183786,
          0.006436600290584552,
          0.05175657965821116,
          -0.008844730700311608
         ]
        }
       ],
       "frames": [],
       "layout": {
        "margin": {
         "b": 50,
         "l": 50,
         "r": 50,
         "t": 60
        },
        "template": {
         "data": {
          "bar": [
           {
            "error_x": {
             "color": "#2a3f5f"
            },
            "error_y": {
             "color": "#2a3f5f"
            },
            "marker": {
             "line": {
              "color": "#E5ECF6",
              "width": 0.5
             }
            },
            "type": "bar"
           }
          ],
          "barpolar": [
           {
            "marker": {
             "line": {
              "color": "#E5ECF6",
              "width": 0.5
             }
            },
            "type": "barpolar"
           }
          ],
          "carpet": [
           {
            "aaxis": {
             "endlinecolor": "#2a3f5f",
             "gridcolor": "white",
             "linecolor": "white",
             "minorgridcolor": "white",
             "startlinecolor": "#2a3f5f"
            },
            "baxis": {
             "endlinecolor": "#2a3f5f",
             "gridcolor": "white",
             "linecolor": "white",
             "minorgridcolor": "white",
             "startlinecolor": "#2a3f5f"
            },
            "type": "carpet"
           }
          ],
          "choropleth": [
           {
            "colorbar": {
             "outlinewidth": 0,
             "ticks": ""
            },
            "type": "choropleth"
           }
          ],
          "contour": [
           {
            "colorbar": {
             "outlinewidth": 0,
             "ticks": ""
            },
            "colorscale": [
             [
              0,
              "#0d0887"
             ],
             [
              0.1111111111111111,
              "#46039f"
             ],
             [
              0.2222222222222222,
              "#7201a8"
             ],
             [
              0.3333333333333333,
              "#9c179e"
             ],
             [
              0.4444444444444444,
              "#bd3786"
             ],
             [
              0.5555555555555556,
              "#d8576b"
             ],
             [
              0.6666666666666666,
              "#ed7953"
             ],
             [
              0.7777777777777778,
              "#fb9f3a"
             ],
             [
              0.8888888888888888,
              "#fdca26"
             ],
             [
              1,
              "#f0f921"
             ]
            ],
            "type": "contour"
           }
          ],
          "contourcarpet": [
           {
            "colorbar": {
             "outlinewidth": 0,
             "ticks": ""
            },
            "type": "contourcarpet"
           }
          ],
          "heatmap": [
           {
            "colorbar": {
             "outlinewidth": 0,
             "ticks": ""
            },
            "colorscale": [
             [
              0,
              "#0d0887"
             ],
             [
              0.1111111111111111,
              "#46039f"
             ],
             [
              0.2222222222222222,
              "#7201a8"
             ],
             [
              0.3333333333333333,
              "#9c179e"
             ],
             [
              0.4444444444444444,
              "#bd3786"
             ],
             [
              0.5555555555555556,
              "#d8576b"
             ],
             [
              0.6666666666666666,
              "#ed7953"
             ],
             [
              0.7777777777777778,
              "#fb9f3a"
             ],
             [
              0.8888888888888888,
              "#fdca26"
             ],
             [
              1,
              "#f0f921"
             ]
            ],
            "type": "heatmap"
           }
          ],
          "heatmapgl": [
           {
            "colorbar": {
             "outlinewidth": 0,
             "ticks": ""
            },
            "colorscale": [
             [
              0,
              "#0d0887"
             ],
             [
              0.1111111111111111,
              "#46039f"
             ],
             [
              0.2222222222222222,
              "#7201a8"
             ],
             [
              0.3333333333333333,
              "#9c179e"
             ],
             [
              0.4444444444444444,
              "#bd3786"
             ],
             [
              0.5555555555555556,
              "#d8576b"
             ],
             [
              0.6666666666666666,
              "#ed7953"
             ],
             [
              0.7777777777777778,
              "#fb9f3a"
             ],
             [
              0.8888888888888888,
              "#fdca26"
             ],
             [
              1,
              "#f0f921"
             ]
            ],
            "type": "heatmapgl"
           }
          ],
          "histogram": [
           {
            "marker": {
             "colorbar": {
              "outlinewidth": 0,
              "ticks": ""
             }
            },
            "type": "histogram"
           }
          ],
          "histogram2d": [
           {
            "colorbar": {
             "outlinewidth": 0,
             "ticks": ""
            },
            "colorscale": [
             [
              0,
              "#0d0887"
             ],
             [
              0.1111111111111111,
              "#46039f"
             ],
             [
              0.2222222222222222,
              "#7201a8"
             ],
             [
              0.3333333333333333,
              "#9c179e"
             ],
             [
              0.4444444444444444,
              "#bd3786"
             ],
             [
              0.5555555555555556,
              "#d8576b"
             ],
             [
              0.6666666666666666,
              "#ed7953"
             ],
             [
              0.7777777777777778,
              "#fb9f3a"
             ],
             [
              0.8888888888888888,
              "#fdca26"
             ],
             [
              1,
              "#f0f921"
             ]
            ],
            "type": "histogram2d"
           }
          ],
          "histogram2dcontour": [
           {
            "colorbar": {
             "outlinewidth": 0,
             "ticks": ""
            },
            "colorscale": [
             [
              0,
              "#0d0887"
             ],
             [
              0.1111111111111111,
              "#46039f"
             ],
             [
              0.2222222222222222,
              "#7201a8"
             ],
             [
              0.3333333333333333,
              "#9c179e"
             ],
             [
              0.4444444444444444,
              "#bd3786"
             ],
             [
              0.5555555555555556,
              "#d8576b"
             ],
             [
              0.6666666666666666,
              "#ed7953"
             ],
             [
              0.7777777777777778,
              "#fb9f3a"
             ],
             [
              0.8888888888888888,
              "#fdca26"
             ],
             [
              1,
              "#f0f921"
             ]
            ],
            "type": "histogram2dcontour"
           }
          ],
          "mesh3d": [
           {
            "colorbar": {
             "outlinewidth": 0,
             "ticks": ""
            },
            "type": "mesh3d"
           }
          ],
          "parcoords": [
           {
            "line": {
             "colorbar": {
              "outlinewidth": 0,
              "ticks": ""
             }
            },
            "type": "parcoords"
           }
          ],
          "pie": [
           {
            "automargin": true,
            "type": "pie"
           }
          ],
          "scatter": [
           {
            "marker": {
             "colorbar": {
              "outlinewidth": 0,
              "ticks": ""
             }
            },
            "type": "scatter"
           }
          ],
          "scatter3d": [
           {
            "line": {
             "colorbar": {
              "outlinewidth": 0,
              "ticks": ""
             }
            },
            "marker": {
             "colorbar": {
              "outlinewidth": 0,
              "ticks": ""
             }
            },
            "type": "scatter3d"
           }
          ],
          "scattercarpet": [
           {
            "marker": {
             "colorbar": {
              "outlinewidth": 0,
              "ticks": ""
             }
            },
            "type": "scattercarpet"
           }
          ],
          "scattergeo": [
           {
            "marker": {
             "colorbar": {
              "outlinewidth": 0,
              "ticks": ""
             }
            },
            "type": "scattergeo"
           }
          ],
          "scattergl": [
           {
            "marker": {
             "colorbar": {
              "outlinewidth": 0,
              "ticks": ""
             }
            },
            "type": "scattergl"
           }
          ],
          "scattermapbox": [
           {
            "marker": {
             "colorbar": {
              "outlinewidth": 0,
              "ticks": ""
             }
            },
            "type": "scattermapbox"
           }
          ],
          "scatterpolar": [
           {
            "marker": {
             "colorbar": {
              "outlinewidth": 0,
              "ticks": ""
             }
            },
            "type": "scatterpolar"
           }
          ],
          "scatterpolargl": [
           {
            "marker": {
             "colorbar": {
              "outlinewidth": 0,
              "ticks": ""
             }
            },
            "type": "scatterpolargl"
           }
          ],
          "scatterternary": [
           {
            "marker": {
             "colorbar": {
              "outlinewidth": 0,
              "ticks": ""
             }
            },
            "type": "scatterternary"
           }
          ],
          "surface": [
           {
            "colorbar": {
             "outlinewidth": 0,
             "ticks": ""
            },
            "colorscale": [
             [
              0,
              "#0d0887"
             ],
             [
              0.1111111111111111,
              "#46039f"
             ],
             [
              0.2222222222222222,
              "#7201a8"
             ],
             [
              0.3333333333333333,
              "#9c179e"
             ],
             [
              0.4444444444444444,
              "#bd3786"
             ],
             [
              0.5555555555555556,
              "#d8576b"
             ],
             [
              0.6666666666666666,
              "#ed7953"
             ],
             [
              0.7777777777777778,
              "#fb9f3a"
             ],
             [
              0.8888888888888888,
              "#fdca26"
             ],
             [
              1,
              "#f0f921"
             ]
            ],
            "type": "surface"
           }
          ],
          "table": [
           {
            "cells": {
             "fill": {
              "color": "#EBF0F8"
             },
             "line": {
              "color": "white"
             }
            },
            "header": {
             "fill": {
              "color": "#C8D4E3"
             },
             "line": {
              "color": "white"
             }
            },
            "type": "table"
           }
          ]
         },
         "layout": {
          "annotationdefaults": {
           "arrowcolor": "#2a3f5f",
           "arrowhead": 0,
           "arrowwidth": 1
          },
          "autotypenumbers": "strict",
          "coloraxis": {
           "colorbar": {
            "outlinewidth": 0,
            "ticks": ""
           }
          },
          "colorscale": {
           "diverging": [
            [
             0,
             "#8e0152"
            ],
            [
             0.1,
             "#c51b7d"
            ],
            [
             0.2,
             "#de77ae"
            ],
            [
             0.3,
             "#f1b6da"
            ],
            [
             0.4,
             "#fde0ef"
            ],
            [
             0.5,
             "#f7f7f7"
            ],
            [
             0.6,
             "#e6f5d0"
            ],
            [
             0.7,
             "#b8e186"
            ],
            [
             0.8,
             "#7fbc41"
            ],
            [
             0.9,
             "#4d9221"
            ],
            [
             1,
             "#276419"
            ]
           ],
           "sequential": [
            [
             0,
             "#0d0887"
            ],
            [
             0.1111111111111111,
             "#46039f"
            ],
            [
             0.2222222222222222,
             "#7201a8"
            ],
            [
             0.3333333333333333,
             "#9c179e"
            ],
            [
             0.4444444444444444,
             "#bd3786"
            ],
            [
             0.5555555555555556,
             "#d8576b"
            ],
            [
             0.6666666666666666,
             "#ed7953"
            ],
            [
             0.7777777777777778,
             "#fb9f3a"
            ],
            [
             0.8888888888888888,
             "#fdca26"
            ],
            [
             1,
             "#f0f921"
            ]
           ],
           "sequentialminus": [
            [
             0,
             "#0d0887"
            ],
            [
             0.1111111111111111,
             "#46039f"
            ],
            [
             0.2222222222222222,
             "#7201a8"
            ],
            [
             0.3333333333333333,
             "#9c179e"
            ],
            [
             0.4444444444444444,
             "#bd3786"
            ],
            [
             0.5555555555555556,
             "#d8576b"
            ],
            [
             0.6666666666666666,
             "#ed7953"
            ],
            [
             0.7777777777777778,
             "#fb9f3a"
            ],
            [
             0.8888888888888888,
             "#fdca26"
            ],
            [
             1,
             "#f0f921"
            ]
           ]
          },
          "colorway": [
           "#636efa",
           "#EF553B",
           "#00cc96",
           "#ab63fa",
           "#FFA15A",
           "#19d3f3",
           "#FF6692",
           "#B6E880",
           "#FF97FF",
           "#FECB52"
          ],
          "font": {
           "color": "#2a3f5f"
          },
          "geo": {
           "bgcolor": "white",
           "lakecolor": "white",
           "landcolor": "#E5ECF6",
           "showlakes": true,
           "showland": true,
           "subunitcolor": "white"
          },
          "hoverlabel": {
           "align": "left"
          },
          "hovermode": "closest",
          "mapbox": {
           "style": "light"
          },
          "paper_bgcolor": "white",
          "plot_bgcolor": "#E5ECF6",
          "polar": {
           "angularaxis": {
            "gridcolor": "white",
            "linecolor": "white",
            "ticks": ""
           },
           "bgcolor": "#E5ECF6",
           "radialaxis": {
            "gridcolor": "white",
            "linecolor": "white",
            "ticks": ""
           }
          },
          "scene": {
           "xaxis": {
            "backgroundcolor": "#E5ECF6",
            "gridcolor": "white",
            "gridwidth": 2,
            "linecolor": "white",
            "showbackground": true,
            "ticks": "",
            "zerolinecolor": "white"
           },
           "yaxis": {
            "backgroundcolor": "#E5ECF6",
            "gridcolor": "white",
            "gridwidth": 2,
            "linecolor": "white",
            "showbackground": true,
            "ticks": "",
            "zerolinecolor": "white"
           },
           "zaxis": {
            "backgroundcolor": "#E5ECF6",
            "gridcolor": "white",
            "gridwidth": 2,
            "linecolor": "white",
            "showbackground": true,
            "ticks": "",
            "zerolinecolor": "white"
           }
          },
          "shapedefaults": {
           "line": {
            "color": "#2a3f5f"
           }
          },
          "ternary": {
           "aaxis": {
            "gridcolor": "white",
            "linecolor": "white",
            "ticks": ""
           },
           "baxis": {
            "gridcolor": "white",
            "linecolor": "white",
            "ticks": ""
           },
           "bgcolor": "#E5ECF6",
           "caxis": {
            "gridcolor": "white",
            "linecolor": "white",
            "ticks": ""
           }
          },
          "title": {
           "x": 0.05
          },
          "xaxis": {
           "automargin": true,
           "gridcolor": "white",
           "linecolor": "white",
           "ticks": "",
           "title": {
            "standoff": 15
           },
           "zerolinecolor": "white",
           "zerolinewidth": 2
          },
          "yaxis": {
           "automargin": true,
           "gridcolor": "white",
           "linecolor": "white",
           "ticks": "",
           "title": {
            "standoff": 15
           },
           "zerolinecolor": "white",
           "zerolinewidth": 2
          }
         }
        },
        "title": "GOOG Returns",
        "yaxis": {
         "title": {
          "text": "GOOG Returns"
         }
        }
       }
      },
      "text/html": [
       "<div\n",
       "    class=\"webio-mountpoint\"\n",
       "    data-webio-mountpoint=\"17918655102151679832\"\n",
       ">\n",
       "    <script>\n",
       "    (function(){\n",
       "    // Some integrations (namely, IJulia/Jupyter) use an alternate render pathway than\n",
       "    // just putting the html on the page. If WebIO isn't defined, then it's pretty likely\n",
       "    // that we're in one of those situations and the integration just isn't installed\n",
       "    // correctly.\n",
       "    if (typeof window.WebIO === \"undefined\") {\n",
       "        document\n",
       "            .querySelector('[data-webio-mountpoint=\"17918655102151679832\"]')\n",
       "            .innerHTML = (\n",
       "                '<div style=\"padding: 1em; background-color: #f8d6da; border: 1px solid #f5c6cb; font-weight: bold;\">' +\n",
       "                '<p><strong>WebIO not detected.</strong></p>' +\n",
       "                '<p>Please read ' +\n",
       "                '<a href=\"https://juliagizmos.github.io/WebIO.jl/latest/troubleshooting/not-detected/\" target=\"_blank\">the troubleshooting guide</a> ' +\n",
       "                'for more information on how to resolve this issue.</p>' +\n",
       "                '<p><a href=\"https://juliagizmos.github.io/WebIO.jl/latest/troubleshooting/not-detected/\" target=\"_blank\">https://juliagizmos.github.io/WebIO.jl/latest/troubleshooting/not-detected/</a></p>' +\n",
       "                '</div>'\n",
       "            );\n",
       "        return;\n",
       "    }\n",
       "    WebIO.mount(\n",
       "        document.querySelector('[data-webio-mountpoint=\"17918655102151679832\"]'),\n",
       "        {\"props\":{},\"nodeType\":\"Scope\",\"type\":\"node\",\"instanceArgs\":{\"imports\":{\"data\":[{\"name\":\"Plotly\",\"type\":\"js\",\"url\":\"\\/assetserver\\/c44b2cd04b3a3572f00c5d295ffe9c45b94a9a49-plotly.min.js\"},{\"name\":null,\"type\":\"js\",\"url\":\"\\/assetserver\\/5d2f409fc13299e6b724930d0745c21ad970d6a4-plotly_webio.bundle.js\"}],\"type\":\"async_block\"},\"id\":\"2261098499266997507\",\"handlers\":{\"_toImage\":[\"(function (options){return this.Plotly.toImage(this.plotElem,options).then((function (data){return WebIO.setval({\\\"name\\\":\\\"image\\\",\\\"scope\\\":\\\"2261098499266997507\\\",\\\"id\\\":\\\"14703728998288812132\\\",\\\"type\\\":\\\"observable\\\"},data)}))})\"],\"__get_gd_contents\":[\"(function (prop){prop==\\\"data\\\" ? (WebIO.setval({\\\"name\\\":\\\"__gd_contents\\\",\\\"scope\\\":\\\"2261098499266997507\\\",\\\"id\\\":\\\"10073446851645357928\\\",\\\"type\\\":\\\"observable\\\"},this.plotElem.data)) : undefined; return prop==\\\"layout\\\" ? (WebIO.setval({\\\"name\\\":\\\"__gd_contents\\\",\\\"scope\\\":\\\"2261098499266997507\\\",\\\"id\\\":\\\"10073446851645357928\\\",\\\"type\\\":\\\"observable\\\"},this.plotElem.layout)) : undefined})\"],\"_downloadImage\":[\"(function (options){return this.Plotly.downloadImage(this.plotElem,options)})\"],\"_commands\":[\"(function (args){var fn=args.shift(); var elem=this.plotElem; var Plotly=this.Plotly; args.unshift(elem); return Plotly[fn].apply(this,args)})\"]},\"systemjs_options\":null,\"mount_callbacks\":[\"function () {\\n    var handler = ((function (Plotly,PlotlyWebIO){PlotlyWebIO.init(WebIO); var gd=this.dom.querySelector(\\\"#plot-a8e6024b-72e9-4ec9-908b-d2eccbdf6014\\\"); this.plotElem=gd; this.Plotly=Plotly; (window.Blink!==undefined) ? (gd.style.width=\\\"100%\\\", gd.style.height=\\\"100vh\\\", gd.style.marginLeft=\\\"0%\\\", gd.style.marginTop=\\\"0vh\\\") : undefined; window.onresize=(function (){return Plotly.Plots.resize(gd)}); Plotly.newPlot(gd,[{\\\"mode\\\":\\\"markers+lines\\\",\\\"y\\\":[null,-0.011819737963001445,0.016541367538788997,-0.017167880174989235,-0.01405357025891894,-0.002811576029256007,0.012773700638533564,0.018918971181236182,0.0013168235327686104,0.00626261290458707,-0.01091422212134197,0.0003858458343739381,-0.0034265291163293335,-0.009061475165147083,0.0027301386028248348,-0.004535570360523655,-0.04682983119909191,-0.0007446406917966102,-0.003973047059105011,0.011455788310563075,0.01041685965922071,0.011644923619832385,-0.01776934538186369,0.004711337677718705,-0.02500954008441121,-0.004684853208255011,-0.01581626344733791,-0.025575458120888774,0.0021522664001632397,-0.027893252249601888,0.019761664557564708,-0.0009208166801608963,0.03228371818609287,0.018073415871143934,0.016065062423640208,0.07367352668842504,-0.03638290919052338,0.0025622265517393074,-0.028514311706741496,0.001979300112354791,0.016090468863933418,-0.020151572893843596,-0.032268519477946865,0.008722843936912476,0.008318555062823342,0.007784464752614206,-0.037668907355214096,-0.013914383839784326,-0.00816297093146906,-0.014045361299734235,0.039883223715279185,0.01391382695244379,0.0027617465480866505,-0.005359868573710981,0.004348995861404167,-0.003291286889033746,-0.016276012014283976,-0.04282023604183786,0.006436600290584552,0.05175657965821116,-0.008844730700311608],\\\"type\\\":\\\"scatter\\\",\\\"x\\\":[\\\"2021-12-13\\\",\\\"2021-12-14\\\",\\\"2021-12-15\\\",\\\"2021-12-16\\\",\\\"2021-12-17\\\",\\\"2021-12-20\\\",\\\"2021-12-21\\\",\\\"2021-12-22\\\",\\\"2021-12-23\\\",\\\"2021-12-27\\\",\\\"2021-12-28\\\",\\\"2021-12-29\\\",\\\"2021-12-30\\\",\\\"2021-12-31\\\",\\\"2022-01-03\\\",\\\"2022-01-04\\\",\\\"2022-01-05\\\",\\\"2022-01-06\\\",\\\"2022-01-07\\\",\\\"2022-01-10\\\",\\\"2022-01-11\\\",\\\"2022-01-12\\\",\\\"2022-01-13\\\",\\\"2022-01-14\\\",\\\"2022-01-18\\\",\\\"2022-01-19\\\",\\\"2022-01-20\\\",\\\"2022-01-21\\\",\\\"2022-01-24\\\",\\\"2022-01-25\\\",\\\"2022-01-26\\\",\\\"2022-01-27\\\",\\\"2022-01-28\\\",\\\"2022-01-31\\\",\\\"2022-02-01\\\",\\\"2022-02-02\\\",\\\"2022-02-03\\\",\\\"2022-02-04\\\",\\\"2022-02-07\\\",\\\"2022-02-08\\\",\\\"2022-02-09\\\",\\\"2022-02-10\\\",\\\"2022-02-11\\\",\\\"2022-02-14\\\",\\\"2022-02-15\\\",\\\"2022-02-16\\\",\\\"2022-02-17\\\",\\\"2022-02-18\\\",\\\"2022-02-22\\\",\\\"2022-02-23\\\",\\\"2022-02-24\\\",\\\"2022-02-25\\\",\\\"2022-02-28\\\",\\\"2022-03-01\\\",\\\"2022-03-02\\\",\\\"2022-03-03\\\",\\\"2022-03-04\\\",\\\"2022-03-07\\\",\\\"2022-03-08\\\",\\\"2022-03-09\\\",\\\"2022-03-10\\\"]}],{\\\"template\\\":{\\\"layout\\\":{\\\"coloraxis\\\":{\\\"colorbar\\\":{\\\"ticks\\\":\\\"\\\",\\\"outlinewidth\\\":0}},\\\"xaxis\\\":{\\\"gridcolor\\\":\\\"white\\\",\\\"zerolinewidth\\\":2,\\\"title\\\":{\\\"standoff\\\":15},\\\"ticks\\\":\\\"\\\",\\\"zerolinecolor\\\":\\\"white\\\",\\\"automargin\\\":true,\\\"linecolor\\\":\\\"white\\\"},\\\"hovermode\\\":\\\"closest\\\",\\\"paper_bgcolor\\\":\\\"white\\\",\\\"geo\\\":{\\\"showlakes\\\":true,\\\"showland\\\":true,\\\"landcolor\\\":\\\"#E5ECF6\\\",\\\"bgcolor\\\":\\\"white\\\",\\\"subunitcolor\\\":\\\"white\\\",\\\"lakecolor\\\":\\\"white\\\"},\\\"colorscale\\\":{\\\"sequential\\\":[[0.0,\\\"#0d0887\\\"],[0.1111111111111111,\\\"#46039f\\\"],[0.2222222222222222,\\\"#7201a8\\\"],[0.3333333333333333,\\\"#9c179e\\\"],[0.4444444444444444,\\\"#bd3786\\\"],[0.5555555555555556,\\\"#d8576b\\\"],[0.6666666666666666,\\\"#ed7953\\\"],[0.7777777777777778,\\\"#fb9f3a\\\"],[0.8888888888888888,\\\"#fdca26\\\"],[1.0,\\\"#f0f921\\\"]],\\\"diverging\\\":[[0,\\\"#8e0152\\\"],[0.1,\\\"#c51b7d\\\"],[0.2,\\\"#de77ae\\\"],[0.3,\\\"#f1b6da\\\"],[0.4,\\\"#fde0ef\\\"],[0.5,\\\"#f7f7f7\\\"],[0.6,\\\"#e6f5d0\\\"],[0.7,\\\"#b8e186\\\"],[0.8,\\\"#7fbc41\\\"],[0.9,\\\"#4d9221\\\"],[1,\\\"#276419\\\"]],\\\"sequentialminus\\\":[[0.0,\\\"#0d0887\\\"],[0.1111111111111111,\\\"#46039f\\\"],[0.2222222222222222,\\\"#7201a8\\\"],[0.3333333333333333,\\\"#9c179e\\\"],[0.4444444444444444,\\\"#bd3786\\\"],[0.5555555555555556,\\\"#d8576b\\\"],[0.6666666666666666,\\\"#ed7953\\\"],[0.7777777777777778,\\\"#fb9f3a\\\"],[0.8888888888888888,\\\"#fdca26\\\"],[1.0,\\\"#f0f921\\\"]]},\\\"yaxis\\\":{\\\"gridcolor\\\":\\\"white\\\",\\\"zerolinewidth\\\":2,\\\"title\\\":{\\\"standoff\\\":15},\\\"ticks\\\":\\\"\\\",\\\"zerolinecolor\\\":\\\"white\\\",\\\"automargin\\\":true,\\\"linecolor\\\":\\\"white\\\"},\\\"shapedefaults\\\":{\\\"line\\\":{\\\"color\\\":\\\"#2a3f5f\\\"}},\\\"hoverlabel\\\":{\\\"align\\\":\\\"left\\\"},\\\"mapbox\\\":{\\\"style\\\":\\\"light\\\"},\\\"polar\\\":{\\\"angularaxis\\\":{\\\"gridcolor\\\":\\\"white\\\",\\\"ticks\\\":\\\"\\\",\\\"linecolor\\\":\\\"white\\\"},\\\"bgcolor\\\":\\\"#E5ECF6\\\",\\\"radialaxis\\\":{\\\"gridcolor\\\":\\\"white\\\",\\\"ticks\\\":\\\"\\\",\\\"linecolor\\\":\\\"white\\\"}},\\\"autotypenumbers\\\":\\\"strict\\\",\\\"font\\\":{\\\"color\\\":\\\"#2a3f5f\\\"},\\\"ternary\\\":{\\\"baxis\\\":{\\\"gridcolor\\\":\\\"white\\\",\\\"ticks\\\":\\\"\\\",\\\"linecolor\\\":\\\"white\\\"},\\\"bgcolor\\\":\\\"#E5ECF6\\\",\\\"caxis\\\":{\\\"gridcolor\\\":\\\"white\\\",\\\"ticks\\\":\\\"\\\",\\\"linecolor\\\":\\\"white\\\"},\\\"aaxis\\\":{\\\"gridcolor\\\":\\\"white\\\",\\\"ticks\\\":\\\"\\\",\\\"linecolor\\\":\\\"white\\\"}},\\\"annotationdefaults\\\":{\\\"arrowhead\\\":0,\\\"arrowwidth\\\":1,\\\"arrowcolor\\\":\\\"#2a3f5f\\\"},\\\"plot_bgcolor\\\":\\\"#E5ECF6\\\",\\\"title\\\":{\\\"x\\\":0.05},\\\"scene\\\":{\\\"xaxis\\\":{\\\"gridcolor\\\":\\\"white\\\",\\\"gridwidth\\\":2,\\\"backgroundcolor\\\":\\\"#E5ECF6\\\",\\\"ticks\\\":\\\"\\\",\\\"showbackground\\\":true,\\\"zerolinecolor\\\":\\\"white\\\",\\\"linecolor\\\":\\\"white\\\"},\\\"zaxis\\\":{\\\"gridcolor\\\":\\\"white\\\",\\\"gridwidth\\\":2,\\\"backgroundcolor\\\":\\\"#E5ECF6\\\",\\\"ticks\\\":\\\"\\\",\\\"showbackground\\\":true,\\\"zerolinecolor\\\":\\\"white\\\",\\\"linecolor\\\":\\\"white\\\"},\\\"yaxis\\\":{\\\"gridcolor\\\":\\\"white\\\",\\\"gridwidth\\\":2,\\\"backgroundcolor\\\":\\\"#E5ECF6\\\",\\\"ticks\\\":\\\"\\\",\\\"showbackground\\\":true,\\\"zerolinecolor\\\":\\\"white\\\",\\\"linecolor\\\":\\\"white\\\"}},\\\"colorway\\\":[\\\"#636efa\\\",\\\"#EF553B\\\",\\\"#00cc96\\\",\\\"#ab63fa\\\",\\\"#FFA15A\\\",\\\"#19d3f3\\\",\\\"#FF6692\\\",\\\"#B6E880\\\",\\\"#FF97FF\\\",\\\"#FECB52\\\"]},\\\"data\\\":{\\\"barpolar\\\":[{\\\"type\\\":\\\"barpolar\\\",\\\"marker\\\":{\\\"line\\\":{\\\"color\\\":\\\"#E5ECF6\\\",\\\"width\\\":0.5}}}],\\\"carpet\\\":[{\\\"aaxis\\\":{\\\"gridcolor\\\":\\\"white\\\",\\\"endlinecolor\\\":\\\"#2a3f5f\\\",\\\"minorgridcolor\\\":\\\"white\\\",\\\"startlinecolor\\\":\\\"#2a3f5f\\\",\\\"linecolor\\\":\\\"white\\\"},\\\"type\\\":\\\"carpet\\\",\\\"baxis\\\":{\\\"gridcolor\\\":\\\"white\\\",\\\"endlinecolor\\\":\\\"#2a3f5f\\\",\\\"minorgridcolor\\\":\\\"white\\\",\\\"startlinecolor\\\":\\\"#2a3f5f\\\",\\\"linecolor\\\":\\\"white\\\"}}],\\\"scatterpolar\\\":[{\\\"type\\\":\\\"scatterpolar\\\",\\\"marker\\\":{\\\"colorbar\\\":{\\\"ticks\\\":\\\"\\\",\\\"outlinewidth\\\":0}}}],\\\"parcoords\\\":[{\\\"line\\\":{\\\"colorbar\\\":{\\\"ticks\\\":\\\"\\\",\\\"outlinewidth\\\":0}},\\\"type\\\":\\\"parcoords\\\"}],\\\"scatter\\\":[{\\\"type\\\":\\\"scatter\\\",\\\"marker\\\":{\\\"colorbar\\\":{\\\"ticks\\\":\\\"\\\",\\\"outlinewidth\\\":0}}}],\\\"histogram2dcontour\\\":[{\\\"colorbar\\\":{\\\"ticks\\\":\\\"\\\",\\\"outlinewidth\\\":0},\\\"type\\\":\\\"histogram2dcontour\\\",\\\"colorscale\\\":[[0.0,\\\"#0d0887\\\"],[0.1111111111111111,\\\"#46039f\\\"],[0.2222222222222222,\\\"#7201a8\\\"],[0.3333333333333333,\\\"#9c179e\\\"],[0.4444444444444444,\\\"#bd3786\\\"],[0.5555555555555556,\\\"#d8576b\\\"],[0.6666666666666666,\\\"#ed7953\\\"],[0.7777777777777778,\\\"#fb9f3a\\\"],[0.8888888888888888,\\\"#fdca26\\\"],[1.0,\\\"#f0f921\\\"]]}],\\\"contour\\\":[{\\\"colorbar\\\":{\\\"ticks\\\":\\\"\\\",\\\"outlinewidth\\\":0},\\\"type\\\":\\\"contour\\\",\\\"colorscale\\\":[[0.0,\\\"#0d0887\\\"],[0.1111111111111111,\\\"#46039f\\\"],[0.2222222222222222,\\\"#7201a8\\\"],[0.3333333333333333,\\\"#9c179e\\\"],[0.4444444444444444,\\\"#bd3786\\\"],[0.5555555555555556,\\\"#d8576b\\\"],[0.6666666666666666,\\\"#ed7953\\\"],[0.7777777777777778,\\\"#fb9f3a\\\"],[0.8888888888888888,\\\"#fdca26\\\"],[1.0,\\\"#f0f921\\\"]]}],\\\"scattercarpet\\\":[{\\\"type\\\":\\\"scattercarpet\\\",\\\"marker\\\":{\\\"colorbar\\\":{\\\"ticks\\\":\\\"\\\",\\\"outlinewidth\\\":0}}}],\\\"mesh3d\\\":[{\\\"colorbar\\\":{\\\"ticks\\\":\\\"\\\",\\\"outlinewidth\\\":0},\\\"type\\\":\\\"mesh3d\\\"}],\\\"surface\\\":[{\\\"colorbar\\\":{\\\"ticks\\\":\\\"\\\",\\\"outlinewidth\\\":0},\\\"type\\\":\\\"surface\\\",\\\"colorscale\\\":[[0.0,\\\"#0d0887\\\"],[0.1111111111111111,\\\"#46039f\\\"],[0.2222222222222222,\\\"#7201a8\\\"],[0.3333333333333333,\\\"#9c179e\\\"],[0.4444444444444444,\\\"#bd3786\\\"],[0.5555555555555556,\\\"#d8576b\\\"],[0.6666666666666666,\\\"#ed7953\\\"],[0.7777777777777778,\\\"#fb9f3a\\\"],[0.8888888888888888,\\\"#fdca26\\\"],[1.0,\\\"#f0f921\\\"]]}],\\\"scattermapbox\\\":[{\\\"type\\\":\\\"scattermapbox\\\",\\\"marker\\\":{\\\"colorbar\\\":{\\\"ticks\\\":\\\"\\\",\\\"outlinewidth\\\":0}}}],\\\"scattergeo\\\":[{\\\"type\\\":\\\"scattergeo\\\",\\\"marker\\\":{\\\"colorbar\\\":{\\\"ticks\\\":\\\"\\\",\\\"outlinewidth\\\":0}}}],\\\"histogram\\\":[{\\\"type\\\":\\\"histogram\\\",\\\"marker\\\":{\\\"colorbar\\\":{\\\"ticks\\\":\\\"\\\",\\\"outlinewidth\\\":0}}}],\\\"pie\\\":[{\\\"type\\\":\\\"pie\\\",\\\"automargin\\\":true}],\\\"choropleth\\\":[{\\\"colorbar\\\":{\\\"ticks\\\":\\\"\\\",\\\"outlinewidth\\\":0},\\\"type\\\":\\\"choropleth\\\"}],\\\"heatmapgl\\\":[{\\\"colorbar\\\":{\\\"ticks\\\":\\\"\\\",\\\"outlinewidth\\\":0},\\\"type\\\":\\\"heatmapgl\\\",\\\"colorscale\\\":[[0.0,\\\"#0d0887\\\"],[0.1111111111111111,\\\"#46039f\\\"],[0.2222222222222222,\\\"#7201a8\\\"],[0.3333333333333333,\\\"#9c179e\\\"],[0.4444444444444444,\\\"#bd3786\\\"],[0.5555555555555556,\\\"#d8576b\\\"],[0.6666666666666666,\\\"#ed7953\\\"],[0.7777777777777778,\\\"#fb9f3a\\\"],[0.8888888888888888,\\\"#fdca26\\\"],[1.0,\\\"#f0f921\\\"]]}],\\\"bar\\\":[{\\\"type\\\":\\\"bar\\\",\\\"error_y\\\":{\\\"color\\\":\\\"#2a3f5f\\\"},\\\"error_x\\\":{\\\"color\\\":\\\"#2a3f5f\\\"},\\\"marker\\\":{\\\"line\\\":{\\\"color\\\":\\\"#E5ECF6\\\",\\\"width\\\":0.5}}}],\\\"heatmap\\\":[{\\\"colorbar\\\":{\\\"ticks\\\":\\\"\\\",\\\"outlinewidth\\\":0},\\\"type\\\":\\\"heatmap\\\",\\\"colorscale\\\":[[0.0,\\\"#0d0887\\\"],[0.1111111111111111,\\\"#46039f\\\"],[0.2222222222222222,\\\"#7201a8\\\"],[0.3333333333333333,\\\"#9c179e\\\"],[0.4444444444444444,\\\"#bd3786\\\"],[0.5555555555555556,\\\"#d8576b\\\"],[0.6666666666666666,\\\"#ed7953\\\"],[0.7777777777777778,\\\"#fb9f3a\\\"],[0.8888888888888888,\\\"#fdca26\\\"],[1.0,\\\"#f0f921\\\"]]}],\\\"contourcarpet\\\":[{\\\"colorbar\\\":{\\\"ticks\\\":\\\"\\\",\\\"outlinewidth\\\":0},\\\"type\\\":\\\"contourcarpet\\\"}],\\\"table\\\":[{\\\"type\\\":\\\"table\\\",\\\"header\\\":{\\\"line\\\":{\\\"color\\\":\\\"white\\\"},\\\"fill\\\":{\\\"color\\\":\\\"#C8D4E3\\\"}},\\\"cells\\\":{\\\"line\\\":{\\\"color\\\":\\\"white\\\"},\\\"fill\\\":{\\\"color\\\":\\\"#EBF0F8\\\"}}}],\\\"scatter3d\\\":[{\\\"line\\\":{\\\"colorbar\\\":{\\\"ticks\\\":\\\"\\\",\\\"outlinewidth\\\":0}},\\\"type\\\":\\\"scatter3d\\\",\\\"marker\\\":{\\\"colorbar\\\":{\\\"ticks\\\":\\\"\\\",\\\"outlinewidth\\\":0}}}],\\\"scattergl\\\":[{\\\"type\\\":\\\"scattergl\\\",\\\"marker\\\":{\\\"colorbar\\\":{\\\"ticks\\\":\\\"\\\",\\\"outlinewidth\\\":0}}}],\\\"histogram2d\\\":[{\\\"colorbar\\\":{\\\"ticks\\\":\\\"\\\",\\\"outlinewidth\\\":0},\\\"type\\\":\\\"histogram2d\\\",\\\"colorscale\\\":[[0.0,\\\"#0d0887\\\"],[0.1111111111111111,\\\"#46039f\\\"],[0.2222222222222222,\\\"#7201a8\\\"],[0.3333333333333333,\\\"#9c179e\\\"],[0.4444444444444444,\\\"#bd3786\\\"],[0.5555555555555556,\\\"#d8576b\\\"],[0.6666666666666666,\\\"#ed7953\\\"],[0.7777777777777778,\\\"#fb9f3a\\\"],[0.8888888888888888,\\\"#fdca26\\\"],[1.0,\\\"#f0f921\\\"]]}],\\\"scatterternary\\\":[{\\\"type\\\":\\\"scatterternary\\\",\\\"marker\\\":{\\\"colorbar\\\":{\\\"ticks\\\":\\\"\\\",\\\"outlinewidth\\\":0}}}],\\\"scatterpolargl\\\":[{\\\"type\\\":\\\"scatterpolargl\\\",\\\"marker\\\":{\\\"colorbar\\\":{\\\"ticks\\\":\\\"\\\",\\\"outlinewidth\\\":0}}}]}},\\\"margin\\\":{\\\"l\\\":50,\\\"b\\\":50,\\\"r\\\":50,\\\"t\\\":60},\\\"title\\\":\\\"GOOG Returns\\\",\\\"yaxis\\\":{\\\"title\\\":{\\\"text\\\":\\\"GOOG Returns\\\"}}},{\\\"showLink\\\":false,\\\"editable\\\":false,\\\"responsive\\\":true,\\\"staticPlot\\\":false,\\\"scrollZoom\\\":true}); gd.on(\\\"plotly_hover\\\",(function (data){var filtered_data=WebIO.PlotlyCommands.filterEventData(gd,data,\\\"hover\\\"); return !(filtered_data.isnil) ? (WebIO.setval({\\\"name\\\":\\\"hover\\\",\\\"scope\\\":\\\"2261098499266997507\\\",\\\"id\\\":\\\"6260841848357985311\\\",\\\"type\\\":\\\"observable\\\"},filtered_data.out)) : undefined})); gd.on(\\\"plotly_unhover\\\",(function (){return WebIO.setval({\\\"name\\\":\\\"hover\\\",\\\"scope\\\":\\\"2261098499266997507\\\",\\\"id\\\":\\\"6260841848357985311\\\",\\\"type\\\":\\\"observable\\\"},{})})); gd.on(\\\"plotly_selected\\\",(function (data){var filtered_data=WebIO.PlotlyCommands.filterEventData(gd,data,\\\"selected\\\"); return !(filtered_data.isnil) ? (WebIO.setval({\\\"name\\\":\\\"selected\\\",\\\"scope\\\":\\\"2261098499266997507\\\",\\\"id\\\":\\\"2719168162527052424\\\",\\\"type\\\":\\\"observable\\\"},filtered_data.out)) : undefined})); gd.on(\\\"plotly_deselect\\\",(function (){return WebIO.setval({\\\"name\\\":\\\"selected\\\",\\\"scope\\\":\\\"2261098499266997507\\\",\\\"id\\\":\\\"2719168162527052424\\\",\\\"type\\\":\\\"observable\\\"},{})})); gd.on(\\\"plotly_relayout\\\",(function (data){var filtered_data=WebIO.PlotlyCommands.filterEventData(gd,data,\\\"relayout\\\"); return !(filtered_data.isnil) ? (WebIO.setval({\\\"name\\\":\\\"relayout\\\",\\\"scope\\\":\\\"2261098499266997507\\\",\\\"id\\\":\\\"15763171079209955563\\\",\\\"type\\\":\\\"observable\\\"},filtered_data.out)) : undefined})); return gd.on(\\\"plotly_click\\\",(function (data){var filtered_data=WebIO.PlotlyCommands.filterEventData(gd,data,\\\"click\\\"); return !(filtered_data.isnil) ? (WebIO.setval({\\\"name\\\":\\\"click\\\",\\\"scope\\\":\\\"2261098499266997507\\\",\\\"id\\\":\\\"9256313199893623644\\\",\\\"type\\\":\\\"observable\\\"},filtered_data.out)) : undefined}))}));\\n    (WebIO.importBlock({\\\"data\\\":[{\\\"name\\\":\\\"Plotly\\\",\\\"type\\\":\\\"js\\\",\\\"url\\\":\\\"\\/assetserver\\/c44b2cd04b3a3572f00c5d295ffe9c45b94a9a49-plotly.min.js\\\"},{\\\"name\\\":null,\\\"type\\\":\\\"js\\\",\\\"url\\\":\\\"\\/assetserver\\/5d2f409fc13299e6b724930d0745c21ad970d6a4-plotly_webio.bundle.js\\\"}],\\\"type\\\":\\\"async_block\\\"})).then((imports) => handler.apply(this, imports));\\n}\\n\"],\"observables\":{\"_toImage\":{\"sync\":false,\"id\":\"2101982824240755625\",\"value\":{}},\"hover\":{\"sync\":false,\"id\":\"6260841848357985311\",\"value\":{}},\"selected\":{\"sync\":false,\"id\":\"2719168162527052424\",\"value\":{}},\"__gd_contents\":{\"sync\":false,\"id\":\"10073446851645357928\",\"value\":{}},\"click\":{\"sync\":false,\"id\":\"9256313199893623644\",\"value\":{}},\"image\":{\"sync\":true,\"id\":\"14703728998288812132\",\"value\":\"\"},\"__get_gd_contents\":{\"sync\":false,\"id\":\"17217021076553239980\",\"value\":\"\"},\"_downloadImage\":{\"sync\":false,\"id\":\"5644236906182535764\",\"value\":{}},\"relayout\":{\"sync\":false,\"id\":\"15763171079209955563\",\"value\":{}},\"_commands\":{\"sync\":false,\"id\":\"9308347742321173920\",\"value\":[]}}},\"children\":[{\"props\":{\"id\":\"plot-a8e6024b-72e9-4ec9-908b-d2eccbdf6014\"},\"nodeType\":\"DOM\",\"type\":\"node\",\"instanceArgs\":{\"namespace\":\"html\",\"tag\":\"div\"},\"children\":[]}]},\n",
       "        window,\n",
       "    );\n",
       "    })()\n",
       "    </script>\n",
       "</div>\n"
      ],
      "text/plain": [
       "data: [\n",
       "  \"scatter with fields mode, type, x, and y\"\n",
       "]\n",
       "\n",
       "layout: \"layout with fields margin, template, title, and yaxis\"\n",
       "\n"
      ]
     },
     "execution_count": 39,
     "metadata": {},
     "output_type": "execute_result"
    }
   ],
   "source": [
    "PlotlyJS.plot( GOOG.Date, GOOG.Return,mode=\"markers+lines\",\n",
    "               Layout(title=      \"GOOG Returns\",\n",
    "                      yaxis_title=\"GOOG Returns\") )"
   ]
  },
  {
   "cell_type": "code",
   "execution_count": 40,
   "id": "f1164c4e-cbb4-4733-bf21-7e37c02dd300",
   "metadata": {},
   "outputs": [
    {
     "data": {
      "application/vnd.plotly.v1+json": {
       "config": {
        "editable": false,
        "responsive": true,
        "scrollZoom": true,
        "showLink": false,
        "staticPlot": false
       },
       "data": [
        {
         "mode": "markers+lines",
         "type": "scatter",
         "x": [
          "13/12/2021",
          "14/12/2021",
          "15/12/2021",
          "16/12/2021",
          "17/12/2021",
          "20/12/2021",
          "21/12/2021",
          "22/12/2021",
          "23/12/2021",
          "27/12/2021",
          "28/12/2021",
          "29/12/2021",
          "30/12/2021",
          "31/12/2021",
          "03/01/2022",
          "04/01/2022",
          "05/01/2022",
          "06/01/2022",
          "07/01/2022",
          "10/01/2022",
          "11/01/2022",
          "12/01/2022",
          "13/01/2022",
          "14/01/2022",
          "18/01/2022",
          "19/01/2022",
          "20/01/2022",
          "21/01/2022",
          "24/01/2022",
          "25/01/2022",
          "26/01/2022",
          "27/01/2022",
          "28/01/2022",
          "31/01/2022",
          "01/02/2022",
          "02/02/2022",
          "03/02/2022",
          "04/02/2022",
          "07/02/2022",
          "08/02/2022",
          "09/02/2022",
          "10/02/2022",
          "11/02/2022",
          "14/02/2022",
          "15/02/2022",
          "16/02/2022",
          "17/02/2022",
          "18/02/2022",
          "22/02/2022",
          "23/02/2022",
          "24/02/2022",
          "25/02/2022",
          "28/02/2022",
          "01/03/2022",
          "02/03/2022",
          "03/03/2022",
          "04/03/2022",
          "07/03/2022",
          "08/03/2022",
          "09/03/2022",
          "10/03/2022"
         ],
         "y": [
          null,
          -0.005211746081476058,
          0.03714275177429,
          -0.011740098034771423,
          0.012690376793685097,
          -0.04194509900426443,
          -0.013697706824565684,
          -0.04332122371579975,
          -0.01698120445215846,
          -0.00176268953871606,
          -0.052738982149411195,
          -0.0032725477201129565,
          0.06732885970105622,
          0.0038549511612082075,
          -0.10065936077545504,
          -0.03346995815906942,
          -0.05649517259128344,
          0.015655356901042892,
          -0.01350474495890965,
          0.08572509602955235,
          -0.06173911739130433,
          0.0234939385056449,
          -0.08095255310708906,
          -0.03443521763546928,
          -0.1365816530612245,
          -0.04473197529355265,
          -0.03173329749515522,
          -0.05768861596939002,
          0.02359319322033898,
          0.03649496056417962,
          0.02690262550633825,
          -0.038332321810808666,
          0.049695925636543715,
          0.0607816603329944,
          0.04370062710715217,
          0.003062293884333082,
          -0.028476215214306322,
          0.008856147666411913,
          -0.021294720795927684,
          -0.0764422901040714,
          0.08602754062553104,
          -0.03340454008648772,
          0.020353373179381632,
          -0.09605146702634919,
          0.057658726834004505,
          0.012542847374659258,
          -0.04912685814469572,
          -0.0026690327740911644,
          -0.04492164464226274,
          -0.05824267835240964,
          0.09138561656600705,
          -0.022328982504595505,
          0.001261472621878779,
          -0.02705392251248493,
          0.0014993594084197776,
          -0.03191563181862462,
          -0.04217629840349706,
          -0.07346246416639017,
          0.015128744554455339,
          0.09402311660352324,
          -0.020968567528849708
         ]
        }
       ],
       "frames": [],
       "layout": {
        "margin": {
         "b": 50,
         "l": 50,
         "r": 50,
         "t": 60
        },
        "template": {
         "data": {
          "bar": [
           {
            "error_x": {
             "color": "#2a3f5f"
            },
            "error_y": {
             "color": "#2a3f5f"
            },
            "marker": {
             "line": {
              "color": "#E5ECF6",
              "width": 0.5
             }
            },
            "type": "bar"
           }
          ],
          "barpolar": [
           {
            "marker": {
             "line": {
              "color": "#E5ECF6",
              "width": 0.5
             }
            },
            "type": "barpolar"
           }
          ],
          "carpet": [
           {
            "aaxis": {
             "endlinecolor": "#2a3f5f",
             "gridcolor": "white",
             "linecolor": "white",
             "minorgridcolor": "white",
             "startlinecolor": "#2a3f5f"
            },
            "baxis": {
             "endlinecolor": "#2a3f5f",
             "gridcolor": "white",
             "linecolor": "white",
             "minorgridcolor": "white",
             "startlinecolor": "#2a3f5f"
            },
            "type": "carpet"
           }
          ],
          "choropleth": [
           {
            "colorbar": {
             "outlinewidth": 0,
             "ticks": ""
            },
            "type": "choropleth"
           }
          ],
          "contour": [
           {
            "colorbar": {
             "outlinewidth": 0,
             "ticks": ""
            },
            "colorscale": [
             [
              0,
              "#0d0887"
             ],
             [
              0.1111111111111111,
              "#46039f"
             ],
             [
              0.2222222222222222,
              "#7201a8"
             ],
             [
              0.3333333333333333,
              "#9c179e"
             ],
             [
              0.4444444444444444,
              "#bd3786"
             ],
             [
              0.5555555555555556,
              "#d8576b"
             ],
             [
              0.6666666666666666,
              "#ed7953"
             ],
             [
              0.7777777777777778,
              "#fb9f3a"
             ],
             [
              0.8888888888888888,
              "#fdca26"
             ],
             [
              1,
              "#f0f921"
             ]
            ],
            "type": "contour"
           }
          ],
          "contourcarpet": [
           {
            "colorbar": {
             "outlinewidth": 0,
             "ticks": ""
            },
            "type": "contourcarpet"
           }
          ],
          "heatmap": [
           {
            "colorbar": {
             "outlinewidth": 0,
             "ticks": ""
            },
            "colorscale": [
             [
              0,
              "#0d0887"
             ],
             [
              0.1111111111111111,
              "#46039f"
             ],
             [
              0.2222222222222222,
              "#7201a8"
             ],
             [
              0.3333333333333333,
              "#9c179e"
             ],
             [
              0.4444444444444444,
              "#bd3786"
             ],
             [
              0.5555555555555556,
              "#d8576b"
             ],
             [
              0.6666666666666666,
              "#ed7953"
             ],
             [
              0.7777777777777778,
              "#fb9f3a"
             ],
             [
              0.8888888888888888,
              "#fdca26"
             ],
             [
              1,
              "#f0f921"
             ]
            ],
            "type": "heatmap"
           }
          ],
          "heatmapgl": [
           {
            "colorbar": {
             "outlinewidth": 0,
             "ticks": ""
            },
            "colorscale": [
             [
              0,
              "#0d0887"
             ],
             [
              0.1111111111111111,
              "#46039f"
             ],
             [
              0.2222222222222222,
              "#7201a8"
             ],
             [
              0.3333333333333333,
              "#9c179e"
             ],
             [
              0.4444444444444444,
              "#bd3786"
             ],
             [
              0.5555555555555556,
              "#d8576b"
             ],
             [
              0.6666666666666666,
              "#ed7953"
             ],
             [
              0.7777777777777778,
              "#fb9f3a"
             ],
             [
              0.8888888888888888,
              "#fdca26"
             ],
             [
              1,
              "#f0f921"
             ]
            ],
            "type": "heatmapgl"
           }
          ],
          "histogram": [
           {
            "marker": {
             "colorbar": {
              "outlinewidth": 0,
              "ticks": ""
             }
            },
            "type": "histogram"
           }
          ],
          "histogram2d": [
           {
            "colorbar": {
             "outlinewidth": 0,
             "ticks": ""
            },
            "colorscale": [
             [
              0,
              "#0d0887"
             ],
             [
              0.1111111111111111,
              "#46039f"
             ],
             [
              0.2222222222222222,
              "#7201a8"
             ],
             [
              0.3333333333333333,
              "#9c179e"
             ],
             [
              0.4444444444444444,
              "#bd3786"
             ],
             [
              0.5555555555555556,
              "#d8576b"
             ],
             [
              0.6666666666666666,
              "#ed7953"
             ],
             [
              0.7777777777777778,
              "#fb9f3a"
             ],
             [
              0.8888888888888888,
              "#fdca26"
             ],
             [
              1,
              "#f0f921"
             ]
            ],
            "type": "histogram2d"
           }
          ],
          "histogram2dcontour": [
           {
            "colorbar": {
             "outlinewidth": 0,
             "ticks": ""
            },
            "colorscale": [
             [
              0,
              "#0d0887"
             ],
             [
              0.1111111111111111,
              "#46039f"
             ],
             [
              0.2222222222222222,
              "#7201a8"
             ],
             [
              0.3333333333333333,
              "#9c179e"
             ],
             [
              0.4444444444444444,
              "#bd3786"
             ],
             [
              0.5555555555555556,
              "#d8576b"
             ],
             [
              0.6666666666666666,
              "#ed7953"
             ],
             [
              0.7777777777777778,
              "#fb9f3a"
             ],
             [
              0.8888888888888888,
              "#fdca26"
             ],
             [
              1,
              "#f0f921"
             ]
            ],
            "type": "histogram2dcontour"
           }
          ],
          "mesh3d": [
           {
            "colorbar": {
             "outlinewidth": 0,
             "ticks": ""
            },
            "type": "mesh3d"
           }
          ],
          "parcoords": [
           {
            "line": {
             "colorbar": {
              "outlinewidth": 0,
              "ticks": ""
             }
            },
            "type": "parcoords"
           }
          ],
          "pie": [
           {
            "automargin": true,
            "type": "pie"
           }
          ],
          "scatter": [
           {
            "marker": {
             "colorbar": {
              "outlinewidth": 0,
              "ticks": ""
             }
            },
            "type": "scatter"
           }
          ],
          "scatter3d": [
           {
            "line": {
             "colorbar": {
              "outlinewidth": 0,
              "ticks": ""
             }
            },
            "marker": {
             "colorbar": {
              "outlinewidth": 0,
              "ticks": ""
             }
            },
            "type": "scatter3d"
           }
          ],
          "scattercarpet": [
           {
            "marker": {
             "colorbar": {
              "outlinewidth": 0,
              "ticks": ""
             }
            },
            "type": "scattercarpet"
           }
          ],
          "scattergeo": [
           {
            "marker": {
             "colorbar": {
              "outlinewidth": 0,
              "ticks": ""
             }
            },
            "type": "scattergeo"
           }
          ],
          "scattergl": [
           {
            "marker": {
             "colorbar": {
              "outlinewidth": 0,
              "ticks": ""
             }
            },
            "type": "scattergl"
           }
          ],
          "scattermapbox": [
           {
            "marker": {
             "colorbar": {
              "outlinewidth": 0,
              "ticks": ""
             }
            },
            "type": "scattermapbox"
           }
          ],
          "scatterpolar": [
           {
            "marker": {
             "colorbar": {
              "outlinewidth": 0,
              "ticks": ""
             }
            },
            "type": "scatterpolar"
           }
          ],
          "scatterpolargl": [
           {
            "marker": {
             "colorbar": {
              "outlinewidth": 0,
              "ticks": ""
             }
            },
            "type": "scatterpolargl"
           }
          ],
          "scatterternary": [
           {
            "marker": {
             "colorbar": {
              "outlinewidth": 0,
              "ticks": ""
             }
            },
            "type": "scatterternary"
           }
          ],
          "surface": [
           {
            "colorbar": {
             "outlinewidth": 0,
             "ticks": ""
            },
            "colorscale": [
             [
              0,
              "#0d0887"
             ],
             [
              0.1111111111111111,
              "#46039f"
             ],
             [
              0.2222222222222222,
              "#7201a8"
             ],
             [
              0.3333333333333333,
              "#9c179e"
             ],
             [
              0.4444444444444444,
              "#bd3786"
             ],
             [
              0.5555555555555556,
              "#d8576b"
             ],
             [
              0.6666666666666666,
              "#ed7953"
             ],
             [
              0.7777777777777778,
              "#fb9f3a"
             ],
             [
              0.8888888888888888,
              "#fdca26"
             ],
             [
              1,
              "#f0f921"
             ]
            ],
            "type": "surface"
           }
          ],
          "table": [
           {
            "cells": {
             "fill": {
              "color": "#EBF0F8"
             },
             "line": {
              "color": "white"
             }
            },
            "header": {
             "fill": {
              "color": "#C8D4E3"
             },
             "line": {
              "color": "white"
             }
            },
            "type": "table"
           }
          ]
         },
         "layout": {
          "annotationdefaults": {
           "arrowcolor": "#2a3f5f",
           "arrowhead": 0,
           "arrowwidth": 1
          },
          "autotypenumbers": "strict",
          "coloraxis": {
           "colorbar": {
            "outlinewidth": 0,
            "ticks": ""
           }
          },
          "colorscale": {
           "diverging": [
            [
             0,
             "#8e0152"
            ],
            [
             0.1,
             "#c51b7d"
            ],
            [
             0.2,
             "#de77ae"
            ],
            [
             0.3,
             "#f1b6da"
            ],
            [
             0.4,
             "#fde0ef"
            ],
            [
             0.5,
             "#f7f7f7"
            ],
            [
             0.6,
             "#e6f5d0"
            ],
            [
             0.7,
             "#b8e186"
            ],
            [
             0.8,
             "#7fbc41"
            ],
            [
             0.9,
             "#4d9221"
            ],
            [
             1,
             "#276419"
            ]
           ],
           "sequential": [
            [
             0,
             "#0d0887"
            ],
            [
             0.1111111111111111,
             "#46039f"
            ],
            [
             0.2222222222222222,
             "#7201a8"
            ],
            [
             0.3333333333333333,
             "#9c179e"
            ],
            [
             0.4444444444444444,
             "#bd3786"
            ],
            [
             0.5555555555555556,
             "#d8576b"
            ],
            [
             0.6666666666666666,
             "#ed7953"
            ],
            [
             0.7777777777777778,
             "#fb9f3a"
            ],
            [
             0.8888888888888888,
             "#fdca26"
            ],
            [
             1,
             "#f0f921"
            ]
           ],
           "sequentialminus": [
            [
             0,
             "#0d0887"
            ],
            [
             0.1111111111111111,
             "#46039f"
            ],
            [
             0.2222222222222222,
             "#7201a8"
            ],
            [
             0.3333333333333333,
             "#9c179e"
            ],
            [
             0.4444444444444444,
             "#bd3786"
            ],
            [
             0.5555555555555556,
             "#d8576b"
            ],
            [
             0.6666666666666666,
             "#ed7953"
            ],
            [
             0.7777777777777778,
             "#fb9f3a"
            ],
            [
             0.8888888888888888,
             "#fdca26"
            ],
            [
             1,
             "#f0f921"
            ]
           ]
          },
          "colorway": [
           "#636efa",
           "#EF553B",
           "#00cc96",
           "#ab63fa",
           "#FFA15A",
           "#19d3f3",
           "#FF6692",
           "#B6E880",
           "#FF97FF",
           "#FECB52"
          ],
          "font": {
           "color": "#2a3f5f"
          },
          "geo": {
           "bgcolor": "white",
           "lakecolor": "white",
           "landcolor": "#E5ECF6",
           "showlakes": true,
           "showland": true,
           "subunitcolor": "white"
          },
          "hoverlabel": {
           "align": "left"
          },
          "hovermode": "closest",
          "mapbox": {
           "style": "light"
          },
          "paper_bgcolor": "white",
          "plot_bgcolor": "#E5ECF6",
          "polar": {
           "angularaxis": {
            "gridcolor": "white",
            "linecolor": "white",
            "ticks": ""
           },
           "bgcolor": "#E5ECF6",
           "radialaxis": {
            "gridcolor": "white",
            "linecolor": "white",
            "ticks": ""
           }
          },
          "scene": {
           "xaxis": {
            "backgroundcolor": "#E5ECF6",
            "gridcolor": "white",
            "gridwidth": 2,
            "linecolor": "white",
            "showbackground": true,
            "ticks": "",
            "zerolinecolor": "white"
           },
           "yaxis": {
            "backgroundcolor": "#E5ECF6",
            "gridcolor": "white",
            "gridwidth": 2,
            "linecolor": "white",
            "showbackground": true,
            "ticks": "",
            "zerolinecolor": "white"
           },
           "zaxis": {
            "backgroundcolor": "#E5ECF6",
            "gridcolor": "white",
            "gridwidth": 2,
            "linecolor": "white",
            "showbackground": true,
            "ticks": "",
            "zerolinecolor": "white"
           }
          },
          "shapedefaults": {
           "line": {
            "color": "#2a3f5f"
           }
          },
          "ternary": {
           "aaxis": {
            "gridcolor": "white",
            "linecolor": "white",
            "ticks": ""
           },
           "baxis": {
            "gridcolor": "white",
            "linecolor": "white",
            "ticks": ""
           },
           "bgcolor": "#E5ECF6",
           "caxis": {
            "gridcolor": "white",
            "linecolor": "white",
            "ticks": ""
           }
          },
          "title": {
           "x": 0.05
          },
          "xaxis": {
           "automargin": true,
           "gridcolor": "white",
           "linecolor": "white",
           "ticks": "",
           "title": {
            "standoff": 15
           },
           "zerolinecolor": "white",
           "zerolinewidth": 2
          },
          "yaxis": {
           "automargin": true,
           "gridcolor": "white",
           "linecolor": "white",
           "ticks": "",
           "title": {
            "standoff": 15
           },
           "zerolinecolor": "white",
           "zerolinewidth": 2
          }
         }
        },
        "title": "BioNTech Returns",
        "yaxis": {
         "title": {
          "text": "BNTX Returns"
         }
        }
       }
      },
      "text/html": [
       "<div\n",
       "    class=\"webio-mountpoint\"\n",
       "    data-webio-mountpoint=\"6286917525295671308\"\n",
       ">\n",
       "    <script>\n",
       "    (function(){\n",
       "    // Some integrations (namely, IJulia/Jupyter) use an alternate render pathway than\n",
       "    // just putting the html on the page. If WebIO isn't defined, then it's pretty likely\n",
       "    // that we're in one of those situations and the integration just isn't installed\n",
       "    // correctly.\n",
       "    if (typeof window.WebIO === \"undefined\") {\n",
       "        document\n",
       "            .querySelector('[data-webio-mountpoint=\"6286917525295671308\"]')\n",
       "            .innerHTML = (\n",
       "                '<div style=\"padding: 1em; background-color: #f8d6da; border: 1px solid #f5c6cb; font-weight: bold;\">' +\n",
       "                '<p><strong>WebIO not detected.</strong></p>' +\n",
       "                '<p>Please read ' +\n",
       "                '<a href=\"https://juliagizmos.github.io/WebIO.jl/latest/troubleshooting/not-detected/\" target=\"_blank\">the troubleshooting guide</a> ' +\n",
       "                'for more information on how to resolve this issue.</p>' +\n",
       "                '<p><a href=\"https://juliagizmos.github.io/WebIO.jl/latest/troubleshooting/not-detected/\" target=\"_blank\">https://juliagizmos.github.io/WebIO.jl/latest/troubleshooting/not-detected/</a></p>' +\n",
       "                '</div>'\n",
       "            );\n",
       "        return;\n",
       "    }\n",
       "    WebIO.mount(\n",
       "        document.querySelector('[data-webio-mountpoint=\"6286917525295671308\"]'),\n",
       "        {\"props\":{},\"nodeType\":\"Scope\",\"type\":\"node\",\"instanceArgs\":{\"imports\":{\"data\":[{\"name\":\"Plotly\",\"type\":\"js\",\"url\":\"\\/assetserver\\/c44b2cd04b3a3572f00c5d295ffe9c45b94a9a49-plotly.min.js\"},{\"name\":null,\"type\":\"js\",\"url\":\"\\/assetserver\\/5d2f409fc13299e6b724930d0745c21ad970d6a4-plotly_webio.bundle.js\"}],\"type\":\"async_block\"},\"id\":\"9555481872241806613\",\"handlers\":{\"_toImage\":[\"(function (options){return this.Plotly.toImage(this.plotElem,options).then((function (data){return WebIO.setval({\\\"name\\\":\\\"image\\\",\\\"scope\\\":\\\"9555481872241806613\\\",\\\"id\\\":\\\"13194274604105894540\\\",\\\"type\\\":\\\"observable\\\"},data)}))})\"],\"__get_gd_contents\":[\"(function (prop){prop==\\\"data\\\" ? (WebIO.setval({\\\"name\\\":\\\"__gd_contents\\\",\\\"scope\\\":\\\"9555481872241806613\\\",\\\"id\\\":\\\"17702558159552499343\\\",\\\"type\\\":\\\"observable\\\"},this.plotElem.data)) : undefined; return prop==\\\"layout\\\" ? (WebIO.setval({\\\"name\\\":\\\"__gd_contents\\\",\\\"scope\\\":\\\"9555481872241806613\\\",\\\"id\\\":\\\"17702558159552499343\\\",\\\"type\\\":\\\"observable\\\"},this.plotElem.layout)) : undefined})\"],\"_downloadImage\":[\"(function (options){return this.Plotly.downloadImage(this.plotElem,options)})\"],\"_commands\":[\"(function (args){var fn=args.shift(); var elem=this.plotElem; var Plotly=this.Plotly; args.unshift(elem); return Plotly[fn].apply(this,args)})\"]},\"systemjs_options\":null,\"mount_callbacks\":[\"function () {\\n    var handler = ((function (Plotly,PlotlyWebIO){PlotlyWebIO.init(WebIO); var gd=this.dom.querySelector(\\\"#plot-51dd4dda-cfd2-4781-b522-7826241efee2\\\"); this.plotElem=gd; this.Plotly=Plotly; (window.Blink!==undefined) ? (gd.style.width=\\\"100%\\\", gd.style.height=\\\"100vh\\\", gd.style.marginLeft=\\\"0%\\\", gd.style.marginTop=\\\"0vh\\\") : undefined; window.onresize=(function (){return Plotly.Plots.resize(gd)}); Plotly.newPlot(gd,[{\\\"mode\\\":\\\"markers+lines\\\",\\\"y\\\":[null,-0.005211746081476058,0.03714275177429,-0.011740098034771423,0.012690376793685097,-0.04194509900426443,-0.013697706824565684,-0.04332122371579975,-0.01698120445215846,-0.00176268953871606,-0.052738982149411195,-0.0032725477201129565,0.06732885970105622,0.0038549511612082075,-0.10065936077545504,-0.03346995815906942,-0.05649517259128344,0.015655356901042892,-0.01350474495890965,0.08572509602955235,-0.06173911739130433,0.0234939385056449,-0.08095255310708906,-0.03443521763546928,-0.1365816530612245,-0.04473197529355265,-0.03173329749515522,-0.05768861596939002,0.02359319322033898,0.03649496056417962,0.02690262550633825,-0.038332321810808666,0.049695925636543715,0.0607816603329944,0.04370062710715217,0.003062293884333082,-0.028476215214306322,0.008856147666411913,-0.021294720795927684,-0.0764422901040714,0.08602754062553104,-0.03340454008648772,0.020353373179381632,-0.09605146702634919,0.057658726834004505,0.012542847374659258,-0.04912685814469572,-0.0026690327740911644,-0.04492164464226274,-0.05824267835240964,0.09138561656600705,-0.022328982504595505,0.001261472621878779,-0.02705392251248493,0.0014993594084197776,-0.03191563181862462,-0.04217629840349706,-0.07346246416639017,0.015128744554455339,0.09402311660352324,-0.020968567528849708],\\\"type\\\":\\\"scatter\\\",\\\"x\\\":[\\\"13\\/12\\/2021\\\",\\\"14\\/12\\/2021\\\",\\\"15\\/12\\/2021\\\",\\\"16\\/12\\/2021\\\",\\\"17\\/12\\/2021\\\",\\\"20\\/12\\/2021\\\",\\\"21\\/12\\/2021\\\",\\\"22\\/12\\/2021\\\",\\\"23\\/12\\/2021\\\",\\\"27\\/12\\/2021\\\",\\\"28\\/12\\/2021\\\",\\\"29\\/12\\/2021\\\",\\\"30\\/12\\/2021\\\",\\\"31\\/12\\/2021\\\",\\\"03\\/01\\/2022\\\",\\\"04\\/01\\/2022\\\",\\\"05\\/01\\/2022\\\",\\\"06\\/01\\/2022\\\",\\\"07\\/01\\/2022\\\",\\\"10\\/01\\/2022\\\",\\\"11\\/01\\/2022\\\",\\\"12\\/01\\/2022\\\",\\\"13\\/01\\/2022\\\",\\\"14\\/01\\/2022\\\",\\\"18\\/01\\/2022\\\",\\\"19\\/01\\/2022\\\",\\\"20\\/01\\/2022\\\",\\\"21\\/01\\/2022\\\",\\\"24\\/01\\/2022\\\",\\\"25\\/01\\/2022\\\",\\\"26\\/01\\/2022\\\",\\\"27\\/01\\/2022\\\",\\\"28\\/01\\/2022\\\",\\\"31\\/01\\/2022\\\",\\\"01\\/02\\/2022\\\",\\\"02\\/02\\/2022\\\",\\\"03\\/02\\/2022\\\",\\\"04\\/02\\/2022\\\",\\\"07\\/02\\/2022\\\",\\\"08\\/02\\/2022\\\",\\\"09\\/02\\/2022\\\",\\\"10\\/02\\/2022\\\",\\\"11\\/02\\/2022\\\",\\\"14\\/02\\/2022\\\",\\\"15\\/02\\/2022\\\",\\\"16\\/02\\/2022\\\",\\\"17\\/02\\/2022\\\",\\\"18\\/02\\/2022\\\",\\\"22\\/02\\/2022\\\",\\\"23\\/02\\/2022\\\",\\\"24\\/02\\/2022\\\",\\\"25\\/02\\/2022\\\",\\\"28\\/02\\/2022\\\",\\\"01\\/03\\/2022\\\",\\\"02\\/03\\/2022\\\",\\\"03\\/03\\/2022\\\",\\\"04\\/03\\/2022\\\",\\\"07\\/03\\/2022\\\",\\\"08\\/03\\/2022\\\",\\\"09\\/03\\/2022\\\",\\\"10\\/03\\/2022\\\"]}],{\\\"template\\\":{\\\"layout\\\":{\\\"coloraxis\\\":{\\\"colorbar\\\":{\\\"ticks\\\":\\\"\\\",\\\"outlinewidth\\\":0}},\\\"xaxis\\\":{\\\"gridcolor\\\":\\\"white\\\",\\\"zerolinewidth\\\":2,\\\"title\\\":{\\\"standoff\\\":15},\\\"ticks\\\":\\\"\\\",\\\"zerolinecolor\\\":\\\"white\\\",\\\"automargin\\\":true,\\\"linecolor\\\":\\\"white\\\"},\\\"hovermode\\\":\\\"closest\\\",\\\"paper_bgcolor\\\":\\\"white\\\",\\\"geo\\\":{\\\"showlakes\\\":true,\\\"showland\\\":true,\\\"landcolor\\\":\\\"#E5ECF6\\\",\\\"bgcolor\\\":\\\"white\\\",\\\"subunitcolor\\\":\\\"white\\\",\\\"lakecolor\\\":\\\"white\\\"},\\\"colorscale\\\":{\\\"sequential\\\":[[0.0,\\\"#0d0887\\\"],[0.1111111111111111,\\\"#46039f\\\"],[0.2222222222222222,\\\"#7201a8\\\"],[0.3333333333333333,\\\"#9c179e\\\"],[0.4444444444444444,\\\"#bd3786\\\"],[0.5555555555555556,\\\"#d8576b\\\"],[0.6666666666666666,\\\"#ed7953\\\"],[0.7777777777777778,\\\"#fb9f3a\\\"],[0.8888888888888888,\\\"#fdca26\\\"],[1.0,\\\"#f0f921\\\"]],\\\"diverging\\\":[[0,\\\"#8e0152\\\"],[0.1,\\\"#c51b7d\\\"],[0.2,\\\"#de77ae\\\"],[0.3,\\\"#f1b6da\\\"],[0.4,\\\"#fde0ef\\\"],[0.5,\\\"#f7f7f7\\\"],[0.6,\\\"#e6f5d0\\\"],[0.7,\\\"#b8e186\\\"],[0.8,\\\"#7fbc41\\\"],[0.9,\\\"#4d9221\\\"],[1,\\\"#276419\\\"]],\\\"sequentialminus\\\":[[0.0,\\\"#0d0887\\\"],[0.1111111111111111,\\\"#46039f\\\"],[0.2222222222222222,\\\"#7201a8\\\"],[0.3333333333333333,\\\"#9c179e\\\"],[0.4444444444444444,\\\"#bd3786\\\"],[0.5555555555555556,\\\"#d8576b\\\"],[0.6666666666666666,\\\"#ed7953\\\"],[0.7777777777777778,\\\"#fb9f3a\\\"],[0.8888888888888888,\\\"#fdca26\\\"],[1.0,\\\"#f0f921\\\"]]},\\\"yaxis\\\":{\\\"gridcolor\\\":\\\"white\\\",\\\"zerolinewidth\\\":2,\\\"title\\\":{\\\"standoff\\\":15},\\\"ticks\\\":\\\"\\\",\\\"zerolinecolor\\\":\\\"white\\\",\\\"automargin\\\":true,\\\"linecolor\\\":\\\"white\\\"},\\\"shapedefaults\\\":{\\\"line\\\":{\\\"color\\\":\\\"#2a3f5f\\\"}},\\\"hoverlabel\\\":{\\\"align\\\":\\\"left\\\"},\\\"mapbox\\\":{\\\"style\\\":\\\"light\\\"},\\\"polar\\\":{\\\"angularaxis\\\":{\\\"gridcolor\\\":\\\"white\\\",\\\"ticks\\\":\\\"\\\",\\\"linecolor\\\":\\\"white\\\"},\\\"bgcolor\\\":\\\"#E5ECF6\\\",\\\"radialaxis\\\":{\\\"gridcolor\\\":\\\"white\\\",\\\"ticks\\\":\\\"\\\",\\\"linecolor\\\":\\\"white\\\"}},\\\"autotypenumbers\\\":\\\"strict\\\",\\\"font\\\":{\\\"color\\\":\\\"#2a3f5f\\\"},\\\"ternary\\\":{\\\"baxis\\\":{\\\"gridcolor\\\":\\\"white\\\",\\\"ticks\\\":\\\"\\\",\\\"linecolor\\\":\\\"white\\\"},\\\"bgcolor\\\":\\\"#E5ECF6\\\",\\\"caxis\\\":{\\\"gridcolor\\\":\\\"white\\\",\\\"ticks\\\":\\\"\\\",\\\"linecolor\\\":\\\"white\\\"},\\\"aaxis\\\":{\\\"gridcolor\\\":\\\"white\\\",\\\"ticks\\\":\\\"\\\",\\\"linecolor\\\":\\\"white\\\"}},\\\"annotationdefaults\\\":{\\\"arrowhead\\\":0,\\\"arrowwidth\\\":1,\\\"arrowcolor\\\":\\\"#2a3f5f\\\"},\\\"plot_bgcolor\\\":\\\"#E5ECF6\\\",\\\"title\\\":{\\\"x\\\":0.05},\\\"scene\\\":{\\\"xaxis\\\":{\\\"gridcolor\\\":\\\"white\\\",\\\"gridwidth\\\":2,\\\"backgroundcolor\\\":\\\"#E5ECF6\\\",\\\"ticks\\\":\\\"\\\",\\\"showbackground\\\":true,\\\"zerolinecolor\\\":\\\"white\\\",\\\"linecolor\\\":\\\"white\\\"},\\\"zaxis\\\":{\\\"gridcolor\\\":\\\"white\\\",\\\"gridwidth\\\":2,\\\"backgroundcolor\\\":\\\"#E5ECF6\\\",\\\"ticks\\\":\\\"\\\",\\\"showbackground\\\":true,\\\"zerolinecolor\\\":\\\"white\\\",\\\"linecolor\\\":\\\"white\\\"},\\\"yaxis\\\":{\\\"gridcolor\\\":\\\"white\\\",\\\"gridwidth\\\":2,\\\"backgroundcolor\\\":\\\"#E5ECF6\\\",\\\"ticks\\\":\\\"\\\",\\\"showbackground\\\":true,\\\"zerolinecolor\\\":\\\"white\\\",\\\"linecolor\\\":\\\"white\\\"}},\\\"colorway\\\":[\\\"#636efa\\\",\\\"#EF553B\\\",\\\"#00cc96\\\",\\\"#ab63fa\\\",\\\"#FFA15A\\\",\\\"#19d3f3\\\",\\\"#FF6692\\\",\\\"#B6E880\\\",\\\"#FF97FF\\\",\\\"#FECB52\\\"]},\\\"data\\\":{\\\"barpolar\\\":[{\\\"type\\\":\\\"barpolar\\\",\\\"marker\\\":{\\\"line\\\":{\\\"color\\\":\\\"#E5ECF6\\\",\\\"width\\\":0.5}}}],\\\"carpet\\\":[{\\\"aaxis\\\":{\\\"gridcolor\\\":\\\"white\\\",\\\"endlinecolor\\\":\\\"#2a3f5f\\\",\\\"minorgridcolor\\\":\\\"white\\\",\\\"startlinecolor\\\":\\\"#2a3f5f\\\",\\\"linecolor\\\":\\\"white\\\"},\\\"type\\\":\\\"carpet\\\",\\\"baxis\\\":{\\\"gridcolor\\\":\\\"white\\\",\\\"endlinecolor\\\":\\\"#2a3f5f\\\",\\\"minorgridcolor\\\":\\\"white\\\",\\\"startlinecolor\\\":\\\"#2a3f5f\\\",\\\"linecolor\\\":\\\"white\\\"}}],\\\"scatterpolar\\\":[{\\\"type\\\":\\\"scatterpolar\\\",\\\"marker\\\":{\\\"colorbar\\\":{\\\"ticks\\\":\\\"\\\",\\\"outlinewidth\\\":0}}}],\\\"parcoords\\\":[{\\\"line\\\":{\\\"colorbar\\\":{\\\"ticks\\\":\\\"\\\",\\\"outlinewidth\\\":0}},\\\"type\\\":\\\"parcoords\\\"}],\\\"scatter\\\":[{\\\"type\\\":\\\"scatter\\\",\\\"marker\\\":{\\\"colorbar\\\":{\\\"ticks\\\":\\\"\\\",\\\"outlinewidth\\\":0}}}],\\\"histogram2dcontour\\\":[{\\\"colorbar\\\":{\\\"ticks\\\":\\\"\\\",\\\"outlinewidth\\\":0},\\\"type\\\":\\\"histogram2dcontour\\\",\\\"colorscale\\\":[[0.0,\\\"#0d0887\\\"],[0.1111111111111111,\\\"#46039f\\\"],[0.2222222222222222,\\\"#7201a8\\\"],[0.3333333333333333,\\\"#9c179e\\\"],[0.4444444444444444,\\\"#bd3786\\\"],[0.5555555555555556,\\\"#d8576b\\\"],[0.6666666666666666,\\\"#ed7953\\\"],[0.7777777777777778,\\\"#fb9f3a\\\"],[0.8888888888888888,\\\"#fdca26\\\"],[1.0,\\\"#f0f921\\\"]]}],\\\"contour\\\":[{\\\"colorbar\\\":{\\\"ticks\\\":\\\"\\\",\\\"outlinewidth\\\":0},\\\"type\\\":\\\"contour\\\",\\\"colorscale\\\":[[0.0,\\\"#0d0887\\\"],[0.1111111111111111,\\\"#46039f\\\"],[0.2222222222222222,\\\"#7201a8\\\"],[0.3333333333333333,\\\"#9c179e\\\"],[0.4444444444444444,\\\"#bd3786\\\"],[0.5555555555555556,\\\"#d8576b\\\"],[0.6666666666666666,\\\"#ed7953\\\"],[0.7777777777777778,\\\"#fb9f3a\\\"],[0.8888888888888888,\\\"#fdca26\\\"],[1.0,\\\"#f0f921\\\"]]}],\\\"scattercarpet\\\":[{\\\"type\\\":\\\"scattercarpet\\\",\\\"marker\\\":{\\\"colorbar\\\":{\\\"ticks\\\":\\\"\\\",\\\"outlinewidth\\\":0}}}],\\\"mesh3d\\\":[{\\\"colorbar\\\":{\\\"ticks\\\":\\\"\\\",\\\"outlinewidth\\\":0},\\\"type\\\":\\\"mesh3d\\\"}],\\\"surface\\\":[{\\\"colorbar\\\":{\\\"ticks\\\":\\\"\\\",\\\"outlinewidth\\\":0},\\\"type\\\":\\\"surface\\\",\\\"colorscale\\\":[[0.0,\\\"#0d0887\\\"],[0.1111111111111111,\\\"#46039f\\\"],[0.2222222222222222,\\\"#7201a8\\\"],[0.3333333333333333,\\\"#9c179e\\\"],[0.4444444444444444,\\\"#bd3786\\\"],[0.5555555555555556,\\\"#d8576b\\\"],[0.6666666666666666,\\\"#ed7953\\\"],[0.7777777777777778,\\\"#fb9f3a\\\"],[0.8888888888888888,\\\"#fdca26\\\"],[1.0,\\\"#f0f921\\\"]]}],\\\"scattermapbox\\\":[{\\\"type\\\":\\\"scattermapbox\\\",\\\"marker\\\":{\\\"colorbar\\\":{\\\"ticks\\\":\\\"\\\",\\\"outlinewidth\\\":0}}}],\\\"scattergeo\\\":[{\\\"type\\\":\\\"scattergeo\\\",\\\"marker\\\":{\\\"colorbar\\\":{\\\"ticks\\\":\\\"\\\",\\\"outlinewidth\\\":0}}}],\\\"histogram\\\":[{\\\"type\\\":\\\"histogram\\\",\\\"marker\\\":{\\\"colorbar\\\":{\\\"ticks\\\":\\\"\\\",\\\"outlinewidth\\\":0}}}],\\\"pie\\\":[{\\\"type\\\":\\\"pie\\\",\\\"automargin\\\":true}],\\\"choropleth\\\":[{\\\"colorbar\\\":{\\\"ticks\\\":\\\"\\\",\\\"outlinewidth\\\":0},\\\"type\\\":\\\"choropleth\\\"}],\\\"heatmapgl\\\":[{\\\"colorbar\\\":{\\\"ticks\\\":\\\"\\\",\\\"outlinewidth\\\":0},\\\"type\\\":\\\"heatmapgl\\\",\\\"colorscale\\\":[[0.0,\\\"#0d0887\\\"],[0.1111111111111111,\\\"#46039f\\\"],[0.2222222222222222,\\\"#7201a8\\\"],[0.3333333333333333,\\\"#9c179e\\\"],[0.4444444444444444,\\\"#bd3786\\\"],[0.5555555555555556,\\\"#d8576b\\\"],[0.6666666666666666,\\\"#ed7953\\\"],[0.7777777777777778,\\\"#fb9f3a\\\"],[0.8888888888888888,\\\"#fdca26\\\"],[1.0,\\\"#f0f921\\\"]]}],\\\"bar\\\":[{\\\"type\\\":\\\"bar\\\",\\\"error_y\\\":{\\\"color\\\":\\\"#2a3f5f\\\"},\\\"error_x\\\":{\\\"color\\\":\\\"#2a3f5f\\\"},\\\"marker\\\":{\\\"line\\\":{\\\"color\\\":\\\"#E5ECF6\\\",\\\"width\\\":0.5}}}],\\\"heatmap\\\":[{\\\"colorbar\\\":{\\\"ticks\\\":\\\"\\\",\\\"outlinewidth\\\":0},\\\"type\\\":\\\"heatmap\\\",\\\"colorscale\\\":[[0.0,\\\"#0d0887\\\"],[0.1111111111111111,\\\"#46039f\\\"],[0.2222222222222222,\\\"#7201a8\\\"],[0.3333333333333333,\\\"#9c179e\\\"],[0.4444444444444444,\\\"#bd3786\\\"],[0.5555555555555556,\\\"#d8576b\\\"],[0.6666666666666666,\\\"#ed7953\\\"],[0.7777777777777778,\\\"#fb9f3a\\\"],[0.8888888888888888,\\\"#fdca26\\\"],[1.0,\\\"#f0f921\\\"]]}],\\\"contourcarpet\\\":[{\\\"colorbar\\\":{\\\"ticks\\\":\\\"\\\",\\\"outlinewidth\\\":0},\\\"type\\\":\\\"contourcarpet\\\"}],\\\"table\\\":[{\\\"type\\\":\\\"table\\\",\\\"header\\\":{\\\"line\\\":{\\\"color\\\":\\\"white\\\"},\\\"fill\\\":{\\\"color\\\":\\\"#C8D4E3\\\"}},\\\"cells\\\":{\\\"line\\\":{\\\"color\\\":\\\"white\\\"},\\\"fill\\\":{\\\"color\\\":\\\"#EBF0F8\\\"}}}],\\\"scatter3d\\\":[{\\\"line\\\":{\\\"colorbar\\\":{\\\"ticks\\\":\\\"\\\",\\\"outlinewidth\\\":0}},\\\"type\\\":\\\"scatter3d\\\",\\\"marker\\\":{\\\"colorbar\\\":{\\\"ticks\\\":\\\"\\\",\\\"outlinewidth\\\":0}}}],\\\"scattergl\\\":[{\\\"type\\\":\\\"scattergl\\\",\\\"marker\\\":{\\\"colorbar\\\":{\\\"ticks\\\":\\\"\\\",\\\"outlinewidth\\\":0}}}],\\\"histogram2d\\\":[{\\\"colorbar\\\":{\\\"ticks\\\":\\\"\\\",\\\"outlinewidth\\\":0},\\\"type\\\":\\\"histogram2d\\\",\\\"colorscale\\\":[[0.0,\\\"#0d0887\\\"],[0.1111111111111111,\\\"#46039f\\\"],[0.2222222222222222,\\\"#7201a8\\\"],[0.3333333333333333,\\\"#9c179e\\\"],[0.4444444444444444,\\\"#bd3786\\\"],[0.5555555555555556,\\\"#d8576b\\\"],[0.6666666666666666,\\\"#ed7953\\\"],[0.7777777777777778,\\\"#fb9f3a\\\"],[0.8888888888888888,\\\"#fdca26\\\"],[1.0,\\\"#f0f921\\\"]]}],\\\"scatterternary\\\":[{\\\"type\\\":\\\"scatterternary\\\",\\\"marker\\\":{\\\"colorbar\\\":{\\\"ticks\\\":\\\"\\\",\\\"outlinewidth\\\":0}}}],\\\"scatterpolargl\\\":[{\\\"type\\\":\\\"scatterpolargl\\\",\\\"marker\\\":{\\\"colorbar\\\":{\\\"ticks\\\":\\\"\\\",\\\"outlinewidth\\\":0}}}]}},\\\"margin\\\":{\\\"l\\\":50,\\\"b\\\":50,\\\"r\\\":50,\\\"t\\\":60},\\\"title\\\":\\\"BioNTech Returns\\\",\\\"yaxis\\\":{\\\"title\\\":{\\\"text\\\":\\\"BNTX Returns\\\"}}},{\\\"showLink\\\":false,\\\"editable\\\":false,\\\"responsive\\\":true,\\\"staticPlot\\\":false,\\\"scrollZoom\\\":true}); gd.on(\\\"plotly_hover\\\",(function (data){var filtered_data=WebIO.PlotlyCommands.filterEventData(gd,data,\\\"hover\\\"); return !(filtered_data.isnil) ? (WebIO.setval({\\\"name\\\":\\\"hover\\\",\\\"scope\\\":\\\"9555481872241806613\\\",\\\"id\\\":\\\"15813465635897583031\\\",\\\"type\\\":\\\"observable\\\"},filtered_data.out)) : undefined})); gd.on(\\\"plotly_unhover\\\",(function (){return WebIO.setval({\\\"name\\\":\\\"hover\\\",\\\"scope\\\":\\\"9555481872241806613\\\",\\\"id\\\":\\\"15813465635897583031\\\",\\\"type\\\":\\\"observable\\\"},{})})); gd.on(\\\"plotly_selected\\\",(function (data){var filtered_data=WebIO.PlotlyCommands.filterEventData(gd,data,\\\"selected\\\"); return !(filtered_data.isnil) ? (WebIO.setval({\\\"name\\\":\\\"selected\\\",\\\"scope\\\":\\\"9555481872241806613\\\",\\\"id\\\":\\\"8040043527708878359\\\",\\\"type\\\":\\\"observable\\\"},filtered_data.out)) : undefined})); gd.on(\\\"plotly_deselect\\\",(function (){return WebIO.setval({\\\"name\\\":\\\"selected\\\",\\\"scope\\\":\\\"9555481872241806613\\\",\\\"id\\\":\\\"8040043527708878359\\\",\\\"type\\\":\\\"observable\\\"},{})})); gd.on(\\\"plotly_relayout\\\",(function (data){var filtered_data=WebIO.PlotlyCommands.filterEventData(gd,data,\\\"relayout\\\"); return !(filtered_data.isnil) ? (WebIO.setval({\\\"name\\\":\\\"relayout\\\",\\\"scope\\\":\\\"9555481872241806613\\\",\\\"id\\\":\\\"2147256845477431800\\\",\\\"type\\\":\\\"observable\\\"},filtered_data.out)) : undefined})); return gd.on(\\\"plotly_click\\\",(function (data){var filtered_data=WebIO.PlotlyCommands.filterEventData(gd,data,\\\"click\\\"); return !(filtered_data.isnil) ? (WebIO.setval({\\\"name\\\":\\\"click\\\",\\\"scope\\\":\\\"9555481872241806613\\\",\\\"id\\\":\\\"1398604158074735630\\\",\\\"type\\\":\\\"observable\\\"},filtered_data.out)) : undefined}))}));\\n    (WebIO.importBlock({\\\"data\\\":[{\\\"name\\\":\\\"Plotly\\\",\\\"type\\\":\\\"js\\\",\\\"url\\\":\\\"\\/assetserver\\/c44b2cd04b3a3572f00c5d295ffe9c45b94a9a49-plotly.min.js\\\"},{\\\"name\\\":null,\\\"type\\\":\\\"js\\\",\\\"url\\\":\\\"\\/assetserver\\/5d2f409fc13299e6b724930d0745c21ad970d6a4-plotly_webio.bundle.js\\\"}],\\\"type\\\":\\\"async_block\\\"})).then((imports) => handler.apply(this, imports));\\n}\\n\"],\"observables\":{\"_toImage\":{\"sync\":false,\"id\":\"16084122721837260538\",\"value\":{}},\"hover\":{\"sync\":false,\"id\":\"15813465635897583031\",\"value\":{}},\"selected\":{\"sync\":false,\"id\":\"8040043527708878359\",\"value\":{}},\"__gd_contents\":{\"sync\":false,\"id\":\"17702558159552499343\",\"value\":{}},\"click\":{\"sync\":false,\"id\":\"1398604158074735630\",\"value\":{}},\"image\":{\"sync\":true,\"id\":\"13194274604105894540\",\"value\":\"\"},\"__get_gd_contents\":{\"sync\":false,\"id\":\"15956668472052449336\",\"value\":\"\"},\"_downloadImage\":{\"sync\":false,\"id\":\"14943750559235000329\",\"value\":{}},\"relayout\":{\"sync\":false,\"id\":\"2147256845477431800\",\"value\":{}},\"_commands\":{\"sync\":false,\"id\":\"32476658030105800\",\"value\":[]}}},\"children\":[{\"props\":{\"id\":\"plot-51dd4dda-cfd2-4781-b522-7826241efee2\"},\"nodeType\":\"DOM\",\"type\":\"node\",\"instanceArgs\":{\"namespace\":\"html\",\"tag\":\"div\"},\"children\":[]}]},\n",
       "        window,\n",
       "    );\n",
       "    })()\n",
       "    </script>\n",
       "</div>\n"
      ],
      "text/plain": [
       "data: [\n",
       "  \"scatter with fields mode, type, x, and y\"\n",
       "]\n",
       "\n",
       "layout: \"layout with fields margin, template, title, and yaxis\"\n",
       "\n"
      ]
     },
     "execution_count": 40,
     "metadata": {},
     "output_type": "execute_result"
    }
   ],
   "source": [
    "PlotlyJS.plot( BNTX.Date, BNTX.Return,mode=\"markers+lines\",\n",
    "               Layout(title=\"BioNTech Returns\",\n",
    "                      yaxis_title=\"BNTX Returns\") )"
   ]
  },
  {
   "cell_type": "code",
   "execution_count": 41,
   "id": "1e632c66",
   "metadata": {},
   "outputs": [
    {
     "data": {
      "application/vnd.plotly.v1+json": {
       "config": {
        "editable": false,
        "responsive": true,
        "scrollZoom": true,
        "showLink": false,
        "staticPlot": false
       },
       "data": [
        {
         "mode": "markers+lines",
         "type": "scatter",
         "x": [
          "2021-09-13",
          "2021-09-14",
          "2021-09-15",
          "2021-09-16",
          "2021-09-17",
          "2021-09-20",
          "2021-09-21",
          "2021-09-22",
          "2021-09-23",
          "2021-09-24",
          "2021-09-27",
          "2021-09-28",
          "2021-09-29",
          "2021-09-30",
          "2021-10-01",
          "2021-10-04",
          "2021-10-05",
          "2021-10-06",
          "2021-10-07",
          "2021-10-08",
          "2021-10-11",
          "2021-10-12",
          "2021-10-13",
          "2021-10-14",
          "2021-10-15",
          "2021-10-18",
          "2021-10-19",
          "2021-10-20",
          "2021-10-21",
          "2021-10-22",
          "2021-10-25",
          "2021-10-26",
          "2021-10-27",
          "2021-10-28",
          "2021-10-29",
          "2021-11-01",
          "2021-11-02",
          "2021-11-03",
          "2021-11-04",
          "2021-11-05",
          "2021-11-08",
          "2021-11-09",
          "2021-11-10",
          "2021-11-11",
          "2021-11-12",
          "2021-11-15",
          "2021-11-16",
          "2021-11-17",
          "2021-11-18",
          "2021-11-19",
          "2021-11-22",
          "2021-11-23",
          "2021-11-24",
          "2021-11-26",
          "2021-11-29",
          "2021-11-30",
          "2021-12-01",
          "2021-12-02",
          "2021-12-03",
          "2021-12-06",
          "2021-12-07",
          "2021-12-08",
          "2021-12-09",
          "2021-12-10",
          "2021-12-13",
          "2021-12-14",
          "2021-12-15",
          "2021-12-16",
          "2021-12-17",
          "2021-12-20",
          "2021-12-21",
          "2021-12-22",
          "2021-12-23",
          "2021-12-27",
          "2021-12-28",
          "2021-12-29",
          "2021-12-30",
          "2021-12-31",
          "2022-01-03",
          "2022-01-04",
          "2022-01-05",
          "2022-01-06",
          "2022-01-07",
          "2022-01-10",
          "2022-01-11",
          "2022-01-12",
          "2022-01-13",
          "2022-01-14",
          "2022-01-18",
          "2022-01-19",
          "2022-01-20",
          "2022-01-21",
          "2022-01-24",
          "2022-01-25",
          "2022-01-26",
          "2022-01-27",
          "2022-01-28",
          "2022-01-31",
          "2022-02-01",
          "2022-02-02",
          "2022-02-03",
          "2022-02-04",
          "2022-02-07",
          "2022-02-08",
          "2022-02-09",
          "2022-02-10",
          "2022-02-11",
          "2022-02-14",
          "2022-02-15",
          "2022-02-16",
          "2022-02-17",
          "2022-02-18",
          "2022-02-22",
          "2022-02-23",
          "2022-02-24",
          "2022-02-25",
          "2022-02-28",
          "2022-03-01",
          "2022-03-02",
          "2022-03-03",
          "2022-03-04",
          "2022-03-07",
          "2022-03-08",
          "2022-03-09",
          "2022-03-10",
          "2022-03-11",
          "2022-03-11"
         ],
         "y": [
          null,
          0.023659563627518868,
          0.060827743358400924,
          0.048979574947220245,
          -0.036146521446072985,
          -0.056155641720278114,
          0.006902439252457427,
          -0.006122736086900743,
          0.04047037550933266,
          -0.05527062962890247,
          -0.07913522289046586,
          -0.09954738805623606,
          0.0033271120953211925,
          -0.016039547173878753,
          -0.06666910021132998,
          -0.02311707351866059,
          0.00490157103017044,
          -0.055893156402789794,
          0.044168747540309826,
          -0.0025145394103022745,
          -0.011912962129452663,
          0.003086165696878188,
          0.023095499477450033,
          0.003728981645444687,
          -0.01058606231305831,
          0.05414245550305708,
          0.006741008950798799,
          0.02499527049658875,
          0.06287570032891363,
          -0.028006667900894077,
          0.05956749744294743,
          -0.008578590426143708,
          -0.046581706971081056,
          0.01868932168304523,
          -0.01848721669357214,
          -0.01582177672285176,
          0.05526393851397072,
          0.020484982640131325,
          -0.07267865579799397,
          -0.20916990064123606,
          0.1198301658042383,
          -0.0669002910082369,
          0.039890441310474936,
          0.0020815845900148855,
          0.009538344183892256,
          0.05181824578742864,
          0.030221942354230893,
          0.05405933985162602,
          0.007573522058823556,
          0.057250244889806914,
          0.11030195340811044,
          -0.040004959000480705,
          -0.013210678839666748,
          0.14188209929511414,
          0.04172410632183911,
          -0.029736288555387857,
          -0.049070277735551164,
          -0.002959880911986734,
          0.031695128240580864,
          -0.18668258842459212,
          0.08169251353322607,
          -0.0355148829791874,
          -0.026478080931163352,
          -0.0933464650790548,
          0.07971130300364451,
          -0.005211746081476058,
          0.03714275177429,
          -0.011740098034771423,
          0.012690376793685097,
          -0.04194509900426443,
          -0.013697706824565684,
          -0.04332122371579975,
          -0.01698120445215846,
          -0.00176268953871606,
          -0.052738982149411195,
          -0.0032725477201129565,
          0.06732885970105622,
          0.0038549511612082075,
          -0.10065936077545504,
          -0.03346995815906942,
          -0.05649517259128344,
          0.015655356901042892,
          -0.01350474495890965,
          0.08572509602955235,
          -0.06173911739130433,
          0.0234939385056449,
          -0.08095255310708906,
          -0.03443521763546928,
          -0.1365816530612245,
          -0.04473197529355265,
          -0.03173329749515522,
          -0.05768861596939002,
          0.02359319322033898,
          0.03649496056417962,
          0.02690262550633825,
          -0.038332321810808666,
          0.049695925636543715,
          0.0607816603329944,
          0.04370062710715217,
          0.003062293884333082,
          -0.028476215214306322,
          0.008856147666411913,
          -0.021294720795927684,
          -0.0764422901040714,
          0.08602754062553104,
          -0.03340454008648772,
          0.020353373179381632,
          -0.09605146702634919,
          0.057658726834004505,
          0.012542847374659258,
          -0.04912685814469572,
          -0.0026690327740911644,
          -0.04492164464226274,
          -0.05824267835240964,
          0.09138561656600705,
          -0.022328982504595505,
          0.001261472621878779,
          -0.02705392251248493,
          0.0014993594084197776,
          -0.03191563181862462,
          -0.04217629840349706,
          -0.07346246416639017,
          0.015128744554455339,
          0.09402311660352324,
          -0.020968567528849708,
          -0.011874444179370836,
          0
         ]
        }
       ],
       "frames": [],
       "layout": {
        "margin": {
         "b": 50,
         "l": 50,
         "r": 50,
         "t": 60
        },
        "template": {
         "data": {
          "bar": [
           {
            "error_x": {
             "color": "#2a3f5f"
            },
            "error_y": {
             "color": "#2a3f5f"
            },
            "marker": {
             "line": {
              "color": "#E5ECF6",
              "width": 0.5
             }
            },
            "type": "bar"
           }
          ],
          "barpolar": [
           {
            "marker": {
             "line": {
              "color": "#E5ECF6",
              "width": 0.5
             }
            },
            "type": "barpolar"
           }
          ],
          "carpet": [
           {
            "aaxis": {
             "endlinecolor": "#2a3f5f",
             "gridcolor": "white",
             "linecolor": "white",
             "minorgridcolor": "white",
             "startlinecolor": "#2a3f5f"
            },
            "baxis": {
             "endlinecolor": "#2a3f5f",
             "gridcolor": "white",
             "linecolor": "white",
             "minorgridcolor": "white",
             "startlinecolor": "#2a3f5f"
            },
            "type": "carpet"
           }
          ],
          "choropleth": [
           {
            "colorbar": {
             "outlinewidth": 0,
             "ticks": ""
            },
            "type": "choropleth"
           }
          ],
          "contour": [
           {
            "colorbar": {
             "outlinewidth": 0,
             "ticks": ""
            },
            "colorscale": [
             [
              0,
              "#0d0887"
             ],
             [
              0.1111111111111111,
              "#46039f"
             ],
             [
              0.2222222222222222,
              "#7201a8"
             ],
             [
              0.3333333333333333,
              "#9c179e"
             ],
             [
              0.4444444444444444,
              "#bd3786"
             ],
             [
              0.5555555555555556,
              "#d8576b"
             ],
             [
              0.6666666666666666,
              "#ed7953"
             ],
             [
              0.7777777777777778,
              "#fb9f3a"
             ],
             [
              0.8888888888888888,
              "#fdca26"
             ],
             [
              1,
              "#f0f921"
             ]
            ],
            "type": "contour"
           }
          ],
          "contourcarpet": [
           {
            "colorbar": {
             "outlinewidth": 0,
             "ticks": ""
            },
            "type": "contourcarpet"
           }
          ],
          "heatmap": [
           {
            "colorbar": {
             "outlinewidth": 0,
             "ticks": ""
            },
            "colorscale": [
             [
              0,
              "#0d0887"
             ],
             [
              0.1111111111111111,
              "#46039f"
             ],
             [
              0.2222222222222222,
              "#7201a8"
             ],
             [
              0.3333333333333333,
              "#9c179e"
             ],
             [
              0.4444444444444444,
              "#bd3786"
             ],
             [
              0.5555555555555556,
              "#d8576b"
             ],
             [
              0.6666666666666666,
              "#ed7953"
             ],
             [
              0.7777777777777778,
              "#fb9f3a"
             ],
             [
              0.8888888888888888,
              "#fdca26"
             ],
             [
              1,
              "#f0f921"
             ]
            ],
            "type": "heatmap"
           }
          ],
          "heatmapgl": [
           {
            "colorbar": {
             "outlinewidth": 0,
             "ticks": ""
            },
            "colorscale": [
             [
              0,
              "#0d0887"
             ],
             [
              0.1111111111111111,
              "#46039f"
             ],
             [
              0.2222222222222222,
              "#7201a8"
             ],
             [
              0.3333333333333333,
              "#9c179e"
             ],
             [
              0.4444444444444444,
              "#bd3786"
             ],
             [
              0.5555555555555556,
              "#d8576b"
             ],
             [
              0.6666666666666666,
              "#ed7953"
             ],
             [
              0.7777777777777778,
              "#fb9f3a"
             ],
             [
              0.8888888888888888,
              "#fdca26"
             ],
             [
              1,
              "#f0f921"
             ]
            ],
            "type": "heatmapgl"
           }
          ],
          "histogram": [
           {
            "marker": {
             "colorbar": {
              "outlinewidth": 0,
              "ticks": ""
             }
            },
            "type": "histogram"
           }
          ],
          "histogram2d": [
           {
            "colorbar": {
             "outlinewidth": 0,
             "ticks": ""
            },
            "colorscale": [
             [
              0,
              "#0d0887"
             ],
             [
              0.1111111111111111,
              "#46039f"
             ],
             [
              0.2222222222222222,
              "#7201a8"
             ],
             [
              0.3333333333333333,
              "#9c179e"
             ],
             [
              0.4444444444444444,
              "#bd3786"
             ],
             [
              0.5555555555555556,
              "#d8576b"
             ],
             [
              0.6666666666666666,
              "#ed7953"
             ],
             [
              0.7777777777777778,
              "#fb9f3a"
             ],
             [
              0.8888888888888888,
              "#fdca26"
             ],
             [
              1,
              "#f0f921"
             ]
            ],
            "type": "histogram2d"
           }
          ],
          "histogram2dcontour": [
           {
            "colorbar": {
             "outlinewidth": 0,
             "ticks": ""
            },
            "colorscale": [
             [
              0,
              "#0d0887"
             ],
             [
              0.1111111111111111,
              "#46039f"
             ],
             [
              0.2222222222222222,
              "#7201a8"
             ],
             [
              0.3333333333333333,
              "#9c179e"
             ],
             [
              0.4444444444444444,
              "#bd3786"
             ],
             [
              0.5555555555555556,
              "#d8576b"
             ],
             [
              0.6666666666666666,
              "#ed7953"
             ],
             [
              0.7777777777777778,
              "#fb9f3a"
             ],
             [
              0.8888888888888888,
              "#fdca26"
             ],
             [
              1,
              "#f0f921"
             ]
            ],
            "type": "histogram2dcontour"
           }
          ],
          "mesh3d": [
           {
            "colorbar": {
             "outlinewidth": 0,
             "ticks": ""
            },
            "type": "mesh3d"
           }
          ],
          "parcoords": [
           {
            "line": {
             "colorbar": {
              "outlinewidth": 0,
              "ticks": ""
             }
            },
            "type": "parcoords"
           }
          ],
          "pie": [
           {
            "automargin": true,
            "type": "pie"
           }
          ],
          "scatter": [
           {
            "marker": {
             "colorbar": {
              "outlinewidth": 0,
              "ticks": ""
             }
            },
            "type": "scatter"
           }
          ],
          "scatter3d": [
           {
            "line": {
             "colorbar": {
              "outlinewidth": 0,
              "ticks": ""
             }
            },
            "marker": {
             "colorbar": {
              "outlinewidth": 0,
              "ticks": ""
             }
            },
            "type": "scatter3d"
           }
          ],
          "scattercarpet": [
           {
            "marker": {
             "colorbar": {
              "outlinewidth": 0,
              "ticks": ""
             }
            },
            "type": "scattercarpet"
           }
          ],
          "scattergeo": [
           {
            "marker": {
             "colorbar": {
              "outlinewidth": 0,
              "ticks": ""
             }
            },
            "type": "scattergeo"
           }
          ],
          "scattergl": [
           {
            "marker": {
             "colorbar": {
              "outlinewidth": 0,
              "ticks": ""
             }
            },
            "type": "scattergl"
           }
          ],
          "scattermapbox": [
           {
            "marker": {
             "colorbar": {
              "outlinewidth": 0,
              "ticks": ""
             }
            },
            "type": "scattermapbox"
           }
          ],
          "scatterpolar": [
           {
            "marker": {
             "colorbar": {
              "outlinewidth": 0,
              "ticks": ""
             }
            },
            "type": "scatterpolar"
           }
          ],
          "scatterpolargl": [
           {
            "marker": {
             "colorbar": {
              "outlinewidth": 0,
              "ticks": ""
             }
            },
            "type": "scatterpolargl"
           }
          ],
          "scatterternary": [
           {
            "marker": {
             "colorbar": {
              "outlinewidth": 0,
              "ticks": ""
             }
            },
            "type": "scatterternary"
           }
          ],
          "surface": [
           {
            "colorbar": {
             "outlinewidth": 0,
             "ticks": ""
            },
            "colorscale": [
             [
              0,
              "#0d0887"
             ],
             [
              0.1111111111111111,
              "#46039f"
             ],
             [
              0.2222222222222222,
              "#7201a8"
             ],
             [
              0.3333333333333333,
              "#9c179e"
             ],
             [
              0.4444444444444444,
              "#bd3786"
             ],
             [
              0.5555555555555556,
              "#d8576b"
             ],
             [
              0.6666666666666666,
              "#ed7953"
             ],
             [
              0.7777777777777778,
              "#fb9f3a"
             ],
             [
              0.8888888888888888,
              "#fdca26"
             ],
             [
              1,
              "#f0f921"
             ]
            ],
            "type": "surface"
           }
          ],
          "table": [
           {
            "cells": {
             "fill": {
              "color": "#EBF0F8"
             },
             "line": {
              "color": "white"
             }
            },
            "header": {
             "fill": {
              "color": "#C8D4E3"
             },
             "line": {
              "color": "white"
             }
            },
            "type": "table"
           }
          ]
         },
         "layout": {
          "annotationdefaults": {
           "arrowcolor": "#2a3f5f",
           "arrowhead": 0,
           "arrowwidth": 1
          },
          "autotypenumbers": "strict",
          "coloraxis": {
           "colorbar": {
            "outlinewidth": 0,
            "ticks": ""
           }
          },
          "colorscale": {
           "diverging": [
            [
             0,
             "#8e0152"
            ],
            [
             0.1,
             "#c51b7d"
            ],
            [
             0.2,
             "#de77ae"
            ],
            [
             0.3,
             "#f1b6da"
            ],
            [
             0.4,
             "#fde0ef"
            ],
            [
             0.5,
             "#f7f7f7"
            ],
            [
             0.6,
             "#e6f5d0"
            ],
            [
             0.7,
             "#b8e186"
            ],
            [
             0.8,
             "#7fbc41"
            ],
            [
             0.9,
             "#4d9221"
            ],
            [
             1,
             "#276419"
            ]
           ],
           "sequential": [
            [
             0,
             "#0d0887"
            ],
            [
             0.1111111111111111,
             "#46039f"
            ],
            [
             0.2222222222222222,
             "#7201a8"
            ],
            [
             0.3333333333333333,
             "#9c179e"
            ],
            [
             0.4444444444444444,
             "#bd3786"
            ],
            [
             0.5555555555555556,
             "#d8576b"
            ],
            [
             0.6666666666666666,
             "#ed7953"
            ],
            [
             0.7777777777777778,
             "#fb9f3a"
            ],
            [
             0.8888888888888888,
             "#fdca26"
            ],
            [
             1,
             "#f0f921"
            ]
           ],
           "sequentialminus": [
            [
             0,
             "#0d0887"
            ],
            [
             0.1111111111111111,
             "#46039f"
            ],
            [
             0.2222222222222222,
             "#7201a8"
            ],
            [
             0.3333333333333333,
             "#9c179e"
            ],
            [
             0.4444444444444444,
             "#bd3786"
            ],
            [
             0.5555555555555556,
             "#d8576b"
            ],
            [
             0.6666666666666666,
             "#ed7953"
            ],
            [
             0.7777777777777778,
             "#fb9f3a"
            ],
            [
             0.8888888888888888,
             "#fdca26"
            ],
            [
             1,
             "#f0f921"
            ]
           ]
          },
          "colorway": [
           "#636efa",
           "#EF553B",
           "#00cc96",
           "#ab63fa",
           "#FFA15A",
           "#19d3f3",
           "#FF6692",
           "#B6E880",
           "#FF97FF",
           "#FECB52"
          ],
          "font": {
           "color": "#2a3f5f"
          },
          "geo": {
           "bgcolor": "white",
           "lakecolor": "white",
           "landcolor": "#E5ECF6",
           "showlakes": true,
           "showland": true,
           "subunitcolor": "white"
          },
          "hoverlabel": {
           "align": "left"
          },
          "hovermode": "closest",
          "mapbox": {
           "style": "light"
          },
          "paper_bgcolor": "white",
          "plot_bgcolor": "#E5ECF6",
          "polar": {
           "angularaxis": {
            "gridcolor": "white",
            "linecolor": "white",
            "ticks": ""
           },
           "bgcolor": "#E5ECF6",
           "radialaxis": {
            "gridcolor": "white",
            "linecolor": "white",
            "ticks": ""
           }
          },
          "scene": {
           "xaxis": {
            "backgroundcolor": "#E5ECF6",
            "gridcolor": "white",
            "gridwidth": 2,
            "linecolor": "white",
            "showbackground": true,
            "ticks": "",
            "zerolinecolor": "white"
           },
           "yaxis": {
            "backgroundcolor": "#E5ECF6",
            "gridcolor": "white",
            "gridwidth": 2,
            "linecolor": "white",
            "showbackground": true,
            "ticks": "",
            "zerolinecolor": "white"
           },
           "zaxis": {
            "backgroundcolor": "#E5ECF6",
            "gridcolor": "white",
            "gridwidth": 2,
            "linecolor": "white",
            "showbackground": true,
            "ticks": "",
            "zerolinecolor": "white"
           }
          },
          "shapedefaults": {
           "line": {
            "color": "#2a3f5f"
           }
          },
          "ternary": {
           "aaxis": {
            "gridcolor": "white",
            "linecolor": "white",
            "ticks": ""
           },
           "baxis": {
            "gridcolor": "white",
            "linecolor": "white",
            "ticks": ""
           },
           "bgcolor": "#E5ECF6",
           "caxis": {
            "gridcolor": "white",
            "linecolor": "white",
            "ticks": ""
           }
          },
          "title": {
           "x": 0.05
          },
          "xaxis": {
           "automargin": true,
           "gridcolor": "white",
           "linecolor": "white",
           "ticks": "",
           "title": {
            "standoff": 15
           },
           "zerolinecolor": "white",
           "zerolinewidth": 2
          },
          "yaxis": {
           "automargin": true,
           "gridcolor": "white",
           "linecolor": "white",
           "ticks": "",
           "title": {
            "standoff": 15
           },
           "zerolinecolor": "white",
           "zerolinewidth": 2
          }
         }
        },
        "title": "BioNTech Returns",
        "yaxis": {
         "title": {
          "text": "BNTX Returns"
         }
        }
       }
      },
      "text/html": [
       "<div\n",
       "    class=\"webio-mountpoint\"\n",
       "    data-webio-mountpoint=\"12140052681827082114\"\n",
       ">\n",
       "    <script>\n",
       "    (function(){\n",
       "    // Some integrations (namely, IJulia/Jupyter) use an alternate render pathway than\n",
       "    // just putting the html on the page. If WebIO isn't defined, then it's pretty likely\n",
       "    // that we're in one of those situations and the integration just isn't installed\n",
       "    // correctly.\n",
       "    if (typeof window.WebIO === \"undefined\") {\n",
       "        document\n",
       "            .querySelector('[data-webio-mountpoint=\"12140052681827082114\"]')\n",
       "            .innerHTML = (\n",
       "                '<div style=\"padding: 1em; background-color: #f8d6da; border: 1px solid #f5c6cb; font-weight: bold;\">' +\n",
       "                '<p><strong>WebIO not detected.</strong></p>' +\n",
       "                '<p>Please read ' +\n",
       "                '<a href=\"https://juliagizmos.github.io/WebIO.jl/latest/troubleshooting/not-detected/\" target=\"_blank\">the troubleshooting guide</a> ' +\n",
       "                'for more information on how to resolve this issue.</p>' +\n",
       "                '<p><a href=\"https://juliagizmos.github.io/WebIO.jl/latest/troubleshooting/not-detected/\" target=\"_blank\">https://juliagizmos.github.io/WebIO.jl/latest/troubleshooting/not-detected/</a></p>' +\n",
       "                '</div>'\n",
       "            );\n",
       "        return;\n",
       "    }\n",
       "    WebIO.mount(\n",
       "        document.querySelector('[data-webio-mountpoint=\"12140052681827082114\"]'),\n",
       "        {\"props\":{},\"nodeType\":\"Scope\",\"type\":\"node\",\"instanceArgs\":{\"imports\":{\"data\":[{\"name\":\"Plotly\",\"type\":\"js\",\"url\":\"\\/assetserver\\/c44b2cd04b3a3572f00c5d295ffe9c45b94a9a49-plotly.min.js\"},{\"name\":null,\"type\":\"js\",\"url\":\"\\/assetserver\\/5d2f409fc13299e6b724930d0745c21ad970d6a4-plotly_webio.bundle.js\"}],\"type\":\"async_block\"},\"id\":\"3470865006826888204\",\"handlers\":{\"_toImage\":[\"(function (options){return this.Plotly.toImage(this.plotElem,options).then((function (data){return WebIO.setval({\\\"name\\\":\\\"image\\\",\\\"scope\\\":\\\"3470865006826888204\\\",\\\"id\\\":\\\"15833355983786166912\\\",\\\"type\\\":\\\"observable\\\"},data)}))})\"],\"__get_gd_contents\":[\"(function (prop){prop==\\\"data\\\" ? (WebIO.setval({\\\"name\\\":\\\"__gd_contents\\\",\\\"scope\\\":\\\"3470865006826888204\\\",\\\"id\\\":\\\"11897197853805719707\\\",\\\"type\\\":\\\"observable\\\"},this.plotElem.data)) : undefined; return prop==\\\"layout\\\" ? (WebIO.setval({\\\"name\\\":\\\"__gd_contents\\\",\\\"scope\\\":\\\"3470865006826888204\\\",\\\"id\\\":\\\"11897197853805719707\\\",\\\"type\\\":\\\"observable\\\"},this.plotElem.layout)) : undefined})\"],\"_downloadImage\":[\"(function (options){return this.Plotly.downloadImage(this.plotElem,options)})\"],\"_commands\":[\"(function (args){var fn=args.shift(); var elem=this.plotElem; var Plotly=this.Plotly; args.unshift(elem); return Plotly[fn].apply(this,args)})\"]},\"systemjs_options\":null,\"mount_callbacks\":[\"function () {\\n    var handler = ((function (Plotly,PlotlyWebIO){PlotlyWebIO.init(WebIO); var gd=this.dom.querySelector(\\\"#plot-09f39b44-844d-4b3f-a592-aed32c714f53\\\"); this.plotElem=gd; this.Plotly=Plotly; (window.Blink!==undefined) ? (gd.style.width=\\\"100%\\\", gd.style.height=\\\"100vh\\\", gd.style.marginLeft=\\\"0%\\\", gd.style.marginTop=\\\"0vh\\\") : undefined; window.onresize=(function (){return Plotly.Plots.resize(gd)}); Plotly.newPlot(gd,[{\\\"mode\\\":\\\"markers+lines\\\",\\\"y\\\":[null,0.023659563627518868,0.060827743358400924,0.048979574947220245,-0.036146521446072985,-0.056155641720278114,0.006902439252457427,-0.006122736086900743,0.04047037550933266,-0.05527062962890247,-0.07913522289046586,-0.09954738805623606,0.0033271120953211925,-0.016039547173878753,-0.06666910021132998,-0.02311707351866059,0.00490157103017044,-0.055893156402789794,0.044168747540309826,-0.0025145394103022745,-0.011912962129452663,0.003086165696878188,0.023095499477450033,0.003728981645444687,-0.01058606231305831,0.05414245550305708,0.006741008950798799,0.02499527049658875,0.06287570032891363,-0.028006667900894077,0.05956749744294743,-0.008578590426143708,-0.046581706971081056,0.01868932168304523,-0.01848721669357214,-0.01582177672285176,0.05526393851397072,0.020484982640131325,-0.07267865579799397,-0.20916990064123606,0.1198301658042383,-0.0669002910082369,0.039890441310474936,0.0020815845900148855,0.009538344183892256,0.05181824578742864,0.030221942354230893,0.05405933985162602,0.007573522058823556,0.057250244889806914,0.11030195340811044,-0.040004959000480705,-0.013210678839666748,0.14188209929511414,0.04172410632183911,-0.029736288555387857,-0.049070277735551164,-0.002959880911986734,0.031695128240580864,-0.18668258842459212,0.08169251353322607,-0.0355148829791874,-0.026478080931163352,-0.0933464650790548,0.07971130300364451,-0.005211746081476058,0.03714275177429,-0.011740098034771423,0.012690376793685097,-0.04194509900426443,-0.013697706824565684,-0.04332122371579975,-0.01698120445215846,-0.00176268953871606,-0.052738982149411195,-0.0032725477201129565,0.06732885970105622,0.0038549511612082075,-0.10065936077545504,-0.03346995815906942,-0.05649517259128344,0.015655356901042892,-0.01350474495890965,0.08572509602955235,-0.06173911739130433,0.0234939385056449,-0.08095255310708906,-0.03443521763546928,-0.1365816530612245,-0.04473197529355265,-0.03173329749515522,-0.05768861596939002,0.02359319322033898,0.03649496056417962,0.02690262550633825,-0.038332321810808666,0.049695925636543715,0.0607816603329944,0.04370062710715217,0.003062293884333082,-0.028476215214306322,0.008856147666411913,-0.021294720795927684,-0.0764422901040714,0.08602754062553104,-0.03340454008648772,0.020353373179381632,-0.09605146702634919,0.057658726834004505,0.012542847374659258,-0.04912685814469572,-0.0026690327740911644,-0.04492164464226274,-0.05824267835240964,0.09138561656600705,-0.022328982504595505,0.001261472621878779,-0.02705392251248493,0.0014993594084197776,-0.03191563181862462,-0.04217629840349706,-0.07346246416639017,0.015128744554455339,0.09402311660352324,-0.020968567528849708,-0.011874444179370836,0.0],\\\"type\\\":\\\"scatter\\\",\\\"x\\\":[\\\"2021-09-13\\\",\\\"2021-09-14\\\",\\\"2021-09-15\\\",\\\"2021-09-16\\\",\\\"2021-09-17\\\",\\\"2021-09-20\\\",\\\"2021-09-21\\\",\\\"2021-09-22\\\",\\\"2021-09-23\\\",\\\"2021-09-24\\\",\\\"2021-09-27\\\",\\\"2021-09-28\\\",\\\"2021-09-29\\\",\\\"2021-09-30\\\",\\\"2021-10-01\\\",\\\"2021-10-04\\\",\\\"2021-10-05\\\",\\\"2021-10-06\\\",\\\"2021-10-07\\\",\\\"2021-10-08\\\",\\\"2021-10-11\\\",\\\"2021-10-12\\\",\\\"2021-10-13\\\",\\\"2021-10-14\\\",\\\"2021-10-15\\\",\\\"2021-10-18\\\",\\\"2021-10-19\\\",\\\"2021-10-20\\\",\\\"2021-10-21\\\",\\\"2021-10-22\\\",\\\"2021-10-25\\\",\\\"2021-10-26\\\",\\\"2021-10-27\\\",\\\"2021-10-28\\\",\\\"2021-10-29\\\",\\\"2021-11-01\\\",\\\"2021-11-02\\\",\\\"2021-11-03\\\",\\\"2021-11-04\\\",\\\"2021-11-05\\\",\\\"2021-11-08\\\",\\\"2021-11-09\\\",\\\"2021-11-10\\\",\\\"2021-11-11\\\",\\\"2021-11-12\\\",\\\"2021-11-15\\\",\\\"2021-11-16\\\",\\\"2021-11-17\\\",\\\"2021-11-18\\\",\\\"2021-11-19\\\",\\\"2021-11-22\\\",\\\"2021-11-23\\\",\\\"2021-11-24\\\",\\\"2021-11-26\\\",\\\"2021-11-29\\\",\\\"2021-11-30\\\",\\\"2021-12-01\\\",\\\"2021-12-02\\\",\\\"2021-12-03\\\",\\\"2021-12-06\\\",\\\"2021-12-07\\\",\\\"2021-12-08\\\",\\\"2021-12-09\\\",\\\"2021-12-10\\\",\\\"2021-12-13\\\",\\\"2021-12-14\\\",\\\"2021-12-15\\\",\\\"2021-12-16\\\",\\\"2021-12-17\\\",\\\"2021-12-20\\\",\\\"2021-12-21\\\",\\\"2021-12-22\\\",\\\"2021-12-23\\\",\\\"2021-12-27\\\",\\\"2021-12-28\\\",\\\"2021-12-29\\\",\\\"2021-12-30\\\",\\\"2021-12-31\\\",\\\"2022-01-03\\\",\\\"2022-01-04\\\",\\\"2022-01-05\\\",\\\"2022-01-06\\\",\\\"2022-01-07\\\",\\\"2022-01-10\\\",\\\"2022-01-11\\\",\\\"2022-01-12\\\",\\\"2022-01-13\\\",\\\"2022-01-14\\\",\\\"2022-01-18\\\",\\\"2022-01-19\\\",\\\"2022-01-20\\\",\\\"2022-01-21\\\",\\\"2022-01-24\\\",\\\"2022-01-25\\\",\\\"2022-01-26\\\",\\\"2022-01-27\\\",\\\"2022-01-28\\\",\\\"2022-01-31\\\",\\\"2022-02-01\\\",\\\"2022-02-02\\\",\\\"2022-02-03\\\",\\\"2022-02-04\\\",\\\"2022-02-07\\\",\\\"2022-02-08\\\",\\\"2022-02-09\\\",\\\"2022-02-10\\\",\\\"2022-02-11\\\",\\\"2022-02-14\\\",\\\"2022-02-15\\\",\\\"2022-02-16\\\",\\\"2022-02-17\\\",\\\"2022-02-18\\\",\\\"2022-02-22\\\",\\\"2022-02-23\\\",\\\"2022-02-24\\\",\\\"2022-02-25\\\",\\\"2022-02-28\\\",\\\"2022-03-01\\\",\\\"2022-03-02\\\",\\\"2022-03-03\\\",\\\"2022-03-04\\\",\\\"2022-03-07\\\",\\\"2022-03-08\\\",\\\"2022-03-09\\\",\\\"2022-03-10\\\",\\\"2022-03-11\\\",\\\"2022-03-11\\\"]}],{\\\"template\\\":{\\\"layout\\\":{\\\"coloraxis\\\":{\\\"colorbar\\\":{\\\"ticks\\\":\\\"\\\",\\\"outlinewidth\\\":0}},\\\"xaxis\\\":{\\\"gridcolor\\\":\\\"white\\\",\\\"zerolinewidth\\\":2,\\\"title\\\":{\\\"standoff\\\":15},\\\"ticks\\\":\\\"\\\",\\\"zerolinecolor\\\":\\\"white\\\",\\\"automargin\\\":true,\\\"linecolor\\\":\\\"white\\\"},\\\"hovermode\\\":\\\"closest\\\",\\\"paper_bgcolor\\\":\\\"white\\\",\\\"geo\\\":{\\\"showlakes\\\":true,\\\"showland\\\":true,\\\"landcolor\\\":\\\"#E5ECF6\\\",\\\"bgcolor\\\":\\\"white\\\",\\\"subunitcolor\\\":\\\"white\\\",\\\"lakecolor\\\":\\\"white\\\"},\\\"colorscale\\\":{\\\"sequential\\\":[[0.0,\\\"#0d0887\\\"],[0.1111111111111111,\\\"#46039f\\\"],[0.2222222222222222,\\\"#7201a8\\\"],[0.3333333333333333,\\\"#9c179e\\\"],[0.4444444444444444,\\\"#bd3786\\\"],[0.5555555555555556,\\\"#d8576b\\\"],[0.6666666666666666,\\\"#ed7953\\\"],[0.7777777777777778,\\\"#fb9f3a\\\"],[0.8888888888888888,\\\"#fdca26\\\"],[1.0,\\\"#f0f921\\\"]],\\\"diverging\\\":[[0,\\\"#8e0152\\\"],[0.1,\\\"#c51b7d\\\"],[0.2,\\\"#de77ae\\\"],[0.3,\\\"#f1b6da\\\"],[0.4,\\\"#fde0ef\\\"],[0.5,\\\"#f7f7f7\\\"],[0.6,\\\"#e6f5d0\\\"],[0.7,\\\"#b8e186\\\"],[0.8,\\\"#7fbc41\\\"],[0.9,\\\"#4d9221\\\"],[1,\\\"#276419\\\"]],\\\"sequentialminus\\\":[[0.0,\\\"#0d0887\\\"],[0.1111111111111111,\\\"#46039f\\\"],[0.2222222222222222,\\\"#7201a8\\\"],[0.3333333333333333,\\\"#9c179e\\\"],[0.4444444444444444,\\\"#bd3786\\\"],[0.5555555555555556,\\\"#d8576b\\\"],[0.6666666666666666,\\\"#ed7953\\\"],[0.7777777777777778,\\\"#fb9f3a\\\"],[0.8888888888888888,\\\"#fdca26\\\"],[1.0,\\\"#f0f921\\\"]]},\\\"yaxis\\\":{\\\"gridcolor\\\":\\\"white\\\",\\\"zerolinewidth\\\":2,\\\"title\\\":{\\\"standoff\\\":15},\\\"ticks\\\":\\\"\\\",\\\"zerolinecolor\\\":\\\"white\\\",\\\"automargin\\\":true,\\\"linecolor\\\":\\\"white\\\"},\\\"shapedefaults\\\":{\\\"line\\\":{\\\"color\\\":\\\"#2a3f5f\\\"}},\\\"hoverlabel\\\":{\\\"align\\\":\\\"left\\\"},\\\"mapbox\\\":{\\\"style\\\":\\\"light\\\"},\\\"polar\\\":{\\\"angularaxis\\\":{\\\"gridcolor\\\":\\\"white\\\",\\\"ticks\\\":\\\"\\\",\\\"linecolor\\\":\\\"white\\\"},\\\"bgcolor\\\":\\\"#E5ECF6\\\",\\\"radialaxis\\\":{\\\"gridcolor\\\":\\\"white\\\",\\\"ticks\\\":\\\"\\\",\\\"linecolor\\\":\\\"white\\\"}},\\\"autotypenumbers\\\":\\\"strict\\\",\\\"font\\\":{\\\"color\\\":\\\"#2a3f5f\\\"},\\\"ternary\\\":{\\\"baxis\\\":{\\\"gridcolor\\\":\\\"white\\\",\\\"ticks\\\":\\\"\\\",\\\"linecolor\\\":\\\"white\\\"},\\\"bgcolor\\\":\\\"#E5ECF6\\\",\\\"caxis\\\":{\\\"gridcolor\\\":\\\"white\\\",\\\"ticks\\\":\\\"\\\",\\\"linecolor\\\":\\\"white\\\"},\\\"aaxis\\\":{\\\"gridcolor\\\":\\\"white\\\",\\\"ticks\\\":\\\"\\\",\\\"linecolor\\\":\\\"white\\\"}},\\\"annotationdefaults\\\":{\\\"arrowhead\\\":0,\\\"arrowwidth\\\":1,\\\"arrowcolor\\\":\\\"#2a3f5f\\\"},\\\"plot_bgcolor\\\":\\\"#E5ECF6\\\",\\\"title\\\":{\\\"x\\\":0.05},\\\"scene\\\":{\\\"xaxis\\\":{\\\"gridcolor\\\":\\\"white\\\",\\\"gridwidth\\\":2,\\\"backgroundcolor\\\":\\\"#E5ECF6\\\",\\\"ticks\\\":\\\"\\\",\\\"showbackground\\\":true,\\\"zerolinecolor\\\":\\\"white\\\",\\\"linecolor\\\":\\\"white\\\"},\\\"zaxis\\\":{\\\"gridcolor\\\":\\\"white\\\",\\\"gridwidth\\\":2,\\\"backgroundcolor\\\":\\\"#E5ECF6\\\",\\\"ticks\\\":\\\"\\\",\\\"showbackground\\\":true,\\\"zerolinecolor\\\":\\\"white\\\",\\\"linecolor\\\":\\\"white\\\"},\\\"yaxis\\\":{\\\"gridcolor\\\":\\\"white\\\",\\\"gridwidth\\\":2,\\\"backgroundcolor\\\":\\\"#E5ECF6\\\",\\\"ticks\\\":\\\"\\\",\\\"showbackground\\\":true,\\\"zerolinecolor\\\":\\\"white\\\",\\\"linecolor\\\":\\\"white\\\"}},\\\"colorway\\\":[\\\"#636efa\\\",\\\"#EF553B\\\",\\\"#00cc96\\\",\\\"#ab63fa\\\",\\\"#FFA15A\\\",\\\"#19d3f3\\\",\\\"#FF6692\\\",\\\"#B6E880\\\",\\\"#FF97FF\\\",\\\"#FECB52\\\"]},\\\"data\\\":{\\\"barpolar\\\":[{\\\"type\\\":\\\"barpolar\\\",\\\"marker\\\":{\\\"line\\\":{\\\"color\\\":\\\"#E5ECF6\\\",\\\"width\\\":0.5}}}],\\\"carpet\\\":[{\\\"aaxis\\\":{\\\"gridcolor\\\":\\\"white\\\",\\\"endlinecolor\\\":\\\"#2a3f5f\\\",\\\"minorgridcolor\\\":\\\"white\\\",\\\"startlinecolor\\\":\\\"#2a3f5f\\\",\\\"linecolor\\\":\\\"white\\\"},\\\"type\\\":\\\"carpet\\\",\\\"baxis\\\":{\\\"gridcolor\\\":\\\"white\\\",\\\"endlinecolor\\\":\\\"#2a3f5f\\\",\\\"minorgridcolor\\\":\\\"white\\\",\\\"startlinecolor\\\":\\\"#2a3f5f\\\",\\\"linecolor\\\":\\\"white\\\"}}],\\\"scatterpolar\\\":[{\\\"type\\\":\\\"scatterpolar\\\",\\\"marker\\\":{\\\"colorbar\\\":{\\\"ticks\\\":\\\"\\\",\\\"outlinewidth\\\":0}}}],\\\"parcoords\\\":[{\\\"line\\\":{\\\"colorbar\\\":{\\\"ticks\\\":\\\"\\\",\\\"outlinewidth\\\":0}},\\\"type\\\":\\\"parcoords\\\"}],\\\"scatter\\\":[{\\\"type\\\":\\\"scatter\\\",\\\"marker\\\":{\\\"colorbar\\\":{\\\"ticks\\\":\\\"\\\",\\\"outlinewidth\\\":0}}}],\\\"histogram2dcontour\\\":[{\\\"colorbar\\\":{\\\"ticks\\\":\\\"\\\",\\\"outlinewidth\\\":0},\\\"type\\\":\\\"histogram2dcontour\\\",\\\"colorscale\\\":[[0.0,\\\"#0d0887\\\"],[0.1111111111111111,\\\"#46039f\\\"],[0.2222222222222222,\\\"#7201a8\\\"],[0.3333333333333333,\\\"#9c179e\\\"],[0.4444444444444444,\\\"#bd3786\\\"],[0.5555555555555556,\\\"#d8576b\\\"],[0.6666666666666666,\\\"#ed7953\\\"],[0.7777777777777778,\\\"#fb9f3a\\\"],[0.8888888888888888,\\\"#fdca26\\\"],[1.0,\\\"#f0f921\\\"]]}],\\\"contour\\\":[{\\\"colorbar\\\":{\\\"ticks\\\":\\\"\\\",\\\"outlinewidth\\\":0},\\\"type\\\":\\\"contour\\\",\\\"colorscale\\\":[[0.0,\\\"#0d0887\\\"],[0.1111111111111111,\\\"#46039f\\\"],[0.2222222222222222,\\\"#7201a8\\\"],[0.3333333333333333,\\\"#9c179e\\\"],[0.4444444444444444,\\\"#bd3786\\\"],[0.5555555555555556,\\\"#d8576b\\\"],[0.6666666666666666,\\\"#ed7953\\\"],[0.7777777777777778,\\\"#fb9f3a\\\"],[0.8888888888888888,\\\"#fdca26\\\"],[1.0,\\\"#f0f921\\\"]]}],\\\"scattercarpet\\\":[{\\\"type\\\":\\\"scattercarpet\\\",\\\"marker\\\":{\\\"colorbar\\\":{\\\"ticks\\\":\\\"\\\",\\\"outlinewidth\\\":0}}}],\\\"mesh3d\\\":[{\\\"colorbar\\\":{\\\"ticks\\\":\\\"\\\",\\\"outlinewidth\\\":0},\\\"type\\\":\\\"mesh3d\\\"}],\\\"surface\\\":[{\\\"colorbar\\\":{\\\"ticks\\\":\\\"\\\",\\\"outlinewidth\\\":0},\\\"type\\\":\\\"surface\\\",\\\"colorscale\\\":[[0.0,\\\"#0d0887\\\"],[0.1111111111111111,\\\"#46039f\\\"],[0.2222222222222222,\\\"#7201a8\\\"],[0.3333333333333333,\\\"#9c179e\\\"],[0.4444444444444444,\\\"#bd3786\\\"],[0.5555555555555556,\\\"#d8576b\\\"],[0.6666666666666666,\\\"#ed7953\\\"],[0.7777777777777778,\\\"#fb9f3a\\\"],[0.8888888888888888,\\\"#fdca26\\\"],[1.0,\\\"#f0f921\\\"]]}],\\\"scattermapbox\\\":[{\\\"type\\\":\\\"scattermapbox\\\",\\\"marker\\\":{\\\"colorbar\\\":{\\\"ticks\\\":\\\"\\\",\\\"outlinewidth\\\":0}}}],\\\"scattergeo\\\":[{\\\"type\\\":\\\"scattergeo\\\",\\\"marker\\\":{\\\"colorbar\\\":{\\\"ticks\\\":\\\"\\\",\\\"outlinewidth\\\":0}}}],\\\"histogram\\\":[{\\\"type\\\":\\\"histogram\\\",\\\"marker\\\":{\\\"colorbar\\\":{\\\"ticks\\\":\\\"\\\",\\\"outlinewidth\\\":0}}}],\\\"pie\\\":[{\\\"type\\\":\\\"pie\\\",\\\"automargin\\\":true}],\\\"choropleth\\\":[{\\\"colorbar\\\":{\\\"ticks\\\":\\\"\\\",\\\"outlinewidth\\\":0},\\\"type\\\":\\\"choropleth\\\"}],\\\"heatmapgl\\\":[{\\\"colorbar\\\":{\\\"ticks\\\":\\\"\\\",\\\"outlinewidth\\\":0},\\\"type\\\":\\\"heatmapgl\\\",\\\"colorscale\\\":[[0.0,\\\"#0d0887\\\"],[0.1111111111111111,\\\"#46039f\\\"],[0.2222222222222222,\\\"#7201a8\\\"],[0.3333333333333333,\\\"#9c179e\\\"],[0.4444444444444444,\\\"#bd3786\\\"],[0.5555555555555556,\\\"#d8576b\\\"],[0.6666666666666666,\\\"#ed7953\\\"],[0.7777777777777778,\\\"#fb9f3a\\\"],[0.8888888888888888,\\\"#fdca26\\\"],[1.0,\\\"#f0f921\\\"]]}],\\\"bar\\\":[{\\\"type\\\":\\\"bar\\\",\\\"error_y\\\":{\\\"color\\\":\\\"#2a3f5f\\\"},\\\"error_x\\\":{\\\"color\\\":\\\"#2a3f5f\\\"},\\\"marker\\\":{\\\"line\\\":{\\\"color\\\":\\\"#E5ECF6\\\",\\\"width\\\":0.5}}}],\\\"heatmap\\\":[{\\\"colorbar\\\":{\\\"ticks\\\":\\\"\\\",\\\"outlinewidth\\\":0},\\\"type\\\":\\\"heatmap\\\",\\\"colorscale\\\":[[0.0,\\\"#0d0887\\\"],[0.1111111111111111,\\\"#46039f\\\"],[0.2222222222222222,\\\"#7201a8\\\"],[0.3333333333333333,\\\"#9c179e\\\"],[0.4444444444444444,\\\"#bd3786\\\"],[0.5555555555555556,\\\"#d8576b\\\"],[0.6666666666666666,\\\"#ed7953\\\"],[0.7777777777777778,\\\"#fb9f3a\\\"],[0.8888888888888888,\\\"#fdca26\\\"],[1.0,\\\"#f0f921\\\"]]}],\\\"contourcarpet\\\":[{\\\"colorbar\\\":{\\\"ticks\\\":\\\"\\\",\\\"outlinewidth\\\":0},\\\"type\\\":\\\"contourcarpet\\\"}],\\\"table\\\":[{\\\"type\\\":\\\"table\\\",\\\"header\\\":{\\\"line\\\":{\\\"color\\\":\\\"white\\\"},\\\"fill\\\":{\\\"color\\\":\\\"#C8D4E3\\\"}},\\\"cells\\\":{\\\"line\\\":{\\\"color\\\":\\\"white\\\"},\\\"fill\\\":{\\\"color\\\":\\\"#EBF0F8\\\"}}}],\\\"scatter3d\\\":[{\\\"line\\\":{\\\"colorbar\\\":{\\\"ticks\\\":\\\"\\\",\\\"outlinewidth\\\":0}},\\\"type\\\":\\\"scatter3d\\\",\\\"marker\\\":{\\\"colorbar\\\":{\\\"ticks\\\":\\\"\\\",\\\"outlinewidth\\\":0}}}],\\\"scattergl\\\":[{\\\"type\\\":\\\"scattergl\\\",\\\"marker\\\":{\\\"colorbar\\\":{\\\"ticks\\\":\\\"\\\",\\\"outlinewidth\\\":0}}}],\\\"histogram2d\\\":[{\\\"colorbar\\\":{\\\"ticks\\\":\\\"\\\",\\\"outlinewidth\\\":0},\\\"type\\\":\\\"histogram2d\\\",\\\"colorscale\\\":[[0.0,\\\"#0d0887\\\"],[0.1111111111111111,\\\"#46039f\\\"],[0.2222222222222222,\\\"#7201a8\\\"],[0.3333333333333333,\\\"#9c179e\\\"],[0.4444444444444444,\\\"#bd3786\\\"],[0.5555555555555556,\\\"#d8576b\\\"],[0.6666666666666666,\\\"#ed7953\\\"],[0.7777777777777778,\\\"#fb9f3a\\\"],[0.8888888888888888,\\\"#fdca26\\\"],[1.0,\\\"#f0f921\\\"]]}],\\\"scatterternary\\\":[{\\\"type\\\":\\\"scatterternary\\\",\\\"marker\\\":{\\\"colorbar\\\":{\\\"ticks\\\":\\\"\\\",\\\"outlinewidth\\\":0}}}],\\\"scatterpolargl\\\":[{\\\"type\\\":\\\"scatterpolargl\\\",\\\"marker\\\":{\\\"colorbar\\\":{\\\"ticks\\\":\\\"\\\",\\\"outlinewidth\\\":0}}}]}},\\\"margin\\\":{\\\"l\\\":50,\\\"b\\\":50,\\\"r\\\":50,\\\"t\\\":60},\\\"title\\\":\\\"BioNTech Returns\\\",\\\"yaxis\\\":{\\\"title\\\":{\\\"text\\\":\\\"BNTX Returns\\\"}}},{\\\"showLink\\\":false,\\\"editable\\\":false,\\\"responsive\\\":true,\\\"staticPlot\\\":false,\\\"scrollZoom\\\":true}); gd.on(\\\"plotly_hover\\\",(function (data){var filtered_data=WebIO.PlotlyCommands.filterEventData(gd,data,\\\"hover\\\"); return !(filtered_data.isnil) ? (WebIO.setval({\\\"name\\\":\\\"hover\\\",\\\"scope\\\":\\\"3470865006826888204\\\",\\\"id\\\":\\\"3950642667487197315\\\",\\\"type\\\":\\\"observable\\\"},filtered_data.out)) : undefined})); gd.on(\\\"plotly_unhover\\\",(function (){return WebIO.setval({\\\"name\\\":\\\"hover\\\",\\\"scope\\\":\\\"3470865006826888204\\\",\\\"id\\\":\\\"3950642667487197315\\\",\\\"type\\\":\\\"observable\\\"},{})})); gd.on(\\\"plotly_selected\\\",(function (data){var filtered_data=WebIO.PlotlyCommands.filterEventData(gd,data,\\\"selected\\\"); return !(filtered_data.isnil) ? (WebIO.setval({\\\"name\\\":\\\"selected\\\",\\\"scope\\\":\\\"3470865006826888204\\\",\\\"id\\\":\\\"729332810764687117\\\",\\\"type\\\":\\\"observable\\\"},filtered_data.out)) : undefined})); gd.on(\\\"plotly_deselect\\\",(function (){return WebIO.setval({\\\"name\\\":\\\"selected\\\",\\\"scope\\\":\\\"3470865006826888204\\\",\\\"id\\\":\\\"729332810764687117\\\",\\\"type\\\":\\\"observable\\\"},{})})); gd.on(\\\"plotly_relayout\\\",(function (data){var filtered_data=WebIO.PlotlyCommands.filterEventData(gd,data,\\\"relayout\\\"); return !(filtered_data.isnil) ? (WebIO.setval({\\\"name\\\":\\\"relayout\\\",\\\"scope\\\":\\\"3470865006826888204\\\",\\\"id\\\":\\\"1004424383869707249\\\",\\\"type\\\":\\\"observable\\\"},filtered_data.out)) : undefined})); return gd.on(\\\"plotly_click\\\",(function (data){var filtered_data=WebIO.PlotlyCommands.filterEventData(gd,data,\\\"click\\\"); return !(filtered_data.isnil) ? (WebIO.setval({\\\"name\\\":\\\"click\\\",\\\"scope\\\":\\\"3470865006826888204\\\",\\\"id\\\":\\\"4306301322374713874\\\",\\\"type\\\":\\\"observable\\\"},filtered_data.out)) : undefined}))}));\\n    (WebIO.importBlock({\\\"data\\\":[{\\\"name\\\":\\\"Plotly\\\",\\\"type\\\":\\\"js\\\",\\\"url\\\":\\\"\\/assetserver\\/c44b2cd04b3a3572f00c5d295ffe9c45b94a9a49-plotly.min.js\\\"},{\\\"name\\\":null,\\\"type\\\":\\\"js\\\",\\\"url\\\":\\\"\\/assetserver\\/5d2f409fc13299e6b724930d0745c21ad970d6a4-plotly_webio.bundle.js\\\"}],\\\"type\\\":\\\"async_block\\\"})).then((imports) => handler.apply(this, imports));\\n}\\n\"],\"observables\":{\"_toImage\":{\"sync\":false,\"id\":\"7281122400274611390\",\"value\":{}},\"hover\":{\"sync\":false,\"id\":\"3950642667487197315\",\"value\":{}},\"selected\":{\"sync\":false,\"id\":\"729332810764687117\",\"value\":{}},\"__gd_contents\":{\"sync\":false,\"id\":\"11897197853805719707\",\"value\":{}},\"click\":{\"sync\":false,\"id\":\"4306301322374713874\",\"value\":{}},\"image\":{\"sync\":true,\"id\":\"15833355983786166912\",\"value\":\"\"},\"__get_gd_contents\":{\"sync\":false,\"id\":\"8708386560780734016\",\"value\":\"\"},\"_downloadImage\":{\"sync\":false,\"id\":\"12581120515682107010\",\"value\":{}},\"relayout\":{\"sync\":false,\"id\":\"1004424383869707249\",\"value\":{}},\"_commands\":{\"sync\":false,\"id\":\"10302957448643833744\",\"value\":[]}}},\"children\":[{\"props\":{\"id\":\"plot-09f39b44-844d-4b3f-a592-aed32c714f53\"},\"nodeType\":\"DOM\",\"type\":\"node\",\"instanceArgs\":{\"namespace\":\"html\",\"tag\":\"div\"},\"children\":[]}]},\n",
       "        window,\n",
       "    );\n",
       "    })()\n",
       "    </script>\n",
       "</div>\n"
      ],
      "text/plain": [
       "data: [\n",
       "  \"scatter with fields mode, type, x, and y\"\n",
       "]\n",
       "\n",
       "layout: \"layout with fields margin, template, title, and yaxis\"\n",
       "\n"
      ]
     },
     "execution_count": 41,
     "metadata": {},
     "output_type": "execute_result"
    }
   ],
   "source": [
    "PlotlyJS.plot( BNTX_6MONTHS.Date, BNTX_6MONTHS.Return,mode=\"markers+lines\",\n",
    "               Layout(title=\"BioNTech Returns\",\n",
    "                      yaxis_title=\"BNTX Returns\") )"
   ]
  },
  {
   "cell_type": "markdown",
   "id": "b3bc4d25-dde4-451c-9159-a6f532c66681",
   "metadata": {},
   "source": [
    "## 1-Step Binomial Tree"
   ]
  },
  {
   "cell_type": "code",
   "execution_count": 42,
   "id": "d3ea69cd",
   "metadata": {},
   "outputs": [
    {
     "name": "stdout",
     "output_type": "stream",
     "text": [
      "Price of a Call Option of GOOGLE   with 3 month Maturity:\t251.90037987067424\n",
      "Price of a Call Option of BioNTech with 3 month Maturity:\t25.393084669290637\n",
      "Price of a Call Option of BioNTech with 6 month Maturity:\t28.785812770042778\n"
     ]
    }
   ],
   "source": [
    "Year_Days               = 252\n",
    "Interest_rate           = 0.0080286\n",
    "Maturity                = 3/12\n",
    "S0_GOOG                 = GOOG.Close[length(GOOG.Close)]\n",
    "S0_BNTX                 = BNTX.Close[length(BNTX.Close)]\n",
    "S0_BNTX_6MONTHS         = BNTX.Close[length(BNTX.Close)]\n",
    "K_GOOG                  = 2600\n",
    "K_BNTX                  = 140\n",
    "K_BNTX_6MONTHS          = 140\n",
    "\n",
    "VOL_DAILY_GOOG          = std(skipmissing(GOOG.Return))\n",
    "VOL_ANNUAL_GOOG         = VOL_DAILY_GOOG * sqrt(Year_Days)\n",
    "\n",
    "VOL_DAILY_BNTX          = std(skipmissing(BNTX.Return))\n",
    "VOL_ANNUAL_BNTX         = VOL_DAILY_BNTX * sqrt(Year_Days)\n",
    "\n",
    "VOL_DAILY_BNTX_6MONTHS  = std(skipmissing(BNTX_6MONTHS.Return))\n",
    "VOL_ANNUAL_BNTX_6MONTHS = VOL_DAILY_BNTX_6MONTHS * sqrt(Year_Days)\n",
    "\n",
    "UpDown_GOOG             = ( exp( + VOL_ANNUAL_GOOG         * sqrt( Maturity ) ), exp( - VOL_ANNUAL_GOOG         * sqrt( Maturity ) ) )\n",
    "UpDown_BNTX             = ( exp( + VOL_ANNUAL_BNTX         * sqrt( Maturity ) ), exp( - VOL_ANNUAL_BNTX         * sqrt( Maturity ) ) )\n",
    "UpDown_BNTX_6MONTHS     = ( exp( + VOL_ANNUAL_BNTX_6MONTHS * sqrt( Maturity ) ), exp( - VOL_ANNUAL_BNTX_6MONTHS * sqrt( Maturity ) ) )\n",
    "\n",
    "q_GOOG                  = ( ( 1 + Maturity * Interest_rate ) - UpDown_GOOG[2] )         / ( UpDown_GOOG[1]         - UpDown_GOOG[2]         )\n",
    "q_BNTX                  = ( ( 1 + Maturity * Interest_rate ) - UpDown_BNTX[2] )         / ( UpDown_BNTX[1]         - UpDown_BNTX[2]         )\n",
    "q_BNTX_6MONTHS          = ( ( 1 + Maturity * Interest_rate ) - UpDown_BNTX_6MONTHS[2] ) / ( UpDown_BNTX_6MONTHS[1] - UpDown_BNTX_6MONTHS[2] )\n",
    "\n",
    "PRICE_CALL_GOOG         = (     q_GOOG           * max( 0, S0_GOOG         * UpDown_GOOG[1]         - K_GOOG )           + \n",
    "                          ( 1 - q_GOOG         ) * max( 0, S0_GOOG         * UpDown_GOOG[2]         - K_GOOG ) )         / ( 1 + Maturity * Interest_rate )\n",
    "PRICE_CALL_BNTX         = (     q_BNTX           * max( 0, S0_BNTX         * UpDown_BNTX[1]         - K_BNTX )           + \n",
    "                          ( 1 - q_BNTX         ) * max( 0, S0_BNTX         * UpDown_BNTX[2]         - K_BNTX ) )         / ( 1 + Maturity * Interest_rate )\n",
    "PRICE_CALL_BNTX_6MONTHS = (     q_BNTX_6MONTHS   * max( 0, S0_BNTX_6MONTHS * UpDown_BNTX_6MONTHS[1] - K_BNTX_6MONTHS )   + \n",
    "                          ( 1 - q_BNTX_6MONTHS ) * max( 0, S0_BNTX_6MONTHS * UpDown_BNTX_6MONTHS[2] - K_BNTX_6MONTHS ) ) / ( 1 + Maturity * Interest_rate )\n",
    "\n",
    "println(\"Price of a Call Option of GOOGLE   with 3 month Maturity:\\t\", PRICE_CALL_GOOG         )\n",
    "println(\"Price of a Call Option of BioNTech with 3 month Maturity:\\t\", PRICE_CALL_BNTX         )\n",
    "println(\"Price of a Call Option of BioNTech with 6 month Maturity:\\t\", PRICE_CALL_BNTX_6MONTHS )"
   ]
  },
  {
   "cell_type": "markdown",
   "id": "5a5ee568-4404-4ea0-9689-3e7f252af210",
   "metadata": {},
   "source": [
    "### Multisteps-Binomial Tree"
   ]
  },
  {
   "cell_type": "code",
   "execution_count": 43,
   "id": "49778402-1c79-41a2-bb66-9a4f15eddf65",
   "metadata": {},
   "outputs": [
    {
     "data": {
      "text/plain": [
       "CALL_PRICE (generic function with 1 method)"
      ]
     },
     "execution_count": 43,
     "metadata": {},
     "output_type": "execute_result"
    }
   ],
   "source": [
    "function CALL_PRICE(S, K, r, σ, T, N)\n",
    "    Δt     = T / N\n",
    "    U      = exp(σ * √Δt)\n",
    "    D      = 1 / U\n",
    "    R      = ( 1 + r * Δt )\n",
    "    q      = (R - D) / (U - D)\n",
    "\n",
    "    Payoff = [max(0, S * U^(N-i) * D^i - K ) for i = 0:N]\n",
    "    \n",
    "    return sum( Payoff[j+1] * binomial(N,j) * (1-q)^j * (q)^(N-j) for j in 0:N ) / R\n",
    "end"
   ]
  },
  {
   "cell_type": "code",
   "execution_count": 44,
   "id": "cc92ca59-8a35-456a-87f5-16e80dc8dd1f",
   "metadata": {},
   "outputs": [
    {
     "name": "stdout",
     "output_type": "stream",
     "text": [
      "\n",
      "209.95074291428583\n",
      "20.201281731270587\n",
      "22.992701678103472"
     ]
    }
   ],
   "source": [
    "print( \"\\n\", CALL_PRICE(S0_GOOG,         K_GOOG,         Interest_rate, VOL_ANNUAL_GOOG,         Maturity, 30) )\n",
    "print( \"\\n\", CALL_PRICE(S0_BNTX,         K_BNTX,         Interest_rate, VOL_ANNUAL_BNTX,         Maturity, 30) )\n",
    "print( \"\\n\", CALL_PRICE(S0_BNTX_6MONTHS, K_BNTX_6MONTHS, Interest_rate, VOL_ANNUAL_BNTX_6MONTHS, Maturity, 60) )"
   ]
  },
  {
   "cell_type": "code",
   "execution_count": 45,
   "id": "48cd74b2-8ac4-41e1-b250-097e30f79295",
   "metadata": {},
   "outputs": [
    {
     "name": "stdout",
     "output_type": "stream",
     "text": [
      "OK"
     ]
    }
   ],
   "source": [
    "GOOG_CALL         = [CALL_PRICE(S0_GOOG,         K_GOOG,         Interest_rate, VOL_ANNUAL_GOOG,         Maturity, i) for i in 1:60]\n",
    "BNTX_CALL         = [CALL_PRICE(S0_BNTX,         K_BNTX,         Interest_rate, VOL_ANNUAL_BNTX,         Maturity, i) for i in 1:60]\n",
    "BNTX_CALL_6MONTHS = [CALL_PRICE(S0_BNTX_6MONTHS, K_BNTX_6MONTHS, Interest_rate, VOL_ANNUAL_BNTX_6MONTHS, Maturity, i) for i in 1:60]\n",
    "print(\"OK\")"
   ]
  },
  {
   "cell_type": "code",
   "execution_count": 46,
   "id": "7401039d",
   "metadata": {},
   "outputs": [
    {
     "data": {
      "text/plain": [
       "30.65"
      ]
     },
     "execution_count": 46,
     "metadata": {},
     "output_type": "execute_result"
    }
   ],
   "source": [
    "REAL_CALL_GOOG         = 209.6\n",
    "REAL_CALL_BNTX         =  21.7\n",
    "REAL_CALL_BNTX_6MONTHS =  30.65"
   ]
  },
  {
   "cell_type": "code",
   "execution_count": 47,
   "id": "b4ddf7b4-aa57-406f-b595-3fa685ce652a",
   "metadata": {},
   "outputs": [
    {
     "data": {
      "application/vnd.plotly.v1+json": {
       "config": {
        "editable": false,
        "responsive": true,
        "scrollZoom": true,
        "showLink": false,
        "staticPlot": false
       },
       "data": [
        {
         "mode": "markers+lines",
         "name": "Binomial Model",
         "type": "scatter",
         "x": [
          1,
          2,
          3,
          4,
          5,
          6,
          7,
          8,
          9,
          10,
          11,
          12,
          13,
          14,
          15,
          16,
          17,
          18,
          19,
          20,
          21,
          22,
          23,
          24,
          25,
          26,
          27,
          28,
          29,
          30,
          31,
          32,
          33,
          34,
          35,
          36,
          37,
          38,
          39,
          40,
          41,
          42,
          43,
          44,
          45,
          46,
          47,
          48,
          49,
          50,
          51,
          52,
          53,
          54,
          55,
          56,
          57,
          58,
          59,
          60
         ],
         "y": [
          251.90037987067424,
          200.48807276715138,
          222.5561646794891,
          206.81653963331036,
          216.51463303033495,
          208.63093815800636,
          213.93660622073668,
          209.37401316616274,
          212.51084215557898,
          209.72866970423772,
          211.60668827961828,
          209.90939986271127,
          210.98238587615174,
          210.00177504453694,
          210.52549923125642,
          210.04542449365334,
          210.176681293444,
          210.06067372664117,
          209.90166014266813,
          210.05874774209073,
          209.67926515238028,
          210.04619975991986,
          209.4957144528239,
          210.02702231957366,
          209.3416509465428,
          210.00372973979384,
          209.21049886026316,
          209.97794653203553,
          209.0975020066337,
          209.95074291428583,
          208.99913523433085,
          209.92283388279444,
          208.9127304072697,
          209.89470135486727,
          208.83623091956952,
          209.86667128183888,
          208.768026009288,
          209.83896354114847,
          208.706836166295,
          209.8117249067486,
          208.65163215218348,
          209.7850512401725,
          208.60157666704202,
          209.7590026657378,
          208.55598160375465,
          209.73361409177087,
          208.51427623808732,
          209.70890259232914,
          208.47598322393742,
          209.68487263880877,
          208.44070024767242,
          209.66151983931476,
          208.40808584375816,
          209.63883363028555,
          208.37784831077545,
          209.61679922391323,
          208.34973696497752,
          209.5953990230352,
          208.3235351758595,
          209.57461365068355
         ]
        },
        {
         "line": {
          "color": "firebrick",
          "dash": "dashdot",
          "width": 4
         },
         "mode": "lines",
         "name": "Real Value",
         "type": "scatter",
         "x": [
          1,
          2,
          3,
          4,
          5,
          6,
          7,
          8,
          9,
          10,
          11,
          12,
          13,
          14,
          15,
          16,
          17,
          18,
          19,
          20,
          21,
          22,
          23,
          24,
          25,
          26,
          27,
          28,
          29,
          30,
          31,
          32,
          33,
          34,
          35,
          36,
          37,
          38,
          39,
          40,
          41,
          42,
          43,
          44,
          45,
          46,
          47,
          48,
          49,
          50,
          51,
          52,
          53,
          54,
          55,
          56,
          57,
          58,
          59,
          60
         ],
         "y": [
          209.6,
          209.6,
          209.6,
          209.6,
          209.6,
          209.6,
          209.6,
          209.6,
          209.6,
          209.6,
          209.6,
          209.6,
          209.6,
          209.6,
          209.6,
          209.6,
          209.6,
          209.6,
          209.6,
          209.6,
          209.6,
          209.6,
          209.6,
          209.6,
          209.6,
          209.6,
          209.6,
          209.6,
          209.6,
          209.6,
          209.6,
          209.6,
          209.6,
          209.6,
          209.6,
          209.6,
          209.6,
          209.6,
          209.6,
          209.6,
          209.6,
          209.6,
          209.6,
          209.6,
          209.6,
          209.6,
          209.6,
          209.6,
          209.6,
          209.6,
          209.6,
          209.6,
          209.6,
          209.6,
          209.6,
          209.6,
          209.6,
          209.6,
          209.6,
          209.6
         ]
        }
       ],
       "frames": [],
       "layout": {
        "margin": {
         "b": 50,
         "l": 50,
         "r": 50,
         "t": 60
        },
        "template": {
         "data": {
          "bar": [
           {
            "error_x": {
             "color": "#2a3f5f"
            },
            "error_y": {
             "color": "#2a3f5f"
            },
            "marker": {
             "line": {
              "color": "#E5ECF6",
              "width": 0.5
             }
            },
            "type": "bar"
           }
          ],
          "barpolar": [
           {
            "marker": {
             "line": {
              "color": "#E5ECF6",
              "width": 0.5
             }
            },
            "type": "barpolar"
           }
          ],
          "carpet": [
           {
            "aaxis": {
             "endlinecolor": "#2a3f5f",
             "gridcolor": "white",
             "linecolor": "white",
             "minorgridcolor": "white",
             "startlinecolor": "#2a3f5f"
            },
            "baxis": {
             "endlinecolor": "#2a3f5f",
             "gridcolor": "white",
             "linecolor": "white",
             "minorgridcolor": "white",
             "startlinecolor": "#2a3f5f"
            },
            "type": "carpet"
           }
          ],
          "choropleth": [
           {
            "colorbar": {
             "outlinewidth": 0,
             "ticks": ""
            },
            "type": "choropleth"
           }
          ],
          "contour": [
           {
            "colorbar": {
             "outlinewidth": 0,
             "ticks": ""
            },
            "colorscale": [
             [
              0,
              "#0d0887"
             ],
             [
              0.1111111111111111,
              "#46039f"
             ],
             [
              0.2222222222222222,
              "#7201a8"
             ],
             [
              0.3333333333333333,
              "#9c179e"
             ],
             [
              0.4444444444444444,
              "#bd3786"
             ],
             [
              0.5555555555555556,
              "#d8576b"
             ],
             [
              0.6666666666666666,
              "#ed7953"
             ],
             [
              0.7777777777777778,
              "#fb9f3a"
             ],
             [
              0.8888888888888888,
              "#fdca26"
             ],
             [
              1,
              "#f0f921"
             ]
            ],
            "type": "contour"
           }
          ],
          "contourcarpet": [
           {
            "colorbar": {
             "outlinewidth": 0,
             "ticks": ""
            },
            "type": "contourcarpet"
           }
          ],
          "heatmap": [
           {
            "colorbar": {
             "outlinewidth": 0,
             "ticks": ""
            },
            "colorscale": [
             [
              0,
              "#0d0887"
             ],
             [
              0.1111111111111111,
              "#46039f"
             ],
             [
              0.2222222222222222,
              "#7201a8"
             ],
             [
              0.3333333333333333,
              "#9c179e"
             ],
             [
              0.4444444444444444,
              "#bd3786"
             ],
             [
              0.5555555555555556,
              "#d8576b"
             ],
             [
              0.6666666666666666,
              "#ed7953"
             ],
             [
              0.7777777777777778,
              "#fb9f3a"
             ],
             [
              0.8888888888888888,
              "#fdca26"
             ],
             [
              1,
              "#f0f921"
             ]
            ],
            "type": "heatmap"
           }
          ],
          "heatmapgl": [
           {
            "colorbar": {
             "outlinewidth": 0,
             "ticks": ""
            },
            "colorscale": [
             [
              0,
              "#0d0887"
             ],
             [
              0.1111111111111111,
              "#46039f"
             ],
             [
              0.2222222222222222,
              "#7201a8"
             ],
             [
              0.3333333333333333,
              "#9c179e"
             ],
             [
              0.4444444444444444,
              "#bd3786"
             ],
             [
              0.5555555555555556,
              "#d8576b"
             ],
             [
              0.6666666666666666,
              "#ed7953"
             ],
             [
              0.7777777777777778,
              "#fb9f3a"
             ],
             [
              0.8888888888888888,
              "#fdca26"
             ],
             [
              1,
              "#f0f921"
             ]
            ],
            "type": "heatmapgl"
           }
          ],
          "histogram": [
           {
            "marker": {
             "colorbar": {
              "outlinewidth": 0,
              "ticks": ""
             }
            },
            "type": "histogram"
           }
          ],
          "histogram2d": [
           {
            "colorbar": {
             "outlinewidth": 0,
             "ticks": ""
            },
            "colorscale": [
             [
              0,
              "#0d0887"
             ],
             [
              0.1111111111111111,
              "#46039f"
             ],
             [
              0.2222222222222222,
              "#7201a8"
             ],
             [
              0.3333333333333333,
              "#9c179e"
             ],
             [
              0.4444444444444444,
              "#bd3786"
             ],
             [
              0.5555555555555556,
              "#d8576b"
             ],
             [
              0.6666666666666666,
              "#ed7953"
             ],
             [
              0.7777777777777778,
              "#fb9f3a"
             ],
             [
              0.8888888888888888,
              "#fdca26"
             ],
             [
              1,
              "#f0f921"
             ]
            ],
            "type": "histogram2d"
           }
          ],
          "histogram2dcontour": [
           {
            "colorbar": {
             "outlinewidth": 0,
             "ticks": ""
            },
            "colorscale": [
             [
              0,
              "#0d0887"
             ],
             [
              0.1111111111111111,
              "#46039f"
             ],
             [
              0.2222222222222222,
              "#7201a8"
             ],
             [
              0.3333333333333333,
              "#9c179e"
             ],
             [
              0.4444444444444444,
              "#bd3786"
             ],
             [
              0.5555555555555556,
              "#d8576b"
             ],
             [
              0.6666666666666666,
              "#ed7953"
             ],
             [
              0.7777777777777778,
              "#fb9f3a"
             ],
             [
              0.8888888888888888,
              "#fdca26"
             ],
             [
              1,
              "#f0f921"
             ]
            ],
            "type": "histogram2dcontour"
           }
          ],
          "mesh3d": [
           {
            "colorbar": {
             "outlinewidth": 0,
             "ticks": ""
            },
            "type": "mesh3d"
           }
          ],
          "parcoords": [
           {
            "line": {
             "colorbar": {
              "outlinewidth": 0,
              "ticks": ""
             }
            },
            "type": "parcoords"
           }
          ],
          "pie": [
           {
            "automargin": true,
            "type": "pie"
           }
          ],
          "scatter": [
           {
            "marker": {
             "colorbar": {
              "outlinewidth": 0,
              "ticks": ""
             }
            },
            "type": "scatter"
           }
          ],
          "scatter3d": [
           {
            "line": {
             "colorbar": {
              "outlinewidth": 0,
              "ticks": ""
             }
            },
            "marker": {
             "colorbar": {
              "outlinewidth": 0,
              "ticks": ""
             }
            },
            "type": "scatter3d"
           }
          ],
          "scattercarpet": [
           {
            "marker": {
             "colorbar": {
              "outlinewidth": 0,
              "ticks": ""
             }
            },
            "type": "scattercarpet"
           }
          ],
          "scattergeo": [
           {
            "marker": {
             "colorbar": {
              "outlinewidth": 0,
              "ticks": ""
             }
            },
            "type": "scattergeo"
           }
          ],
          "scattergl": [
           {
            "marker": {
             "colorbar": {
              "outlinewidth": 0,
              "ticks": ""
             }
            },
            "type": "scattergl"
           }
          ],
          "scattermapbox": [
           {
            "marker": {
             "colorbar": {
              "outlinewidth": 0,
              "ticks": ""
             }
            },
            "type": "scattermapbox"
           }
          ],
          "scatterpolar": [
           {
            "marker": {
             "colorbar": {
              "outlinewidth": 0,
              "ticks": ""
             }
            },
            "type": "scatterpolar"
           }
          ],
          "scatterpolargl": [
           {
            "marker": {
             "colorbar": {
              "outlinewidth": 0,
              "ticks": ""
             }
            },
            "type": "scatterpolargl"
           }
          ],
          "scatterternary": [
           {
            "marker": {
             "colorbar": {
              "outlinewidth": 0,
              "ticks": ""
             }
            },
            "type": "scatterternary"
           }
          ],
          "surface": [
           {
            "colorbar": {
             "outlinewidth": 0,
             "ticks": ""
            },
            "colorscale": [
             [
              0,
              "#0d0887"
             ],
             [
              0.1111111111111111,
              "#46039f"
             ],
             [
              0.2222222222222222,
              "#7201a8"
             ],
             [
              0.3333333333333333,
              "#9c179e"
             ],
             [
              0.4444444444444444,
              "#bd3786"
             ],
             [
              0.5555555555555556,
              "#d8576b"
             ],
             [
              0.6666666666666666,
              "#ed7953"
             ],
             [
              0.7777777777777778,
              "#fb9f3a"
             ],
             [
              0.8888888888888888,
              "#fdca26"
             ],
             [
              1,
              "#f0f921"
             ]
            ],
            "type": "surface"
           }
          ],
          "table": [
           {
            "cells": {
             "fill": {
              "color": "#EBF0F8"
             },
             "line": {
              "color": "white"
             }
            },
            "header": {
             "fill": {
              "color": "#C8D4E3"
             },
             "line": {
              "color": "white"
             }
            },
            "type": "table"
           }
          ]
         },
         "layout": {
          "annotationdefaults": {
           "arrowcolor": "#2a3f5f",
           "arrowhead": 0,
           "arrowwidth": 1
          },
          "autotypenumbers": "strict",
          "coloraxis": {
           "colorbar": {
            "outlinewidth": 0,
            "ticks": ""
           }
          },
          "colorscale": {
           "diverging": [
            [
             0,
             "#8e0152"
            ],
            [
             0.1,
             "#c51b7d"
            ],
            [
             0.2,
             "#de77ae"
            ],
            [
             0.3,
             "#f1b6da"
            ],
            [
             0.4,
             "#fde0ef"
            ],
            [
             0.5,
             "#f7f7f7"
            ],
            [
             0.6,
             "#e6f5d0"
            ],
            [
             0.7,
             "#b8e186"
            ],
            [
             0.8,
             "#7fbc41"
            ],
            [
             0.9,
             "#4d9221"
            ],
            [
             1,
             "#276419"
            ]
           ],
           "sequential": [
            [
             0,
             "#0d0887"
            ],
            [
             0.1111111111111111,
             "#46039f"
            ],
            [
             0.2222222222222222,
             "#7201a8"
            ],
            [
             0.3333333333333333,
             "#9c179e"
            ],
            [
             0.4444444444444444,
             "#bd3786"
            ],
            [
             0.5555555555555556,
             "#d8576b"
            ],
            [
             0.6666666666666666,
             "#ed7953"
            ],
            [
             0.7777777777777778,
             "#fb9f3a"
            ],
            [
             0.8888888888888888,
             "#fdca26"
            ],
            [
             1,
             "#f0f921"
            ]
           ],
           "sequentialminus": [
            [
             0,
             "#0d0887"
            ],
            [
             0.1111111111111111,
             "#46039f"
            ],
            [
             0.2222222222222222,
             "#7201a8"
            ],
            [
             0.3333333333333333,
             "#9c179e"
            ],
            [
             0.4444444444444444,
             "#bd3786"
            ],
            [
             0.5555555555555556,
             "#d8576b"
            ],
            [
             0.6666666666666666,
             "#ed7953"
            ],
            [
             0.7777777777777778,
             "#fb9f3a"
            ],
            [
             0.8888888888888888,
             "#fdca26"
            ],
            [
             1,
             "#f0f921"
            ]
           ]
          },
          "colorway": [
           "#636efa",
           "#EF553B",
           "#00cc96",
           "#ab63fa",
           "#FFA15A",
           "#19d3f3",
           "#FF6692",
           "#B6E880",
           "#FF97FF",
           "#FECB52"
          ],
          "font": {
           "color": "#2a3f5f"
          },
          "geo": {
           "bgcolor": "white",
           "lakecolor": "white",
           "landcolor": "#E5ECF6",
           "showlakes": true,
           "showland": true,
           "subunitcolor": "white"
          },
          "hoverlabel": {
           "align": "left"
          },
          "hovermode": "closest",
          "mapbox": {
           "style": "light"
          },
          "paper_bgcolor": "white",
          "plot_bgcolor": "#E5ECF6",
          "polar": {
           "angularaxis": {
            "gridcolor": "white",
            "linecolor": "white",
            "ticks": ""
           },
           "bgcolor": "#E5ECF6",
           "radialaxis": {
            "gridcolor": "white",
            "linecolor": "white",
            "ticks": ""
           }
          },
          "scene": {
           "xaxis": {
            "backgroundcolor": "#E5ECF6",
            "gridcolor": "white",
            "gridwidth": 2,
            "linecolor": "white",
            "showbackground": true,
            "ticks": "",
            "zerolinecolor": "white"
           },
           "yaxis": {
            "backgroundcolor": "#E5ECF6",
            "gridcolor": "white",
            "gridwidth": 2,
            "linecolor": "white",
            "showbackground": true,
            "ticks": "",
            "zerolinecolor": "white"
           },
           "zaxis": {
            "backgroundcolor": "#E5ECF6",
            "gridcolor": "white",
            "gridwidth": 2,
            "linecolor": "white",
            "showbackground": true,
            "ticks": "",
            "zerolinecolor": "white"
           }
          },
          "shapedefaults": {
           "line": {
            "color": "#2a3f5f"
           }
          },
          "ternary": {
           "aaxis": {
            "gridcolor": "white",
            "linecolor": "white",
            "ticks": ""
           },
           "baxis": {
            "gridcolor": "white",
            "linecolor": "white",
            "ticks": ""
           },
           "bgcolor": "#E5ECF6",
           "caxis": {
            "gridcolor": "white",
            "linecolor": "white",
            "ticks": ""
           }
          },
          "title": {
           "x": 0.05
          },
          "xaxis": {
           "automargin": true,
           "gridcolor": "white",
           "linecolor": "white",
           "ticks": "",
           "title": {
            "standoff": 15
           },
           "zerolinecolor": "white",
           "zerolinewidth": 2
          },
          "yaxis": {
           "automargin": true,
           "gridcolor": "white",
           "linecolor": "white",
           "ticks": "",
           "title": {
            "standoff": 15
           },
           "zerolinecolor": "white",
           "zerolinewidth": 2
          }
         }
        },
        "title": "Google Call Price, Maturity 3 months, Strike ~ S0, as function of number of steps",
        "yaxis": {
         "title": {
          "text": "CALL price"
         }
        }
       }
      },
      "text/html": [
       "<div\n",
       "    class=\"webio-mountpoint\"\n",
       "    data-webio-mountpoint=\"16771233454274814164\"\n",
       ">\n",
       "    <script>\n",
       "    (function(){\n",
       "    // Some integrations (namely, IJulia/Jupyter) use an alternate render pathway than\n",
       "    // just putting the html on the page. If WebIO isn't defined, then it's pretty likely\n",
       "    // that we're in one of those situations and the integration just isn't installed\n",
       "    // correctly.\n",
       "    if (typeof window.WebIO === \"undefined\") {\n",
       "        document\n",
       "            .querySelector('[data-webio-mountpoint=\"16771233454274814164\"]')\n",
       "            .innerHTML = (\n",
       "                '<div style=\"padding: 1em; background-color: #f8d6da; border: 1px solid #f5c6cb; font-weight: bold;\">' +\n",
       "                '<p><strong>WebIO not detected.</strong></p>' +\n",
       "                '<p>Please read ' +\n",
       "                '<a href=\"https://juliagizmos.github.io/WebIO.jl/latest/troubleshooting/not-detected/\" target=\"_blank\">the troubleshooting guide</a> ' +\n",
       "                'for more information on how to resolve this issue.</p>' +\n",
       "                '<p><a href=\"https://juliagizmos.github.io/WebIO.jl/latest/troubleshooting/not-detected/\" target=\"_blank\">https://juliagizmos.github.io/WebIO.jl/latest/troubleshooting/not-detected/</a></p>' +\n",
       "                '</div>'\n",
       "            );\n",
       "        return;\n",
       "    }\n",
       "    WebIO.mount(\n",
       "        document.querySelector('[data-webio-mountpoint=\"16771233454274814164\"]'),\n",
       "        {\"props\":{},\"nodeType\":\"Scope\",\"type\":\"node\",\"instanceArgs\":{\"imports\":{\"data\":[{\"name\":\"Plotly\",\"type\":\"js\",\"url\":\"\\/assetserver\\/c44b2cd04b3a3572f00c5d295ffe9c45b94a9a49-plotly.min.js\"},{\"name\":null,\"type\":\"js\",\"url\":\"\\/assetserver\\/5d2f409fc13299e6b724930d0745c21ad970d6a4-plotly_webio.bundle.js\"}],\"type\":\"async_block\"},\"id\":\"16867532114352704743\",\"handlers\":{\"_toImage\":[\"(function (options){return this.Plotly.toImage(this.plotElem,options).then((function (data){return WebIO.setval({\\\"name\\\":\\\"image\\\",\\\"scope\\\":\\\"16867532114352704743\\\",\\\"id\\\":\\\"5812401358085619423\\\",\\\"type\\\":\\\"observable\\\"},data)}))})\"],\"__get_gd_contents\":[\"(function (prop){prop==\\\"data\\\" ? (WebIO.setval({\\\"name\\\":\\\"__gd_contents\\\",\\\"scope\\\":\\\"16867532114352704743\\\",\\\"id\\\":\\\"11544812286372494042\\\",\\\"type\\\":\\\"observable\\\"},this.plotElem.data)) : undefined; return prop==\\\"layout\\\" ? (WebIO.setval({\\\"name\\\":\\\"__gd_contents\\\",\\\"scope\\\":\\\"16867532114352704743\\\",\\\"id\\\":\\\"11544812286372494042\\\",\\\"type\\\":\\\"observable\\\"},this.plotElem.layout)) : undefined})\"],\"_downloadImage\":[\"(function (options){return this.Plotly.downloadImage(this.plotElem,options)})\"],\"_commands\":[\"(function (args){var fn=args.shift(); var elem=this.plotElem; var Plotly=this.Plotly; args.unshift(elem); return Plotly[fn].apply(this,args)})\"]},\"systemjs_options\":null,\"mount_callbacks\":[\"function () {\\n    var handler = ((function (Plotly,PlotlyWebIO){PlotlyWebIO.init(WebIO); var gd=this.dom.querySelector(\\\"#plot-04658ac4-bce2-4cd4-9602-afe6aed71c16\\\"); this.plotElem=gd; this.Plotly=Plotly; (window.Blink!==undefined) ? (gd.style.width=\\\"100%\\\", gd.style.height=\\\"100vh\\\", gd.style.marginLeft=\\\"0%\\\", gd.style.marginTop=\\\"0vh\\\") : undefined; window.onresize=(function (){return Plotly.Plots.resize(gd)}); Plotly.newPlot(gd,[{\\\"mode\\\":\\\"markers+lines\\\",\\\"y\\\":[251.90037987067424,200.48807276715138,222.5561646794891,206.81653963331036,216.51463303033495,208.63093815800636,213.93660622073668,209.37401316616274,212.51084215557898,209.72866970423772,211.60668827961828,209.90939986271127,210.98238587615174,210.00177504453694,210.52549923125642,210.04542449365334,210.176681293444,210.06067372664117,209.90166014266813,210.05874774209073,209.67926515238028,210.04619975991986,209.4957144528239,210.02702231957366,209.3416509465428,210.00372973979384,209.21049886026316,209.97794653203553,209.0975020066337,209.95074291428583,208.99913523433085,209.92283388279444,208.9127304072697,209.89470135486727,208.83623091956952,209.86667128183888,208.768026009288,209.83896354114847,208.706836166295,209.8117249067486,208.65163215218348,209.7850512401725,208.60157666704202,209.7590026657378,208.55598160375465,209.73361409177087,208.51427623808732,209.70890259232914,208.47598322393742,209.68487263880877,208.44070024767242,209.66151983931476,208.40808584375816,209.63883363028555,208.37784831077545,209.61679922391323,208.34973696497752,209.5953990230352,208.3235351758595,209.57461365068355],\\\"type\\\":\\\"scatter\\\",\\\"name\\\":\\\"Binomial Model\\\",\\\"x\\\":[1,2,3,4,5,6,7,8,9,10,11,12,13,14,15,16,17,18,19,20,21,22,23,24,25,26,27,28,29,30,31,32,33,34,35,36,37,38,39,40,41,42,43,44,45,46,47,48,49,50,51,52,53,54,55,56,57,58,59,60]},{\\\"mode\\\":\\\"lines\\\",\\\"line\\\":{\\\"color\\\":\\\"firebrick\\\",\\\"dash\\\":\\\"dashdot\\\",\\\"width\\\":4},\\\"y\\\":[209.6,209.6,209.6,209.6,209.6,209.6,209.6,209.6,209.6,209.6,209.6,209.6,209.6,209.6,209.6,209.6,209.6,209.6,209.6,209.6,209.6,209.6,209.6,209.6,209.6,209.6,209.6,209.6,209.6,209.6,209.6,209.6,209.6,209.6,209.6,209.6,209.6,209.6,209.6,209.6,209.6,209.6,209.6,209.6,209.6,209.6,209.6,209.6,209.6,209.6,209.6,209.6,209.6,209.6,209.6,209.6,209.6,209.6,209.6,209.6],\\\"type\\\":\\\"scatter\\\",\\\"name\\\":\\\"Real Value\\\",\\\"x\\\":[1,2,3,4,5,6,7,8,9,10,11,12,13,14,15,16,17,18,19,20,21,22,23,24,25,26,27,28,29,30,31,32,33,34,35,36,37,38,39,40,41,42,43,44,45,46,47,48,49,50,51,52,53,54,55,56,57,58,59,60]}],{\\\"template\\\":{\\\"layout\\\":{\\\"coloraxis\\\":{\\\"colorbar\\\":{\\\"ticks\\\":\\\"\\\",\\\"outlinewidth\\\":0}},\\\"xaxis\\\":{\\\"gridcolor\\\":\\\"white\\\",\\\"zerolinewidth\\\":2,\\\"title\\\":{\\\"standoff\\\":15},\\\"ticks\\\":\\\"\\\",\\\"zerolinecolor\\\":\\\"white\\\",\\\"automargin\\\":true,\\\"linecolor\\\":\\\"white\\\"},\\\"hovermode\\\":\\\"closest\\\",\\\"paper_bgcolor\\\":\\\"white\\\",\\\"geo\\\":{\\\"showlakes\\\":true,\\\"showland\\\":true,\\\"landcolor\\\":\\\"#E5ECF6\\\",\\\"bgcolor\\\":\\\"white\\\",\\\"subunitcolor\\\":\\\"white\\\",\\\"lakecolor\\\":\\\"white\\\"},\\\"colorscale\\\":{\\\"sequential\\\":[[0.0,\\\"#0d0887\\\"],[0.1111111111111111,\\\"#46039f\\\"],[0.2222222222222222,\\\"#7201a8\\\"],[0.3333333333333333,\\\"#9c179e\\\"],[0.4444444444444444,\\\"#bd3786\\\"],[0.5555555555555556,\\\"#d8576b\\\"],[0.6666666666666666,\\\"#ed7953\\\"],[0.7777777777777778,\\\"#fb9f3a\\\"],[0.8888888888888888,\\\"#fdca26\\\"],[1.0,\\\"#f0f921\\\"]],\\\"diverging\\\":[[0,\\\"#8e0152\\\"],[0.1,\\\"#c51b7d\\\"],[0.2,\\\"#de77ae\\\"],[0.3,\\\"#f1b6da\\\"],[0.4,\\\"#fde0ef\\\"],[0.5,\\\"#f7f7f7\\\"],[0.6,\\\"#e6f5d0\\\"],[0.7,\\\"#b8e186\\\"],[0.8,\\\"#7fbc41\\\"],[0.9,\\\"#4d9221\\\"],[1,\\\"#276419\\\"]],\\\"sequentialminus\\\":[[0.0,\\\"#0d0887\\\"],[0.1111111111111111,\\\"#46039f\\\"],[0.2222222222222222,\\\"#7201a8\\\"],[0.3333333333333333,\\\"#9c179e\\\"],[0.4444444444444444,\\\"#bd3786\\\"],[0.5555555555555556,\\\"#d8576b\\\"],[0.6666666666666666,\\\"#ed7953\\\"],[0.7777777777777778,\\\"#fb9f3a\\\"],[0.8888888888888888,\\\"#fdca26\\\"],[1.0,\\\"#f0f921\\\"]]},\\\"yaxis\\\":{\\\"gridcolor\\\":\\\"white\\\",\\\"zerolinewidth\\\":2,\\\"title\\\":{\\\"standoff\\\":15},\\\"ticks\\\":\\\"\\\",\\\"zerolinecolor\\\":\\\"white\\\",\\\"automargin\\\":true,\\\"linecolor\\\":\\\"white\\\"},\\\"shapedefaults\\\":{\\\"line\\\":{\\\"color\\\":\\\"#2a3f5f\\\"}},\\\"hoverlabel\\\":{\\\"align\\\":\\\"left\\\"},\\\"mapbox\\\":{\\\"style\\\":\\\"light\\\"},\\\"polar\\\":{\\\"angularaxis\\\":{\\\"gridcolor\\\":\\\"white\\\",\\\"ticks\\\":\\\"\\\",\\\"linecolor\\\":\\\"white\\\"},\\\"bgcolor\\\":\\\"#E5ECF6\\\",\\\"radialaxis\\\":{\\\"gridcolor\\\":\\\"white\\\",\\\"ticks\\\":\\\"\\\",\\\"linecolor\\\":\\\"white\\\"}},\\\"autotypenumbers\\\":\\\"strict\\\",\\\"font\\\":{\\\"color\\\":\\\"#2a3f5f\\\"},\\\"ternary\\\":{\\\"baxis\\\":{\\\"gridcolor\\\":\\\"white\\\",\\\"ticks\\\":\\\"\\\",\\\"linecolor\\\":\\\"white\\\"},\\\"bgcolor\\\":\\\"#E5ECF6\\\",\\\"caxis\\\":{\\\"gridcolor\\\":\\\"white\\\",\\\"ticks\\\":\\\"\\\",\\\"linecolor\\\":\\\"white\\\"},\\\"aaxis\\\":{\\\"gridcolor\\\":\\\"white\\\",\\\"ticks\\\":\\\"\\\",\\\"linecolor\\\":\\\"white\\\"}},\\\"annotationdefaults\\\":{\\\"arrowhead\\\":0,\\\"arrowwidth\\\":1,\\\"arrowcolor\\\":\\\"#2a3f5f\\\"},\\\"plot_bgcolor\\\":\\\"#E5ECF6\\\",\\\"title\\\":{\\\"x\\\":0.05},\\\"scene\\\":{\\\"xaxis\\\":{\\\"gridcolor\\\":\\\"white\\\",\\\"gridwidth\\\":2,\\\"backgroundcolor\\\":\\\"#E5ECF6\\\",\\\"ticks\\\":\\\"\\\",\\\"showbackground\\\":true,\\\"zerolinecolor\\\":\\\"white\\\",\\\"linecolor\\\":\\\"white\\\"},\\\"zaxis\\\":{\\\"gridcolor\\\":\\\"white\\\",\\\"gridwidth\\\":2,\\\"backgroundcolor\\\":\\\"#E5ECF6\\\",\\\"ticks\\\":\\\"\\\",\\\"showbackground\\\":true,\\\"zerolinecolor\\\":\\\"white\\\",\\\"linecolor\\\":\\\"white\\\"},\\\"yaxis\\\":{\\\"gridcolor\\\":\\\"white\\\",\\\"gridwidth\\\":2,\\\"backgroundcolor\\\":\\\"#E5ECF6\\\",\\\"ticks\\\":\\\"\\\",\\\"showbackground\\\":true,\\\"zerolinecolor\\\":\\\"white\\\",\\\"linecolor\\\":\\\"white\\\"}},\\\"colorway\\\":[\\\"#636efa\\\",\\\"#EF553B\\\",\\\"#00cc96\\\",\\\"#ab63fa\\\",\\\"#FFA15A\\\",\\\"#19d3f3\\\",\\\"#FF6692\\\",\\\"#B6E880\\\",\\\"#FF97FF\\\",\\\"#FECB52\\\"]},\\\"data\\\":{\\\"barpolar\\\":[{\\\"type\\\":\\\"barpolar\\\",\\\"marker\\\":{\\\"line\\\":{\\\"color\\\":\\\"#E5ECF6\\\",\\\"width\\\":0.5}}}],\\\"carpet\\\":[{\\\"aaxis\\\":{\\\"gridcolor\\\":\\\"white\\\",\\\"endlinecolor\\\":\\\"#2a3f5f\\\",\\\"minorgridcolor\\\":\\\"white\\\",\\\"startlinecolor\\\":\\\"#2a3f5f\\\",\\\"linecolor\\\":\\\"white\\\"},\\\"type\\\":\\\"carpet\\\",\\\"baxis\\\":{\\\"gridcolor\\\":\\\"white\\\",\\\"endlinecolor\\\":\\\"#2a3f5f\\\",\\\"minorgridcolor\\\":\\\"white\\\",\\\"startlinecolor\\\":\\\"#2a3f5f\\\",\\\"linecolor\\\":\\\"white\\\"}}],\\\"scatterpolar\\\":[{\\\"type\\\":\\\"scatterpolar\\\",\\\"marker\\\":{\\\"colorbar\\\":{\\\"ticks\\\":\\\"\\\",\\\"outlinewidth\\\":0}}}],\\\"parcoords\\\":[{\\\"line\\\":{\\\"colorbar\\\":{\\\"ticks\\\":\\\"\\\",\\\"outlinewidth\\\":0}},\\\"type\\\":\\\"parcoords\\\"}],\\\"scatter\\\":[{\\\"type\\\":\\\"scatter\\\",\\\"marker\\\":{\\\"colorbar\\\":{\\\"ticks\\\":\\\"\\\",\\\"outlinewidth\\\":0}}}],\\\"histogram2dcontour\\\":[{\\\"colorbar\\\":{\\\"ticks\\\":\\\"\\\",\\\"outlinewidth\\\":0},\\\"type\\\":\\\"histogram2dcontour\\\",\\\"colorscale\\\":[[0.0,\\\"#0d0887\\\"],[0.1111111111111111,\\\"#46039f\\\"],[0.2222222222222222,\\\"#7201a8\\\"],[0.3333333333333333,\\\"#9c179e\\\"],[0.4444444444444444,\\\"#bd3786\\\"],[0.5555555555555556,\\\"#d8576b\\\"],[0.6666666666666666,\\\"#ed7953\\\"],[0.7777777777777778,\\\"#fb9f3a\\\"],[0.8888888888888888,\\\"#fdca26\\\"],[1.0,\\\"#f0f921\\\"]]}],\\\"contour\\\":[{\\\"colorbar\\\":{\\\"ticks\\\":\\\"\\\",\\\"outlinewidth\\\":0},\\\"type\\\":\\\"contour\\\",\\\"colorscale\\\":[[0.0,\\\"#0d0887\\\"],[0.1111111111111111,\\\"#46039f\\\"],[0.2222222222222222,\\\"#7201a8\\\"],[0.3333333333333333,\\\"#9c179e\\\"],[0.4444444444444444,\\\"#bd3786\\\"],[0.5555555555555556,\\\"#d8576b\\\"],[0.6666666666666666,\\\"#ed7953\\\"],[0.7777777777777778,\\\"#fb9f3a\\\"],[0.8888888888888888,\\\"#fdca26\\\"],[1.0,\\\"#f0f921\\\"]]}],\\\"scattercarpet\\\":[{\\\"type\\\":\\\"scattercarpet\\\",\\\"marker\\\":{\\\"colorbar\\\":{\\\"ticks\\\":\\\"\\\",\\\"outlinewidth\\\":0}}}],\\\"mesh3d\\\":[{\\\"colorbar\\\":{\\\"ticks\\\":\\\"\\\",\\\"outlinewidth\\\":0},\\\"type\\\":\\\"mesh3d\\\"}],\\\"surface\\\":[{\\\"colorbar\\\":{\\\"ticks\\\":\\\"\\\",\\\"outlinewidth\\\":0},\\\"type\\\":\\\"surface\\\",\\\"colorscale\\\":[[0.0,\\\"#0d0887\\\"],[0.1111111111111111,\\\"#46039f\\\"],[0.2222222222222222,\\\"#7201a8\\\"],[0.3333333333333333,\\\"#9c179e\\\"],[0.4444444444444444,\\\"#bd3786\\\"],[0.5555555555555556,\\\"#d8576b\\\"],[0.6666666666666666,\\\"#ed7953\\\"],[0.7777777777777778,\\\"#fb9f3a\\\"],[0.8888888888888888,\\\"#fdca26\\\"],[1.0,\\\"#f0f921\\\"]]}],\\\"scattermapbox\\\":[{\\\"type\\\":\\\"scattermapbox\\\",\\\"marker\\\":{\\\"colorbar\\\":{\\\"ticks\\\":\\\"\\\",\\\"outlinewidth\\\":0}}}],\\\"scattergeo\\\":[{\\\"type\\\":\\\"scattergeo\\\",\\\"marker\\\":{\\\"colorbar\\\":{\\\"ticks\\\":\\\"\\\",\\\"outlinewidth\\\":0}}}],\\\"histogram\\\":[{\\\"type\\\":\\\"histogram\\\",\\\"marker\\\":{\\\"colorbar\\\":{\\\"ticks\\\":\\\"\\\",\\\"outlinewidth\\\":0}}}],\\\"pie\\\":[{\\\"type\\\":\\\"pie\\\",\\\"automargin\\\":true}],\\\"choropleth\\\":[{\\\"colorbar\\\":{\\\"ticks\\\":\\\"\\\",\\\"outlinewidth\\\":0},\\\"type\\\":\\\"choropleth\\\"}],\\\"heatmapgl\\\":[{\\\"colorbar\\\":{\\\"ticks\\\":\\\"\\\",\\\"outlinewidth\\\":0},\\\"type\\\":\\\"heatmapgl\\\",\\\"colorscale\\\":[[0.0,\\\"#0d0887\\\"],[0.1111111111111111,\\\"#46039f\\\"],[0.2222222222222222,\\\"#7201a8\\\"],[0.3333333333333333,\\\"#9c179e\\\"],[0.4444444444444444,\\\"#bd3786\\\"],[0.5555555555555556,\\\"#d8576b\\\"],[0.6666666666666666,\\\"#ed7953\\\"],[0.7777777777777778,\\\"#fb9f3a\\\"],[0.8888888888888888,\\\"#fdca26\\\"],[1.0,\\\"#f0f921\\\"]]}],\\\"bar\\\":[{\\\"type\\\":\\\"bar\\\",\\\"error_y\\\":{\\\"color\\\":\\\"#2a3f5f\\\"},\\\"error_x\\\":{\\\"color\\\":\\\"#2a3f5f\\\"},\\\"marker\\\":{\\\"line\\\":{\\\"color\\\":\\\"#E5ECF6\\\",\\\"width\\\":0.5}}}],\\\"heatmap\\\":[{\\\"colorbar\\\":{\\\"ticks\\\":\\\"\\\",\\\"outlinewidth\\\":0},\\\"type\\\":\\\"heatmap\\\",\\\"colorscale\\\":[[0.0,\\\"#0d0887\\\"],[0.1111111111111111,\\\"#46039f\\\"],[0.2222222222222222,\\\"#7201a8\\\"],[0.3333333333333333,\\\"#9c179e\\\"],[0.4444444444444444,\\\"#bd3786\\\"],[0.5555555555555556,\\\"#d8576b\\\"],[0.6666666666666666,\\\"#ed7953\\\"],[0.7777777777777778,\\\"#fb9f3a\\\"],[0.8888888888888888,\\\"#fdca26\\\"],[1.0,\\\"#f0f921\\\"]]}],\\\"contourcarpet\\\":[{\\\"colorbar\\\":{\\\"ticks\\\":\\\"\\\",\\\"outlinewidth\\\":0},\\\"type\\\":\\\"contourcarpet\\\"}],\\\"table\\\":[{\\\"type\\\":\\\"table\\\",\\\"header\\\":{\\\"line\\\":{\\\"color\\\":\\\"white\\\"},\\\"fill\\\":{\\\"color\\\":\\\"#C8D4E3\\\"}},\\\"cells\\\":{\\\"line\\\":{\\\"color\\\":\\\"white\\\"},\\\"fill\\\":{\\\"color\\\":\\\"#EBF0F8\\\"}}}],\\\"scatter3d\\\":[{\\\"line\\\":{\\\"colorbar\\\":{\\\"ticks\\\":\\\"\\\",\\\"outlinewidth\\\":0}},\\\"type\\\":\\\"scatter3d\\\",\\\"marker\\\":{\\\"colorbar\\\":{\\\"ticks\\\":\\\"\\\",\\\"outlinewidth\\\":0}}}],\\\"scattergl\\\":[{\\\"type\\\":\\\"scattergl\\\",\\\"marker\\\":{\\\"colorbar\\\":{\\\"ticks\\\":\\\"\\\",\\\"outlinewidth\\\":0}}}],\\\"histogram2d\\\":[{\\\"colorbar\\\":{\\\"ticks\\\":\\\"\\\",\\\"outlinewidth\\\":0},\\\"type\\\":\\\"histogram2d\\\",\\\"colorscale\\\":[[0.0,\\\"#0d0887\\\"],[0.1111111111111111,\\\"#46039f\\\"],[0.2222222222222222,\\\"#7201a8\\\"],[0.3333333333333333,\\\"#9c179e\\\"],[0.4444444444444444,\\\"#bd3786\\\"],[0.5555555555555556,\\\"#d8576b\\\"],[0.6666666666666666,\\\"#ed7953\\\"],[0.7777777777777778,\\\"#fb9f3a\\\"],[0.8888888888888888,\\\"#fdca26\\\"],[1.0,\\\"#f0f921\\\"]]}],\\\"scatterternary\\\":[{\\\"type\\\":\\\"scatterternary\\\",\\\"marker\\\":{\\\"colorbar\\\":{\\\"ticks\\\":\\\"\\\",\\\"outlinewidth\\\":0}}}],\\\"scatterpolargl\\\":[{\\\"type\\\":\\\"scatterpolargl\\\",\\\"marker\\\":{\\\"colorbar\\\":{\\\"ticks\\\":\\\"\\\",\\\"outlinewidth\\\":0}}}]}},\\\"margin\\\":{\\\"l\\\":50,\\\"b\\\":50,\\\"r\\\":50,\\\"t\\\":60},\\\"title\\\":\\\"Google Call Price, Maturity 3 months, Strike ~ S0, as function of number of steps\\\",\\\"yaxis\\\":{\\\"title\\\":{\\\"text\\\":\\\"CALL price\\\"}}},{\\\"showLink\\\":false,\\\"editable\\\":false,\\\"responsive\\\":true,\\\"staticPlot\\\":false,\\\"scrollZoom\\\":true}); gd.on(\\\"plotly_hover\\\",(function (data){var filtered_data=WebIO.PlotlyCommands.filterEventData(gd,data,\\\"hover\\\"); return !(filtered_data.isnil) ? (WebIO.setval({\\\"name\\\":\\\"hover\\\",\\\"scope\\\":\\\"16867532114352704743\\\",\\\"id\\\":\\\"13809250100362740173\\\",\\\"type\\\":\\\"observable\\\"},filtered_data.out)) : undefined})); gd.on(\\\"plotly_unhover\\\",(function (){return WebIO.setval({\\\"name\\\":\\\"hover\\\",\\\"scope\\\":\\\"16867532114352704743\\\",\\\"id\\\":\\\"13809250100362740173\\\",\\\"type\\\":\\\"observable\\\"},{})})); gd.on(\\\"plotly_selected\\\",(function (data){var filtered_data=WebIO.PlotlyCommands.filterEventData(gd,data,\\\"selected\\\"); return !(filtered_data.isnil) ? (WebIO.setval({\\\"name\\\":\\\"selected\\\",\\\"scope\\\":\\\"16867532114352704743\\\",\\\"id\\\":\\\"9970971887101896588\\\",\\\"type\\\":\\\"observable\\\"},filtered_data.out)) : undefined})); gd.on(\\\"plotly_deselect\\\",(function (){return WebIO.setval({\\\"name\\\":\\\"selected\\\",\\\"scope\\\":\\\"16867532114352704743\\\",\\\"id\\\":\\\"9970971887101896588\\\",\\\"type\\\":\\\"observable\\\"},{})})); gd.on(\\\"plotly_relayout\\\",(function (data){var filtered_data=WebIO.PlotlyCommands.filterEventData(gd,data,\\\"relayout\\\"); return !(filtered_data.isnil) ? (WebIO.setval({\\\"name\\\":\\\"relayout\\\",\\\"scope\\\":\\\"16867532114352704743\\\",\\\"id\\\":\\\"132392988646711491\\\",\\\"type\\\":\\\"observable\\\"},filtered_data.out)) : undefined})); return gd.on(\\\"plotly_click\\\",(function (data){var filtered_data=WebIO.PlotlyCommands.filterEventData(gd,data,\\\"click\\\"); return !(filtered_data.isnil) ? (WebIO.setval({\\\"name\\\":\\\"click\\\",\\\"scope\\\":\\\"16867532114352704743\\\",\\\"id\\\":\\\"13484080054671478999\\\",\\\"type\\\":\\\"observable\\\"},filtered_data.out)) : undefined}))}));\\n    (WebIO.importBlock({\\\"data\\\":[{\\\"name\\\":\\\"Plotly\\\",\\\"type\\\":\\\"js\\\",\\\"url\\\":\\\"\\/assetserver\\/c44b2cd04b3a3572f00c5d295ffe9c45b94a9a49-plotly.min.js\\\"},{\\\"name\\\":null,\\\"type\\\":\\\"js\\\",\\\"url\\\":\\\"\\/assetserver\\/5d2f409fc13299e6b724930d0745c21ad970d6a4-plotly_webio.bundle.js\\\"}],\\\"type\\\":\\\"async_block\\\"})).then((imports) => handler.apply(this, imports));\\n}\\n\"],\"observables\":{\"_toImage\":{\"sync\":false,\"id\":\"11134147246564986879\",\"value\":{}},\"hover\":{\"sync\":false,\"id\":\"13809250100362740173\",\"value\":{}},\"selected\":{\"sync\":false,\"id\":\"9970971887101896588\",\"value\":{}},\"__gd_contents\":{\"sync\":false,\"id\":\"11544812286372494042\",\"value\":{}},\"click\":{\"sync\":false,\"id\":\"13484080054671478999\",\"value\":{}},\"image\":{\"sync\":true,\"id\":\"5812401358085619423\",\"value\":\"\"},\"__get_gd_contents\":{\"sync\":false,\"id\":\"3592920231671408965\",\"value\":\"\"},\"_downloadImage\":{\"sync\":false,\"id\":\"16902023339034117524\",\"value\":{}},\"relayout\":{\"sync\":false,\"id\":\"132392988646711491\",\"value\":{}},\"_commands\":{\"sync\":false,\"id\":\"5537769636391659310\",\"value\":[]}}},\"children\":[{\"props\":{\"id\":\"plot-04658ac4-bce2-4cd4-9602-afe6aed71c16\"},\"nodeType\":\"DOM\",\"type\":\"node\",\"instanceArgs\":{\"namespace\":\"html\",\"tag\":\"div\"},\"children\":[]}]},\n",
       "        window,\n",
       "    );\n",
       "    })()\n",
       "    </script>\n",
       "</div>\n"
      ],
      "text/plain": [
       "data: [\n",
       "  \"scatter with fields mode, name, type, x, and y\",\n",
       "  \"scatter with fields line, mode, name, type, x, and y\"\n",
       "]\n",
       "\n",
       "layout: \"layout with fields margin, template, title, and yaxis\"\n",
       "\n"
      ]
     },
     "execution_count": 47,
     "metadata": {},
     "output_type": "execute_result"
    }
   ],
   "source": [
    "function linescatter1()\n",
    "    GOOG_PLOT = PlotlyJS.scatter(;x=1:60, y=GOOG_CALL,mode=\"markers+lines\", name=\"Binomial Model\" )\n",
    "    trace     = PlotlyJS.scatter(;x=1:60, y=repeat([REAL_CALL_GOOG], 60), mode=\"lines\", name=\"Real Value\", line=attr(color=\"firebrick\", width=4, dash=\"dashdot\"))\n",
    "    layout    = Layout(title=\"Google Call Price, Maturity 3 months, Strike ~ S0, as function of number of steps\",\n",
    "                       yaxis_title=\"CALL price\")\n",
    "    return PlotlyJS.plot([GOOG_PLOT,trace], layout)\n",
    "end\n",
    "\n",
    "p = linescatter1()\n",
    "    "
   ]
  },
  {
   "cell_type": "code",
   "execution_count": 48,
   "id": "e18cd564",
   "metadata": {},
   "outputs": [
    {
     "data": {
      "text/plain": [
       "\"figures/CALL_GOOG.html\""
      ]
     },
     "execution_count": 48,
     "metadata": {},
     "output_type": "execute_result"
    }
   ],
   "source": [
    "PlotlyJS.savefig(p, \"figures/CALL_GOOG.html\")"
   ]
  },
  {
   "cell_type": "code",
   "execution_count": 49,
   "id": "37da7a17-a195-42cb-9d9f-70064620a64d",
   "metadata": {},
   "outputs": [
    {
     "data": {
      "application/vnd.plotly.v1+json": {
       "config": {
        "editable": false,
        "responsive": true,
        "scrollZoom": true,
        "showLink": false,
        "staticPlot": false
       },
       "data": [
        {
         "mode": "markers+lines",
         "name": "Binomial Model",
         "type": "scatter",
         "x": [
          1,
          2,
          3,
          4,
          5,
          6,
          7,
          8,
          9,
          10,
          11,
          12,
          13,
          14,
          15,
          16,
          17,
          18,
          19,
          20,
          21,
          22,
          23,
          24,
          25,
          26,
          27,
          28,
          29,
          30,
          31,
          32,
          33,
          34,
          35,
          36,
          37,
          38,
          39,
          40,
          41,
          42,
          43,
          44,
          45,
          46,
          47,
          48,
          49,
          50,
          51,
          52,
          53,
          54,
          55,
          56,
          57,
          58,
          59,
          60
         ],
         "y": [
          25.393084669290637,
          18.40235133651503,
          21.952193666066723,
          19.394593935469334,
          21.240597637287372,
          19.728970974882554,
          20.9366900497493,
          19.89108863840194,
          20.768556999452414,
          19.984725423033574,
          20.661914692332033,
          20.044727495148173,
          20.588271401825175,
          20.085919722991658,
          20.53437231366158,
          20.115621439542696,
          20.493219742918665,
          20.137838850089626,
          20.460772085379435,
          20.15493776313952,
          20.43453248512947,
          20.168399290816097,
          20.412875385639623,
          20.17919468062165,
          20.394697058613236,
          20.187985319794308,
          20.379221811076405,
          20.195235917331633,
          20.36588856895084,
          20.201281731270587,
          20.354281465336282,
          20.206370155121434,
          20.344085727098122,
          20.210687347992145,
          20.335058720011954,
          20.214375803256864,
          20.327010405313494,
          20.217546244036924,
          20.319789822533753,
          20.22028586346867,
          20.31327553686747,
          20.222664149625903,
          20.307368757832872,
          20.22473707812631,
          20.301988296605817,
          20.226550179205887,
          20.297066813341672,
          20.228140814547263,
          20.292547985246756,
          20.229539890100856,
          20.2883843422172,
          20.230773160338085,
          20.28453559339553,
          20.231862232497956,
          20.280967319480826,
          20.232825347746886,
          20.27764994080816,
          20.233677994584518,
          20.274557895662042,
          20.234433394707064
         ]
        },
        {
         "line": {
          "color": "firebrick",
          "dash": "dashdot",
          "width": 4
         },
         "mode": "lines",
         "name": "Real Value",
         "type": "scatter",
         "x": [
          1,
          2,
          3,
          4,
          5,
          6,
          7,
          8,
          9,
          10,
          11,
          12,
          13,
          14,
          15,
          16,
          17,
          18,
          19,
          20,
          21,
          22,
          23,
          24,
          25,
          26,
          27,
          28,
          29,
          30,
          31,
          32,
          33,
          34,
          35,
          36,
          37,
          38,
          39,
          40,
          41,
          42,
          43,
          44,
          45,
          46,
          47,
          48,
          49,
          50,
          51,
          52,
          53,
          54,
          55,
          56,
          57,
          58,
          59,
          60
         ],
         "y": [
          21.7,
          21.7,
          21.7,
          21.7,
          21.7,
          21.7,
          21.7,
          21.7,
          21.7,
          21.7,
          21.7,
          21.7,
          21.7,
          21.7,
          21.7,
          21.7,
          21.7,
          21.7,
          21.7,
          21.7,
          21.7,
          21.7,
          21.7,
          21.7,
          21.7,
          21.7,
          21.7,
          21.7,
          21.7,
          21.7,
          21.7,
          21.7,
          21.7,
          21.7,
          21.7,
          21.7,
          21.7,
          21.7,
          21.7,
          21.7,
          21.7,
          21.7,
          21.7,
          21.7,
          21.7,
          21.7,
          21.7,
          21.7,
          21.7,
          21.7,
          21.7,
          21.7,
          21.7,
          21.7,
          21.7,
          21.7,
          21.7,
          21.7,
          21.7,
          21.7
         ]
        }
       ],
       "frames": [],
       "layout": {
        "margin": {
         "b": 50,
         "l": 50,
         "r": 50,
         "t": 60
        },
        "template": {
         "data": {
          "bar": [
           {
            "error_x": {
             "color": "#2a3f5f"
            },
            "error_y": {
             "color": "#2a3f5f"
            },
            "marker": {
             "line": {
              "color": "#E5ECF6",
              "width": 0.5
             }
            },
            "type": "bar"
           }
          ],
          "barpolar": [
           {
            "marker": {
             "line": {
              "color": "#E5ECF6",
              "width": 0.5
             }
            },
            "type": "barpolar"
           }
          ],
          "carpet": [
           {
            "aaxis": {
             "endlinecolor": "#2a3f5f",
             "gridcolor": "white",
             "linecolor": "white",
             "minorgridcolor": "white",
             "startlinecolor": "#2a3f5f"
            },
            "baxis": {
             "endlinecolor": "#2a3f5f",
             "gridcolor": "white",
             "linecolor": "white",
             "minorgridcolor": "white",
             "startlinecolor": "#2a3f5f"
            },
            "type": "carpet"
           }
          ],
          "choropleth": [
           {
            "colorbar": {
             "outlinewidth": 0,
             "ticks": ""
            },
            "type": "choropleth"
           }
          ],
          "contour": [
           {
            "colorbar": {
             "outlinewidth": 0,
             "ticks": ""
            },
            "colorscale": [
             [
              0,
              "#0d0887"
             ],
             [
              0.1111111111111111,
              "#46039f"
             ],
             [
              0.2222222222222222,
              "#7201a8"
             ],
             [
              0.3333333333333333,
              "#9c179e"
             ],
             [
              0.4444444444444444,
              "#bd3786"
             ],
             [
              0.5555555555555556,
              "#d8576b"
             ],
             [
              0.6666666666666666,
              "#ed7953"
             ],
             [
              0.7777777777777778,
              "#fb9f3a"
             ],
             [
              0.8888888888888888,
              "#fdca26"
             ],
             [
              1,
              "#f0f921"
             ]
            ],
            "type": "contour"
           }
          ],
          "contourcarpet": [
           {
            "colorbar": {
             "outlinewidth": 0,
             "ticks": ""
            },
            "type": "contourcarpet"
           }
          ],
          "heatmap": [
           {
            "colorbar": {
             "outlinewidth": 0,
             "ticks": ""
            },
            "colorscale": [
             [
              0,
              "#0d0887"
             ],
             [
              0.1111111111111111,
              "#46039f"
             ],
             [
              0.2222222222222222,
              "#7201a8"
             ],
             [
              0.3333333333333333,
              "#9c179e"
             ],
             [
              0.4444444444444444,
              "#bd3786"
             ],
             [
              0.5555555555555556,
              "#d8576b"
             ],
             [
              0.6666666666666666,
              "#ed7953"
             ],
             [
              0.7777777777777778,
              "#fb9f3a"
             ],
             [
              0.8888888888888888,
              "#fdca26"
             ],
             [
              1,
              "#f0f921"
             ]
            ],
            "type": "heatmap"
           }
          ],
          "heatmapgl": [
           {
            "colorbar": {
             "outlinewidth": 0,
             "ticks": ""
            },
            "colorscale": [
             [
              0,
              "#0d0887"
             ],
             [
              0.1111111111111111,
              "#46039f"
             ],
             [
              0.2222222222222222,
              "#7201a8"
             ],
             [
              0.3333333333333333,
              "#9c179e"
             ],
             [
              0.4444444444444444,
              "#bd3786"
             ],
             [
              0.5555555555555556,
              "#d8576b"
             ],
             [
              0.6666666666666666,
              "#ed7953"
             ],
             [
              0.7777777777777778,
              "#fb9f3a"
             ],
             [
              0.8888888888888888,
              "#fdca26"
             ],
             [
              1,
              "#f0f921"
             ]
            ],
            "type": "heatmapgl"
           }
          ],
          "histogram": [
           {
            "marker": {
             "colorbar": {
              "outlinewidth": 0,
              "ticks": ""
             }
            },
            "type": "histogram"
           }
          ],
          "histogram2d": [
           {
            "colorbar": {
             "outlinewidth": 0,
             "ticks": ""
            },
            "colorscale": [
             [
              0,
              "#0d0887"
             ],
             [
              0.1111111111111111,
              "#46039f"
             ],
             [
              0.2222222222222222,
              "#7201a8"
             ],
             [
              0.3333333333333333,
              "#9c179e"
             ],
             [
              0.4444444444444444,
              "#bd3786"
             ],
             [
              0.5555555555555556,
              "#d8576b"
             ],
             [
              0.6666666666666666,
              "#ed7953"
             ],
             [
              0.7777777777777778,
              "#fb9f3a"
             ],
             [
              0.8888888888888888,
              "#fdca26"
             ],
             [
              1,
              "#f0f921"
             ]
            ],
            "type": "histogram2d"
           }
          ],
          "histogram2dcontour": [
           {
            "colorbar": {
             "outlinewidth": 0,
             "ticks": ""
            },
            "colorscale": [
             [
              0,
              "#0d0887"
             ],
             [
              0.1111111111111111,
              "#46039f"
             ],
             [
              0.2222222222222222,
              "#7201a8"
             ],
             [
              0.3333333333333333,
              "#9c179e"
             ],
             [
              0.4444444444444444,
              "#bd3786"
             ],
             [
              0.5555555555555556,
              "#d8576b"
             ],
             [
              0.6666666666666666,
              "#ed7953"
             ],
             [
              0.7777777777777778,
              "#fb9f3a"
             ],
             [
              0.8888888888888888,
              "#fdca26"
             ],
             [
              1,
              "#f0f921"
             ]
            ],
            "type": "histogram2dcontour"
           }
          ],
          "mesh3d": [
           {
            "colorbar": {
             "outlinewidth": 0,
             "ticks": ""
            },
            "type": "mesh3d"
           }
          ],
          "parcoords": [
           {
            "line": {
             "colorbar": {
              "outlinewidth": 0,
              "ticks": ""
             }
            },
            "type": "parcoords"
           }
          ],
          "pie": [
           {
            "automargin": true,
            "type": "pie"
           }
          ],
          "scatter": [
           {
            "marker": {
             "colorbar": {
              "outlinewidth": 0,
              "ticks": ""
             }
            },
            "type": "scatter"
           }
          ],
          "scatter3d": [
           {
            "line": {
             "colorbar": {
              "outlinewidth": 0,
              "ticks": ""
             }
            },
            "marker": {
             "colorbar": {
              "outlinewidth": 0,
              "ticks": ""
             }
            },
            "type": "scatter3d"
           }
          ],
          "scattercarpet": [
           {
            "marker": {
             "colorbar": {
              "outlinewidth": 0,
              "ticks": ""
             }
            },
            "type": "scattercarpet"
           }
          ],
          "scattergeo": [
           {
            "marker": {
             "colorbar": {
              "outlinewidth": 0,
              "ticks": ""
             }
            },
            "type": "scattergeo"
           }
          ],
          "scattergl": [
           {
            "marker": {
             "colorbar": {
              "outlinewidth": 0,
              "ticks": ""
             }
            },
            "type": "scattergl"
           }
          ],
          "scattermapbox": [
           {
            "marker": {
             "colorbar": {
              "outlinewidth": 0,
              "ticks": ""
             }
            },
            "type": "scattermapbox"
           }
          ],
          "scatterpolar": [
           {
            "marker": {
             "colorbar": {
              "outlinewidth": 0,
              "ticks": ""
             }
            },
            "type": "scatterpolar"
           }
          ],
          "scatterpolargl": [
           {
            "marker": {
             "colorbar": {
              "outlinewidth": 0,
              "ticks": ""
             }
            },
            "type": "scatterpolargl"
           }
          ],
          "scatterternary": [
           {
            "marker": {
             "colorbar": {
              "outlinewidth": 0,
              "ticks": ""
             }
            },
            "type": "scatterternary"
           }
          ],
          "surface": [
           {
            "colorbar": {
             "outlinewidth": 0,
             "ticks": ""
            },
            "colorscale": [
             [
              0,
              "#0d0887"
             ],
             [
              0.1111111111111111,
              "#46039f"
             ],
             [
              0.2222222222222222,
              "#7201a8"
             ],
             [
              0.3333333333333333,
              "#9c179e"
             ],
             [
              0.4444444444444444,
              "#bd3786"
             ],
             [
              0.5555555555555556,
              "#d8576b"
             ],
             [
              0.6666666666666666,
              "#ed7953"
             ],
             [
              0.7777777777777778,
              "#fb9f3a"
             ],
             [
              0.8888888888888888,
              "#fdca26"
             ],
             [
              1,
              "#f0f921"
             ]
            ],
            "type": "surface"
           }
          ],
          "table": [
           {
            "cells": {
             "fill": {
              "color": "#EBF0F8"
             },
             "line": {
              "color": "white"
             }
            },
            "header": {
             "fill": {
              "color": "#C8D4E3"
             },
             "line": {
              "color": "white"
             }
            },
            "type": "table"
           }
          ]
         },
         "layout": {
          "annotationdefaults": {
           "arrowcolor": "#2a3f5f",
           "arrowhead": 0,
           "arrowwidth": 1
          },
          "autotypenumbers": "strict",
          "coloraxis": {
           "colorbar": {
            "outlinewidth": 0,
            "ticks": ""
           }
          },
          "colorscale": {
           "diverging": [
            [
             0,
             "#8e0152"
            ],
            [
             0.1,
             "#c51b7d"
            ],
            [
             0.2,
             "#de77ae"
            ],
            [
             0.3,
             "#f1b6da"
            ],
            [
             0.4,
             "#fde0ef"
            ],
            [
             0.5,
             "#f7f7f7"
            ],
            [
             0.6,
             "#e6f5d0"
            ],
            [
             0.7,
             "#b8e186"
            ],
            [
             0.8,
             "#7fbc41"
            ],
            [
             0.9,
             "#4d9221"
            ],
            [
             1,
             "#276419"
            ]
           ],
           "sequential": [
            [
             0,
             "#0d0887"
            ],
            [
             0.1111111111111111,
             "#46039f"
            ],
            [
             0.2222222222222222,
             "#7201a8"
            ],
            [
             0.3333333333333333,
             "#9c179e"
            ],
            [
             0.4444444444444444,
             "#bd3786"
            ],
            [
             0.5555555555555556,
             "#d8576b"
            ],
            [
             0.6666666666666666,
             "#ed7953"
            ],
            [
             0.7777777777777778,
             "#fb9f3a"
            ],
            [
             0.8888888888888888,
             "#fdca26"
            ],
            [
             1,
             "#f0f921"
            ]
           ],
           "sequentialminus": [
            [
             0,
             "#0d0887"
            ],
            [
             0.1111111111111111,
             "#46039f"
            ],
            [
             0.2222222222222222,
             "#7201a8"
            ],
            [
             0.3333333333333333,
             "#9c179e"
            ],
            [
             0.4444444444444444,
             "#bd3786"
            ],
            [
             0.5555555555555556,
             "#d8576b"
            ],
            [
             0.6666666666666666,
             "#ed7953"
            ],
            [
             0.7777777777777778,
             "#fb9f3a"
            ],
            [
             0.8888888888888888,
             "#fdca26"
            ],
            [
             1,
             "#f0f921"
            ]
           ]
          },
          "colorway": [
           "#636efa",
           "#EF553B",
           "#00cc96",
           "#ab63fa",
           "#FFA15A",
           "#19d3f3",
           "#FF6692",
           "#B6E880",
           "#FF97FF",
           "#FECB52"
          ],
          "font": {
           "color": "#2a3f5f"
          },
          "geo": {
           "bgcolor": "white",
           "lakecolor": "white",
           "landcolor": "#E5ECF6",
           "showlakes": true,
           "showland": true,
           "subunitcolor": "white"
          },
          "hoverlabel": {
           "align": "left"
          },
          "hovermode": "closest",
          "mapbox": {
           "style": "light"
          },
          "paper_bgcolor": "white",
          "plot_bgcolor": "#E5ECF6",
          "polar": {
           "angularaxis": {
            "gridcolor": "white",
            "linecolor": "white",
            "ticks": ""
           },
           "bgcolor": "#E5ECF6",
           "radialaxis": {
            "gridcolor": "white",
            "linecolor": "white",
            "ticks": ""
           }
          },
          "scene": {
           "xaxis": {
            "backgroundcolor": "#E5ECF6",
            "gridcolor": "white",
            "gridwidth": 2,
            "linecolor": "white",
            "showbackground": true,
            "ticks": "",
            "zerolinecolor": "white"
           },
           "yaxis": {
            "backgroundcolor": "#E5ECF6",
            "gridcolor": "white",
            "gridwidth": 2,
            "linecolor": "white",
            "showbackground": true,
            "ticks": "",
            "zerolinecolor": "white"
           },
           "zaxis": {
            "backgroundcolor": "#E5ECF6",
            "gridcolor": "white",
            "gridwidth": 2,
            "linecolor": "white",
            "showbackground": true,
            "ticks": "",
            "zerolinecolor": "white"
           }
          },
          "shapedefaults": {
           "line": {
            "color": "#2a3f5f"
           }
          },
          "ternary": {
           "aaxis": {
            "gridcolor": "white",
            "linecolor": "white",
            "ticks": ""
           },
           "baxis": {
            "gridcolor": "white",
            "linecolor": "white",
            "ticks": ""
           },
           "bgcolor": "#E5ECF6",
           "caxis": {
            "gridcolor": "white",
            "linecolor": "white",
            "ticks": ""
           }
          },
          "title": {
           "x": 0.05
          },
          "xaxis": {
           "automargin": true,
           "gridcolor": "white",
           "linecolor": "white",
           "ticks": "",
           "title": {
            "standoff": 15
           },
           "zerolinecolor": "white",
           "zerolinewidth": 2
          },
          "yaxis": {
           "automargin": true,
           "gridcolor": "white",
           "linecolor": "white",
           "ticks": "",
           "title": {
            "standoff": 15
           },
           "zerolinecolor": "white",
           "zerolinewidth": 2
          }
         }
        },
        "title": "BioNTech Call Price, Maturity 3 months, Strike ~ S0, as function of number of steps",
        "yaxis": {
         "title": {
          "text": "CALL price"
         }
        }
       }
      },
      "text/html": [
       "<div\n",
       "    class=\"webio-mountpoint\"\n",
       "    data-webio-mountpoint=\"8745580282840820565\"\n",
       ">\n",
       "    <script>\n",
       "    (function(){\n",
       "    // Some integrations (namely, IJulia/Jupyter) use an alternate render pathway than\n",
       "    // just putting the html on the page. If WebIO isn't defined, then it's pretty likely\n",
       "    // that we're in one of those situations and the integration just isn't installed\n",
       "    // correctly.\n",
       "    if (typeof window.WebIO === \"undefined\") {\n",
       "        document\n",
       "            .querySelector('[data-webio-mountpoint=\"8745580282840820565\"]')\n",
       "            .innerHTML = (\n",
       "                '<div style=\"padding: 1em; background-color: #f8d6da; border: 1px solid #f5c6cb; font-weight: bold;\">' +\n",
       "                '<p><strong>WebIO not detected.</strong></p>' +\n",
       "                '<p>Please read ' +\n",
       "                '<a href=\"https://juliagizmos.github.io/WebIO.jl/latest/troubleshooting/not-detected/\" target=\"_blank\">the troubleshooting guide</a> ' +\n",
       "                'for more information on how to resolve this issue.</p>' +\n",
       "                '<p><a href=\"https://juliagizmos.github.io/WebIO.jl/latest/troubleshooting/not-detected/\" target=\"_blank\">https://juliagizmos.github.io/WebIO.jl/latest/troubleshooting/not-detected/</a></p>' +\n",
       "                '</div>'\n",
       "            );\n",
       "        return;\n",
       "    }\n",
       "    WebIO.mount(\n",
       "        document.querySelector('[data-webio-mountpoint=\"8745580282840820565\"]'),\n",
       "        {\"props\":{},\"nodeType\":\"Scope\",\"type\":\"node\",\"instanceArgs\":{\"imports\":{\"data\":[{\"name\":\"Plotly\",\"type\":\"js\",\"url\":\"\\/assetserver\\/c44b2cd04b3a3572f00c5d295ffe9c45b94a9a49-plotly.min.js\"},{\"name\":null,\"type\":\"js\",\"url\":\"\\/assetserver\\/5d2f409fc13299e6b724930d0745c21ad970d6a4-plotly_webio.bundle.js\"}],\"type\":\"async_block\"},\"id\":\"4826926136501015734\",\"handlers\":{\"_toImage\":[\"(function (options){return this.Plotly.toImage(this.plotElem,options).then((function (data){return WebIO.setval({\\\"name\\\":\\\"image\\\",\\\"scope\\\":\\\"4826926136501015734\\\",\\\"id\\\":\\\"2834294322995291532\\\",\\\"type\\\":\\\"observable\\\"},data)}))})\"],\"__get_gd_contents\":[\"(function (prop){prop==\\\"data\\\" ? (WebIO.setval({\\\"name\\\":\\\"__gd_contents\\\",\\\"scope\\\":\\\"4826926136501015734\\\",\\\"id\\\":\\\"15720450854252474728\\\",\\\"type\\\":\\\"observable\\\"},this.plotElem.data)) : undefined; return prop==\\\"layout\\\" ? (WebIO.setval({\\\"name\\\":\\\"__gd_contents\\\",\\\"scope\\\":\\\"4826926136501015734\\\",\\\"id\\\":\\\"15720450854252474728\\\",\\\"type\\\":\\\"observable\\\"},this.plotElem.layout)) : undefined})\"],\"_downloadImage\":[\"(function (options){return this.Plotly.downloadImage(this.plotElem,options)})\"],\"_commands\":[\"(function (args){var fn=args.shift(); var elem=this.plotElem; var Plotly=this.Plotly; args.unshift(elem); return Plotly[fn].apply(this,args)})\"]},\"systemjs_options\":null,\"mount_callbacks\":[\"function () {\\n    var handler = ((function (Plotly,PlotlyWebIO){PlotlyWebIO.init(WebIO); var gd=this.dom.querySelector(\\\"#plot-1388f6e7-45d2-456b-a896-8a91c3c58ce8\\\"); this.plotElem=gd; this.Plotly=Plotly; (window.Blink!==undefined) ? (gd.style.width=\\\"100%\\\", gd.style.height=\\\"100vh\\\", gd.style.marginLeft=\\\"0%\\\", gd.style.marginTop=\\\"0vh\\\") : undefined; window.onresize=(function (){return Plotly.Plots.resize(gd)}); Plotly.newPlot(gd,[{\\\"mode\\\":\\\"markers+lines\\\",\\\"y\\\":[25.393084669290637,18.40235133651503,21.952193666066723,19.394593935469334,21.240597637287372,19.728970974882554,20.9366900497493,19.89108863840194,20.768556999452414,19.984725423033574,20.661914692332033,20.044727495148173,20.588271401825175,20.085919722991658,20.53437231366158,20.115621439542696,20.493219742918665,20.137838850089626,20.460772085379435,20.15493776313952,20.43453248512947,20.168399290816097,20.412875385639623,20.17919468062165,20.394697058613236,20.187985319794308,20.379221811076405,20.195235917331633,20.36588856895084,20.201281731270587,20.354281465336282,20.206370155121434,20.344085727098122,20.210687347992145,20.335058720011954,20.214375803256864,20.327010405313494,20.217546244036924,20.319789822533753,20.22028586346867,20.31327553686747,20.222664149625903,20.307368757832872,20.22473707812631,20.301988296605817,20.226550179205887,20.297066813341672,20.228140814547263,20.292547985246756,20.229539890100856,20.2883843422172,20.230773160338085,20.28453559339553,20.231862232497956,20.280967319480826,20.232825347746886,20.27764994080816,20.233677994584518,20.274557895662042,20.234433394707064],\\\"type\\\":\\\"scatter\\\",\\\"name\\\":\\\"Binomial Model\\\",\\\"x\\\":[1,2,3,4,5,6,7,8,9,10,11,12,13,14,15,16,17,18,19,20,21,22,23,24,25,26,27,28,29,30,31,32,33,34,35,36,37,38,39,40,41,42,43,44,45,46,47,48,49,50,51,52,53,54,55,56,57,58,59,60]},{\\\"mode\\\":\\\"lines\\\",\\\"line\\\":{\\\"color\\\":\\\"firebrick\\\",\\\"dash\\\":\\\"dashdot\\\",\\\"width\\\":4},\\\"y\\\":[21.7,21.7,21.7,21.7,21.7,21.7,21.7,21.7,21.7,21.7,21.7,21.7,21.7,21.7,21.7,21.7,21.7,21.7,21.7,21.7,21.7,21.7,21.7,21.7,21.7,21.7,21.7,21.7,21.7,21.7,21.7,21.7,21.7,21.7,21.7,21.7,21.7,21.7,21.7,21.7,21.7,21.7,21.7,21.7,21.7,21.7,21.7,21.7,21.7,21.7,21.7,21.7,21.7,21.7,21.7,21.7,21.7,21.7,21.7,21.7],\\\"type\\\":\\\"scatter\\\",\\\"name\\\":\\\"Real Value\\\",\\\"x\\\":[1,2,3,4,5,6,7,8,9,10,11,12,13,14,15,16,17,18,19,20,21,22,23,24,25,26,27,28,29,30,31,32,33,34,35,36,37,38,39,40,41,42,43,44,45,46,47,48,49,50,51,52,53,54,55,56,57,58,59,60]}],{\\\"template\\\":{\\\"layout\\\":{\\\"coloraxis\\\":{\\\"colorbar\\\":{\\\"ticks\\\":\\\"\\\",\\\"outlinewidth\\\":0}},\\\"xaxis\\\":{\\\"gridcolor\\\":\\\"white\\\",\\\"zerolinewidth\\\":2,\\\"title\\\":{\\\"standoff\\\":15},\\\"ticks\\\":\\\"\\\",\\\"zerolinecolor\\\":\\\"white\\\",\\\"automargin\\\":true,\\\"linecolor\\\":\\\"white\\\"},\\\"hovermode\\\":\\\"closest\\\",\\\"paper_bgcolor\\\":\\\"white\\\",\\\"geo\\\":{\\\"showlakes\\\":true,\\\"showland\\\":true,\\\"landcolor\\\":\\\"#E5ECF6\\\",\\\"bgcolor\\\":\\\"white\\\",\\\"subunitcolor\\\":\\\"white\\\",\\\"lakecolor\\\":\\\"white\\\"},\\\"colorscale\\\":{\\\"sequential\\\":[[0.0,\\\"#0d0887\\\"],[0.1111111111111111,\\\"#46039f\\\"],[0.2222222222222222,\\\"#7201a8\\\"],[0.3333333333333333,\\\"#9c179e\\\"],[0.4444444444444444,\\\"#bd3786\\\"],[0.5555555555555556,\\\"#d8576b\\\"],[0.6666666666666666,\\\"#ed7953\\\"],[0.7777777777777778,\\\"#fb9f3a\\\"],[0.8888888888888888,\\\"#fdca26\\\"],[1.0,\\\"#f0f921\\\"]],\\\"diverging\\\":[[0,\\\"#8e0152\\\"],[0.1,\\\"#c51b7d\\\"],[0.2,\\\"#de77ae\\\"],[0.3,\\\"#f1b6da\\\"],[0.4,\\\"#fde0ef\\\"],[0.5,\\\"#f7f7f7\\\"],[0.6,\\\"#e6f5d0\\\"],[0.7,\\\"#b8e186\\\"],[0.8,\\\"#7fbc41\\\"],[0.9,\\\"#4d9221\\\"],[1,\\\"#276419\\\"]],\\\"sequentialminus\\\":[[0.0,\\\"#0d0887\\\"],[0.1111111111111111,\\\"#46039f\\\"],[0.2222222222222222,\\\"#7201a8\\\"],[0.3333333333333333,\\\"#9c179e\\\"],[0.4444444444444444,\\\"#bd3786\\\"],[0.5555555555555556,\\\"#d8576b\\\"],[0.6666666666666666,\\\"#ed7953\\\"],[0.7777777777777778,\\\"#fb9f3a\\\"],[0.8888888888888888,\\\"#fdca26\\\"],[1.0,\\\"#f0f921\\\"]]},\\\"yaxis\\\":{\\\"gridcolor\\\":\\\"white\\\",\\\"zerolinewidth\\\":2,\\\"title\\\":{\\\"standoff\\\":15},\\\"ticks\\\":\\\"\\\",\\\"zerolinecolor\\\":\\\"white\\\",\\\"automargin\\\":true,\\\"linecolor\\\":\\\"white\\\"},\\\"shapedefaults\\\":{\\\"line\\\":{\\\"color\\\":\\\"#2a3f5f\\\"}},\\\"hoverlabel\\\":{\\\"align\\\":\\\"left\\\"},\\\"mapbox\\\":{\\\"style\\\":\\\"light\\\"},\\\"polar\\\":{\\\"angularaxis\\\":{\\\"gridcolor\\\":\\\"white\\\",\\\"ticks\\\":\\\"\\\",\\\"linecolor\\\":\\\"white\\\"},\\\"bgcolor\\\":\\\"#E5ECF6\\\",\\\"radialaxis\\\":{\\\"gridcolor\\\":\\\"white\\\",\\\"ticks\\\":\\\"\\\",\\\"linecolor\\\":\\\"white\\\"}},\\\"autotypenumbers\\\":\\\"strict\\\",\\\"font\\\":{\\\"color\\\":\\\"#2a3f5f\\\"},\\\"ternary\\\":{\\\"baxis\\\":{\\\"gridcolor\\\":\\\"white\\\",\\\"ticks\\\":\\\"\\\",\\\"linecolor\\\":\\\"white\\\"},\\\"bgcolor\\\":\\\"#E5ECF6\\\",\\\"caxis\\\":{\\\"gridcolor\\\":\\\"white\\\",\\\"ticks\\\":\\\"\\\",\\\"linecolor\\\":\\\"white\\\"},\\\"aaxis\\\":{\\\"gridcolor\\\":\\\"white\\\",\\\"ticks\\\":\\\"\\\",\\\"linecolor\\\":\\\"white\\\"}},\\\"annotationdefaults\\\":{\\\"arrowhead\\\":0,\\\"arrowwidth\\\":1,\\\"arrowcolor\\\":\\\"#2a3f5f\\\"},\\\"plot_bgcolor\\\":\\\"#E5ECF6\\\",\\\"title\\\":{\\\"x\\\":0.05},\\\"scene\\\":{\\\"xaxis\\\":{\\\"gridcolor\\\":\\\"white\\\",\\\"gridwidth\\\":2,\\\"backgroundcolor\\\":\\\"#E5ECF6\\\",\\\"ticks\\\":\\\"\\\",\\\"showbackground\\\":true,\\\"zerolinecolor\\\":\\\"white\\\",\\\"linecolor\\\":\\\"white\\\"},\\\"zaxis\\\":{\\\"gridcolor\\\":\\\"white\\\",\\\"gridwidth\\\":2,\\\"backgroundcolor\\\":\\\"#E5ECF6\\\",\\\"ticks\\\":\\\"\\\",\\\"showbackground\\\":true,\\\"zerolinecolor\\\":\\\"white\\\",\\\"linecolor\\\":\\\"white\\\"},\\\"yaxis\\\":{\\\"gridcolor\\\":\\\"white\\\",\\\"gridwidth\\\":2,\\\"backgroundcolor\\\":\\\"#E5ECF6\\\",\\\"ticks\\\":\\\"\\\",\\\"showbackground\\\":true,\\\"zerolinecolor\\\":\\\"white\\\",\\\"linecolor\\\":\\\"white\\\"}},\\\"colorway\\\":[\\\"#636efa\\\",\\\"#EF553B\\\",\\\"#00cc96\\\",\\\"#ab63fa\\\",\\\"#FFA15A\\\",\\\"#19d3f3\\\",\\\"#FF6692\\\",\\\"#B6E880\\\",\\\"#FF97FF\\\",\\\"#FECB52\\\"]},\\\"data\\\":{\\\"barpolar\\\":[{\\\"type\\\":\\\"barpolar\\\",\\\"marker\\\":{\\\"line\\\":{\\\"color\\\":\\\"#E5ECF6\\\",\\\"width\\\":0.5}}}],\\\"carpet\\\":[{\\\"aaxis\\\":{\\\"gridcolor\\\":\\\"white\\\",\\\"endlinecolor\\\":\\\"#2a3f5f\\\",\\\"minorgridcolor\\\":\\\"white\\\",\\\"startlinecolor\\\":\\\"#2a3f5f\\\",\\\"linecolor\\\":\\\"white\\\"},\\\"type\\\":\\\"carpet\\\",\\\"baxis\\\":{\\\"gridcolor\\\":\\\"white\\\",\\\"endlinecolor\\\":\\\"#2a3f5f\\\",\\\"minorgridcolor\\\":\\\"white\\\",\\\"startlinecolor\\\":\\\"#2a3f5f\\\",\\\"linecolor\\\":\\\"white\\\"}}],\\\"scatterpolar\\\":[{\\\"type\\\":\\\"scatterpolar\\\",\\\"marker\\\":{\\\"colorbar\\\":{\\\"ticks\\\":\\\"\\\",\\\"outlinewidth\\\":0}}}],\\\"parcoords\\\":[{\\\"line\\\":{\\\"colorbar\\\":{\\\"ticks\\\":\\\"\\\",\\\"outlinewidth\\\":0}},\\\"type\\\":\\\"parcoords\\\"}],\\\"scatter\\\":[{\\\"type\\\":\\\"scatter\\\",\\\"marker\\\":{\\\"colorbar\\\":{\\\"ticks\\\":\\\"\\\",\\\"outlinewidth\\\":0}}}],\\\"histogram2dcontour\\\":[{\\\"colorbar\\\":{\\\"ticks\\\":\\\"\\\",\\\"outlinewidth\\\":0},\\\"type\\\":\\\"histogram2dcontour\\\",\\\"colorscale\\\":[[0.0,\\\"#0d0887\\\"],[0.1111111111111111,\\\"#46039f\\\"],[0.2222222222222222,\\\"#7201a8\\\"],[0.3333333333333333,\\\"#9c179e\\\"],[0.4444444444444444,\\\"#bd3786\\\"],[0.5555555555555556,\\\"#d8576b\\\"],[0.6666666666666666,\\\"#ed7953\\\"],[0.7777777777777778,\\\"#fb9f3a\\\"],[0.8888888888888888,\\\"#fdca26\\\"],[1.0,\\\"#f0f921\\\"]]}],\\\"contour\\\":[{\\\"colorbar\\\":{\\\"ticks\\\":\\\"\\\",\\\"outlinewidth\\\":0},\\\"type\\\":\\\"contour\\\",\\\"colorscale\\\":[[0.0,\\\"#0d0887\\\"],[0.1111111111111111,\\\"#46039f\\\"],[0.2222222222222222,\\\"#7201a8\\\"],[0.3333333333333333,\\\"#9c179e\\\"],[0.4444444444444444,\\\"#bd3786\\\"],[0.5555555555555556,\\\"#d8576b\\\"],[0.6666666666666666,\\\"#ed7953\\\"],[0.7777777777777778,\\\"#fb9f3a\\\"],[0.8888888888888888,\\\"#fdca26\\\"],[1.0,\\\"#f0f921\\\"]]}],\\\"scattercarpet\\\":[{\\\"type\\\":\\\"scattercarpet\\\",\\\"marker\\\":{\\\"colorbar\\\":{\\\"ticks\\\":\\\"\\\",\\\"outlinewidth\\\":0}}}],\\\"mesh3d\\\":[{\\\"colorbar\\\":{\\\"ticks\\\":\\\"\\\",\\\"outlinewidth\\\":0},\\\"type\\\":\\\"mesh3d\\\"}],\\\"surface\\\":[{\\\"colorbar\\\":{\\\"ticks\\\":\\\"\\\",\\\"outlinewidth\\\":0},\\\"type\\\":\\\"surface\\\",\\\"colorscale\\\":[[0.0,\\\"#0d0887\\\"],[0.1111111111111111,\\\"#46039f\\\"],[0.2222222222222222,\\\"#7201a8\\\"],[0.3333333333333333,\\\"#9c179e\\\"],[0.4444444444444444,\\\"#bd3786\\\"],[0.5555555555555556,\\\"#d8576b\\\"],[0.6666666666666666,\\\"#ed7953\\\"],[0.7777777777777778,\\\"#fb9f3a\\\"],[0.8888888888888888,\\\"#fdca26\\\"],[1.0,\\\"#f0f921\\\"]]}],\\\"scattermapbox\\\":[{\\\"type\\\":\\\"scattermapbox\\\",\\\"marker\\\":{\\\"colorbar\\\":{\\\"ticks\\\":\\\"\\\",\\\"outlinewidth\\\":0}}}],\\\"scattergeo\\\":[{\\\"type\\\":\\\"scattergeo\\\",\\\"marker\\\":{\\\"colorbar\\\":{\\\"ticks\\\":\\\"\\\",\\\"outlinewidth\\\":0}}}],\\\"histogram\\\":[{\\\"type\\\":\\\"histogram\\\",\\\"marker\\\":{\\\"colorbar\\\":{\\\"ticks\\\":\\\"\\\",\\\"outlinewidth\\\":0}}}],\\\"pie\\\":[{\\\"type\\\":\\\"pie\\\",\\\"automargin\\\":true}],\\\"choropleth\\\":[{\\\"colorbar\\\":{\\\"ticks\\\":\\\"\\\",\\\"outlinewidth\\\":0},\\\"type\\\":\\\"choropleth\\\"}],\\\"heatmapgl\\\":[{\\\"colorbar\\\":{\\\"ticks\\\":\\\"\\\",\\\"outlinewidth\\\":0},\\\"type\\\":\\\"heatmapgl\\\",\\\"colorscale\\\":[[0.0,\\\"#0d0887\\\"],[0.1111111111111111,\\\"#46039f\\\"],[0.2222222222222222,\\\"#7201a8\\\"],[0.3333333333333333,\\\"#9c179e\\\"],[0.4444444444444444,\\\"#bd3786\\\"],[0.5555555555555556,\\\"#d8576b\\\"],[0.6666666666666666,\\\"#ed7953\\\"],[0.7777777777777778,\\\"#fb9f3a\\\"],[0.8888888888888888,\\\"#fdca26\\\"],[1.0,\\\"#f0f921\\\"]]}],\\\"bar\\\":[{\\\"type\\\":\\\"bar\\\",\\\"error_y\\\":{\\\"color\\\":\\\"#2a3f5f\\\"},\\\"error_x\\\":{\\\"color\\\":\\\"#2a3f5f\\\"},\\\"marker\\\":{\\\"line\\\":{\\\"color\\\":\\\"#E5ECF6\\\",\\\"width\\\":0.5}}}],\\\"heatmap\\\":[{\\\"colorbar\\\":{\\\"ticks\\\":\\\"\\\",\\\"outlinewidth\\\":0},\\\"type\\\":\\\"heatmap\\\",\\\"colorscale\\\":[[0.0,\\\"#0d0887\\\"],[0.1111111111111111,\\\"#46039f\\\"],[0.2222222222222222,\\\"#7201a8\\\"],[0.3333333333333333,\\\"#9c179e\\\"],[0.4444444444444444,\\\"#bd3786\\\"],[0.5555555555555556,\\\"#d8576b\\\"],[0.6666666666666666,\\\"#ed7953\\\"],[0.7777777777777778,\\\"#fb9f3a\\\"],[0.8888888888888888,\\\"#fdca26\\\"],[1.0,\\\"#f0f921\\\"]]}],\\\"contourcarpet\\\":[{\\\"colorbar\\\":{\\\"ticks\\\":\\\"\\\",\\\"outlinewidth\\\":0},\\\"type\\\":\\\"contourcarpet\\\"}],\\\"table\\\":[{\\\"type\\\":\\\"table\\\",\\\"header\\\":{\\\"line\\\":{\\\"color\\\":\\\"white\\\"},\\\"fill\\\":{\\\"color\\\":\\\"#C8D4E3\\\"}},\\\"cells\\\":{\\\"line\\\":{\\\"color\\\":\\\"white\\\"},\\\"fill\\\":{\\\"color\\\":\\\"#EBF0F8\\\"}}}],\\\"scatter3d\\\":[{\\\"line\\\":{\\\"colorbar\\\":{\\\"ticks\\\":\\\"\\\",\\\"outlinewidth\\\":0}},\\\"type\\\":\\\"scatter3d\\\",\\\"marker\\\":{\\\"colorbar\\\":{\\\"ticks\\\":\\\"\\\",\\\"outlinewidth\\\":0}}}],\\\"scattergl\\\":[{\\\"type\\\":\\\"scattergl\\\",\\\"marker\\\":{\\\"colorbar\\\":{\\\"ticks\\\":\\\"\\\",\\\"outlinewidth\\\":0}}}],\\\"histogram2d\\\":[{\\\"colorbar\\\":{\\\"ticks\\\":\\\"\\\",\\\"outlinewidth\\\":0},\\\"type\\\":\\\"histogram2d\\\",\\\"colorscale\\\":[[0.0,\\\"#0d0887\\\"],[0.1111111111111111,\\\"#46039f\\\"],[0.2222222222222222,\\\"#7201a8\\\"],[0.3333333333333333,\\\"#9c179e\\\"],[0.4444444444444444,\\\"#bd3786\\\"],[0.5555555555555556,\\\"#d8576b\\\"],[0.6666666666666666,\\\"#ed7953\\\"],[0.7777777777777778,\\\"#fb9f3a\\\"],[0.8888888888888888,\\\"#fdca26\\\"],[1.0,\\\"#f0f921\\\"]]}],\\\"scatterternary\\\":[{\\\"type\\\":\\\"scatterternary\\\",\\\"marker\\\":{\\\"colorbar\\\":{\\\"ticks\\\":\\\"\\\",\\\"outlinewidth\\\":0}}}],\\\"scatterpolargl\\\":[{\\\"type\\\":\\\"scatterpolargl\\\",\\\"marker\\\":{\\\"colorbar\\\":{\\\"ticks\\\":\\\"\\\",\\\"outlinewidth\\\":0}}}]}},\\\"margin\\\":{\\\"l\\\":50,\\\"b\\\":50,\\\"r\\\":50,\\\"t\\\":60},\\\"title\\\":\\\"BioNTech Call Price, Maturity 3 months, Strike ~ S0, as function of number of steps\\\",\\\"yaxis\\\":{\\\"title\\\":{\\\"text\\\":\\\"CALL price\\\"}}},{\\\"showLink\\\":false,\\\"editable\\\":false,\\\"responsive\\\":true,\\\"staticPlot\\\":false,\\\"scrollZoom\\\":true}); gd.on(\\\"plotly_hover\\\",(function (data){var filtered_data=WebIO.PlotlyCommands.filterEventData(gd,data,\\\"hover\\\"); return !(filtered_data.isnil) ? (WebIO.setval({\\\"name\\\":\\\"hover\\\",\\\"scope\\\":\\\"4826926136501015734\\\",\\\"id\\\":\\\"17293826273920910199\\\",\\\"type\\\":\\\"observable\\\"},filtered_data.out)) : undefined})); gd.on(\\\"plotly_unhover\\\",(function (){return WebIO.setval({\\\"name\\\":\\\"hover\\\",\\\"scope\\\":\\\"4826926136501015734\\\",\\\"id\\\":\\\"17293826273920910199\\\",\\\"type\\\":\\\"observable\\\"},{})})); gd.on(\\\"plotly_selected\\\",(function (data){var filtered_data=WebIO.PlotlyCommands.filterEventData(gd,data,\\\"selected\\\"); return !(filtered_data.isnil) ? (WebIO.setval({\\\"name\\\":\\\"selected\\\",\\\"scope\\\":\\\"4826926136501015734\\\",\\\"id\\\":\\\"8234038307959984718\\\",\\\"type\\\":\\\"observable\\\"},filtered_data.out)) : undefined})); gd.on(\\\"plotly_deselect\\\",(function (){return WebIO.setval({\\\"name\\\":\\\"selected\\\",\\\"scope\\\":\\\"4826926136501015734\\\",\\\"id\\\":\\\"8234038307959984718\\\",\\\"type\\\":\\\"observable\\\"},{})})); gd.on(\\\"plotly_relayout\\\",(function (data){var filtered_data=WebIO.PlotlyCommands.filterEventData(gd,data,\\\"relayout\\\"); return !(filtered_data.isnil) ? (WebIO.setval({\\\"name\\\":\\\"relayout\\\",\\\"scope\\\":\\\"4826926136501015734\\\",\\\"id\\\":\\\"5556722815859321748\\\",\\\"type\\\":\\\"observable\\\"},filtered_data.out)) : undefined})); return gd.on(\\\"plotly_click\\\",(function (data){var filtered_data=WebIO.PlotlyCommands.filterEventData(gd,data,\\\"click\\\"); return !(filtered_data.isnil) ? (WebIO.setval({\\\"name\\\":\\\"click\\\",\\\"scope\\\":\\\"4826926136501015734\\\",\\\"id\\\":\\\"4853864038303023361\\\",\\\"type\\\":\\\"observable\\\"},filtered_data.out)) : undefined}))}));\\n    (WebIO.importBlock({\\\"data\\\":[{\\\"name\\\":\\\"Plotly\\\",\\\"type\\\":\\\"js\\\",\\\"url\\\":\\\"\\/assetserver\\/c44b2cd04b3a3572f00c5d295ffe9c45b94a9a49-plotly.min.js\\\"},{\\\"name\\\":null,\\\"type\\\":\\\"js\\\",\\\"url\\\":\\\"\\/assetserver\\/5d2f409fc13299e6b724930d0745c21ad970d6a4-plotly_webio.bundle.js\\\"}],\\\"type\\\":\\\"async_block\\\"})).then((imports) => handler.apply(this, imports));\\n}\\n\"],\"observables\":{\"_toImage\":{\"sync\":false,\"id\":\"5346225766357213785\",\"value\":{}},\"hover\":{\"sync\":false,\"id\":\"17293826273920910199\",\"value\":{}},\"selected\":{\"sync\":false,\"id\":\"8234038307959984718\",\"value\":{}},\"__gd_contents\":{\"sync\":false,\"id\":\"15720450854252474728\",\"value\":{}},\"click\":{\"sync\":false,\"id\":\"4853864038303023361\",\"value\":{}},\"image\":{\"sync\":true,\"id\":\"2834294322995291532\",\"value\":\"\"},\"__get_gd_contents\":{\"sync\":false,\"id\":\"12762775695975570103\",\"value\":\"\"},\"_downloadImage\":{\"sync\":false,\"id\":\"4215428475284089583\",\"value\":{}},\"relayout\":{\"sync\":false,\"id\":\"5556722815859321748\",\"value\":{}},\"_commands\":{\"sync\":false,\"id\":\"5110764597392550070\",\"value\":[]}}},\"children\":[{\"props\":{\"id\":\"plot-1388f6e7-45d2-456b-a896-8a91c3c58ce8\"},\"nodeType\":\"DOM\",\"type\":\"node\",\"instanceArgs\":{\"namespace\":\"html\",\"tag\":\"div\"},\"children\":[]}]},\n",
       "        window,\n",
       "    );\n",
       "    })()\n",
       "    </script>\n",
       "</div>\n"
      ],
      "text/plain": [
       "data: [\n",
       "  \"scatter with fields mode, name, type, x, and y\",\n",
       "  \"scatter with fields line, mode, name, type, x, and y\"\n",
       "]\n",
       "\n",
       "layout: \"layout with fields margin, template, title, and yaxis\"\n",
       "\n"
      ]
     },
     "execution_count": 49,
     "metadata": {},
     "output_type": "execute_result"
    }
   ],
   "source": [
    "function linescatter2()\n",
    "    BNTX_PLOT = PlotlyJS.scatter(;x=1:60, y=BNTX_CALL,mode=\"markers+lines\", name=\"Binomial Model\" )\n",
    "    trace     = PlotlyJS.scatter(;x=1:60, y=repeat([REAL_CALL_BNTX], 60), mode=\"lines\", name=\"Real Value\", line=attr(color=\"firebrick\", width=4, dash=\"dashdot\"))\n",
    "    layout    = Layout(title=\"BioNTech Call Price, Maturity 3 months, Strike ~ S0, as function of number of steps\",\n",
    "                       yaxis_title=\"CALL price\")\n",
    "    return PlotlyJS.plot([BNTX_PLOT,trace], layout)\n",
    "end\n",
    "\n",
    "p = linescatter2()"
   ]
  },
  {
   "cell_type": "code",
   "execution_count": 50,
   "id": "0f61f3e6",
   "metadata": {},
   "outputs": [
    {
     "data": {
      "text/plain": [
       "\"figures/CALL_BNTX.html\""
      ]
     },
     "execution_count": 50,
     "metadata": {},
     "output_type": "execute_result"
    }
   ],
   "source": [
    "PlotlyJS.savefig(p, \"figures/CALL_BNTX.html\")"
   ]
  },
  {
   "cell_type": "code",
   "execution_count": 51,
   "id": "0b200d0d-b3a1-450f-b08a-2e05df263ba4",
   "metadata": {},
   "outputs": [
    {
     "ename": "LoadError",
     "evalue": "syntax: unexpected \"=\"",
     "output_type": "error",
     "traceback": [
      "syntax: unexpected \"=\"",
      "",
      "Stacktrace:",
      " [1] top-level scope",
      "   @ In[51]:6",
      " [2] eval",
      "   @ ./boot.jl:373 [inlined]",
      " [3] include_string(mapexpr::typeof(REPL.softscope), mod::Module, code::String, filename::String)",
      "   @ Base ./loading.jl:1196"
     ]
    }
   ],
   "source": [
    "function linescatter2()\n",
    "    BNTX_PLOT_6MONTHS = PlotlyJS.scatter(;x=1:60, y=BNTX_CALL_6MONTHS,mode=\"markers+lines\", name=\"Binomial Model\" )\n",
    "    trace     = PlotlyJS.scatter(;x=1:60, y=repeat([REAL_CALL_BNTX_6MONTHS], 60), mode=\"lines\", name=\"Real Value\", line=attr(color=\"firebrick\", width=4, dash=\"dashdot\"))\n",
    "    layout    = Layout(title=\"BioNTech Call Price, Maturity 6 months, Strike ~ S0, as function of number of steps\",\n",
    "                       yaxis_title=\"CALL price\")\n",
    "    return = PlotlyJS.plot([BNTX_PLOT_6MONTHS,trace], layout)\n",
    "end\n",
    "\n",
    "p = linescatter2()"
   ]
  },
  {
   "cell_type": "code",
   "execution_count": 52,
   "id": "7d9ae4b5",
   "metadata": {},
   "outputs": [
    {
     "data": {
      "text/plain": [
       "\"figures/CALL_BNTX_6MONTHS.html\""
      ]
     },
     "execution_count": 52,
     "metadata": {},
     "output_type": "execute_result"
    }
   ],
   "source": [
    "PlotlyJS.savefig(p, \"figures/CALL_BNTX_6MONTHS.html\")"
   ]
  }
 ],
 "metadata": {
  "@webio": {
   "lastCommId": "79ab5aacafcf4c058dbff1fabbcf936a",
   "lastKernelId": "8bac34ff-32a3-4021-b179-af89f646d2a7"
  },
  "kernelspec": {
   "display_name": "Julia 1.7.0",
   "language": "julia",
   "name": "julia-1.7"
  },
  "language_info": {
   "file_extension": ".jl",
   "mimetype": "application/julia",
   "name": "julia",
   "version": "1.7.0"
  }
 },
 "nbformat": 4,
 "nbformat_minor": 5
}
