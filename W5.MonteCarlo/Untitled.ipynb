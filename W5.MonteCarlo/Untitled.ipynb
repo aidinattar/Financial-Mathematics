{
 "cells": [
  {
   "cell_type": "code",
   "execution_count": 8,
   "id": "889a6327",
   "metadata": {},
   "outputs": [
    {
     "ename": "LoadError",
     "evalue": "ArgumentError: Package QuantLib not found in current path:\n- Run `import Pkg; Pkg.add(\"QuantLib\")` to install the QuantLib package.\n",
     "output_type": "error",
     "traceback": [
      "ArgumentError: Package QuantLib not found in current path:\n- Run `import Pkg; Pkg.add(\"QuantLib\")` to install the QuantLib package.\n",
      "",
      "Stacktrace:",
      " [1] require(into::Module, mod::Symbol)",
      "   @ Base .\\loading.jl:967",
      " [2] eval",
      "   @ .\\boot.jl:373 [inlined]",
      " [3] include_string(mapexpr::typeof(REPL.softscope), mod::Module, code::String, filename::String)",
      "   @ Base .\\loading.jl:1196"
     ]
    }
   ],
   "source": [
    "using CSV, Tables\n",
    "using DelimitedFiles, DataFrames\n",
    "using Statistics\n",
    "import PyPlot as plt\n",
    "using Plots\n",
    "using GLM\n",
    "using ShiftedArrays\n",
    "using PyCall\n",
    "using PlotlyJS\n",
    "using FinancialToolbox\n",
    "using FinancialDerivatives\n",
    "using RCall\n",
    "using LsqFit\n",
    "using BusinessDays, Dates\n",
    "using LaTeXStrings\n",
    "using Random, Distributions\n",
    "using StatsBase\n",
    "using PrettyTables\n",
    "\n",
    "using DifferentialEquations\n",
    "\n",
    "yf = pyimport(\"yfinance\")"
   ]
  },
  {
   "cell_type": "code",
   "execution_count": 5,
   "id": "17b31be4",
   "metadata": {},
   "outputs": [
    {
     "data": {
      "text/plain": [
       "0.003968253968253968"
      ]
     },
     "execution_count": 5,
     "metadata": {},
     "output_type": "execute_result"
    }
   ],
   "source": [
    "# Fixed parameters\n",
    "\n",
    "S0    = 100\n",
    "sigma = .2\n",
    "r     = .01\n",
    "T     = 1\n",
    "K     = 99\n",
    "dt    = 1/252"
   ]
  },
  {
   "cell_type": "code",
   "execution_count": 14,
   "id": "fef79a2f",
   "metadata": {},
   "outputs": [
    {
     "name": "stdout",
     "output_type": "stream",
     "text": [
      "function GeometricBrownianMotionProcess(μ,σ,t0,W0,Z0=nothing;kwargs...)\r\n",
      "  gbm = GeometricBrownianMotion(μ,σ)\r\n",
      "  NoiseProcess{false}(t0,W0,Z0,gbm,(dW,W,W0,Wh,q,h,u,p,t,rng)->gbm_bridge(dW,gbm,W,W0,Wh,q,h,u,p,t,rng);kwargs...)\r\n",
      "end\r\n",
      "\r\n",
      "struct GeometricBrownianMotion!{T1,T2}\r\n",
      "  μ::T1\r\n",
      "  σ::T2\r\n",
      "end\r\n",
      "function (X::GeometricBrownianMotion!)(rand_vec,W,dt,u,p,t,rng) #dist!\r\n",
      "  wiener_randn!(rng,rand_vec)\r\n",
      "  @.. rand_vec = W[end]*(exp(X.μ-(1/2)*X.σ*dt + X.σ*sqrt(dt)*rand_vec)-1)\r\n",
      "end\r\n",
      "function GeometricBrownianMotionProcess!(μ,σ,t0,W0,Z0=nothing;kwargs...)\r\n",
      "  gbm = GeometricBrownianMotion!(μ,σ)\r\n",
      "  NoiseProcess{true}(t0,W0,Z0,gbm,(rand_vec,W,W0,Wh,q,h,u,p,t,rng)->gbm_bridge!(rand_vec,gbm,W,W0,Wh,q,h,u,p,t,rng);kwargs...)\r\n",
      "end\r\n"
     ]
    }
   ],
   "source": [
    "@less GeometricBrownianMotionProcess(1, 1,1, 1)"
   ]
  },
  {
   "cell_type": "code",
   "execution_count": null,
   "id": "29cce438",
   "metadata": {},
   "outputs": [],
   "source": []
  }
 ],
 "metadata": {
  "@webio": {
   "lastCommId": "72b79f5cd776491f8bf31acc7cad5a3c",
   "lastKernelId": "2aea83ec-742b-4590-9490-74fa683ef9d0"
  },
  "kernelspec": {
   "display_name": "Julia 1.7.2",
   "language": "julia",
   "name": "julia-1.7"
  },
  "language_info": {
   "file_extension": ".jl",
   "mimetype": "application/julia",
   "name": "julia",
   "version": "1.7.2"
  }
 },
 "nbformat": 4,
 "nbformat_minor": 5
}
